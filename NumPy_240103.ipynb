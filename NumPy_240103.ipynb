{
  "cells": [
    {
      "cell_type": "markdown",
      "metadata": {
        "id": "view-in-github",
        "colab_type": "text"
      },
      "source": [
        "<a href=\"https://colab.research.google.com/github/yewon91/mul_lectures/blob/main/NumPy_240103.ipynb\" target=\"_parent\"><img src=\"https://colab.research.google.com/assets/colab-badge.svg\" alt=\"Open In Colab\"/></a>"
      ]
    },
    {
      "cell_type": "markdown",
      "id": "31bbb277-3031-446a-bbc0-6dbb174c3f9a",
      "metadata": {
        "id": "31bbb277-3031-446a-bbc0-6dbb174c3f9a"
      },
      "source": [
        "## Numpy\n",
        " - 선형대수, 행렬, 수치연산과 관련된 라이브러리\n",
        " - 당연히 해야됨, 하지만 지금은 통계에 포커스\n",
        "\n",
        " - Numpy 기반으로 통계, 머신러닝 등 ==> 원리보다 응용, 결과 해석"
      ]
    },
    {
      "cell_type": "code",
      "execution_count": null,
      "id": "9141e9e6-c2b5-44b2-b5df-5a34284f7029",
      "metadata": {
        "id": "9141e9e6-c2b5-44b2-b5df-5a34284f7029",
        "outputId": "4358bc9d-bfff-4ffe-ddc2-6b8dcdef27ad"
      },
      "outputs": [
        {
          "name": "stdout",
          "output_type": "stream",
          "text": [
            "1.26.2\n"
          ]
        }
      ],
      "source": [
        "import numpy as np\n",
        "print(np.__version__)"
      ]
    },
    {
      "cell_type": "code",
      "execution_count": null,
      "id": "d770c22b-7bdd-4a24-b72e-1f9a00e28d8a",
      "metadata": {
        "id": "d770c22b-7bdd-4a24-b72e-1f9a00e28d8a",
        "outputId": "2ad90f1c-def9-4318-a1f2-f5e256c80e48"
      },
      "outputs": [
        {
          "ename": "ModuleNotFoundError",
          "evalue": "No module named 'streamlit'",
          "output_type": "error",
          "traceback": [
            "\u001b[1;31m---------------------------------------------------------------------------\u001b[0m",
            "\u001b[1;31mModuleNotFoundError\u001b[0m                       Traceback (most recent call last)",
            "Cell \u001b[1;32mIn[12], line 1\u001b[0m\n\u001b[1;32m----> 1\u001b[0m \u001b[38;5;28;01mimport\u001b[39;00m \u001b[38;5;21;01mstreamlit\u001b[39;00m \u001b[38;5;28;01mas\u001b[39;00m \u001b[38;5;21;01mst\u001b[39;00m\n\u001b[0;32m      3\u001b[0m \u001b[38;5;28mprint\u001b[39m(st\u001b[38;5;241m.\u001b[39m__version__)\n",
            "\u001b[1;31mModuleNotFoundError\u001b[0m: No module named 'streamlit'"
          ]
        }
      ],
      "source": [
        "import streamlit as st\n",
        "\n",
        "print(st.__version__)"
      ]
    },
    {
      "cell_type": "code",
      "execution_count": null,
      "id": "d705e925-11ea-4dca-971d-86918817333c",
      "metadata": {
        "id": "d705e925-11ea-4dca-971d-86918817333c",
        "outputId": "60986bb6-0a98-4852-cdc8-dc99b23fa04b"
      },
      "outputs": [
        {
          "data": {
            "text/plain": [
              "[1, 2, 3, 4, 3, 4, 5, 6]"
            ]
          },
          "execution_count": 6,
          "metadata": {},
          "output_type": "execute_result"
        }
      ],
      "source": [
        "num1 = [1,2,3,4]\n",
        "num2 = [3,4,5,6]\n",
        "\n",
        "num1+num2"
      ]
    },
    {
      "cell_type": "code",
      "execution_count": null,
      "id": "6bb4e12e-afda-4a2e-9130-1b00f53db8e7",
      "metadata": {
        "id": "6bb4e12e-afda-4a2e-9130-1b00f53db8e7",
        "outputId": "b9fde898-96ff-4485-b540-12a450d28faf"
      },
      "outputs": [
        {
          "data": {
            "text/plain": [
              "array([1, 2, 3, 4])"
            ]
          },
          "execution_count": 7,
          "metadata": {},
          "output_type": "execute_result"
        }
      ],
      "source": [
        "arr1 = np.array(num1)\n",
        "arr2 = np.array(num2)\n",
        "arr1"
      ]
    },
    {
      "cell_type": "code",
      "execution_count": null,
      "id": "6808d011-e268-4046-8619-9e5bb59561d0",
      "metadata": {
        "id": "6808d011-e268-4046-8619-9e5bb59561d0",
        "outputId": "16073850-5123-4e46-9254-a8d591c14f75"
      },
      "outputs": [
        {
          "data": {
            "text/plain": [
              "array([3, 4, 5, 6])"
            ]
          },
          "execution_count": 8,
          "metadata": {},
          "output_type": "execute_result"
        }
      ],
      "source": [
        "arr2"
      ]
    },
    {
      "cell_type": "code",
      "execution_count": null,
      "id": "7ec658a3-301f-4930-b0a3-e784cf3ce414",
      "metadata": {
        "id": "7ec658a3-301f-4930-b0a3-e784cf3ce414",
        "outputId": "6b41bdb1-5c46-4222-cd5e-dd22cf5174c9"
      },
      "outputs": [
        {
          "data": {
            "text/plain": [
              "array([ 4,  6,  8, 10])"
            ]
          },
          "execution_count": 9,
          "metadata": {},
          "output_type": "execute_result"
        }
      ],
      "source": [
        "arr1 + arr2"
      ]
    },
    {
      "cell_type": "code",
      "execution_count": null,
      "id": "14ad395c-312d-411c-9b53-957b0ef4e8a1",
      "metadata": {
        "id": "14ad395c-312d-411c-9b53-957b0ef4e8a1",
        "outputId": "77960203-9e1e-4a65-cb10-a1c093a03185"
      },
      "outputs": [
        {
          "data": {
            "text/plain": [
              "array([0, 1, 2, 3, 4, 5])"
            ]
          },
          "execution_count": 10,
          "metadata": {},
          "output_type": "execute_result"
        }
      ],
      "source": [
        "data1 = [0,1,2,3,4,5]\n",
        "a1 = np.array(data1)\n",
        "a1"
      ]
    },
    {
      "cell_type": "code",
      "execution_count": null,
      "id": "d8f7b465-b92f-4b4d-a244-4d51cb0f541a",
      "metadata": {
        "id": "d8f7b465-b92f-4b4d-a244-4d51cb0f541a",
        "outputId": "d6fbfb7d-d383-4705-dbfb-90345a841862"
      },
      "outputs": [
        {
          "data": {
            "text/plain": [
              "dtype('int32')"
            ]
          },
          "execution_count": 11,
          "metadata": {},
          "output_type": "execute_result"
        }
      ],
      "source": [
        "a1.dtype # Numpy int8, int16, int32, int64 => 메모리관리"
      ]
    },
    {
      "cell_type": "code",
      "execution_count": null,
      "id": "39abba87-fa86-455a-bb00-35c3e1350cba",
      "metadata": {
        "scrolled": true,
        "id": "39abba87-fa86-455a-bb00-35c3e1350cba",
        "outputId": "6b6d32c0-d101-4302-82b8-53d895062199"
      },
      "outputs": [
        {
          "data": {
            "text/plain": [
              "dtype('float64')"
            ]
          },
          "execution_count": 13,
          "metadata": {},
          "output_type": "execute_result"
        }
      ],
      "source": [
        "np.array([0.5,2,0.01,8]).dtype"
      ]
    },
    {
      "cell_type": "markdown",
      "id": "e5b0887c-754d-40c4-8c36-08964053c0ce",
      "metadata": {
        "id": "e5b0887c-754d-40c4-8c36-08964053c0ce"
      },
      "source": [
        "## Numpy 배열 생성\n",
        "- 1차원, 2차원, 3차원.. 배열 생성"
      ]
    },
    {
      "cell_type": "code",
      "execution_count": null,
      "id": "96694d95-8d68-4ab0-abf1-a9cfa14089b2",
      "metadata": {
        "id": "96694d95-8d68-4ab0-abf1-a9cfa14089b2",
        "outputId": "be52e3a3-0c49-43ac-c120-f2c4fc3ce469"
      },
      "outputs": [
        {
          "data": {
            "text/plain": [
              "array([0, 2, 4, 6, 8])"
            ]
          },
          "execution_count": 17,
          "metadata": {},
          "output_type": "execute_result"
        }
      ],
      "source": [
        "np.arange(0, 10, 2)"
      ]
    },
    {
      "cell_type": "code",
      "execution_count": null,
      "id": "cf8fab2f-c1b3-462e-a7b7-f8acdcc41eaa",
      "metadata": {
        "id": "cf8fab2f-c1b3-462e-a7b7-f8acdcc41eaa",
        "outputId": "393d100e-e44c-494b-985a-68b1dc42f06e"
      },
      "outputs": [
        {
          "data": {
            "text/plain": [
              "array([0, 1, 2, 3, 4, 5, 6, 7, 8, 9])"
            ]
          },
          "execution_count": 18,
          "metadata": {},
          "output_type": "execute_result"
        }
      ],
      "source": [
        "np.arange(10)"
      ]
    },
    {
      "cell_type": "code",
      "execution_count": null,
      "id": "cd0d8245-1a02-4a1c-81c6-eadbbdeecc8b",
      "metadata": {
        "id": "cd0d8245-1a02-4a1c-81c6-eadbbdeecc8b",
        "outputId": "95f2b517-b6aa-492b-dcd4-3df72f216cfe"
      },
      "outputs": [
        {
          "data": {
            "text/plain": [
              "array([[ 0,  1,  2],\n",
              "       [ 3,  4,  5],\n",
              "       [ 6,  7,  8],\n",
              "       [ 9, 10, 11]])"
            ]
          },
          "execution_count": 21,
          "metadata": {},
          "output_type": "execute_result"
        }
      ],
      "source": [
        "np.arange(12).reshape(4, 3)"
      ]
    },
    {
      "cell_type": "code",
      "execution_count": null,
      "id": "0a47ea0f-6eff-4b7e-a013-2ff0497d0f40",
      "metadata": {
        "id": "0a47ea0f-6eff-4b7e-a013-2ff0497d0f40",
        "outputId": "290b8a02-d643-461f-b300-5ca5901a46e7"
      },
      "outputs": [
        {
          "data": {
            "text/plain": [
              "array([[[ 0,  1,  2]],\n",
              "\n",
              "       [[ 3,  4,  5]],\n",
              "\n",
              "       [[ 6,  7,  8]],\n",
              "\n",
              "       [[ 9, 10, 11]]])"
            ]
          },
          "execution_count": 22,
          "metadata": {},
          "output_type": "execute_result"
        }
      ],
      "source": [
        "np.arange(12).reshape(4, 1, 3)"
      ]
    },
    {
      "cell_type": "code",
      "execution_count": null,
      "id": "341cd46b-fbcb-4c30-9410-e520c314a633",
      "metadata": {
        "id": "341cd46b-fbcb-4c30-9410-e520c314a633",
        "outputId": "f28f4326-bf71-4a2e-f3ae-99c7fbf2f550"
      },
      "outputs": [
        {
          "data": {
            "text/plain": [
              "array([[[ 0,  1,  2],\n",
              "        [ 3,  4,  5]],\n",
              "\n",
              "       [[ 6,  7,  8],\n",
              "        [ 9, 10, 11]]])"
            ]
          },
          "execution_count": 23,
          "metadata": {},
          "output_type": "execute_result"
        }
      ],
      "source": [
        "np.arange(12).reshape(2, 2, 3)"
      ]
    },
    {
      "cell_type": "code",
      "execution_count": null,
      "id": "9542bf98-52be-40d9-aff6-cbefc1ba7e1f",
      "metadata": {
        "id": "9542bf98-52be-40d9-aff6-cbefc1ba7e1f",
        "outputId": "cf69f835-6c9a-4db8-8d5a-1b302f1a38cd"
      },
      "outputs": [
        {
          "data": {
            "text/plain": [
              "(2, 2, 3)"
            ]
          },
          "execution_count": 24,
          "metadata": {},
          "output_type": "execute_result"
        }
      ],
      "source": [
        "b1 = np.arange(12).reshape(2, 2, 3)\n",
        "b1.shape # 출력값은 tuple형태"
      ]
    },
    {
      "cell_type": "code",
      "execution_count": null,
      "id": "e6f2c251-a2c6-4ebe-bbf0-bdf527fe92a3",
      "metadata": {
        "id": "e6f2c251-a2c6-4ebe-bbf0-bdf527fe92a3",
        "outputId": "38f62a22-d221-4efc-a317-f8ce1ce25cd5"
      },
      "outputs": [
        {
          "data": {
            "text/plain": [
              "(5,)"
            ]
          },
          "execution_count": 25,
          "metadata": {},
          "output_type": "execute_result"
        }
      ],
      "source": [
        "b2 = np.arange(5)\n",
        "b2.shape"
      ]
    },
    {
      "cell_type": "code",
      "execution_count": null,
      "id": "c7da964a-d92b-4fc0-815f-b6d3d303f195",
      "metadata": {
        "id": "c7da964a-d92b-4fc0-815f-b6d3d303f195",
        "outputId": "56760176-ea93-4af0-f7a7-1df8f001de92"
      },
      "outputs": [
        {
          "data": {
            "text/plain": [
              "array([ 0.        ,  2.22222222,  4.44444444,  6.66666667,  8.88888889,\n",
              "       11.11111111, 13.33333333, 15.55555556, 17.77777778, 20.        ])"
            ]
          },
          "execution_count": 29,
          "metadata": {},
          "output_type": "execute_result"
        }
      ],
      "source": [
        "# 범위의 시작과 끝 정하기 배열 생성\n",
        "np.linspace(0, 20, 10)"
      ]
    },
    {
      "cell_type": "code",
      "execution_count": null,
      "id": "399d71f3-7424-4ede-ad20-1bbc6057b5cd",
      "metadata": {
        "id": "399d71f3-7424-4ede-ad20-1bbc6057b5cd",
        "outputId": "f655ee9c-f8b4-4e07-e65a-dc3da9f8bb2f"
      },
      "outputs": [
        {
          "data": {
            "text/plain": [
              "array([0.        , 0.16534698, 0.33069396, 0.49604095, 0.66138793,\n",
              "       0.82673491, 0.99208189, 1.15742887, 1.32277585, 1.48812284,\n",
              "       1.65346982, 1.8188168 , 1.98416378, 2.14951076, 2.31485774,\n",
              "       2.48020473, 2.64555171, 2.81089869, 2.97624567, 3.14159265])"
            ]
          },
          "execution_count": 30,
          "metadata": {},
          "output_type": "execute_result"
        }
      ],
      "source": [
        "np.linspace(0, np.pi, 20)"
      ]
    },
    {
      "cell_type": "code",
      "execution_count": null,
      "id": "59ba3edd-52e7-45e4-bd9d-ac616864b4e2",
      "metadata": {
        "id": "59ba3edd-52e7-45e4-bd9d-ac616864b4e2",
        "outputId": "c6330ad6-473f-4a84-9748-b30a831f8a1d"
      },
      "outputs": [
        {
          "data": {
            "text/plain": [
              "array([[0., 0.],\n",
              "       [0., 0.]])"
            ]
          },
          "execution_count": 31,
          "metadata": {},
          "output_type": "execute_result"
        }
      ],
      "source": [
        "np.zeros((2,2))"
      ]
    },
    {
      "cell_type": "code",
      "execution_count": null,
      "id": "e0421c27-1c5c-429b-ab7d-7bf17f7efe90",
      "metadata": {
        "id": "e0421c27-1c5c-429b-ab7d-7bf17f7efe90",
        "outputId": "82502075-a45c-46ca-b36a-a00529f3301e"
      },
      "outputs": [
        {
          "data": {
            "text/plain": [
              "array([1., 1., 1., 1., 1., 1., 1., 1., 1., 1.])"
            ]
          },
          "execution_count": 32,
          "metadata": {},
          "output_type": "execute_result"
        }
      ],
      "source": [
        "np.ones(10)"
      ]
    },
    {
      "cell_type": "code",
      "execution_count": null,
      "id": "c4e14dc6-4154-42a0-9350-cf32a9a8add2",
      "metadata": {
        "id": "c4e14dc6-4154-42a0-9350-cf32a9a8add2",
        "outputId": "7c0b9584-645e-4409-eb38-45e5d5715cf6"
      },
      "outputs": [
        {
          "data": {
            "text/plain": [
              "array([[1., 1.],\n",
              "       [1., 1.]])"
            ]
          },
          "execution_count": 33,
          "metadata": {},
          "output_type": "execute_result"
        }
      ],
      "source": [
        "np.ones((2,2))"
      ]
    },
    {
      "cell_type": "markdown",
      "id": "e3b92ae5-36d2-42d6-92b6-e3b6bd0edea4",
      "metadata": {
        "id": "e3b92ae5-36d2-42d6-92b6-e3b6bd0edea4"
      },
      "source": [
        "## Numpy 기초문법 배우는 이유\n",
        "- 문과생 : 데이터 분석가\n",
        "- 이공계 : 수치연산, 배열, 수식을 활용해서 문제 풀이\n",
        "  - 클래스, 딥러닝 클래스, NumPy 활용해서 딥러닝 알고리즘 적용, 클래스 & 라이브러리\n",
        "  - 밑바닥부터 시작하는 딥러닝3"
      ]
    },
    {
      "cell_type": "code",
      "execution_count": null,
      "id": "fb67c47f-b48a-4483-abdf-9f731a1cfed7",
      "metadata": {
        "id": "fb67c47f-b48a-4483-abdf-9f731a1cfed7",
        "outputId": "0b799b3a-2a85-462f-b121-5e16140eed52"
      },
      "outputs": [
        {
          "data": {
            "text/plain": [
              "array([[1., 0., 0.],\n",
              "       [0., 1., 0.],\n",
              "       [0., 0., 1.]])"
            ]
          },
          "execution_count": 34,
          "metadata": {},
          "output_type": "execute_result"
        }
      ],
      "source": [
        "# 단위행렬\n",
        "arr_I = np.eye(3)\n",
        "arr_I"
      ]
    },
    {
      "cell_type": "code",
      "execution_count": null,
      "id": "546e2a98-802b-4c59-93ee-67f10d397a5c",
      "metadata": {
        "id": "546e2a98-802b-4c59-93ee-67f10d397a5c",
        "outputId": "c0cf22ee-eb9a-4cf1-eb65-99cbdf2d7bec"
      },
      "outputs": [
        {
          "data": {
            "text/plain": [
              "(3, 3)"
            ]
          },
          "execution_count": 35,
          "metadata": {},
          "output_type": "execute_result"
        }
      ],
      "source": [
        "arr_I.shape"
      ]
    },
    {
      "cell_type": "code",
      "execution_count": null,
      "id": "17968f20-b9b5-4889-80ff-7e0e57731bf6",
      "metadata": {
        "id": "17968f20-b9b5-4889-80ff-7e0e57731bf6",
        "outputId": "c8509185-f6c3-4df8-9539-62753b9db23e"
      },
      "outputs": [
        {
          "data": {
            "text/plain": [
              "array(['1,5', '0.62'], dtype='<U4')"
            ]
          },
          "execution_count": 36,
          "metadata": {},
          "output_type": "execute_result"
        }
      ],
      "source": [
        "np.array(['1.5', '0.62']) # 데이터 형변환"
      ]
    },
    {
      "cell_type": "code",
      "execution_count": null,
      "id": "9c23223b-207b-44a8-8f54-9c229ca9b848",
      "metadata": {
        "id": "9c23223b-207b-44a8-8f54-9c229ca9b848",
        "outputId": "3586b9a9-476e-496c-edbd-44cf5701e328"
      },
      "outputs": [
        {
          "data": {
            "text/plain": [
              "dtype('float64')"
            ]
          },
          "execution_count": 40,
          "metadata": {},
          "output_type": "execute_result"
        }
      ],
      "source": [
        "# astype() # pandas에서 사용가능\n",
        "arr = np.array(['1.5', '0.62'])\n",
        "num_arr = arr.astype(float)\n",
        "num_arr.dtype"
      ]
    },
    {
      "cell_type": "code",
      "execution_count": null,
      "id": "d379b71c-894e-42bc-af4f-cb2029d554c8",
      "metadata": {
        "id": "d379b71c-894e-42bc-af4f-cb2029d554c8",
        "outputId": "d174d6cf-7bf8-41a0-c584-25618b8791c0"
      },
      "outputs": [
        {
          "data": {
            "text/plain": [
              "array([1.5 , 0.62])"
            ]
          },
          "execution_count": 41,
          "metadata": {},
          "output_type": "execute_result"
        }
      ],
      "source": [
        "np.array(['1.5', '0.62'], dtype = float)"
      ]
    },
    {
      "cell_type": "code",
      "execution_count": null,
      "id": "26d3d429-c0ef-488e-940d-5bf0eae23bf0",
      "metadata": {
        "id": "26d3d429-c0ef-488e-940d-5bf0eae23bf0",
        "outputId": "28436e24-6933-4fcb-d782-59dac015deb2"
      },
      "outputs": [
        {
          "data": {
            "text/plain": [
              "array([10, 21,  0,  4,  5])"
            ]
          },
          "execution_count": 42,
          "metadata": {},
          "output_type": "execute_result"
        }
      ],
      "source": [
        "num_f1 = np.array([10, 21, 0.549, 4.75, 5.98])\n",
        "num_f1 = num_f1.astype(int)\n",
        "num_f1"
      ]
    },
    {
      "cell_type": "code",
      "execution_count": null,
      "id": "d79cd360-31dd-4f8a-b727-b21952dd81ce",
      "metadata": {
        "id": "d79cd360-31dd-4f8a-b727-b21952dd81ce",
        "outputId": "6da774f4-8223-4c0c-c288-90894a0be40e"
      },
      "outputs": [
        {
          "data": {
            "text/plain": [
              "array([10.   , 21.   ,  0.549,  4.75 ,  5.98 ])"
            ]
          },
          "execution_count": 43,
          "metadata": {},
          "output_type": "execute_result"
        }
      ],
      "source": [
        "num_f1 = np.array([10, 21, 0.549, 4.75, 5.98])\n",
        "num_f1 = num_f1.astype(float)\n",
        "num_f1"
      ]
    },
    {
      "cell_type": "code",
      "execution_count": null,
      "id": "a9664104-5fd2-4a85-a2c8-b2fecdb76cd5",
      "metadata": {
        "id": "a9664104-5fd2-4a85-a2c8-b2fecdb76cd5",
        "outputId": "957d8a6f-0634-4463-ed82-5af0d97094be"
      },
      "outputs": [
        {
          "data": {
            "text/plain": [
              "array([[0.90390627, 0.70336534, 0.00813792],\n",
              "       [0.3606365 , 0.96840603, 0.70337024]])"
            ]
          },
          "execution_count": 46,
          "metadata": {},
          "output_type": "execute_result"
        }
      ],
      "source": [
        "# 난수배열 생성\n",
        "\n",
        "np.random.rand(2,3) # 0~1 사이의 실수 난수를 가짐"
      ]
    },
    {
      "cell_type": "code",
      "execution_count": null,
      "id": "49164300-4b26-448c-8995-b3f2ae457b42",
      "metadata": {
        "id": "49164300-4b26-448c-8995-b3f2ae457b42",
        "outputId": "3298e767-aa04-4866-b065-d3f75d98d9f0"
      },
      "outputs": [
        {
          "data": {
            "text/plain": [
              "array([[9, 7, 3, 7],\n",
              "       [6, 9, 8, 3],\n",
              "       [6, 4, 8, 4]])"
            ]
          },
          "execution_count": 51,
          "metadata": {},
          "output_type": "execute_result"
        }
      ],
      "source": [
        "np.random.randint(2, 10, size=(3, 4))"
      ]
    },
    {
      "cell_type": "code",
      "execution_count": null,
      "id": "b344b562-c52e-4e97-9b3c-8560fffa13ab",
      "metadata": {
        "id": "b344b562-c52e-4e97-9b3c-8560fffa13ab",
        "outputId": "d8282425-dd1e-4767-b586-8426910c1671"
      },
      "outputs": [
        {
          "name": "stdout",
          "output_type": "stream",
          "text": [
            "로또 번호:  [ 9 14 18 35 36 40]\n"
          ]
        }
      ],
      "source": [
        "def generate_lotto_numbers():\n",
        "    # 1부터 45까지의 숫자 중에서 6개를 무작위로 선택\n",
        "    lotto_numbers = np.random.choice(range(1, 46), size=6, replace=False)\n",
        "\n",
        "    # 선택된 숫자들을 정렬\n",
        "    lotto_numbers.sort()\n",
        "\n",
        "    return lotto_numbers\n",
        "\n",
        "if __name__ == \"__main__\":\n",
        "    # 로또 번호 생성 및 출력\n",
        "    lotto_result = generate_lotto_numbers()\n",
        "    print(\"로또 번호: \", lotto_result)"
      ]
    },
    {
      "cell_type": "code",
      "execution_count": null,
      "id": "684b5406-976c-4784-a635-80b0c5aa3950",
      "metadata": {
        "id": "684b5406-976c-4784-a635-80b0c5aa3950",
        "outputId": "847d9035-775a-4f1c-e7ab-95b0848bf62b"
      },
      "outputs": [
        {
          "name": "stdout",
          "output_type": "stream",
          "text": [
            "이번 주 로또 당첨번호는 [ 3  4  9 34 38 45] + 보너스번호 7\n",
            "이번 주 로또 당첨번호는 3 4 9 34 38 45 + 보너스번호  7\n"
          ]
        }
      ],
      "source": [
        "# 로또 번호 추첨기 만들어보기\n",
        "\n",
        "# 조건1: 보너스숫자와 로또 메인 번호는 겹치지 않아야\n",
        "# 조건2: 로또번호 내에서도 겹치는 숫자 없어야\n",
        "# 조건3: 로또 번호(보너스 제외)는 오름차순으로 정렬되어야\n",
        "\n",
        "lotto = np.random.randint(1, 46, size=(6, ))\n",
        "bonus = np.random.randint(1, 46)\n",
        "lotto = np.sort(lotto)   # 조건3\n",
        "\n",
        "# way1\n",
        "if bonus not in lotto:\n",
        "    if np.unique(lotto).size == len(lotto):   # 2, 3, 3, 6, 10, 22 고유값 2, 3, 6, 10, 22\n",
        "        print(f'이번 주 로또 당첨번호는 {lotto} + 보너스번호 {bonus}')\n",
        "\n",
        "# way2\n",
        "if bonus not in lotto:\n",
        "    if np.unique(lotto).size == len(lotto):\n",
        "        print(f'이번 주 로또 당첨번호는', end=' ')\n",
        "        for i in range(6):\n",
        "            print(lotto[i], end=' ')\n",
        "            if i == 5:\n",
        "                print(f'+ 보너스번호 ', bonus)"
      ]
    },
    {
      "cell_type": "code",
      "execution_count": null,
      "id": "e503951d-6a61-41d1-820c-4c043205d446",
      "metadata": {
        "id": "e503951d-6a61-41d1-820c-4c043205d446",
        "outputId": "ad3ff744-e6dc-4aa6-a212-51347e4f6581"
      },
      "outputs": [
        {
          "data": {
            "text/plain": [
              "[2, 20, 31, 33, 7, 42]"
            ]
          },
          "execution_count": 62,
          "metadata": {},
          "output_type": "execute_result"
        }
      ],
      "source": [
        "def lotto(n):  # n개를 받아드릴 함수\n",
        "    numbers = []  # 로또 번호를 담아줄 빈 리스트 생성\n",
        "\n",
        "    while len(numbers) < n:  # 횟수 n번을 반복해 줄 반복문\n",
        "        num = np.random.randint(1, 45) # 랜덤한 숫자 뽑기\n",
        "        if num not in numbers:  # 중복되는 숫자가 있는지 체크\n",
        "            numbers.append(num) #없다면 리스트에 추가\n",
        "\n",
        "    return numbers #반복구문을 완료한 리스트를 리턴\n",
        "\n",
        "lotto(6)"
      ]
    },
    {
      "cell_type": "markdown",
      "id": "20b1ba97-a65f-4b78-8d00-43f17ac3f01b",
      "metadata": {
        "id": "20b1ba97-a65f-4b78-8d00-43f17ac3f01b"
      },
      "source": [
        "# 배열의 연산"
      ]
    },
    {
      "cell_type": "code",
      "execution_count": null,
      "id": "0c813692-50c9-4735-95d3-a67c4660ebf9",
      "metadata": {
        "id": "0c813692-50c9-4735-95d3-a67c4660ebf9"
      },
      "outputs": [],
      "source": [
        "arr1 = np.array([10, 20, 30, 40])\n",
        "arr2 = np.array([1, 2, 3, 4])\n",
        "\n",
        "print(arr1 + arr2)\n",
        "print(arr1 - arr2)\n",
        "print(arr1 * arr2)\n",
        "print(arr1 / arr2)"
      ]
    },
    {
      "cell_type": "markdown",
      "id": "26587b50-8b99-4554-8e6a-d7033768fb92",
      "metadata": {
        "id": "26587b50-8b99-4554-8e6a-d7033768fb92"
      },
      "source": [
        "# 비교연산"
      ]
    },
    {
      "cell_type": "code",
      "execution_count": null,
      "id": "e4435f3d-6b6c-42de-a781-d69d103e2520",
      "metadata": {
        "id": "e4435f3d-6b6c-42de-a781-d69d103e2520",
        "outputId": "203a9970-73c6-4cae-8e89-dc16e279e134"
      },
      "outputs": [
        {
          "data": {
            "text/plain": [
              "array([False, False,  True,  True])"
            ]
          },
          "execution_count": 64,
          "metadata": {},
          "output_type": "execute_result"
        }
      ],
      "source": [
        "arr1 > 20"
      ]
    },
    {
      "cell_type": "markdown",
      "id": "66ed75f5-d667-42db-af9f-cb6398fb6af1",
      "metadata": {
        "id": "66ed75f5-d667-42db-af9f-cb6398fb6af1"
      },
      "source": [
        "# 통계 연산\n",
        "- 기술통계량 Descriptive statistics: 합,평균, 표준편차, 분산, 최소최대값, 누적합, 누적곱 메서드\n",
        "- 현재 데이터 상태를 표현\n",
        "- 통계 : 평균이 전부다! (Mean is Everything)\n",
        "  + 모수 통계\n",
        "  + 비모수 통계\n",
        "  + 베이지안 통계"
      ]
    },
    {
      "cell_type": "code",
      "execution_count": null,
      "id": "cddb96ef-b822-4e98-b0f6-fdf9f371214c",
      "metadata": {
        "id": "cddb96ef-b822-4e98-b0f6-fdf9f371214c",
        "outputId": "6c7a29ec-7910-49f3-d949-80088507918e"
      },
      "outputs": [
        {
          "data": {
            "text/plain": [
              "array([0, 1, 2, 3, 4])"
            ]
          },
          "execution_count": 66,
          "metadata": {},
          "output_type": "execute_result"
        }
      ],
      "source": [
        "arr3 = np.arange(5)\n",
        "arr3"
      ]
    },
    {
      "cell_type": "code",
      "execution_count": null,
      "id": "85af1852-6d6b-410f-ac1e-1bd6ca394e79",
      "metadata": {
        "id": "85af1852-6d6b-410f-ac1e-1bd6ca394e79",
        "outputId": "390e506d-8837-4881-a22a-dacd600659e7"
      },
      "outputs": [
        {
          "data": {
            "text/plain": [
              "10"
            ]
          },
          "execution_count": 67,
          "metadata": {},
          "output_type": "execute_result"
        }
      ],
      "source": [
        "arr3.sum()"
      ]
    },
    {
      "cell_type": "code",
      "execution_count": null,
      "id": "e2755da1-f1c0-4a73-9a82-7db50021676d",
      "metadata": {
        "id": "e2755da1-f1c0-4a73-9a82-7db50021676d",
        "outputId": "500672d4-aef0-49d4-8501-75693f514cfa"
      },
      "outputs": [
        {
          "data": {
            "text/plain": [
              "2.0"
            ]
          },
          "execution_count": 68,
          "metadata": {},
          "output_type": "execute_result"
        }
      ],
      "source": [
        "arr3.mean()"
      ]
    },
    {
      "cell_type": "code",
      "execution_count": null,
      "id": "5265d4ad-bd4b-4617-b07d-035cf875227e",
      "metadata": {
        "id": "5265d4ad-bd4b-4617-b07d-035cf875227e",
        "outputId": "0433b545-5bb7-4564-e544-9fbf182c18d3"
      },
      "outputs": [
        {
          "data": {
            "text/plain": [
              "1.4142135623730951"
            ]
          },
          "execution_count": 69,
          "metadata": {},
          "output_type": "execute_result"
        }
      ],
      "source": [
        "arr3.std()"
      ]
    },
    {
      "cell_type": "code",
      "execution_count": null,
      "id": "5df4c683-49f4-42be-b140-d94a8d8f59b6",
      "metadata": {
        "id": "5df4c683-49f4-42be-b140-d94a8d8f59b6",
        "outputId": "7a8d6dd6-4b96-4a15-9882-8f757d1d676a"
      },
      "outputs": [
        {
          "name": "stdout",
          "output_type": "stream",
          "text": [
            "[36  9 64 63 44 87]\n",
            "[-14.5, -41.5, 13.5, 12.5, -6.5, 36.5]\n"
          ]
        },
        {
          "data": {
            "text/plain": [
              "0.0"
            ]
          },
          "execution_count": 82,
          "metadata": {},
          "output_type": "execute_result"
        }
      ],
      "source": [
        "arr3.var()\n",
        "# 분산 - 각 변량이 평균에서 떨어진 정도의 평균\n",
        "# 편차의 합이 항상 0이므로 편차의 제곱의 평균을 구한 것\n",
        "\n",
        "# 편차의 합이 항상 0인지 확인\n",
        "arr4 = np.random.randint(1,100,6)\n",
        "print(arr4)\n",
        "mean = arr4.mean()\n",
        "\n",
        "ls = []\n",
        "for i in arr4:\n",
        "    ls.append(i-mean)\n",
        "\n",
        "print(ls)\n",
        "\n",
        "sum=0\n",
        "for i in ls:\n",
        "    sum += i\n",
        "\n",
        "sum"
      ]
    },
    {
      "cell_type": "markdown",
      "id": "46253806-2c79-4a0a-9dc6-7a5447cedbeb",
      "metadata": {
        "id": "46253806-2c79-4a0a-9dc6-7a5447cedbeb"
      },
      "source": [
        "# 누적곱\n",
        "- cumsum() : 누적합\n",
        "- cumprod() : 누적곱\n",
        "- pandas에도 있음 (다 연결 돼있다)"
      ]
    },
    {
      "cell_type": "code",
      "execution_count": null,
      "id": "9f72171f-bd1b-473a-84a1-22f258d2c2de",
      "metadata": {
        "id": "9f72171f-bd1b-473a-84a1-22f258d2c2de",
        "outputId": "93202339-6ed8-44d1-acac-a6b53274e2f9"
      },
      "outputs": [
        {
          "data": {
            "text/plain": [
              "array([ 1,  3,  6, 10])"
            ]
          },
          "execution_count": 93,
          "metadata": {},
          "output_type": "execute_result"
        }
      ],
      "source": [
        "arr5 = np.arange(1,5)\n",
        "arr5.cumsum()"
      ]
    },
    {
      "cell_type": "code",
      "execution_count": null,
      "id": "2b629cc1-8ff4-428a-8622-acfb82041e2d",
      "metadata": {
        "id": "2b629cc1-8ff4-428a-8622-acfb82041e2d",
        "outputId": "900d12b9-22dc-417e-fb85-c5a066e71e40"
      },
      "outputs": [
        {
          "data": {
            "text/plain": [
              "array([ 1,  2,  6, 24])"
            ]
          },
          "execution_count": 94,
          "metadata": {},
          "output_type": "execute_result"
        }
      ],
      "source": [
        "arr5.cumprod()"
      ]
    },
    {
      "cell_type": "markdown",
      "id": "37a460ae-91a3-4019-9268-9b5c119df17b",
      "metadata": {
        "id": "37a460ae-91a3-4019-9268-9b5c119df17b"
      },
      "source": [
        "# 행렬연산\n",
        "- 선형대수(Linear Algebra)를 위한 2차열 배열 연산도 지원 / 칸아카데미\n",
        "- 행렬곱, 전치행렬, 역행렬, 행렬식"
      ]
    },
    {
      "cell_type": "code",
      "execution_count": null,
      "id": "d66b7378-dec6-4e8c-91af-3c629e56b029",
      "metadata": {
        "id": "d66b7378-dec6-4e8c-91af-3c629e56b029",
        "outputId": "f03ba07c-c3d3-4ba3-ee66-a597947e643f"
      },
      "outputs": [
        {
          "data": {
            "text/plain": [
              "array([[0, 1],\n",
              "       [2, 3]])"
            ]
          },
          "execution_count": 75,
          "metadata": {},
          "output_type": "execute_result"
        }
      ],
      "source": [
        "A = np.array([0, 1, 2, 3]).reshape(2, 2)\n",
        "A"
      ]
    },
    {
      "cell_type": "code",
      "execution_count": null,
      "id": "3913ec4b-5a12-49ae-b3c2-e49d8b182486",
      "metadata": {
        "id": "3913ec4b-5a12-49ae-b3c2-e49d8b182486",
        "outputId": "41671e33-d4ff-40de-a4db-e8c605ac5392"
      },
      "outputs": [
        {
          "data": {
            "text/plain": [
              "array([[3, 2],\n",
              "       [0, 1]])"
            ]
          },
          "execution_count": 77,
          "metadata": {},
          "output_type": "execute_result"
        }
      ],
      "source": [
        "B = np.array([3, 2, 0, 1]).reshape(2, 2)\n",
        "B"
      ]
    },
    {
      "cell_type": "code",
      "execution_count": null,
      "id": "fc7e72f5-dbd7-4b6d-8071-7725a5775283",
      "metadata": {
        "id": "fc7e72f5-dbd7-4b6d-8071-7725a5775283",
        "outputId": "9efa555e-df34-475f-c69c-35318a236e4a"
      },
      "outputs": [
        {
          "data": {
            "text/plain": [
              "array([[0, 1],\n",
              "       [6, 7]])"
            ]
          },
          "execution_count": 86,
          "metadata": {},
          "output_type": "execute_result"
        }
      ],
      "source": [
        "A.dot(B)"
      ]
    },
    {
      "cell_type": "code",
      "execution_count": null,
      "id": "2c8e0683-588f-432f-894b-c610c27adb78",
      "metadata": {
        "id": "2c8e0683-588f-432f-894b-c610c27adb78",
        "outputId": "49ea7283-59f5-4df9-8715-d3b27a657b58"
      },
      "outputs": [
        {
          "data": {
            "text/plain": [
              "array([[0, 1],\n",
              "       [6, 7]])"
            ]
          },
          "execution_count": 89,
          "metadata": {},
          "output_type": "execute_result"
        }
      ],
      "source": [
        "np.dot(A,B)"
      ]
    },
    {
      "cell_type": "code",
      "execution_count": null,
      "id": "ecfd94c3-9123-4bac-b856-7eba35a62fb7",
      "metadata": {
        "id": "ecfd94c3-9123-4bac-b856-7eba35a62fb7",
        "outputId": "28034366-3f80-4e37-b435-667ee8deee9e"
      },
      "outputs": [
        {
          "data": {
            "text/plain": [
              "array([[0, 2],\n",
              "       [1, 3]])"
            ]
          },
          "execution_count": 90,
          "metadata": {},
          "output_type": "execute_result"
        }
      ],
      "source": [
        "np.transpose(A)"
      ]
    },
    {
      "cell_type": "code",
      "execution_count": null,
      "id": "95e8c01f-f9c5-4ba7-8370-bfefd344b233",
      "metadata": {
        "id": "95e8c01f-f9c5-4ba7-8370-bfefd344b233",
        "outputId": "5a9adf4c-3a44-47b9-e0ef-aaae1580c894"
      },
      "outputs": [
        {
          "data": {
            "text/plain": [
              "array([[-1.5,  0.5],\n",
              "       [ 1. ,  0. ]])"
            ]
          },
          "execution_count": 91,
          "metadata": {},
          "output_type": "execute_result"
        }
      ],
      "source": [
        "np.linalg.inv(A)"
      ]
    },
    {
      "cell_type": "markdown",
      "id": "ead7c04f-15ce-4bb6-a3b7-c0910ab8cde7",
      "metadata": {
        "id": "ead7c04f-15ce-4bb6-a3b7-c0910ab8cde7"
      },
      "source": [
        "# 배열의 인덱싱과 슬라이싱\n",
        "- string, list, tuple과 동일한 방법으로 접근"
      ]
    },
    {
      "cell_type": "code",
      "execution_count": null,
      "id": "8540dacf-56a9-4cc0-9c70-ae79ce63d306",
      "metadata": {
        "id": "8540dacf-56a9-4cc0-9c70-ae79ce63d306",
        "outputId": "26749907-6b4d-4c39-e1d2-fba4d68e8f9a"
      },
      "outputs": [
        {
          "data": {
            "text/plain": [
              "array([ 0, 10, 20, 30, 40, 50])"
            ]
          },
          "execution_count": 95,
          "metadata": {},
          "output_type": "execute_result"
        }
      ],
      "source": [
        "a1 = np.array([0, 10, 20, 30, 40, 50])\n",
        "a1"
      ]
    },
    {
      "cell_type": "code",
      "execution_count": null,
      "id": "981ddac4-40b8-45f4-bf36-69107ff55360",
      "metadata": {
        "id": "981ddac4-40b8-45f4-bf36-69107ff55360",
        "outputId": "264d4d25-9289-4fc7-8615-296c47777f5a"
      },
      "outputs": [
        {
          "data": {
            "text/plain": [
              "40"
            ]
          },
          "execution_count": 96,
          "metadata": {},
          "output_type": "execute_result"
        }
      ],
      "source": [
        "a1[4]"
      ]
    },
    {
      "cell_type": "code",
      "execution_count": null,
      "id": "d29c7809-ad26-4e34-ba78-1e07e26f78e4",
      "metadata": {
        "id": "d29c7809-ad26-4e34-ba78-1e07e26f78e4",
        "outputId": "96503369-a7dc-49ee-ba3d-11066eeab79a"
      },
      "outputs": [
        {
          "data": {
            "text/plain": [
              "array([ 0, 10, 20, 30, 40, 70])"
            ]
          },
          "execution_count": 97,
          "metadata": {},
          "output_type": "execute_result"
        }
      ],
      "source": [
        "# 50을 70으로 변경\n",
        "a1[5] = 70\n",
        "a1"
      ]
    },
    {
      "cell_type": "code",
      "execution_count": null,
      "id": "2b4d02e1-af70-4190-8e75-9b6ad84a4930",
      "metadata": {
        "id": "2b4d02e1-af70-4190-8e75-9b6ad84a4930",
        "outputId": "7c78bf48-7788-454f-c531-3a45a5a3b14a"
      },
      "outputs": [
        {
          "data": {
            "text/plain": [
              "array([ 0, 20, 40])"
            ]
          },
          "execution_count": 102,
          "metadata": {},
          "output_type": "execute_result"
        }
      ],
      "source": [
        "# 리스트 통해서 추출\n",
        "a1[[0, 2, 4]]\n",
        "\n",
        "idx_list = [0,2,4]\n",
        "a1[idx_list]"
      ]
    },
    {
      "cell_type": "code",
      "execution_count": null,
      "id": "d181f614-4ba5-4fa7-bad1-39312e928641",
      "metadata": {
        "id": "d181f614-4ba5-4fa7-bad1-39312e928641",
        "outputId": "4782401c-6992-4f36-ef6c-aea18c0b1f00"
      },
      "outputs": [
        {
          "data": {
            "text/plain": [
              "array([[10, 20, 30],\n",
              "       [40, 50, 60],\n",
              "       [70, 80, 90]])"
            ]
          },
          "execution_count": 101,
          "metadata": {},
          "output_type": "execute_result"
        }
      ],
      "source": [
        "a2 = np.arange(10, 100, 10).reshape(3, 3)\n",
        "a2"
      ]
    },
    {
      "cell_type": "code",
      "execution_count": null,
      "id": "502bbd6b-2ef2-46aa-a25a-bbd6e3a92d17",
      "metadata": {
        "id": "502bbd6b-2ef2-46aa-a25a-bbd6e3a92d17",
        "outputId": "45b27607-3a95-4566-dc46-0026d2b1fcf3"
      },
      "outputs": [
        {
          "data": {
            "text/plain": [
              "10"
            ]
          },
          "execution_count": 103,
          "metadata": {},
          "output_type": "execute_result"
        }
      ],
      "source": [
        "a2[0, 0]"
      ]
    },
    {
      "cell_type": "code",
      "execution_count": null,
      "id": "563c42fe-9a8e-463b-9587-a4060ab723c4",
      "metadata": {
        "id": "563c42fe-9a8e-463b-9587-a4060ab723c4",
        "outputId": "1152bb8c-b437-4e5d-8ff3-938921c80bf3"
      },
      "outputs": [
        {
          "data": {
            "text/plain": [
              "90"
            ]
          },
          "execution_count": 104,
          "metadata": {},
          "output_type": "execute_result"
        }
      ],
      "source": [
        "a2[2, 2]"
      ]
    },
    {
      "cell_type": "code",
      "execution_count": null,
      "id": "2b351e45-03c3-49fb-b4d6-d9aaa69dbc29",
      "metadata": {
        "id": "2b351e45-03c3-49fb-b4d6-d9aaa69dbc29",
        "outputId": "53bf50b3-3d28-43a6-8ffc-ab6c4f50f95a"
      },
      "outputs": [
        {
          "data": {
            "text/plain": [
              "array([[10, 20, 30],\n",
              "       [40, 50, 60],\n",
              "       [70, 80, 95]])"
            ]
          },
          "execution_count": 107,
          "metadata": {},
          "output_type": "execute_result"
        }
      ],
      "source": [
        "# 90을 95로 변경\n",
        "a2[2, 2] = 95\n",
        "a2"
      ]
    },
    {
      "cell_type": "code",
      "execution_count": null,
      "id": "88f9bdf6-e24e-4eb8-a948-feabf4ec3744",
      "metadata": {
        "id": "88f9bdf6-e24e-4eb8-a948-feabf4ec3744",
        "outputId": "f8d17070-bbc4-4863-b5b9-61ff518ae418"
      },
      "outputs": [
        {
          "data": {
            "text/plain": [
              "array([[10, 20, 30],\n",
              "       [40, 50, 43],\n",
              "       [70, 80, 95]])"
            ]
          },
          "execution_count": 108,
          "metadata": {},
          "output_type": "execute_result"
        }
      ],
      "source": [
        "a2[1,2] = 43\n",
        "a2"
      ]
    },
    {
      "cell_type": "code",
      "execution_count": null,
      "id": "ebb08b12-5cd4-4f8a-be8a-961668ff5d42",
      "metadata": {
        "id": "ebb08b12-5cd4-4f8a-be8a-961668ff5d42",
        "outputId": "52fecaac-e817-43c4-c1a9-88a1d433a11f"
      },
      "outputs": [
        {
          "data": {
            "text/plain": [
              "array([[ 1,  2,  3],\n",
              "       [40, 50, 43],\n",
              "       [70, 80, 95]])"
            ]
          },
          "execution_count": 109,
          "metadata": {},
          "output_type": "execute_result"
        }
      ],
      "source": [
        "a2[0] = [1,2,3] # 좋은 코드 X\n",
        "a2"
      ]
    },
    {
      "cell_type": "code",
      "execution_count": null,
      "id": "aa8741b4-5678-4ee3-a3c3-6c15ab115843",
      "metadata": {
        "id": "aa8741b4-5678-4ee3-a3c3-6c15ab115843",
        "outputId": "9aad37fb-d9e5-4607-d761-620b1c899e9a"
      },
      "outputs": [
        {
          "ename": "ValueError",
          "evalue": "could not broadcast input array from shape (4,) into shape (3,)",
          "output_type": "error",
          "traceback": [
            "\u001b[1;31m---------------------------------------------------------------------------\u001b[0m",
            "\u001b[1;31mValueError\u001b[0m                                Traceback (most recent call last)",
            "Cell \u001b[1;32mIn[111], line 1\u001b[0m\n\u001b[1;32m----> 1\u001b[0m a2[\u001b[38;5;241m0\u001b[39m] \u001b[38;5;241m=\u001b[39m np\u001b[38;5;241m.\u001b[39marray([\u001b[38;5;241m4\u001b[39m, \u001b[38;5;241m5\u001b[39m, \u001b[38;5;241m6\u001b[39m, \u001b[38;5;241m7\u001b[39m])\n\u001b[0;32m      2\u001b[0m a2\n",
            "\u001b[1;31mValueError\u001b[0m: could not broadcast input array from shape (4,) into shape (3,)"
          ]
        }
      ],
      "source": [
        "a2[0] = np.array([4, 5, 6, 7])\n",
        "a2"
      ]
    },
    {
      "cell_type": "markdown",
      "id": "f77dbad9-74ae-4770-96b7-0b3ae05fda1f",
      "metadata": {
        "id": "f77dbad9-74ae-4770-96b7-0b3ae05fda1f"
      },
      "source": [
        "- 2차원 배열의 행과 열 위치 지정해서 원소 추출\n",
        "  + (행의 위치1, 행의 위치2) / (열의 위치1, 열의 위치2)"
      ]
    },
    {
      "cell_type": "code",
      "execution_count": null,
      "id": "6a806569-fead-4323-9af4-9f0057da8182",
      "metadata": {
        "id": "6a806569-fead-4323-9af4-9f0057da8182",
        "outputId": "b4f04878-19fe-4fcc-d268-16cb69b734ef"
      },
      "outputs": [
        {
          "data": {
            "text/plain": [
              "array([ 4, 80])"
            ]
          },
          "execution_count": 112,
          "metadata": {},
          "output_type": "execute_result"
        }
      ],
      "source": [
        "a2[[0, 2], [0, 1]]"
      ]
    },
    {
      "cell_type": "code",
      "execution_count": null,
      "id": "904a34b8-b444-4577-97d2-82636a635183",
      "metadata": {
        "id": "904a34b8-b444-4577-97d2-82636a635183",
        "outputId": "f20d1780-83d6-4810-f882-44e42665c2f7"
      },
      "outputs": [
        {
          "data": {
            "text/plain": [
              "(4, 80)"
            ]
          },
          "execution_count": 114,
          "metadata": {},
          "output_type": "execute_result"
        }
      ],
      "source": [
        "a2[0, 0], a2[2, 1]"
      ]
    },
    {
      "cell_type": "markdown",
      "id": "3d4a9819-a6c1-42d5-830b-70a6dc012c67",
      "metadata": {
        "id": "3d4a9819-a6c1-42d5-830b-70a6dc012c67"
      },
      "source": [
        "# 배열 조건문\n",
        " - pandas 문법과 유사"
      ]
    },
    {
      "cell_type": "code",
      "execution_count": null,
      "id": "784da6d6-f9eb-4c92-9f46-358846cf3ada",
      "metadata": {
        "id": "784da6d6-f9eb-4c92-9f46-358846cf3ada",
        "outputId": "2e79343e-49d7-443e-fe9a-781b321dfbf0"
      },
      "outputs": [
        {
          "data": {
            "text/plain": [
              "array([1, 2, 3, 4, 5, 6])"
            ]
          },
          "execution_count": 115,
          "metadata": {},
          "output_type": "execute_result"
        }
      ],
      "source": [
        "a = np.array([1, 2, 3, 4, 5, 6])\n",
        "a"
      ]
    },
    {
      "cell_type": "code",
      "execution_count": null,
      "id": "4429e3c9-0582-4cd5-9fab-7f90f4cfffff",
      "metadata": {
        "id": "4429e3c9-0582-4cd5-9fab-7f90f4cfffff",
        "outputId": "202339cd-eb94-4604-f131-d3069b3d78ef"
      },
      "outputs": [
        {
          "data": {
            "text/plain": [
              "[array([False, False, False,  True,  True,  True])]"
            ]
          },
          "execution_count": 116,
          "metadata": {},
          "output_type": "execute_result"
        }
      ],
      "source": [
        "[a>3]"
      ]
    },
    {
      "cell_type": "code",
      "execution_count": null,
      "id": "d49b60cd-c85d-4a7c-82d7-b30457d0a4e6",
      "metadata": {
        "id": "d49b60cd-c85d-4a7c-82d7-b30457d0a4e6",
        "outputId": "20de95f2-bb3a-4eb7-8307-29c53038dc33"
      },
      "outputs": [
        {
          "data": {
            "text/plain": [
              "array([4, 5, 6])"
            ]
          },
          "execution_count": 118,
          "metadata": {},
          "output_type": "execute_result"
        }
      ],
      "source": [
        "a[a>3] # 조건식에 맞춰서 True값만 가져옴"
      ]
    },
    {
      "cell_type": "code",
      "execution_count": null,
      "id": "935cbac6-bc63-4acf-9f6a-0041dd791182",
      "metadata": {
        "id": "935cbac6-bc63-4acf-9f6a-0041dd791182",
        "outputId": "357f286c-f498-427b-8693-f57849a5b25c"
      },
      "outputs": [
        {
          "data": {
            "text/plain": [
              "array([False,  True, False,  True, False,  True])"
            ]
          },
          "execution_count": 119,
          "metadata": {},
          "output_type": "execute_result"
        }
      ],
      "source": [
        "a % 2 == 0"
      ]
    },
    {
      "cell_type": "markdown",
      "id": "23a93ee2-4af9-4604-b7ef-40442b040cd6",
      "metadata": {
        "id": "23a93ee2-4af9-4604-b7ef-40442b040cd6"
      },
      "source": [
        "# 배열의 슬라이싱"
      ]
    },
    {
      "cell_type": "code",
      "execution_count": null,
      "id": "2b15fa58-ac23-4c85-95ca-79c56ada6828",
      "metadata": {
        "id": "2b15fa58-ac23-4c85-95ca-79c56ada6828",
        "outputId": "77c0ace0-8f4f-438f-a172-54073d8413c0"
      },
      "outputs": [
        {
          "data": {
            "text/plain": [
              "array([1, 2, 3])"
            ]
          },
          "execution_count": 120,
          "metadata": {},
          "output_type": "execute_result"
        }
      ],
      "source": [
        "b1 = np.array([0, 1, 2, 3, 4, 5])\n",
        "b1[1:4]"
      ]
    },
    {
      "cell_type": "code",
      "execution_count": null,
      "id": "6b0d4417-ccca-44a2-a55c-0f868d9c2a4a",
      "metadata": {
        "id": "6b0d4417-ccca-44a2-a55c-0f868d9c2a4a",
        "outputId": "6bbed2e5-caef-480b-f8c7-2dd1a17bfdff"
      },
      "outputs": [
        {
          "data": {
            "text/plain": [
              "array([0, 1, 2])"
            ]
          },
          "execution_count": 121,
          "metadata": {},
          "output_type": "execute_result"
        }
      ],
      "source": [
        "b1[:3]"
      ]
    },
    {
      "cell_type": "code",
      "execution_count": null,
      "id": "aacd5b08-5f42-4181-96f0-a3b6652de437",
      "metadata": {
        "id": "aacd5b08-5f42-4181-96f0-a3b6652de437",
        "outputId": "2fc99e19-a7d4-46e7-fa57-a71a86052d73"
      },
      "outputs": [
        {
          "data": {
            "text/plain": [
              "array([2, 3, 4, 5])"
            ]
          },
          "execution_count": 122,
          "metadata": {},
          "output_type": "execute_result"
        }
      ],
      "source": [
        "b1[2:]"
      ]
    },
    {
      "cell_type": "code",
      "execution_count": null,
      "id": "c47e4977-f05e-4885-b775-86f7f589541a",
      "metadata": {
        "id": "c47e4977-f05e-4885-b775-86f7f589541a",
        "outputId": "5ce6f0fa-9340-4ca3-b81f-5a956e4cea25"
      },
      "outputs": [
        {
          "data": {
            "text/plain": [
              "array([0, 2])"
            ]
          },
          "execution_count": 123,
          "metadata": {},
          "output_type": "execute_result"
        }
      ],
      "source": [
        "b1[0:4:2]"
      ]
    },
    {
      "cell_type": "code",
      "execution_count": null,
      "id": "9710e6b9-103f-4e11-9ebb-18f0331d0286",
      "metadata": {
        "id": "9710e6b9-103f-4e11-9ebb-18f0331d0286",
        "outputId": "9b85b341-2fea-4410-8d91-e3d9e8627937"
      },
      "outputs": [
        {
          "data": {
            "text/plain": [
              "array([ 0,  1, 25, 35, 45,  5])"
            ]
          },
          "execution_count": 124,
          "metadata": {},
          "output_type": "execute_result"
        }
      ],
      "source": [
        "# 요소 변경\n",
        "b1[2:5] = np.array([25, 35, 45])\n",
        "b1"
      ]
    },
    {
      "cell_type": "code",
      "execution_count": null,
      "id": "139e49fc-00b9-4a7c-ac0e-c372aa47a389",
      "metadata": {
        "id": "139e49fc-00b9-4a7c-ac0e-c372aa47a389",
        "outputId": "1ad14d06-cb4b-48d2-f79b-bc51b374d4dd"
      },
      "outputs": [
        {
          "data": {
            "text/plain": [
              "array([ 0,  1, 25, 60, 60, 60])"
            ]
          },
          "execution_count": 125,
          "metadata": {},
          "output_type": "execute_result"
        }
      ],
      "source": [
        "b1[3:6] = 60\n",
        "b1"
      ]
    },
    {
      "cell_type": "code",
      "execution_count": null,
      "id": "aa935c9b-eeed-4ae1-9ea6-2b6ff6a1a57e",
      "metadata": {
        "id": "aa935c9b-eeed-4ae1-9ea6-2b6ff6a1a57e",
        "outputId": "15afcf14-77dd-4797-91af-c197a866aeb8"
      },
      "outputs": [
        {
          "data": {
            "text/plain": [
              "array([[10, 20, 30],\n",
              "       [40, 50, 60],\n",
              "       [70, 80, 90]])"
            ]
          },
          "execution_count": 126,
          "metadata": {},
          "output_type": "execute_result"
        }
      ],
      "source": [
        "b2 = np.arange(10, 100, 10).reshape(3, 3)\n",
        "b2"
      ]
    },
    {
      "cell_type": "code",
      "execution_count": null,
      "id": "ade88ca3-5f2f-4026-9a35-d23eb7b14ba1",
      "metadata": {
        "id": "ade88ca3-5f2f-4026-9a35-d23eb7b14ba1",
        "outputId": "276e7f26-1de6-42d6-cb08-729a6b6bd094"
      },
      "outputs": [
        {
          "data": {
            "text/plain": [
              "array([[50, 60],\n",
              "       [80, 90]])"
            ]
          },
          "execution_count": 127,
          "metadata": {},
          "output_type": "execute_result"
        }
      ],
      "source": [
        "b2[1:3, 1:3]"
      ]
    },
    {
      "cell_type": "code",
      "execution_count": null,
      "id": "0c2e7ad1-90ac-4b24-a79d-c76b142a964a",
      "metadata": {
        "id": "0c2e7ad1-90ac-4b24-a79d-c76b142a964a",
        "outputId": "f7181534-3022-45fe-fe2d-4dbfd7e68159"
      },
      "outputs": [
        {
          "data": {
            "text/plain": [
              "array([[50, 60],\n",
              "       [80, 90]])"
            ]
          },
          "execution_count": 128,
          "metadata": {},
          "output_type": "execute_result"
        }
      ],
      "source": [
        "b2[1:, 1:]"
      ]
    },
    {
      "cell_type": "code",
      "execution_count": null,
      "id": "9bd240a1-7c4c-4630-b8e9-4ef8eaa929c6",
      "metadata": {
        "id": "9bd240a1-7c4c-4630-b8e9-4ef8eaa929c6",
        "outputId": "8ef4764c-1bb0-4de2-ef7c-8e60352cc1b9"
      },
      "outputs": [
        {
          "data": {
            "text/plain": [
              "'a'"
            ]
          },
          "execution_count": 129,
          "metadata": {},
          "output_type": "execute_result"
        }
      ],
      "source": [
        "nums = [1, 2, 3, ['a', 'b']]\n",
        "nums[3][0]"
      ]
    },
    {
      "cell_type": "code",
      "execution_count": null,
      "id": "096443e7-86d0-4468-bb42-92dd9d890ed4",
      "metadata": {
        "id": "096443e7-86d0-4468-bb42-92dd9d890ed4",
        "outputId": "350ee287-14a4-481a-d926-21e09c8a3731"
      },
      "outputs": [
        {
          "data": {
            "text/plain": [
              "array([50, 60])"
            ]
          },
          "execution_count": 130,
          "metadata": {},
          "output_type": "execute_result"
        }
      ],
      "source": [
        "b2[1][1:3]"
      ]
    },
    {
      "cell_type": "markdown",
      "id": "19d8eec8-dc93-40af-984b-3f2b53fada56",
      "metadata": {
        "id": "19d8eec8-dc93-40af-984b-3f2b53fada56"
      },
      "source": [
        "# NumPy 조건문 (교재 없음)\n",
        "- np.where : 단일 조건문\n",
        "- np.select : 다중 조건문\n",
        "\n",
        "- pandas에서도 사용가능"
      ]
    },
    {
      "cell_type": "code",
      "execution_count": null,
      "id": "11c3b730-787d-45f5-b207-7e45e07465dd",
      "metadata": {
        "id": "11c3b730-787d-45f5-b207-7e45e07465dd",
        "outputId": "57434b6a-a1ea-4a8c-cdb0-40380a722af2"
      },
      "outputs": [
        {
          "data": {
            "text/plain": [
              "array([0, 1, 2, 3, 4, 5, 6, 7, 8, 9])"
            ]
          },
          "execution_count": 132,
          "metadata": {},
          "output_type": "execute_result"
        }
      ],
      "source": [
        "arr = np.arange(10)\n",
        "arr"
      ]
    },
    {
      "cell_type": "code",
      "execution_count": null,
      "id": "c606056b-8fc6-4dc4-aa20-da41c9405820",
      "metadata": {
        "id": "c606056b-8fc6-4dc4-aa20-da41c9405820",
        "outputId": "00813e73-6b48-418b-bb97-9118b3415ee8"
      },
      "outputs": [
        {
          "data": {
            "text/plain": [
              "array([ 0,  1,  2,  3,  4, 50, 60, 70, 80, 90])"
            ]
          },
          "execution_count": 133,
          "metadata": {},
          "output_type": "execute_result"
        }
      ],
      "source": [
        "#0, 1, 2, 3, 4, 50, 60, 70, 80, 90\n",
        "np.where(arr < 5, arr, arr * 10)\n"
      ]
    },
    {
      "cell_type": "code",
      "execution_count": null,
      "id": "040c5c6e-0213-4036-a73b-25995cb91b0e",
      "metadata": {
        "id": "040c5c6e-0213-4036-a73b-25995cb91b0e",
        "outputId": "06acc698-1474-4d17-9a2f-e7b92caee8c4"
      },
      "outputs": [
        {
          "data": {
            "text/plain": [
              "array([100, 101,   2,   3,   4,   5,  12,  14,  16,  18])"
            ]
          },
          "execution_count": 135,
          "metadata": {},
          "output_type": "execute_result"
        }
      ],
      "source": [
        "# 100, 101, 2, 3, 4, 5, 12, 14, 16, 18\n",
        "# 2 미만 +100\n",
        "# 5 초과 x2\n",
        "\n",
        "# 조건식과 대응되는 결과를 리스트로 만들기\n",
        "cond_list = [arr > 5, arr < 2]\n",
        "choice_list = [arr * 2, arr + 100]\n",
        "\n",
        "np.select(cond_list, choice_list, default = arr)"
      ]
    },
    {
      "cell_type": "markdown",
      "id": "46dfc4b1-21d7-4f08-a376-1d353e36d18d",
      "metadata": {
        "id": "46dfc4b1-21d7-4f08-a376-1d353e36d18d"
      },
      "source": [
        "## NumPy 수치연산 (저수준) 라이브러리\n",
        "- 문과생 : NumPy의 수치연산 개념이 pandas, scipy, scikit-learn, tensorflow, pytorch에 영향을 주었다.\n",
        "- 이공계 : 수치연산 알고리즘 구현하는 것을 기대, 각 연산의 종류 선형대수, 주요 메서드들에 좀 더 깊은 공부 필요"
      ]
    }
  ],
  "metadata": {
    "kernelspec": {
      "display_name": "myenv",
      "language": "python",
      "name": "myenv"
    },
    "language_info": {
      "codemirror_mode": {
        "name": "ipython",
        "version": 3
      },
      "file_extension": ".py",
      "mimetype": "text/x-python",
      "name": "python",
      "nbconvert_exporter": "python",
      "pygments_lexer": "ipython3",
      "version": "3.10.13"
    },
    "colab": {
      "provenance": [],
      "include_colab_link": true
    }
  },
  "nbformat": 4,
  "nbformat_minor": 5
}