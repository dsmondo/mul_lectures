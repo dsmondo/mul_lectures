{
  "cells": [
    {
      "cell_type": "markdown",
      "metadata": {
        "id": "view-in-github",
        "colab_type": "text"
      },
      "source": [
        "<a href=\"https://colab.research.google.com/github/yewon91/mul_lectures/blob/main/NumPy_240103.ipynb\" target=\"_parent\"><img src=\"https://colab.research.google.com/assets/colab-badge.svg\" alt=\"Open In Colab\"/></a>"
      ]
    },
    {
      "cell_type": "markdown",
      "id": "31bbb277-3031-446a-bbc0-6dbb174c3f9a",
      "metadata": {
        "id": "31bbb277-3031-446a-bbc0-6dbb174c3f9a"
      },
      "source": [
        "## Numpy\n",
        " - 선형대수, 행렬, 수치연산과 관련된 라이브러리\n",
        " - 당연히 해야됨, 하지만 지금은 통계에 포커스\n",
        "\n",
        " - Numpy 기반으로 통계, 머신러닝 등 ==> 원리보다 응용, 결과 해석"
      ]
    },
    {
      "cell_type": "code",
      "execution_count": null,
      "id": "9141e9e6-c2b5-44b2-b5df-5a34284f7029",
      "metadata": {
        "id": "9141e9e6-c2b5-44b2-b5df-5a34284f7029",
        "outputId": "b619cd99-a1e8-4218-f36c-67158e606af1"
      },
      "outputs": [
        {
          "name": "stdout",
          "output_type": "stream",
          "text": [
            "1.26.2\n"
          ]
        }
      ],
      "source": [
        "import numpy as np\n",
        "print(np.__version__)"
      ]
    },
    {
      "cell_type": "code",
      "execution_count": null,
      "id": "d770c22b-7bdd-4a24-b72e-1f9a00e28d8a",
      "metadata": {
        "id": "d770c22b-7bdd-4a24-b72e-1f9a00e28d8a",
        "outputId": "6da682ef-c53d-46a9-9ee1-5e789c7b38ca"
      },
      "outputs": [
        {
          "ename": "ModuleNotFoundError",
          "evalue": "No module named 'streamlit'",
          "output_type": "error",
          "traceback": [
            "\u001b[1;31m---------------------------------------------------------------------------\u001b[0m",
            "\u001b[1;31mModuleNotFoundError\u001b[0m                       Traceback (most recent call last)",
            "Cell \u001b[1;32mIn[12], line 1\u001b[0m\n\u001b[1;32m----> 1\u001b[0m \u001b[38;5;28;01mimport\u001b[39;00m \u001b[38;5;21;01mstreamlit\u001b[39;00m \u001b[38;5;28;01mas\u001b[39;00m \u001b[38;5;21;01mst\u001b[39;00m\n\u001b[0;32m      3\u001b[0m \u001b[38;5;28mprint\u001b[39m(st\u001b[38;5;241m.\u001b[39m__version__)\n",
            "\u001b[1;31mModuleNotFoundError\u001b[0m: No module named 'streamlit'"
          ]
        }
      ],
      "source": [
        "import streamlit as st\n",
        "\n",
        "print(st.__version__)"
      ]
    },
    {
      "cell_type": "code",
      "execution_count": null,
      "id": "d040c064-d526-4c94-b892-66b526ff91be",
      "metadata": {
        "id": "d040c064-d526-4c94-b892-66b526ff91be",
        "outputId": "a000eef1-bea2-4875-daaa-8d61d5c5b133"
      },
      "outputs": [
        {
          "name": "stdout",
          "output_type": "stream",
          "text": [
            "Collecting streamlit\n",
            "  Downloading streamlit-1.29.0-py2.py3-none-any.whl.metadata (8.2 kB)\n",
            "Collecting altair<6,>=4.0 (from streamlit)\n",
            "  Downloading altair-5.2.0-py3-none-any.whl.metadata (8.7 kB)\n",
            "Collecting blinker<2,>=1.0.0 (from streamlit)\n",
            "  Downloading blinker-1.7.0-py3-none-any.whl.metadata (1.9 kB)\n",
            "Collecting cachetools<6,>=4.0 (from streamlit)\n",
            "  Downloading cachetools-5.3.2-py3-none-any.whl.metadata (5.2 kB)\n",
            "Collecting click<9,>=7.0 (from streamlit)\n",
            "  Downloading click-8.1.7-py3-none-any.whl.metadata (3.0 kB)\n",
            "Collecting importlib-metadata<7,>=1.4 (from streamlit)\n",
            "  Downloading importlib_metadata-6.11.0-py3-none-any.whl.metadata (4.9 kB)\n",
            "Requirement already satisfied: numpy<2,>=1.19.3 in c:\\users\\yewon\\desktop\\projectds\\venv\\lib\\site-packages (from streamlit) (1.26.2)\n",
            "Requirement already satisfied: packaging<24,>=16.8 in c:\\users\\yewon\\desktop\\projectds\\venv\\lib\\site-packages (from streamlit) (23.2)\n",
            "Requirement already satisfied: pandas<3,>=1.3.0 in c:\\users\\yewon\\desktop\\projectds\\venv\\lib\\site-packages (from streamlit) (2.1.4)\n",
            "Collecting pillow<11,>=7.1.0 (from streamlit)\n",
            "  Downloading pillow-10.2.0-cp311-cp311-win_amd64.whl.metadata (9.9 kB)\n",
            "Collecting protobuf<5,>=3.20 (from streamlit)\n",
            "  Downloading protobuf-4.25.1-cp310-abi3-win_amd64.whl.metadata (541 bytes)\n",
            "Collecting pyarrow>=6.0 (from streamlit)\n",
            "  Downloading pyarrow-14.0.2-cp311-cp311-win_amd64.whl.metadata (3.1 kB)\n",
            "Requirement already satisfied: python-dateutil<3,>=2.7.3 in c:\\users\\yewon\\desktop\\projectds\\venv\\lib\\site-packages (from streamlit) (2.8.2)\n",
            "Requirement already satisfied: requests<3,>=2.27 in c:\\users\\yewon\\desktop\\projectds\\venv\\lib\\site-packages (from streamlit) (2.31.0)\n",
            "Collecting rich<14,>=10.14.0 (from streamlit)\n",
            "  Downloading rich-13.7.0-py3-none-any.whl.metadata (18 kB)\n",
            "Collecting tenacity<9,>=8.1.0 (from streamlit)\n",
            "  Downloading tenacity-8.2.3-py3-none-any.whl.metadata (1.0 kB)\n",
            "Collecting toml<2,>=0.10.1 (from streamlit)\n",
            "  Downloading toml-0.10.2-py2.py3-none-any.whl (16 kB)\n",
            "Collecting typing-extensions<5,>=4.3.0 (from streamlit)\n",
            "  Downloading typing_extensions-4.9.0-py3-none-any.whl.metadata (3.0 kB)\n",
            "Collecting tzlocal<6,>=1.1 (from streamlit)\n",
            "  Downloading tzlocal-5.2-py3-none-any.whl.metadata (7.8 kB)\n",
            "Collecting validators<1,>=0.2 (from streamlit)\n",
            "  Downloading validators-0.22.0-py3-none-any.whl.metadata (4.7 kB)\n",
            "Collecting gitpython!=3.1.19,<4,>=3.0.7 (from streamlit)\n",
            "  Downloading GitPython-3.1.40-py3-none-any.whl.metadata (12 kB)\n",
            "Collecting pydeck<1,>=0.8.0b4 (from streamlit)\n",
            "  Downloading pydeck-0.8.1b0-py2.py3-none-any.whl (4.8 MB)\n",
            "     ---------------------------------------- 0.0/4.8 MB ? eta -:--:--\n",
            "     - -------------------------------------- 0.2/4.8 MB 4.5 MB/s eta 0:00:02\n",
            "     --- ------------------------------------ 0.4/4.8 MB 4.9 MB/s eta 0:00:01\n",
            "     ----- ---------------------------------- 0.6/4.8 MB 5.6 MB/s eta 0:00:01\n",
            "     ------- -------------------------------- 0.9/4.8 MB 5.4 MB/s eta 0:00:01\n",
            "     ---------- ----------------------------- 1.2/4.8 MB 5.5 MB/s eta 0:00:01\n",
            "     ------------ --------------------------- 1.5/4.8 MB 5.9 MB/s eta 0:00:01\n",
            "     ------------ --------------------------- 1.5/4.8 MB 5.1 MB/s eta 0:00:01\n",
            "     --------------- ------------------------ 1.9/4.8 MB 5.2 MB/s eta 0:00:01\n",
            "     ------------------- -------------------- 2.3/4.8 MB 5.6 MB/s eta 0:00:01\n",
            "     ---------------------- ----------------- 2.7/4.8 MB 5.9 MB/s eta 0:00:01\n",
            "     ------------------------- -------------- 3.1/4.8 MB 6.1 MB/s eta 0:00:01\n",
            "     --------------------------- ------------ 3.3/4.8 MB 6.1 MB/s eta 0:00:01\n",
            "     ------------------------------- -------- 3.7/4.8 MB 6.3 MB/s eta 0:00:01\n",
            "     --------------------------------- ------ 4.0/4.8 MB 6.4 MB/s eta 0:00:01\n",
            "     ------------------------------------- -- 4.5/4.8 MB 6.5 MB/s eta 0:00:01\n",
            "     ---------------------------------------  4.8/4.8 MB 6.5 MB/s eta 0:00:01\n",
            "     ---------------------------------------- 4.8/4.8 MB 6.4 MB/s eta 0:00:00\n",
            "Requirement already satisfied: tornado<7,>=6.0.3 in c:\\users\\yewon\\desktop\\projectds\\venv\\lib\\site-packages (from streamlit) (6.4)\n",
            "Collecting watchdog>=2.1.5 (from streamlit)\n",
            "  Downloading watchdog-3.0.0-py3-none-win_amd64.whl (82 kB)\n",
            "     ---------------------------------------- 0.0/82.0 kB ? eta -:--:--\n",
            "     ---------------------------------------- 82.0/82.0 kB 4.5 MB/s eta 0:00:00\n",
            "Requirement already satisfied: jinja2 in c:\\users\\yewon\\desktop\\projectds\\venv\\lib\\site-packages (from altair<6,>=4.0->streamlit) (3.1.2)\n",
            "Requirement already satisfied: jsonschema>=3.0 in c:\\users\\yewon\\desktop\\projectds\\venv\\lib\\site-packages (from altair<6,>=4.0->streamlit) (4.20.0)\n",
            "Collecting toolz (from altair<6,>=4.0->streamlit)\n",
            "  Downloading toolz-0.12.0-py3-none-any.whl (55 kB)\n",
            "     ---------------------------------------- 0.0/55.8 kB ? eta -:--:--\n",
            "     ---------------------------------------- 55.8/55.8 kB 2.8 MB/s eta 0:00:00\n",
            "Requirement already satisfied: colorama in c:\\users\\yewon\\desktop\\projectds\\venv\\lib\\site-packages (from click<9,>=7.0->streamlit) (0.4.6)\n",
            "Collecting gitdb<5,>=4.0.1 (from gitpython!=3.1.19,<4,>=3.0.7->streamlit)\n",
            "  Downloading gitdb-4.0.11-py3-none-any.whl.metadata (1.2 kB)\n",
            "Collecting zipp>=0.5 (from importlib-metadata<7,>=1.4->streamlit)\n",
            "  Downloading zipp-3.17.0-py3-none-any.whl.metadata (3.7 kB)\n",
            "Requirement already satisfied: pytz>=2020.1 in c:\\users\\yewon\\desktop\\projectds\\venv\\lib\\site-packages (from pandas<3,>=1.3.0->streamlit) (2023.3.post1)\n",
            "Requirement already satisfied: tzdata>=2022.1 in c:\\users\\yewon\\desktop\\projectds\\venv\\lib\\site-packages (from pandas<3,>=1.3.0->streamlit) (2023.4)\n",
            "Requirement already satisfied: six>=1.5 in c:\\users\\yewon\\desktop\\projectds\\venv\\lib\\site-packages (from python-dateutil<3,>=2.7.3->streamlit) (1.16.0)\n",
            "Requirement already satisfied: charset-normalizer<4,>=2 in c:\\users\\yewon\\desktop\\projectds\\venv\\lib\\site-packages (from requests<3,>=2.27->streamlit) (3.3.2)\n",
            "Requirement already satisfied: idna<4,>=2.5 in c:\\users\\yewon\\desktop\\projectds\\venv\\lib\\site-packages (from requests<3,>=2.27->streamlit) (3.6)\n",
            "Requirement already satisfied: urllib3<3,>=1.21.1 in c:\\users\\yewon\\desktop\\projectds\\venv\\lib\\site-packages (from requests<3,>=2.27->streamlit) (2.1.0)\n",
            "Requirement already satisfied: certifi>=2017.4.17 in c:\\users\\yewon\\desktop\\projectds\\venv\\lib\\site-packages (from requests<3,>=2.27->streamlit) (2023.11.17)\n",
            "Collecting markdown-it-py>=2.2.0 (from rich<14,>=10.14.0->streamlit)\n",
            "  Downloading markdown_it_py-3.0.0-py3-none-any.whl.metadata (6.9 kB)\n",
            "Requirement already satisfied: pygments<3.0.0,>=2.13.0 in c:\\users\\yewon\\desktop\\projectds\\venv\\lib\\site-packages (from rich<14,>=10.14.0->streamlit) (2.17.2)\n",
            "Collecting smmap<6,>=3.0.1 (from gitdb<5,>=4.0.1->gitpython!=3.1.19,<4,>=3.0.7->streamlit)\n",
            "  Downloading smmap-5.0.1-py3-none-any.whl.metadata (4.3 kB)\n",
            "Requirement already satisfied: MarkupSafe>=2.0 in c:\\users\\yewon\\desktop\\projectds\\venv\\lib\\site-packages (from jinja2->altair<6,>=4.0->streamlit) (2.1.3)\n",
            "Requirement already satisfied: attrs>=22.2.0 in c:\\users\\yewon\\desktop\\projectds\\venv\\lib\\site-packages (from jsonschema>=3.0->altair<6,>=4.0->streamlit) (23.2.0)\n",
            "Requirement already satisfied: jsonschema-specifications>=2023.03.6 in c:\\users\\yewon\\desktop\\projectds\\venv\\lib\\site-packages (from jsonschema>=3.0->altair<6,>=4.0->streamlit) (2023.12.1)\n",
            "Requirement already satisfied: referencing>=0.28.4 in c:\\users\\yewon\\desktop\\projectds\\venv\\lib\\site-packages (from jsonschema>=3.0->altair<6,>=4.0->streamlit) (0.32.0)\n",
            "Requirement already satisfied: rpds-py>=0.7.1 in c:\\users\\yewon\\desktop\\projectds\\venv\\lib\\site-packages (from jsonschema>=3.0->altair<6,>=4.0->streamlit) (0.16.2)\n",
            "Collecting mdurl~=0.1 (from markdown-it-py>=2.2.0->rich<14,>=10.14.0->streamlit)\n",
            "  Downloading mdurl-0.1.2-py3-none-any.whl (10.0 kB)\n",
            "Downloading streamlit-1.29.0-py2.py3-none-any.whl (8.4 MB)\n",
            "   ---------------------------------------- 0.0/8.4 MB ? eta -:--:--\n",
            "   - -------------------------------------- 0.4/8.4 MB 11.9 MB/s eta 0:00:01\n",
            "   --- ------------------------------------ 0.8/8.4 MB 8.3 MB/s eta 0:00:01\n",
            "   ----- ---------------------------------- 1.2/8.4 MB 9.6 MB/s eta 0:00:01\n",
            "   ------- -------------------------------- 1.6/8.4 MB 9.0 MB/s eta 0:00:01\n",
            "   ---------- ----------------------------- 2.1/8.4 MB 9.6 MB/s eta 0:00:01\n",
            "   ----------- ---------------------------- 2.5/8.4 MB 9.4 MB/s eta 0:00:01\n",
            "   -------------- ------------------------- 3.0/8.4 MB 9.7 MB/s eta 0:00:01\n",
            "   ---------------- ----------------------- 3.5/8.4 MB 9.7 MB/s eta 0:00:01\n",
            "   ------------------- -------------------- 4.0/8.4 MB 9.8 MB/s eta 0:00:01\n",
            "   --------------------- ------------------ 4.5/8.4 MB 9.9 MB/s eta 0:00:01\n",
            "   ----------------------- ---------------- 4.9/8.4 MB 9.7 MB/s eta 0:00:01\n",
            "   ------------------------- -------------- 5.3/8.4 MB 9.6 MB/s eta 0:00:01\n",
            "   --------------------------- ------------ 5.7/8.4 MB 9.5 MB/s eta 0:00:01\n",
            "   ---------------------------- ----------- 6.1/8.4 MB 9.7 MB/s eta 0:00:01\n",
            "   ------------------------------ --------- 6.4/8.4 MB 9.3 MB/s eta 0:00:01\n",
            "   --------------------------------- ------ 7.0/8.4 MB 9.6 MB/s eta 0:00:01\n",
            "   ---------------------------------- ----- 7.3/8.4 MB 9.7 MB/s eta 0:00:01\n",
            "   ------------------------------------- -- 7.8/8.4 MB 9.6 MB/s eta 0:00:01\n",
            "   -------------------------------------- - 8.2/8.4 MB 9.5 MB/s eta 0:00:01\n",
            "   ---------------------------------------- 8.4/8.4 MB 9.2 MB/s eta 0:00:00\n",
            "Downloading altair-5.2.0-py3-none-any.whl (996 kB)\n",
            "   ---------------------------------------- 0.0/996.9 kB ? eta -:--:--\n",
            "   ----------- ---------------------------- 297.0/996.9 kB 9.2 MB/s eta 0:00:01\n",
            "   ----------------------- ---------------- 583.7/996.9 kB 7.4 MB/s eta 0:00:01\n",
            "   ---------------------------------------- 996.9/996.9 kB 7.9 MB/s eta 0:00:00\n",
            "Downloading blinker-1.7.0-py3-none-any.whl (13 kB)\n",
            "Downloading cachetools-5.3.2-py3-none-any.whl (9.3 kB)\n",
            "Downloading click-8.1.7-py3-none-any.whl (97 kB)\n",
            "   ---------------------------------------- 0.0/97.9 kB ? eta -:--:--\n",
            "   ---------------------------------------- 97.9/97.9 kB 2.8 MB/s eta 0:00:00\n",
            "Downloading GitPython-3.1.40-py3-none-any.whl (190 kB)\n",
            "   ---------------------------------------- 0.0/190.6 kB ? eta -:--:--\n",
            "   --------------------------------------- 190.6/190.6 kB 11.3 MB/s eta 0:00:00\n",
            "Downloading importlib_metadata-6.11.0-py3-none-any.whl (23 kB)\n",
            "Downloading pillow-10.2.0-cp311-cp311-win_amd64.whl (2.6 MB)\n",
            "   ---------------------------------------- 0.0/2.6 MB ? eta -:--:--\n",
            "   ----- ---------------------------------- 0.3/2.6 MB 10.2 MB/s eta 0:00:01\n",
            "   ----------- ---------------------------- 0.8/2.6 MB 8.0 MB/s eta 0:00:01\n",
            "   ------------------- -------------------- 1.3/2.6 MB 9.1 MB/s eta 0:00:01\n",
            "   ----------------------- ---------------- 1.6/2.6 MB 8.3 MB/s eta 0:00:01\n",
            "   --------------------------- ------------ 1.8/2.6 MB 8.8 MB/s eta 0:00:01\n",
            "   ------------------------------------ --- 2.4/2.6 MB 9.0 MB/s eta 0:00:01\n",
            "   ---------------------------------------- 2.6/2.6 MB 8.4 MB/s eta 0:00:00\n",
            "Downloading protobuf-4.25.1-cp310-abi3-win_amd64.whl (413 kB)\n",
            "   ---------------------------------------- 0.0/413.4 kB ? eta -:--:--\n",
            "   ------------------------------------ --- 378.9/413.4 kB 7.8 MB/s eta 0:00:01\n",
            "   ---------------------------------------- 413.4/413.4 kB 8.6 MB/s eta 0:00:00\n",
            "Downloading pyarrow-14.0.2-cp311-cp311-win_amd64.whl (24.6 MB)\n",
            "   ---------------------------------------- 0.0/24.6 MB ? eta -:--:--\n",
            "    --------------------------------------- 0.5/24.6 MB 11.1 MB/s eta 0:00:03\n",
            "   - -------------------------------------- 0.8/24.6 MB 8.8 MB/s eta 0:00:03\n",
            "   -- ------------------------------------- 1.3/24.6 MB 9.0 MB/s eta 0:00:03\n",
            "   -- ------------------------------------- 1.7/24.6 MB 9.2 MB/s eta 0:00:03\n",
            "   --- ------------------------------------ 1.9/24.6 MB 9.1 MB/s eta 0:00:03\n",
            "   --- ------------------------------------ 2.4/24.6 MB 8.5 MB/s eta 0:00:03\n",
            "   ---- ----------------------------------- 2.9/24.6 MB 8.7 MB/s eta 0:00:03\n",
            "   ----- ---------------------------------- 3.2/24.6 MB 8.6 MB/s eta 0:00:03\n",
            "   ----- ---------------------------------- 3.7/24.6 MB 8.7 MB/s eta 0:00:03\n",
            "   ------ --------------------------------- 4.0/24.6 MB 8.9 MB/s eta 0:00:03\n",
            "   ------- -------------------------------- 4.4/24.6 MB 8.5 MB/s eta 0:00:03\n",
            "   ------- -------------------------------- 4.8/24.6 MB 8.8 MB/s eta 0:00:03\n",
            "   -------- ------------------------------- 5.2/24.6 MB 8.8 MB/s eta 0:00:03\n",
            "   --------- ------------------------------ 5.6/24.6 MB 8.7 MB/s eta 0:00:03\n",
            "   --------- ------------------------------ 5.9/24.6 MB 8.6 MB/s eta 0:00:03\n",
            "   ---------- ----------------------------- 6.3/24.6 MB 8.6 MB/s eta 0:00:03\n",
            "   ---------- ----------------------------- 6.6/24.6 MB 8.4 MB/s eta 0:00:03\n",
            "   ----------- ---------------------------- 6.9/24.6 MB 8.3 MB/s eta 0:00:03\n",
            "   ------------ --------------------------- 7.4/24.6 MB 8.4 MB/s eta 0:00:03\n",
            "   ------------ --------------------------- 7.5/24.6 MB 8.2 MB/s eta 0:00:03\n",
            "   ------------- -------------------------- 8.0/24.6 MB 8.3 MB/s eta 0:00:02\n",
            "   ------------- -------------------------- 8.5/24.6 MB 8.5 MB/s eta 0:00:02\n",
            "   -------------- ------------------------- 8.9/24.6 MB 8.4 MB/s eta 0:00:02\n",
            "   --------------- ------------------------ 9.3/24.6 MB 8.4 MB/s eta 0:00:02\n",
            "   --------------- ------------------------ 9.7/24.6 MB 8.5 MB/s eta 0:00:02\n",
            "   ---------------- ----------------------- 10.1/24.6 MB 8.5 MB/s eta 0:00:02\n",
            "   ---------------- ----------------------- 10.3/24.6 MB 8.4 MB/s eta 0:00:02\n",
            "   ----------------- ---------------------- 10.8/24.6 MB 8.4 MB/s eta 0:00:02\n",
            "   ------------------ --------------------- 11.1/24.6 MB 8.4 MB/s eta 0:00:02\n",
            "   ------------------ --------------------- 11.3/24.6 MB 8.2 MB/s eta 0:00:02\n",
            "   ------------------- -------------------- 11.7/24.6 MB 8.1 MB/s eta 0:00:02\n",
            "   ------------------- -------------------- 12.0/24.6 MB 8.1 MB/s eta 0:00:02\n",
            "   -------------------- ------------------- 12.4/24.6 MB 8.2 MB/s eta 0:00:02\n",
            "   -------------------- ------------------- 12.7/24.6 MB 8.0 MB/s eta 0:00:02\n",
            "   --------------------- ------------------ 13.2/24.6 MB 8.1 MB/s eta 0:00:02\n",
            "   --------------------- ------------------ 13.5/24.6 MB 8.0 MB/s eta 0:00:02\n",
            "   ----------------------- ---------------- 14.2/24.6 MB 8.2 MB/s eta 0:00:02\n",
            "   ----------------------- ---------------- 14.5/24.6 MB 8.2 MB/s eta 0:00:02\n",
            "   ------------------------ --------------- 15.0/24.6 MB 8.2 MB/s eta 0:00:02\n",
            "   ------------------------- -------------- 15.4/24.6 MB 8.3 MB/s eta 0:00:02\n",
            "   ------------------------- -------------- 15.7/24.6 MB 8.3 MB/s eta 0:00:02\n",
            "   -------------------------- ------------- 16.4/24.6 MB 8.5 MB/s eta 0:00:01\n",
            "   --------------------------- ------------ 16.8/24.6 MB 8.7 MB/s eta 0:00:01\n",
            "   ---------------------------- ----------- 17.4/24.6 MB 8.8 MB/s eta 0:00:01\n",
            "   ---------------------------- ----------- 17.8/24.6 MB 9.0 MB/s eta 0:00:01\n",
            "   ----------------------------- ---------- 18.2/24.6 MB 9.0 MB/s eta 0:00:01\n",
            "   ------------------------------ --------- 18.6/24.6 MB 8.8 MB/s eta 0:00:01\n",
            "   ------------------------------- -------- 19.1/24.6 MB 9.0 MB/s eta 0:00:01\n",
            "   ------------------------------- -------- 19.5/24.6 MB 9.0 MB/s eta 0:00:01\n",
            "   -------------------------------- ------- 19.9/24.6 MB 8.8 MB/s eta 0:00:01\n",
            "   --------------------------------- ------ 20.5/24.6 MB 9.2 MB/s eta 0:00:01\n",
            "   --------------------------------- ------ 20.8/24.6 MB 9.2 MB/s eta 0:00:01\n",
            "   ---------------------------------- ----- 21.2/24.6 MB 9.1 MB/s eta 0:00:01\n",
            "   ----------------------------------- ---- 21.6/24.6 MB 9.4 MB/s eta 0:00:01\n",
            "   ----------------------------------- ---- 21.9/24.6 MB 9.2 MB/s eta 0:00:01\n",
            "   ------------------------------------ --- 22.3/24.6 MB 9.5 MB/s eta 0:00:01\n",
            "   ------------------------------------- -- 22.8/24.6 MB 9.6 MB/s eta 0:00:01\n",
            "   ------------------------------------- -- 23.2/24.6 MB 9.6 MB/s eta 0:00:01\n",
            "   -------------------------------------- - 23.6/24.6 MB 9.5 MB/s eta 0:00:01\n",
            "   -------------------------------------- - 23.9/24.6 MB 9.4 MB/s eta 0:00:01\n",
            "   ---------------------------------------  24.3/24.6 MB 9.2 MB/s eta 0:00:01\n",
            "   ---------------------------------------  24.6/24.6 MB 9.4 MB/s eta 0:00:01\n",
            "   ---------------------------------------  24.6/24.6 MB 9.4 MB/s eta 0:00:01\n",
            "   ---------------------------------------  24.6/24.6 MB 9.4 MB/s eta 0:00:01\n",
            "   ---------------------------------------- 24.6/24.6 MB 8.5 MB/s eta 0:00:00\n",
            "Downloading rich-13.7.0-py3-none-any.whl (240 kB)\n",
            "   ---------------------------------------- 0.0/240.6 kB ? eta -:--:--\n",
            "   ---------------------------------------- 240.6/240.6 kB 4.9 MB/s eta 0:00:00\n",
            "Downloading tenacity-8.2.3-py3-none-any.whl (24 kB)\n",
            "Downloading typing_extensions-4.9.0-py3-none-any.whl (32 kB)\n",
            "Downloading tzlocal-5.2-py3-none-any.whl (17 kB)\n",
            "Downloading validators-0.22.0-py3-none-any.whl (26 kB)\n",
            "Downloading gitdb-4.0.11-py3-none-any.whl (62 kB)\n",
            "   ---------------------------------------- 0.0/62.7 kB ? eta -:--:--\n",
            "   ---------------------------------------- 62.7/62.7 kB 3.5 MB/s eta 0:00:00\n",
            "Downloading markdown_it_py-3.0.0-py3-none-any.whl (87 kB)\n",
            "   ---------------------------------------- 0.0/87.5 kB ? eta -:--:--\n",
            "   ---------------------------------------- 87.5/87.5 kB 5.2 MB/s eta 0:00:00\n",
            "Downloading zipp-3.17.0-py3-none-any.whl (7.4 kB)\n",
            "Downloading smmap-5.0.1-py3-none-any.whl (24 kB)\n",
            "Installing collected packages: zipp, watchdog, validators, tzlocal, typing-extensions, toolz, toml, tenacity, smmap, pyarrow, protobuf, pillow, mdurl, click, cachetools, blinker, pydeck, markdown-it-py, importlib-metadata, gitdb, rich, gitpython, altair, streamlit\n",
            "Successfully installed altair-5.2.0 blinker-1.7.0 cachetools-5.3.2 click-8.1.7 gitdb-4.0.11 gitpython-3.1.40 importlib-metadata-6.11.0 markdown-it-py-3.0.0 mdurl-0.1.2 pillow-10.2.0 protobuf-4.25.1 pyarrow-14.0.2 pydeck-0.8.1b0 rich-13.7.0 smmap-5.0.1 streamlit-1.29.0 tenacity-8.2.3 toml-0.10.2 toolz-0.12.0 typing-extensions-4.9.0 tzlocal-5.2 validators-0.22.0 watchdog-3.0.0 zipp-3.17.0\n"
          ]
        },
        {
          "name": "stderr",
          "output_type": "stream",
          "text": [
            "\n",
            "[notice] A new release of pip is available: 23.3.1 -> 23.3.2\n",
            "[notice] To update, run: python.exe -m pip install --upgrade pip\n"
          ]
        }
      ],
      "source": [
        "!pip install streamlit"
      ]
    },
    {
      "cell_type": "code",
      "execution_count": null,
      "id": "d705e925-11ea-4dca-971d-86918817333c",
      "metadata": {
        "id": "d705e925-11ea-4dca-971d-86918817333c",
        "outputId": "208f286d-5a90-406c-82f8-a729ea3414eb"
      },
      "outputs": [
        {
          "data": {
            "text/plain": [
              "[1, 2, 3, 4, 3, 4, 5, 6]"
            ]
          },
          "execution_count": 6,
          "metadata": {},
          "output_type": "execute_result"
        }
      ],
      "source": [
        "num1 = [1,2,3,4]\n",
        "num2 = [3,4,5,6]\n",
        "\n",
        "num1+num2"
      ]
    },
    {
      "cell_type": "code",
      "execution_count": null,
      "id": "6bb4e12e-afda-4a2e-9130-1b00f53db8e7",
      "metadata": {
        "id": "6bb4e12e-afda-4a2e-9130-1b00f53db8e7",
        "outputId": "d52f16ee-936c-411e-9f9c-1bd19ddfb7a8"
      },
      "outputs": [
        {
          "data": {
            "text/plain": [
              "array([1, 2, 3, 4])"
            ]
          },
          "execution_count": 7,
          "metadata": {},
          "output_type": "execute_result"
        }
      ],
      "source": [
        "arr1 = np.array(num1)\n",
        "arr2 = np.array(num2)\n",
        "arr1"
      ]
    },
    {
      "cell_type": "code",
      "execution_count": null,
      "id": "6808d011-e268-4046-8619-9e5bb59561d0",
      "metadata": {
        "id": "6808d011-e268-4046-8619-9e5bb59561d0",
        "outputId": "537eb533-e00f-4339-8a02-1be7f9a750ff"
      },
      "outputs": [
        {
          "data": {
            "text/plain": [
              "array([3, 4, 5, 6])"
            ]
          },
          "execution_count": 8,
          "metadata": {},
          "output_type": "execute_result"
        }
      ],
      "source": [
        "arr2"
      ]
    },
    {
      "cell_type": "code",
      "execution_count": null,
      "id": "7ec658a3-301f-4930-b0a3-e784cf3ce414",
      "metadata": {
        "id": "7ec658a3-301f-4930-b0a3-e784cf3ce414",
        "outputId": "434a51fa-b370-4576-c206-a4e705c00d54"
      },
      "outputs": [
        {
          "data": {
            "text/plain": [
              "array([ 4,  6,  8, 10])"
            ]
          },
          "execution_count": 9,
          "metadata": {},
          "output_type": "execute_result"
        }
      ],
      "source": [
        "arr1 + arr2"
      ]
    },
    {
      "cell_type": "code",
      "execution_count": null,
      "id": "14ad395c-312d-411c-9b53-957b0ef4e8a1",
      "metadata": {
        "id": "14ad395c-312d-411c-9b53-957b0ef4e8a1",
        "outputId": "e867ad7c-a7f2-48cd-94d1-3535bac628f7"
      },
      "outputs": [
        {
          "data": {
            "text/plain": [
              "array([0, 1, 2, 3, 4, 5])"
            ]
          },
          "execution_count": 10,
          "metadata": {},
          "output_type": "execute_result"
        }
      ],
      "source": [
        "data1 = [0,1,2,3,4,5]\n",
        "a1 = np.array(data1)\n",
        "a1"
      ]
    },
    {
      "cell_type": "code",
      "execution_count": null,
      "id": "d8f7b465-b92f-4b4d-a244-4d51cb0f541a",
      "metadata": {
        "id": "d8f7b465-b92f-4b4d-a244-4d51cb0f541a",
        "outputId": "0845b745-584a-4d5b-b3d0-b779b39afc7d"
      },
      "outputs": [
        {
          "data": {
            "text/plain": [
              "dtype('int32')"
            ]
          },
          "execution_count": 11,
          "metadata": {},
          "output_type": "execute_result"
        }
      ],
      "source": [
        "a1.dtype # Numpy int8, int16, int32, int64 => 메모리관리"
      ]
    },
    {
      "cell_type": "code",
      "execution_count": null,
      "id": "39abba87-fa86-455a-bb00-35c3e1350cba",
      "metadata": {
        "scrolled": true,
        "id": "39abba87-fa86-455a-bb00-35c3e1350cba",
        "outputId": "3e90df6e-5ec4-4b61-ccde-1e7a896609f1"
      },
      "outputs": [
        {
          "data": {
            "text/plain": [
              "dtype('float64')"
            ]
          },
          "execution_count": 13,
          "metadata": {},
          "output_type": "execute_result"
        }
      ],
      "source": [
        "np.array([0.5,2,0.01,8]).dtype"
      ]
    },
    {
      "cell_type": "markdown",
      "id": "e5b0887c-754d-40c4-8c36-08964053c0ce",
      "metadata": {
        "id": "e5b0887c-754d-40c4-8c36-08964053c0ce"
      },
      "source": [
        "## Numpy 배열 생성\n",
        "- 1차원, 2차원, 3차원.. 배열 생성"
      ]
    },
    {
      "cell_type": "code",
      "execution_count": null,
      "id": "96694d95-8d68-4ab0-abf1-a9cfa14089b2",
      "metadata": {
        "id": "96694d95-8d68-4ab0-abf1-a9cfa14089b2",
        "outputId": "af00a2dc-4f03-49e5-cd62-1586baf2ab7f"
      },
      "outputs": [
        {
          "data": {
            "text/plain": [
              "array([0, 2, 4, 6, 8])"
            ]
          },
          "execution_count": 17,
          "metadata": {},
          "output_type": "execute_result"
        }
      ],
      "source": [
        "np.arange(0, 10, 2)"
      ]
    },
    {
      "cell_type": "code",
      "execution_count": null,
      "id": "cf8fab2f-c1b3-462e-a7b7-f8acdcc41eaa",
      "metadata": {
        "id": "cf8fab2f-c1b3-462e-a7b7-f8acdcc41eaa",
        "outputId": "3bf2eb30-0783-419d-e1e5-0a1d87904ce8"
      },
      "outputs": [
        {
          "data": {
            "text/plain": [
              "array([0, 1, 2, 3, 4, 5, 6, 7, 8, 9])"
            ]
          },
          "execution_count": 18,
          "metadata": {},
          "output_type": "execute_result"
        }
      ],
      "source": [
        "np.arange(10)"
      ]
    },
    {
      "cell_type": "code",
      "execution_count": null,
      "id": "cd0d8245-1a02-4a1c-81c6-eadbbdeecc8b",
      "metadata": {
        "id": "cd0d8245-1a02-4a1c-81c6-eadbbdeecc8b",
        "outputId": "492c94c5-279e-4131-d392-9411e64a819f"
      },
      "outputs": [
        {
          "data": {
            "text/plain": [
              "array([[ 0,  1,  2],\n",
              "       [ 3,  4,  5],\n",
              "       [ 6,  7,  8],\n",
              "       [ 9, 10, 11]])"
            ]
          },
          "execution_count": 21,
          "metadata": {},
          "output_type": "execute_result"
        }
      ],
      "source": [
        "np.arange(12).reshape(4, 3)"
      ]
    },
    {
      "cell_type": "code",
      "execution_count": null,
      "id": "0a47ea0f-6eff-4b7e-a013-2ff0497d0f40",
      "metadata": {
        "id": "0a47ea0f-6eff-4b7e-a013-2ff0497d0f40",
        "outputId": "8ea4d967-e4c9-489f-e2a7-97de54f24a0e"
      },
      "outputs": [
        {
          "data": {
            "text/plain": [
              "array([[[ 0,  1,  2]],\n",
              "\n",
              "       [[ 3,  4,  5]],\n",
              "\n",
              "       [[ 6,  7,  8]],\n",
              "\n",
              "       [[ 9, 10, 11]]])"
            ]
          },
          "execution_count": 22,
          "metadata": {},
          "output_type": "execute_result"
        }
      ],
      "source": [
        "np.arange(12).reshape(4, 1, 3)"
      ]
    },
    {
      "cell_type": "code",
      "execution_count": null,
      "id": "341cd46b-fbcb-4c30-9410-e520c314a633",
      "metadata": {
        "id": "341cd46b-fbcb-4c30-9410-e520c314a633",
        "outputId": "bd51a1e5-1c36-4ccf-fc8c-ec1d1a77a3d5"
      },
      "outputs": [
        {
          "data": {
            "text/plain": [
              "array([[[ 0,  1,  2],\n",
              "        [ 3,  4,  5]],\n",
              "\n",
              "       [[ 6,  7,  8],\n",
              "        [ 9, 10, 11]]])"
            ]
          },
          "execution_count": 23,
          "metadata": {},
          "output_type": "execute_result"
        }
      ],
      "source": [
        "np.arange(12).reshape(2, 2, 3)"
      ]
    },
    {
      "cell_type": "code",
      "execution_count": null,
      "id": "9542bf98-52be-40d9-aff6-cbefc1ba7e1f",
      "metadata": {
        "id": "9542bf98-52be-40d9-aff6-cbefc1ba7e1f",
        "outputId": "de38cc74-867f-45dd-be9e-494b4263ba51"
      },
      "outputs": [
        {
          "data": {
            "text/plain": [
              "(2, 2, 3)"
            ]
          },
          "execution_count": 24,
          "metadata": {},
          "output_type": "execute_result"
        }
      ],
      "source": [
        "b1 = np.arange(12).reshape(2, 2, 3)\n",
        "b1.shape # 출력값은 tuple형태"
      ]
    },
    {
      "cell_type": "code",
      "execution_count": null,
      "id": "e6f2c251-a2c6-4ebe-bbf0-bdf527fe92a3",
      "metadata": {
        "id": "e6f2c251-a2c6-4ebe-bbf0-bdf527fe92a3",
        "outputId": "c24a8b6a-de69-43d3-a5f7-56b89c25b03c"
      },
      "outputs": [
        {
          "data": {
            "text/plain": [
              "(5,)"
            ]
          },
          "execution_count": 25,
          "metadata": {},
          "output_type": "execute_result"
        }
      ],
      "source": [
        "b2 = np.arange(5)\n",
        "b2.shape"
      ]
    },
    {
      "cell_type": "code",
      "execution_count": null,
      "id": "c7da964a-d92b-4fc0-815f-b6d3d303f195",
      "metadata": {
        "id": "c7da964a-d92b-4fc0-815f-b6d3d303f195",
        "outputId": "f72de19a-b210-4fa8-994b-5000fed2878d"
      },
      "outputs": [
        {
          "data": {
            "text/plain": [
              "array([ 0.        ,  2.22222222,  4.44444444,  6.66666667,  8.88888889,\n",
              "       11.11111111, 13.33333333, 15.55555556, 17.77777778, 20.        ])"
            ]
          },
          "execution_count": 29,
          "metadata": {},
          "output_type": "execute_result"
        }
      ],
      "source": [
        "# 범위의 시작과 끝 정하기 배열 생성\n",
        "np.linspace(0, 20, 10)"
      ]
    },
    {
      "cell_type": "code",
      "execution_count": null,
      "id": "399d71f3-7424-4ede-ad20-1bbc6057b5cd",
      "metadata": {
        "id": "399d71f3-7424-4ede-ad20-1bbc6057b5cd",
        "outputId": "406cce62-f788-42a4-a484-2e35f6f76627"
      },
      "outputs": [
        {
          "data": {
            "text/plain": [
              "array([0.        , 0.16534698, 0.33069396, 0.49604095, 0.66138793,\n",
              "       0.82673491, 0.99208189, 1.15742887, 1.32277585, 1.48812284,\n",
              "       1.65346982, 1.8188168 , 1.98416378, 2.14951076, 2.31485774,\n",
              "       2.48020473, 2.64555171, 2.81089869, 2.97624567, 3.14159265])"
            ]
          },
          "execution_count": 30,
          "metadata": {},
          "output_type": "execute_result"
        }
      ],
      "source": [
        "np.linspace(0, np.pi, 20)"
      ]
    },
    {
      "cell_type": "code",
      "execution_count": null,
      "id": "59ba3edd-52e7-45e4-bd9d-ac616864b4e2",
      "metadata": {
        "id": "59ba3edd-52e7-45e4-bd9d-ac616864b4e2",
        "outputId": "98a2f740-0d5c-459e-9f06-33ceefdd63d2"
      },
      "outputs": [
        {
          "data": {
            "text/plain": [
              "array([[0., 0.],\n",
              "       [0., 0.]])"
            ]
          },
          "execution_count": 31,
          "metadata": {},
          "output_type": "execute_result"
        }
      ],
      "source": [
        "np.zeros((2,2))"
      ]
    },
    {
      "cell_type": "code",
      "execution_count": null,
      "id": "e0421c27-1c5c-429b-ab7d-7bf17f7efe90",
      "metadata": {
        "id": "e0421c27-1c5c-429b-ab7d-7bf17f7efe90",
        "outputId": "21fdea40-d42a-47d2-f783-eb25a090b3e4"
      },
      "outputs": [
        {
          "data": {
            "text/plain": [
              "array([1., 1., 1., 1., 1., 1., 1., 1., 1., 1.])"
            ]
          },
          "execution_count": 32,
          "metadata": {},
          "output_type": "execute_result"
        }
      ],
      "source": [
        "np.ones(10)"
      ]
    },
    {
      "cell_type": "code",
      "execution_count": null,
      "id": "c4e14dc6-4154-42a0-9350-cf32a9a8add2",
      "metadata": {
        "id": "c4e14dc6-4154-42a0-9350-cf32a9a8add2",
        "outputId": "f907060a-5189-4edb-b255-35f780466eb0"
      },
      "outputs": [
        {
          "data": {
            "text/plain": [
              "array([[1., 1.],\n",
              "       [1., 1.]])"
            ]
          },
          "execution_count": 33,
          "metadata": {},
          "output_type": "execute_result"
        }
      ],
      "source": [
        "np.ones((2,2))"
      ]
    },
    {
      "cell_type": "markdown",
      "id": "e3b92ae5-36d2-42d6-92b6-e3b6bd0edea4",
      "metadata": {
        "id": "e3b92ae5-36d2-42d6-92b6-e3b6bd0edea4"
      },
      "source": [
        "## Numpy 기초문법 배우는 이유\n",
        "- 문과생 : 데이터 분석가\n",
        "- 이공계 : 수치연산, 배열, 수식을 활용해서 문제 풀이\n",
        "  - 클래스, 딥러닝 클래스, NumPy 활용해서 딥러닝 알고리즘 적용, 클래스 & 라이브러리\n",
        "  - 밑바닥부터 시작하는 딥러닝3"
      ]
    },
    {
      "cell_type": "code",
      "execution_count": null,
      "id": "fb67c47f-b48a-4483-abdf-9f731a1cfed7",
      "metadata": {
        "id": "fb67c47f-b48a-4483-abdf-9f731a1cfed7",
        "outputId": "67ed4202-438b-49fc-f129-274db7654a06"
      },
      "outputs": [
        {
          "data": {
            "text/plain": [
              "array([[1., 0., 0.],\n",
              "       [0., 1., 0.],\n",
              "       [0., 0., 1.]])"
            ]
          },
          "execution_count": 34,
          "metadata": {},
          "output_type": "execute_result"
        }
      ],
      "source": [
        "# 단위행렬\n",
        "arr_I = np.eye(3)\n",
        "arr_I"
      ]
    },
    {
      "cell_type": "code",
      "execution_count": null,
      "id": "546e2a98-802b-4c59-93ee-67f10d397a5c",
      "metadata": {
        "id": "546e2a98-802b-4c59-93ee-67f10d397a5c",
        "outputId": "afb635aa-8543-4f2a-f898-a672057c02fa"
      },
      "outputs": [
        {
          "data": {
            "text/plain": [
              "(3, 3)"
            ]
          },
          "execution_count": 35,
          "metadata": {},
          "output_type": "execute_result"
        }
      ],
      "source": [
        "arr_I.shape"
      ]
    },
    {
      "cell_type": "code",
      "execution_count": null,
      "id": "17968f20-b9b5-4889-80ff-7e0e57731bf6",
      "metadata": {
        "id": "17968f20-b9b5-4889-80ff-7e0e57731bf6",
        "outputId": "f8cb1fdd-11b9-4360-a239-472c6afd11d3"
      },
      "outputs": [
        {
          "data": {
            "text/plain": [
              "array(['1,5', '0.62'], dtype='<U4')"
            ]
          },
          "execution_count": 36,
          "metadata": {},
          "output_type": "execute_result"
        }
      ],
      "source": [
        "np.array(['1.5', '0.62']) # 데이터 형변환"
      ]
    },
    {
      "cell_type": "code",
      "execution_count": null,
      "id": "9c23223b-207b-44a8-8f54-9c229ca9b848",
      "metadata": {
        "id": "9c23223b-207b-44a8-8f54-9c229ca9b848",
        "outputId": "2b8cdb7d-1513-4595-974e-064c794b8570"
      },
      "outputs": [
        {
          "data": {
            "text/plain": [
              "dtype('float64')"
            ]
          },
          "execution_count": 40,
          "metadata": {},
          "output_type": "execute_result"
        }
      ],
      "source": [
        "# astype() # pandas에서 사용가능\n",
        "arr = np.array(['1.5', '0.62'])\n",
        "num_arr = arr.astype(float)\n",
        "num_arr.dtype"
      ]
    },
    {
      "cell_type": "code",
      "execution_count": null,
      "id": "d379b71c-894e-42bc-af4f-cb2029d554c8",
      "metadata": {
        "id": "d379b71c-894e-42bc-af4f-cb2029d554c8",
        "outputId": "eddb28e3-8e7e-426e-e6a1-44823eed1f70"
      },
      "outputs": [
        {
          "data": {
            "text/plain": [
              "array([1.5 , 0.62])"
            ]
          },
          "execution_count": 41,
          "metadata": {},
          "output_type": "execute_result"
        }
      ],
      "source": [
        "np.array(['1.5', '0.62'], dtype = float)"
      ]
    },
    {
      "cell_type": "code",
      "execution_count": null,
      "id": "26d3d429-c0ef-488e-940d-5bf0eae23bf0",
      "metadata": {
        "id": "26d3d429-c0ef-488e-940d-5bf0eae23bf0",
        "outputId": "b45ab990-6e76-4fc0-9d2b-56f37c3e8f7a"
      },
      "outputs": [
        {
          "data": {
            "text/plain": [
              "array([10, 21,  0,  4,  5])"
            ]
          },
          "execution_count": 42,
          "metadata": {},
          "output_type": "execute_result"
        }
      ],
      "source": [
        "num_f1 = np.array([10, 21, 0.549, 4.75, 5.98])\n",
        "num_f1 = num_f1.astype(int)\n",
        "num_f1"
      ]
    },
    {
      "cell_type": "code",
      "execution_count": null,
      "id": "d79cd360-31dd-4f8a-b727-b21952dd81ce",
      "metadata": {
        "id": "d79cd360-31dd-4f8a-b727-b21952dd81ce",
        "outputId": "f88dce0d-a6fa-4699-85c3-698021323b03"
      },
      "outputs": [
        {
          "data": {
            "text/plain": [
              "array([10.   , 21.   ,  0.549,  4.75 ,  5.98 ])"
            ]
          },
          "execution_count": 43,
          "metadata": {},
          "output_type": "execute_result"
        }
      ],
      "source": [
        "num_f1 = np.array([10, 21, 0.549, 4.75, 5.98])\n",
        "num_f1 = num_f1.astype(float)\n",
        "num_f1"
      ]
    },
    {
      "cell_type": "code",
      "execution_count": null,
      "id": "a9664104-5fd2-4a85-a2c8-b2fecdb76cd5",
      "metadata": {
        "id": "a9664104-5fd2-4a85-a2c8-b2fecdb76cd5",
        "outputId": "57637670-7c5a-4285-bd1f-845aab08db29"
      },
      "outputs": [
        {
          "data": {
            "text/plain": [
              "array([[0.90390627, 0.70336534, 0.00813792],\n",
              "       [0.3606365 , 0.96840603, 0.70337024]])"
            ]
          },
          "execution_count": 46,
          "metadata": {},
          "output_type": "execute_result"
        }
      ],
      "source": [
        "# 난수배열 생성\n",
        "\n",
        "np.random.rand(2,3) # 0~1 사이의 실수 난수를 가짐"
      ]
    },
    {
      "cell_type": "code",
      "execution_count": null,
      "id": "49164300-4b26-448c-8995-b3f2ae457b42",
      "metadata": {
        "id": "49164300-4b26-448c-8995-b3f2ae457b42",
        "outputId": "0b5e4ef6-ee65-425c-f7b2-6ed3fb0b126e"
      },
      "outputs": [
        {
          "data": {
            "text/plain": [
              "array([[9, 7, 3, 7],\n",
              "       [6, 9, 8, 3],\n",
              "       [6, 4, 8, 4]])"
            ]
          },
          "execution_count": 51,
          "metadata": {},
          "output_type": "execute_result"
        }
      ],
      "source": [
        "np.random.randint(2, 10, size=(3, 4))"
      ]
    },
    {
      "cell_type": "code",
      "execution_count": null,
      "id": "b344b562-c52e-4e97-9b3c-8560fffa13ab",
      "metadata": {
        "id": "b344b562-c52e-4e97-9b3c-8560fffa13ab",
        "outputId": "90b7f97c-a332-433c-85a1-584e86764029"
      },
      "outputs": [
        {
          "name": "stdout",
          "output_type": "stream",
          "text": [
            "로또 번호:  [ 9 14 18 35 36 40]\n"
          ]
        }
      ],
      "source": [
        "def generate_lotto_numbers():\n",
        "    # 1부터 45까지의 숫자 중에서 6개를 무작위로 선택\n",
        "    lotto_numbers = np.random.choice(range(1, 46), size=6, replace=False)\n",
        "\n",
        "    # 선택된 숫자들을 정렬\n",
        "    lotto_numbers.sort()\n",
        "\n",
        "    return lotto_numbers\n",
        "\n",
        "if __name__ == \"__main__\":\n",
        "    # 로또 번호 생성 및 출력\n",
        "    lotto_result = generate_lotto_numbers()\n",
        "    print(\"로또 번호: \", lotto_result)"
      ]
    },
    {
      "cell_type": "code",
      "execution_count": null,
      "id": "684b5406-976c-4784-a635-80b0c5aa3950",
      "metadata": {
        "id": "684b5406-976c-4784-a635-80b0c5aa3950",
        "outputId": "72a92a65-8284-4159-c5b2-6db74017ab32"
      },
      "outputs": [
        {
          "name": "stdout",
          "output_type": "stream",
          "text": [
            "이번 주 로또 당첨번호는 [ 3  4  9 34 38 45] + 보너스번호 7\n",
            "이번 주 로또 당첨번호는 3 4 9 34 38 45 + 보너스번호  7\n"
          ]
        }
      ],
      "source": [
        "# 로또 번호 추첨기 만들어보기\n",
        "\n",
        "# 조건1: 보너스숫자와 로또 메인 번호는 겹치지 않아야\n",
        "# 조건2: 로또번호 내에서도 겹치는 숫자 없어야\n",
        "# 조건3: 로또 번호(보너스 제외)는 오름차순으로 정렬되어야\n",
        "\n",
        "lotto = np.random.randint(1, 46, size=(6, ))\n",
        "bonus = np.random.randint(1, 46)\n",
        "lotto = np.sort(lotto)   # 조건3\n",
        "\n",
        "# way1\n",
        "if bonus not in lotto:\n",
        "    if np.unique(lotto).size == len(lotto):   # 2, 3, 3, 6, 10, 22 고유값 2, 3, 6, 10, 22\n",
        "        print(f'이번 주 로또 당첨번호는 {lotto} + 보너스번호 {bonus}')\n",
        "\n",
        "# way2\n",
        "if bonus not in lotto:\n",
        "    if np.unique(lotto).size == len(lotto):\n",
        "        print(f'이번 주 로또 당첨번호는', end=' ')\n",
        "        for i in range(6):\n",
        "            print(lotto[i], end=' ')\n",
        "            if i == 5:\n",
        "                print(f'+ 보너스번호 ', bonus)"
      ]
    },
    {
      "cell_type": "code",
      "execution_count": null,
      "id": "e503951d-6a61-41d1-820c-4c043205d446",
      "metadata": {
        "id": "e503951d-6a61-41d1-820c-4c043205d446",
        "outputId": "a6eeef61-602b-4696-e2db-b6fb70269a1d"
      },
      "outputs": [
        {
          "data": {
            "text/plain": [
              "[2, 20, 31, 33, 7, 42]"
            ]
          },
          "execution_count": 62,
          "metadata": {},
          "output_type": "execute_result"
        }
      ],
      "source": [
        "def lotto(n):  # n개를 받아드릴 함수\n",
        "    numbers = []  # 로또 번호를 담아줄 빈 리스트 생성\n",
        "\n",
        "    while len(numbers) < n:  # 횟수 n번을 반복해 줄 반복문\n",
        "        num = np.random.randint(1, 45) # 랜덤한 숫자 뽑기\n",
        "        if num not in numbers:  # 중복되는 숫자가 있는지 체크\n",
        "            numbers.append(num) #없다면 리스트에 추가\n",
        "\n",
        "    return numbers #반복구문을 완료한 리스트를 리턴\n",
        "\n",
        "lotto(6)"
      ]
    },
    {
      "cell_type": "markdown",
      "id": "20b1ba97-a65f-4b78-8d00-43f17ac3f01b",
      "metadata": {
        "id": "20b1ba97-a65f-4b78-8d00-43f17ac3f01b"
      },
      "source": [
        "# 배열의 연산"
      ]
    },
    {
      "cell_type": "code",
      "execution_count": null,
      "id": "0c813692-50c9-4735-95d3-a67c4660ebf9",
      "metadata": {
        "id": "0c813692-50c9-4735-95d3-a67c4660ebf9"
      },
      "outputs": [],
      "source": [
        "arr1 = np.array([10, 20, 30, 40])\n",
        "arr2 = np.array([1, 2, 3, 4])\n",
        "\n",
        "print(arr1 + arr2)\n",
        "print(arr1 - arr2)\n",
        "print(arr1 * arr2)\n",
        "print(arr1 / arr2)"
      ]
    },
    {
      "cell_type": "markdown",
      "id": "26587b50-8b99-4554-8e6a-d7033768fb92",
      "metadata": {
        "id": "26587b50-8b99-4554-8e6a-d7033768fb92"
      },
      "source": [
        "# 비교연산"
      ]
    },
    {
      "cell_type": "code",
      "execution_count": null,
      "id": "e4435f3d-6b6c-42de-a781-d69d103e2520",
      "metadata": {
        "id": "e4435f3d-6b6c-42de-a781-d69d103e2520",
        "outputId": "29cd3b42-05cf-48ca-d8d2-145bb4f2a610"
      },
      "outputs": [
        {
          "data": {
            "text/plain": [
              "array([False, False,  True,  True])"
            ]
          },
          "execution_count": 64,
          "metadata": {},
          "output_type": "execute_result"
        }
      ],
      "source": [
        "arr1 > 20"
      ]
    },
    {
      "cell_type": "markdown",
      "id": "66ed75f5-d667-42db-af9f-cb6398fb6af1",
      "metadata": {
        "id": "66ed75f5-d667-42db-af9f-cb6398fb6af1"
      },
      "source": [
        "# 통계 연산\n",
        "- 기술통계량 Descriptive statistics: 합,평균, 표준편차, 분산, 최소최대값, 누적합, 누적곱 메서드\n",
        "- 현재 데이터 상태를 표현\n",
        "- 통계 : 평균이 전부다! (Mean is Everything)\n",
        "  + 모수 통계\n",
        "  + 비모수 통계\n",
        "  + 베이지안 통계"
      ]
    },
    {
      "cell_type": "code",
      "execution_count": null,
      "id": "cddb96ef-b822-4e98-b0f6-fdf9f371214c",
      "metadata": {
        "id": "cddb96ef-b822-4e98-b0f6-fdf9f371214c",
        "outputId": "b566af92-7527-46fc-a708-fe1cfe18476f"
      },
      "outputs": [
        {
          "data": {
            "text/plain": [
              "array([0, 1, 2, 3, 4])"
            ]
          },
          "execution_count": 66,
          "metadata": {},
          "output_type": "execute_result"
        }
      ],
      "source": [
        "arr3 = np.arange(5)\n",
        "arr3"
      ]
    },
    {
      "cell_type": "code",
      "execution_count": null,
      "id": "85af1852-6d6b-410f-ac1e-1bd6ca394e79",
      "metadata": {
        "id": "85af1852-6d6b-410f-ac1e-1bd6ca394e79",
        "outputId": "7519a0d9-61c0-414a-a956-1181d95706b3"
      },
      "outputs": [
        {
          "data": {
            "text/plain": [
              "10"
            ]
          },
          "execution_count": 67,
          "metadata": {},
          "output_type": "execute_result"
        }
      ],
      "source": [
        "arr3.sum()"
      ]
    },
    {
      "cell_type": "code",
      "execution_count": null,
      "id": "e2755da1-f1c0-4a73-9a82-7db50021676d",
      "metadata": {
        "id": "e2755da1-f1c0-4a73-9a82-7db50021676d",
        "outputId": "442c8cd1-f92f-473a-dc2f-03a3d05ae0af"
      },
      "outputs": [
        {
          "data": {
            "text/plain": [
              "2.0"
            ]
          },
          "execution_count": 68,
          "metadata": {},
          "output_type": "execute_result"
        }
      ],
      "source": [
        "arr3.mean()"
      ]
    },
    {
      "cell_type": "code",
      "execution_count": null,
      "id": "5265d4ad-bd4b-4617-b07d-035cf875227e",
      "metadata": {
        "id": "5265d4ad-bd4b-4617-b07d-035cf875227e",
        "outputId": "5e9531c1-b159-4d65-f2e5-dd8bfaab021a"
      },
      "outputs": [
        {
          "data": {
            "text/plain": [
              "1.4142135623730951"
            ]
          },
          "execution_count": 69,
          "metadata": {},
          "output_type": "execute_result"
        }
      ],
      "source": [
        "arr3.std()"
      ]
    },
    {
      "cell_type": "code",
      "execution_count": null,
      "id": "5df4c683-49f4-42be-b140-d94a8d8f59b6",
      "metadata": {
        "id": "5df4c683-49f4-42be-b140-d94a8d8f59b6",
        "outputId": "1b491d00-3565-4abe-d595-271c5f1694d8"
      },
      "outputs": [
        {
          "name": "stdout",
          "output_type": "stream",
          "text": [
            "[36  9 64 63 44 87]\n",
            "[-14.5, -41.5, 13.5, 12.5, -6.5, 36.5]\n"
          ]
        },
        {
          "data": {
            "text/plain": [
              "0.0"
            ]
          },
          "execution_count": 82,
          "metadata": {},
          "output_type": "execute_result"
        }
      ],
      "source": [
        "arr3.var()\n",
        "# 분산 - 각 변량이 평균에서 떨어진 정도의 평균\n",
        "# 편차의 합이 항상 0이므로 편차의 제곱의 평균을 구한 것\n",
        "\n",
        "# 편차의 합이 항상 0인지 확인\n",
        "arr4 = np.random.randint(1,100,6)\n",
        "print(arr4)\n",
        "mean = arr4.mean()\n",
        "\n",
        "ls = []\n",
        "for i in arr4:\n",
        "    ls.append(i-mean)\n",
        "\n",
        "print(ls)\n",
        "\n",
        "sum=0\n",
        "for i in ls:\n",
        "    sum += i\n",
        "\n",
        "sum"
      ]
    },
    {
      "cell_type": "markdown",
      "id": "46253806-2c79-4a0a-9dc6-7a5447cedbeb",
      "metadata": {
        "id": "46253806-2c79-4a0a-9dc6-7a5447cedbeb"
      },
      "source": [
        "# 누적곱\n",
        "- cumsum() : 누적합\n",
        "- cumprod() : 누적곱\n",
        "- pandas에도 있음 (다 연결 돼있다)"
      ]
    },
    {
      "cell_type": "code",
      "execution_count": null,
      "id": "9f72171f-bd1b-473a-84a1-22f258d2c2de",
      "metadata": {
        "id": "9f72171f-bd1b-473a-84a1-22f258d2c2de",
        "outputId": "437cf7a4-73b8-401c-918b-2a4a56fc0bb1"
      },
      "outputs": [
        {
          "data": {
            "text/plain": [
              "array([ 1,  3,  6, 10])"
            ]
          },
          "execution_count": 93,
          "metadata": {},
          "output_type": "execute_result"
        }
      ],
      "source": [
        "arr5 = np.arange(1,5)\n",
        "arr5.cumsum()"
      ]
    },
    {
      "cell_type": "code",
      "execution_count": null,
      "id": "2b629cc1-8ff4-428a-8622-acfb82041e2d",
      "metadata": {
        "id": "2b629cc1-8ff4-428a-8622-acfb82041e2d",
        "outputId": "16623b24-27af-450d-e6f0-a7acf675c7f2"
      },
      "outputs": [
        {
          "data": {
            "text/plain": [
              "array([ 1,  2,  6, 24])"
            ]
          },
          "execution_count": 94,
          "metadata": {},
          "output_type": "execute_result"
        }
      ],
      "source": [
        "arr5.cumprod()"
      ]
    },
    {
      "cell_type": "markdown",
      "id": "37a460ae-91a3-4019-9268-9b5c119df17b",
      "metadata": {
        "id": "37a460ae-91a3-4019-9268-9b5c119df17b"
      },
      "source": [
        "# 행렬연산\n",
        "- 선형대수(Linear Algebra)를 위한 2차열 배열 연산도 지원 / 칸아카데미\n",
        "- 행렬곱, 전치행렬, 역행렬, 행렬식"
      ]
    },
    {
      "cell_type": "code",
      "execution_count": null,
      "id": "d66b7378-dec6-4e8c-91af-3c629e56b029",
      "metadata": {
        "id": "d66b7378-dec6-4e8c-91af-3c629e56b029",
        "outputId": "bcb2e4ca-ffd9-4efe-8f24-697226dcd900"
      },
      "outputs": [
        {
          "data": {
            "text/plain": [
              "array([[0, 1],\n",
              "       [2, 3]])"
            ]
          },
          "execution_count": 75,
          "metadata": {},
          "output_type": "execute_result"
        }
      ],
      "source": [
        "A = np.array([0, 1, 2, 3]).reshape(2, 2)\n",
        "A"
      ]
    },
    {
      "cell_type": "code",
      "execution_count": null,
      "id": "3913ec4b-5a12-49ae-b3c2-e49d8b182486",
      "metadata": {
        "id": "3913ec4b-5a12-49ae-b3c2-e49d8b182486",
        "outputId": "62cbd494-1cc3-4cd0-b45e-8b2f324c947b"
      },
      "outputs": [
        {
          "data": {
            "text/plain": [
              "array([[3, 2],\n",
              "       [0, 1]])"
            ]
          },
          "execution_count": 77,
          "metadata": {},
          "output_type": "execute_result"
        }
      ],
      "source": [
        "B = np.array([3, 2, 0, 1]).reshape(2, 2)\n",
        "B"
      ]
    },
    {
      "cell_type": "code",
      "execution_count": null,
      "id": "fc7e72f5-dbd7-4b6d-8071-7725a5775283",
      "metadata": {
        "id": "fc7e72f5-dbd7-4b6d-8071-7725a5775283",
        "outputId": "0c36341f-c80a-4a45-b7f0-e0472fe3dae4"
      },
      "outputs": [
        {
          "data": {
            "text/plain": [
              "array([[0, 1],\n",
              "       [6, 7]])"
            ]
          },
          "execution_count": 86,
          "metadata": {},
          "output_type": "execute_result"
        }
      ],
      "source": [
        "A.dot(B)"
      ]
    },
    {
      "cell_type": "code",
      "execution_count": null,
      "id": "2c8e0683-588f-432f-894b-c610c27adb78",
      "metadata": {
        "id": "2c8e0683-588f-432f-894b-c610c27adb78",
        "outputId": "d5cb2742-0e7a-4cdb-8c28-1bf072899424"
      },
      "outputs": [
        {
          "data": {
            "text/plain": [
              "array([[0, 1],\n",
              "       [6, 7]])"
            ]
          },
          "execution_count": 89,
          "metadata": {},
          "output_type": "execute_result"
        }
      ],
      "source": [
        "np.dot(A,B)"
      ]
    },
    {
      "cell_type": "code",
      "execution_count": null,
      "id": "ecfd94c3-9123-4bac-b856-7eba35a62fb7",
      "metadata": {
        "id": "ecfd94c3-9123-4bac-b856-7eba35a62fb7",
        "outputId": "f90e307a-4bc1-43c8-d0d1-c63a0b480911"
      },
      "outputs": [
        {
          "data": {
            "text/plain": [
              "array([[0, 2],\n",
              "       [1, 3]])"
            ]
          },
          "execution_count": 90,
          "metadata": {},
          "output_type": "execute_result"
        }
      ],
      "source": [
        "np.transpose(A)"
      ]
    },
    {
      "cell_type": "code",
      "execution_count": null,
      "id": "95e8c01f-f9c5-4ba7-8370-bfefd344b233",
      "metadata": {
        "id": "95e8c01f-f9c5-4ba7-8370-bfefd344b233",
        "outputId": "3781d66d-4982-4334-bc3d-26a82cd89bfa"
      },
      "outputs": [
        {
          "data": {
            "text/plain": [
              "array([[-1.5,  0.5],\n",
              "       [ 1. ,  0. ]])"
            ]
          },
          "execution_count": 91,
          "metadata": {},
          "output_type": "execute_result"
        }
      ],
      "source": [
        "np.linalg.inv(A)"
      ]
    },
    {
      "cell_type": "markdown",
      "id": "ead7c04f-15ce-4bb6-a3b7-c0910ab8cde7",
      "metadata": {
        "id": "ead7c04f-15ce-4bb6-a3b7-c0910ab8cde7"
      },
      "source": [
        "# 배열의 인덱싱과 슬라이싱\n",
        "- string, list, tuple과 동일한 방법으로 접근"
      ]
    },
    {
      "cell_type": "code",
      "execution_count": null,
      "id": "8540dacf-56a9-4cc0-9c70-ae79ce63d306",
      "metadata": {
        "id": "8540dacf-56a9-4cc0-9c70-ae79ce63d306",
        "outputId": "1bc5d62b-663d-4675-a068-c198a9cb8821"
      },
      "outputs": [
        {
          "data": {
            "text/plain": [
              "array([ 0, 10, 20, 30, 40, 50])"
            ]
          },
          "execution_count": 95,
          "metadata": {},
          "output_type": "execute_result"
        }
      ],
      "source": [
        "a1 = np.array([0, 10, 20, 30, 40, 50])\n",
        "a1"
      ]
    },
    {
      "cell_type": "code",
      "execution_count": null,
      "id": "981ddac4-40b8-45f4-bf36-69107ff55360",
      "metadata": {
        "id": "981ddac4-40b8-45f4-bf36-69107ff55360",
        "outputId": "5bf1676e-6c0e-4bb8-c58d-a23ee0028cf5"
      },
      "outputs": [
        {
          "data": {
            "text/plain": [
              "40"
            ]
          },
          "execution_count": 96,
          "metadata": {},
          "output_type": "execute_result"
        }
      ],
      "source": [
        "a1[4]"
      ]
    },
    {
      "cell_type": "code",
      "execution_count": null,
      "id": "d29c7809-ad26-4e34-ba78-1e07e26f78e4",
      "metadata": {
        "id": "d29c7809-ad26-4e34-ba78-1e07e26f78e4",
        "outputId": "56bb64d4-6aa9-4325-c87f-7cef72c0e561"
      },
      "outputs": [
        {
          "data": {
            "text/plain": [
              "array([ 0, 10, 20, 30, 40, 70])"
            ]
          },
          "execution_count": 97,
          "metadata": {},
          "output_type": "execute_result"
        }
      ],
      "source": [
        "# 50을 70으로 변경\n",
        "a1[5] = 70\n",
        "a1"
      ]
    },
    {
      "cell_type": "code",
      "execution_count": null,
      "id": "2b4d02e1-af70-4190-8e75-9b6ad84a4930",
      "metadata": {
        "id": "2b4d02e1-af70-4190-8e75-9b6ad84a4930",
        "outputId": "5507d16e-1e1d-462f-86db-a25bbd1916d7"
      },
      "outputs": [
        {
          "data": {
            "text/plain": [
              "array([ 0, 20, 40])"
            ]
          },
          "execution_count": 102,
          "metadata": {},
          "output_type": "execute_result"
        }
      ],
      "source": [
        "# 리스트 통해서 추출\n",
        "a1[[0, 2, 4]]\n",
        "\n",
        "idx_list = [0,2,4]\n",
        "a1[idx_list]"
      ]
    },
    {
      "cell_type": "code",
      "execution_count": null,
      "id": "d181f614-4ba5-4fa7-bad1-39312e928641",
      "metadata": {
        "id": "d181f614-4ba5-4fa7-bad1-39312e928641",
        "outputId": "d2d42729-8a82-4583-e08a-3d317280e795"
      },
      "outputs": [
        {
          "data": {
            "text/plain": [
              "array([[10, 20, 30],\n",
              "       [40, 50, 60],\n",
              "       [70, 80, 90]])"
            ]
          },
          "execution_count": 101,
          "metadata": {},
          "output_type": "execute_result"
        }
      ],
      "source": [
        "a2 = np.arange(10, 100, 10).reshape(3, 3)\n",
        "a2"
      ]
    },
    {
      "cell_type": "code",
      "execution_count": null,
      "id": "502bbd6b-2ef2-46aa-a25a-bbd6e3a92d17",
      "metadata": {
        "id": "502bbd6b-2ef2-46aa-a25a-bbd6e3a92d17",
        "outputId": "87fca3c0-1d4c-4a5f-e8c2-6717bbea0f60"
      },
      "outputs": [
        {
          "data": {
            "text/plain": [
              "10"
            ]
          },
          "execution_count": 103,
          "metadata": {},
          "output_type": "execute_result"
        }
      ],
      "source": [
        "a2[0, 0]"
      ]
    },
    {
      "cell_type": "code",
      "execution_count": null,
      "id": "563c42fe-9a8e-463b-9587-a4060ab723c4",
      "metadata": {
        "id": "563c42fe-9a8e-463b-9587-a4060ab723c4",
        "outputId": "353a1417-fa25-493f-dc25-8fe6d7b65735"
      },
      "outputs": [
        {
          "data": {
            "text/plain": [
              "90"
            ]
          },
          "execution_count": 104,
          "metadata": {},
          "output_type": "execute_result"
        }
      ],
      "source": [
        "a2[2, 2]"
      ]
    },
    {
      "cell_type": "code",
      "execution_count": null,
      "id": "2b351e45-03c3-49fb-b4d6-d9aaa69dbc29",
      "metadata": {
        "id": "2b351e45-03c3-49fb-b4d6-d9aaa69dbc29",
        "outputId": "63f1dce3-ffe5-4e4d-8d39-6a5d92baef0e"
      },
      "outputs": [
        {
          "data": {
            "text/plain": [
              "array([[10, 20, 30],\n",
              "       [40, 50, 60],\n",
              "       [70, 80, 95]])"
            ]
          },
          "execution_count": 107,
          "metadata": {},
          "output_type": "execute_result"
        }
      ],
      "source": [
        "# 90을 95로 변경\n",
        "a2[2, 2] = 95\n",
        "a2"
      ]
    },
    {
      "cell_type": "code",
      "execution_count": null,
      "id": "88f9bdf6-e24e-4eb8-a948-feabf4ec3744",
      "metadata": {
        "id": "88f9bdf6-e24e-4eb8-a948-feabf4ec3744",
        "outputId": "d2364cea-1fe8-40e4-da48-0d044d8ad036"
      },
      "outputs": [
        {
          "data": {
            "text/plain": [
              "array([[10, 20, 30],\n",
              "       [40, 50, 43],\n",
              "       [70, 80, 95]])"
            ]
          },
          "execution_count": 108,
          "metadata": {},
          "output_type": "execute_result"
        }
      ],
      "source": [
        "a2[1,2] = 43\n",
        "a2"
      ]
    },
    {
      "cell_type": "code",
      "execution_count": null,
      "id": "ebb08b12-5cd4-4f8a-be8a-961668ff5d42",
      "metadata": {
        "id": "ebb08b12-5cd4-4f8a-be8a-961668ff5d42",
        "outputId": "85dde7dc-4244-4cee-cdc4-71c2d7670cc5"
      },
      "outputs": [
        {
          "data": {
            "text/plain": [
              "array([[ 1,  2,  3],\n",
              "       [40, 50, 43],\n",
              "       [70, 80, 95]])"
            ]
          },
          "execution_count": 109,
          "metadata": {},
          "output_type": "execute_result"
        }
      ],
      "source": [
        "a2[0] = [1,2,3] # 좋은 코드 X\n",
        "a2"
      ]
    },
    {
      "cell_type": "code",
      "execution_count": null,
      "id": "aa8741b4-5678-4ee3-a3c3-6c15ab115843",
      "metadata": {
        "id": "aa8741b4-5678-4ee3-a3c3-6c15ab115843",
        "outputId": "4a4f2da1-2ab3-4332-a087-d48f1f7e4f72"
      },
      "outputs": [
        {
          "ename": "ValueError",
          "evalue": "could not broadcast input array from shape (4,) into shape (3,)",
          "output_type": "error",
          "traceback": [
            "\u001b[1;31m---------------------------------------------------------------------------\u001b[0m",
            "\u001b[1;31mValueError\u001b[0m                                Traceback (most recent call last)",
            "Cell \u001b[1;32mIn[111], line 1\u001b[0m\n\u001b[1;32m----> 1\u001b[0m a2[\u001b[38;5;241m0\u001b[39m] \u001b[38;5;241m=\u001b[39m np\u001b[38;5;241m.\u001b[39marray([\u001b[38;5;241m4\u001b[39m, \u001b[38;5;241m5\u001b[39m, \u001b[38;5;241m6\u001b[39m, \u001b[38;5;241m7\u001b[39m])\n\u001b[0;32m      2\u001b[0m a2\n",
            "\u001b[1;31mValueError\u001b[0m: could not broadcast input array from shape (4,) into shape (3,)"
          ]
        }
      ],
      "source": [
        "a2[0] = np.array([4, 5, 6, 7])\n",
        "a2"
      ]
    },
    {
      "cell_type": "markdown",
      "id": "f77dbad9-74ae-4770-96b7-0b3ae05fda1f",
      "metadata": {
        "id": "f77dbad9-74ae-4770-96b7-0b3ae05fda1f"
      },
      "source": [
        "- 2차원 배열의 행과 열 위치 지정해서 원소 추출\n",
        "  + (행의 위치1, 행의 위치2) / (열의 위치1, 열의 위치2)"
      ]
    },
    {
      "cell_type": "code",
      "execution_count": null,
      "id": "6a806569-fead-4323-9af4-9f0057da8182",
      "metadata": {
        "id": "6a806569-fead-4323-9af4-9f0057da8182",
        "outputId": "aea9f4a6-00ef-4dbf-dff1-8a6fb424f1bb"
      },
      "outputs": [
        {
          "data": {
            "text/plain": [
              "array([ 4, 80])"
            ]
          },
          "execution_count": 112,
          "metadata": {},
          "output_type": "execute_result"
        }
      ],
      "source": [
        "a2[[0, 2], [0, 1]]"
      ]
    },
    {
      "cell_type": "code",
      "execution_count": null,
      "id": "904a34b8-b444-4577-97d2-82636a635183",
      "metadata": {
        "id": "904a34b8-b444-4577-97d2-82636a635183",
        "outputId": "d254632c-46f0-4d3c-b6b3-4ed70c1f7c16"
      },
      "outputs": [
        {
          "data": {
            "text/plain": [
              "(4, 80)"
            ]
          },
          "execution_count": 114,
          "metadata": {},
          "output_type": "execute_result"
        }
      ],
      "source": [
        "a2[0, 0], a2[2, 1]"
      ]
    },
    {
      "cell_type": "markdown",
      "id": "3d4a9819-a6c1-42d5-830b-70a6dc012c67",
      "metadata": {
        "id": "3d4a9819-a6c1-42d5-830b-70a6dc012c67"
      },
      "source": [
        "# 배열 조건문\n",
        " - pandas 문법과 유사"
      ]
    },
    {
      "cell_type": "code",
      "execution_count": null,
      "id": "784da6d6-f9eb-4c92-9f46-358846cf3ada",
      "metadata": {
        "id": "784da6d6-f9eb-4c92-9f46-358846cf3ada",
        "outputId": "0034b000-23d7-4e7c-9808-af21c3c9e125"
      },
      "outputs": [
        {
          "data": {
            "text/plain": [
              "array([1, 2, 3, 4, 5, 6])"
            ]
          },
          "execution_count": 115,
          "metadata": {},
          "output_type": "execute_result"
        }
      ],
      "source": [
        "a = np.array([1, 2, 3, 4, 5, 6])\n",
        "a"
      ]
    },
    {
      "cell_type": "code",
      "execution_count": null,
      "id": "4429e3c9-0582-4cd5-9fab-7f90f4cfffff",
      "metadata": {
        "id": "4429e3c9-0582-4cd5-9fab-7f90f4cfffff",
        "outputId": "ffa338b0-befb-400b-c32d-c5a07079a9c5"
      },
      "outputs": [
        {
          "data": {
            "text/plain": [
              "[array([False, False, False,  True,  True,  True])]"
            ]
          },
          "execution_count": 116,
          "metadata": {},
          "output_type": "execute_result"
        }
      ],
      "source": [
        "[a>3]"
      ]
    },
    {
      "cell_type": "code",
      "execution_count": null,
      "id": "d49b60cd-c85d-4a7c-82d7-b30457d0a4e6",
      "metadata": {
        "id": "d49b60cd-c85d-4a7c-82d7-b30457d0a4e6",
        "outputId": "3e98b5d7-be91-497c-be74-058706e18c27"
      },
      "outputs": [
        {
          "data": {
            "text/plain": [
              "array([4, 5, 6])"
            ]
          },
          "execution_count": 118,
          "metadata": {},
          "output_type": "execute_result"
        }
      ],
      "source": [
        "a[a>3] # 조건식에 맞춰서 True값만 가져옴"
      ]
    },
    {
      "cell_type": "code",
      "execution_count": null,
      "id": "935cbac6-bc63-4acf-9f6a-0041dd791182",
      "metadata": {
        "id": "935cbac6-bc63-4acf-9f6a-0041dd791182",
        "outputId": "f29581f7-4687-498a-f295-49efd51b933c"
      },
      "outputs": [
        {
          "data": {
            "text/plain": [
              "array([False,  True, False,  True, False,  True])"
            ]
          },
          "execution_count": 119,
          "metadata": {},
          "output_type": "execute_result"
        }
      ],
      "source": [
        "a % 2 == 0"
      ]
    },
    {
      "cell_type": "markdown",
      "id": "23a93ee2-4af9-4604-b7ef-40442b040cd6",
      "metadata": {
        "id": "23a93ee2-4af9-4604-b7ef-40442b040cd6"
      },
      "source": [
        "# 배열의 슬라이싱"
      ]
    },
    {
      "cell_type": "code",
      "execution_count": null,
      "id": "2b15fa58-ac23-4c85-95ca-79c56ada6828",
      "metadata": {
        "id": "2b15fa58-ac23-4c85-95ca-79c56ada6828",
        "outputId": "e4b94673-53cc-4b37-88af-0b42fe690767"
      },
      "outputs": [
        {
          "data": {
            "text/plain": [
              "array([1, 2, 3])"
            ]
          },
          "execution_count": 120,
          "metadata": {},
          "output_type": "execute_result"
        }
      ],
      "source": [
        "b1 = np.array([0, 1, 2, 3, 4, 5])\n",
        "b1[1:4]"
      ]
    },
    {
      "cell_type": "code",
      "execution_count": null,
      "id": "6b0d4417-ccca-44a2-a55c-0f868d9c2a4a",
      "metadata": {
        "id": "6b0d4417-ccca-44a2-a55c-0f868d9c2a4a",
        "outputId": "edbc0209-7770-47b2-db91-6cc35d01217c"
      },
      "outputs": [
        {
          "data": {
            "text/plain": [
              "array([0, 1, 2])"
            ]
          },
          "execution_count": 121,
          "metadata": {},
          "output_type": "execute_result"
        }
      ],
      "source": [
        "b1[:3]"
      ]
    },
    {
      "cell_type": "code",
      "execution_count": null,
      "id": "aacd5b08-5f42-4181-96f0-a3b6652de437",
      "metadata": {
        "id": "aacd5b08-5f42-4181-96f0-a3b6652de437",
        "outputId": "75fce293-29fc-41cc-c5ea-c4930528331b"
      },
      "outputs": [
        {
          "data": {
            "text/plain": [
              "array([2, 3, 4, 5])"
            ]
          },
          "execution_count": 122,
          "metadata": {},
          "output_type": "execute_result"
        }
      ],
      "source": [
        "b1[2:]"
      ]
    },
    {
      "cell_type": "code",
      "execution_count": null,
      "id": "c47e4977-f05e-4885-b775-86f7f589541a",
      "metadata": {
        "id": "c47e4977-f05e-4885-b775-86f7f589541a",
        "outputId": "a9f6f081-bce2-4cc3-b8ab-b4ec194836dd"
      },
      "outputs": [
        {
          "data": {
            "text/plain": [
              "array([0, 2])"
            ]
          },
          "execution_count": 123,
          "metadata": {},
          "output_type": "execute_result"
        }
      ],
      "source": [
        "b1[0:4:2]"
      ]
    },
    {
      "cell_type": "code",
      "execution_count": null,
      "id": "9710e6b9-103f-4e11-9ebb-18f0331d0286",
      "metadata": {
        "id": "9710e6b9-103f-4e11-9ebb-18f0331d0286",
        "outputId": "bce8bbb7-f2ca-4241-c8f0-a9fb5ef556a8"
      },
      "outputs": [
        {
          "data": {
            "text/plain": [
              "array([ 0,  1, 25, 35, 45,  5])"
            ]
          },
          "execution_count": 124,
          "metadata": {},
          "output_type": "execute_result"
        }
      ],
      "source": [
        "# 요소 변경\n",
        "b1[2:5] = np.array([25, 35, 45])\n",
        "b1"
      ]
    },
    {
      "cell_type": "code",
      "execution_count": null,
      "id": "139e49fc-00b9-4a7c-ac0e-c372aa47a389",
      "metadata": {
        "id": "139e49fc-00b9-4a7c-ac0e-c372aa47a389",
        "outputId": "dda03918-4037-42e5-f772-2cc2fbb19e0c"
      },
      "outputs": [
        {
          "data": {
            "text/plain": [
              "array([ 0,  1, 25, 60, 60, 60])"
            ]
          },
          "execution_count": 125,
          "metadata": {},
          "output_type": "execute_result"
        }
      ],
      "source": [
        "b1[3:6] = 60\n",
        "b1"
      ]
    },
    {
      "cell_type": "code",
      "execution_count": null,
      "id": "aa935c9b-eeed-4ae1-9ea6-2b6ff6a1a57e",
      "metadata": {
        "id": "aa935c9b-eeed-4ae1-9ea6-2b6ff6a1a57e",
        "outputId": "31182d19-7e7b-42af-a2b8-c12584e30a60"
      },
      "outputs": [
        {
          "data": {
            "text/plain": [
              "array([[10, 20, 30],\n",
              "       [40, 50, 60],\n",
              "       [70, 80, 90]])"
            ]
          },
          "execution_count": 126,
          "metadata": {},
          "output_type": "execute_result"
        }
      ],
      "source": [
        "b2 = np.arange(10, 100, 10).reshape(3, 3)\n",
        "b2"
      ]
    },
    {
      "cell_type": "code",
      "execution_count": null,
      "id": "ade88ca3-5f2f-4026-9a35-d23eb7b14ba1",
      "metadata": {
        "id": "ade88ca3-5f2f-4026-9a35-d23eb7b14ba1",
        "outputId": "01dcfcdf-0997-4721-9e20-0d39666d3190"
      },
      "outputs": [
        {
          "data": {
            "text/plain": [
              "array([[50, 60],\n",
              "       [80, 90]])"
            ]
          },
          "execution_count": 127,
          "metadata": {},
          "output_type": "execute_result"
        }
      ],
      "source": [
        "b2[1:3, 1:3]"
      ]
    },
    {
      "cell_type": "code",
      "execution_count": null,
      "id": "0c2e7ad1-90ac-4b24-a79d-c76b142a964a",
      "metadata": {
        "id": "0c2e7ad1-90ac-4b24-a79d-c76b142a964a",
        "outputId": "2f47c0cc-935b-421a-d945-12c9fe5d5d09"
      },
      "outputs": [
        {
          "data": {
            "text/plain": [
              "array([[50, 60],\n",
              "       [80, 90]])"
            ]
          },
          "execution_count": 128,
          "metadata": {},
          "output_type": "execute_result"
        }
      ],
      "source": [
        "b2[1:, 1:]"
      ]
    },
    {
      "cell_type": "code",
      "execution_count": null,
      "id": "9bd240a1-7c4c-4630-b8e9-4ef8eaa929c6",
      "metadata": {
        "id": "9bd240a1-7c4c-4630-b8e9-4ef8eaa929c6",
        "outputId": "9065b702-8069-42ab-cc7e-c56777bc8f18"
      },
      "outputs": [
        {
          "data": {
            "text/plain": [
              "'a'"
            ]
          },
          "execution_count": 129,
          "metadata": {},
          "output_type": "execute_result"
        }
      ],
      "source": [
        "nums = [1, 2, 3, ['a', 'b']]\n",
        "nums[3][0]"
      ]
    },
    {
      "cell_type": "code",
      "execution_count": null,
      "id": "096443e7-86d0-4468-bb42-92dd9d890ed4",
      "metadata": {
        "id": "096443e7-86d0-4468-bb42-92dd9d890ed4",
        "outputId": "b6db22b0-867d-4c2e-d778-be1ccde6fcdd"
      },
      "outputs": [
        {
          "data": {
            "text/plain": [
              "array([50, 60])"
            ]
          },
          "execution_count": 130,
          "metadata": {},
          "output_type": "execute_result"
        }
      ],
      "source": [
        "b2[1][1:3]"
      ]
    },
    {
      "cell_type": "markdown",
      "id": "19d8eec8-dc93-40af-984b-3f2b53fada56",
      "metadata": {
        "id": "19d8eec8-dc93-40af-984b-3f2b53fada56"
      },
      "source": [
        "# NumPy 조건문 (교재 없음)\n",
        "- np.where : 단일 조건문\n",
        "- np.select : 다중 조건문\n",
        "\n",
        "- pandas에서도 사용가능"
      ]
    },
    {
      "cell_type": "code",
      "execution_count": null,
      "id": "11c3b730-787d-45f5-b207-7e45e07465dd",
      "metadata": {
        "id": "11c3b730-787d-45f5-b207-7e45e07465dd",
        "outputId": "7b6b1578-0ec5-4609-e4e5-8c455db85d71"
      },
      "outputs": [
        {
          "data": {
            "text/plain": [
              "array([0, 1, 2, 3, 4, 5, 6, 7, 8, 9])"
            ]
          },
          "execution_count": 132,
          "metadata": {},
          "output_type": "execute_result"
        }
      ],
      "source": [
        "arr = np.arange(10)\n",
        "arr"
      ]
    },
    {
      "cell_type": "code",
      "execution_count": null,
      "id": "c606056b-8fc6-4dc4-aa20-da41c9405820",
      "metadata": {
        "id": "c606056b-8fc6-4dc4-aa20-da41c9405820",
        "outputId": "865de23a-0a25-42f5-e6d6-0fe37e33a8dc"
      },
      "outputs": [
        {
          "data": {
            "text/plain": [
              "array([ 0,  1,  2,  3,  4, 50, 60, 70, 80, 90])"
            ]
          },
          "execution_count": 133,
          "metadata": {},
          "output_type": "execute_result"
        }
      ],
      "source": [
        "#0, 1, 2, 3, 4, 50, 60, 70, 80, 90\n",
        "np.where(arr < 5, arr, arr * 10)\n"
      ]
    },
    {
      "cell_type": "code",
      "execution_count": null,
      "id": "040c5c6e-0213-4036-a73b-25995cb91b0e",
      "metadata": {
        "id": "040c5c6e-0213-4036-a73b-25995cb91b0e",
        "outputId": "cc64b4e6-4fcd-4543-ff90-d45ac5cbe620"
      },
      "outputs": [
        {
          "data": {
            "text/plain": [
              "array([100, 101,   2,   3,   4,   5,  12,  14,  16,  18])"
            ]
          },
          "execution_count": 134,
          "metadata": {},
          "output_type": "execute_result"
        }
      ],
      "source": [
        "# 100, 101, 2, 3, 4, 5, 12, 14, 16, 18\n",
        "# 2 미만 +100\n",
        "# 5 초과 x2\n",
        "\n",
        "# 조건식과 대응되는 결과를 리스트로 만들기\n",
        "cond_list = [arr > 5, arr < 2]\n",
        "choice_list = [arr * 2, arr + 100]\n",
        "\n",
        "np.select(cond_list, choice_list, default = arr)"
      ]
    }
  ],
  "metadata": {
    "kernelspec": {
      "display_name": "myenv",
      "language": "python",
      "name": "myenv"
    },
    "language_info": {
      "codemirror_mode": {
        "name": "ipython",
        "version": 3
      },
      "file_extension": ".py",
      "mimetype": "text/x-python",
      "name": "python",
      "nbconvert_exporter": "python",
      "pygments_lexer": "ipython3",
      "version": "3.10.13"
    },
    "colab": {
      "provenance": [],
      "toc_visible": true,
      "include_colab_link": true
    }
  },
  "nbformat": 4,
  "nbformat_minor": 5
}