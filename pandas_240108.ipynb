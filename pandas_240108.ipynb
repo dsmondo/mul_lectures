{
  "cells": [
    {
      "cell_type": "markdown",
      "metadata": {
        "id": "view-in-github",
        "colab_type": "text"
      },
      "source": [
        "<a href=\"https://colab.research.google.com/github/yewon91/mul_lectures/blob/main/pandas_240108.ipynb\" target=\"_parent\"><img src=\"https://colab.research.google.com/assets/colab-badge.svg\" alt=\"Open In Colab\"/></a>"
      ]
    },
    {
      "cell_type": "markdown",
      "id": "3c87d31a-759e-4c28-8c9c-92264c304b98",
      "metadata": {
        "id": "3c87d31a-759e-4c28-8c9c-92264c304b98"
      },
      "source": [
        "# 데이터 통합하기\n",
        "- 데이터 조인\n",
        "- 원리는 매우매우 중요**"
      ]
    },
    {
      "cell_type": "code",
      "execution_count": null,
      "id": "b3fab32d-d92e-4235-92b7-e283e861eefd",
      "metadata": {
        "id": "b3fab32d-d92e-4235-92b7-e283e861eefd"
      },
      "outputs": [],
      "source": [
        "import pandas as pd\n",
        "import numpy as np\n",
        "\n",
        "df1 = pd.DataFrame({\n",
        "    'Class1': [95,92,98,100],\n",
        "    'Class2': [91,93,97,99]\n",
        "})\n",
        "\n",
        "df2 = pd.DataFrame({\n",
        "    'Class1': [87, 89],\n",
        "    'Class2': [85,99]\n",
        "})\n",
        "\n",
        "df1"
      ]
    },
    {
      "cell_type": "code",
      "execution_count": null,
      "id": "e0708789-a8b3-4b56-8f7d-c6fa9c09df9d",
      "metadata": {
        "id": "e0708789-a8b3-4b56-8f7d-c6fa9c09df9d"
      },
      "outputs": [],
      "source": [
        "pd.__version__"
      ]
    },
    {
      "cell_type": "code",
      "execution_count": null,
      "id": "a870271b-dddc-4c40-a6bb-d7967153486d",
      "metadata": {
        "id": "a870271b-dddc-4c40-a6bb-d7967153486d"
      },
      "outputs": [],
      "source": [
        "# df1.append(df2) => pandas 버전 1.4.0 이후로 지원 안함. conncat() 사용권장\n",
        "res = pd.concat([df1, df2], ignore_index=True)\n",
        "res"
      ]
    },
    {
      "cell_type": "code",
      "execution_count": null,
      "id": "13f9d5ee-798c-41d3-98fa-713186fc79e4",
      "metadata": {
        "id": "13f9d5ee-798c-41d3-98fa-713186fc79e4"
      },
      "outputs": [],
      "source": [
        "df3 = pd.DataFrame({'Class1' : [96, 93]})\n",
        "df3\n",
        "\n",
        "pd.concat([res, df3], ignore_index=True)"
      ]
    },
    {
      "cell_type": "markdown",
      "id": "b6a7536c-9ecf-41f9-995c-3608f954ae0c",
      "metadata": {
        "id": "b6a7536c-9ecf-41f9-995c-3608f954ae0c"
      },
      "source": [
        "### 가로방향으로 통합하기\n",
        "- pd.concat() : 세로방향으로 통합"
      ]
    },
    {
      "cell_type": "code",
      "execution_count": null,
      "id": "d32cd94d-47db-4cc0-a2fe-ba5536609585",
      "metadata": {
        "id": "d32cd94d-47db-4cc0-a2fe-ba5536609585"
      },
      "outputs": [],
      "source": [
        "df4 = pd.DataFrame({\n",
        "    'Class3': [93,91,95,98]\n",
        "})\n",
        "df1.join(df4)\n",
        "# df4"
      ]
    },
    {
      "cell_type": "code",
      "execution_count": null,
      "id": "cfe73345-6ae7-41ca-b68e-5bd1a68fdc0a",
      "metadata": {
        "id": "cfe73345-6ae7-41ca-b68e-5bd1a68fdc0a"
      },
      "outputs": [],
      "source": [
        "# 인덱스 라벨 추가\n",
        "index_label = ['a','b','c','d']\n",
        "df1a = pd.DataFrame({'Class1': [95, 92, 98, 100],\n",
        "                    'Class2': [91, 93, 97, 99]}, index= index_label)\n",
        "df4a = pd.DataFrame({'Class3': [93, 91, 95, 98]}, index=index_label)\n",
        "\n",
        "df1a.join(df4a)"
      ]
    },
    {
      "cell_type": "code",
      "execution_count": null,
      "id": "0f555314-d84d-403a-9ba5-1e49b468744f",
      "metadata": {
        "id": "0f555314-d84d-403a-9ba5-1e49b468744f"
      },
      "outputs": [],
      "source": [
        "# 인덱스값 Check - 조인시에는 인덱스 값이 같아야함\n",
        "df4.index == df1.index"
      ]
    },
    {
      "cell_type": "code",
      "execution_count": null,
      "id": "29d18498-e8f6-4d0c-a487-57629ba18386",
      "metadata": {
        "id": "29d18498-e8f6-4d0c-a487-57629ba18386"
      },
      "outputs": [],
      "source": [
        "df_A_B = pd.DataFrame({'판매월':['1월','2월','3월','4월'],\n",
        "                      '제품A':[100,150,200,130],\n",
        "                      '제품B':[90,110,140,170]})\n",
        "df_A_B"
      ]
    },
    {
      "cell_type": "code",
      "execution_count": null,
      "id": "bffd4a71-70b8-49d8-b600-37a3ccb502a8",
      "metadata": {
        "id": "bffd4a71-70b8-49d8-b600-37a3ccb502a8"
      },
      "outputs": [],
      "source": [
        "df_C_D = pd.DataFrame({'판매월': ['1월', '2월', '3월', '4월'],\n",
        "                       '제품C': [112, 141, 203, 134],\n",
        "                       '제품D': [90, 110, 140, 170]})\n",
        "\n",
        "df_C_D"
      ]
    },
    {
      "cell_type": "code",
      "execution_count": null,
      "id": "d29e70eb-3c6d-4e9c-9b20-f9177e34733c",
      "metadata": {
        "id": "d29e70eb-3c6d-4e9c-9b20-f9177e34733c"
      },
      "outputs": [],
      "source": [
        "df_A_B.merge(df_C_D)"
      ]
    },
    {
      "cell_type": "code",
      "execution_count": null,
      "id": "6b2f0c0d-944d-4a0e-8ffe-6eb0b907bd90",
      "metadata": {
        "id": "6b2f0c0d-944d-4a0e-8ffe-6eb0b907bd90"
      },
      "outputs": [],
      "source": [
        "df_A_B.join(df_C_D) # 컬럼 중복시에는 MERGE를 사용한다"
      ]
    },
    {
      "cell_type": "code",
      "execution_count": null,
      "id": "52fb5138-1ef3-443a-8295-db03f9cabe9b",
      "metadata": {
        "id": "52fb5138-1ef3-443a-8295-db03f9cabe9b"
      },
      "outputs": [],
      "source": [
        "df_left = pd.DataFrame({'key':['A','B','C'], 'left': [1, 2, 3]})\n",
        "df_right = pd.DataFrame({'key':['A','B','D'], 'right': [4, 5, 6]})"
      ]
    },
    {
      "cell_type": "code",
      "execution_count": null,
      "id": "a919c897-45e8-4ba7-9a85-c83548e344b5",
      "metadata": {
        "id": "a919c897-45e8-4ba7-9a85-c83548e344b5"
      },
      "outputs": [],
      "source": [
        "df_left.merge(df_right, how='left', on='key') # 해당되지 않는 값은 삭제"
      ]
    },
    {
      "cell_type": "code",
      "execution_count": null,
      "id": "6a9e83b2-c40c-4940-9fe3-c96f78772ac4",
      "metadata": {
        "id": "6a9e83b2-c40c-4940-9fe3-c96f78772ac4"
      },
      "outputs": [],
      "source": [
        "df_left.merge(df_right, how='right', on='key')"
      ]
    },
    {
      "cell_type": "code",
      "execution_count": null,
      "id": "d7977eab-0cd9-482d-863b-14af8f516dd4",
      "metadata": {
        "id": "d7977eab-0cd9-482d-863b-14af8f516dd4"
      },
      "outputs": [],
      "source": [
        "df_left.merge(df_right, how='outer', on='key') # FULL JOIN"
      ]
    },
    {
      "cell_type": "code",
      "execution_count": null,
      "id": "d7d7ab75-b2c0-42a9-8b90-7f8ef06a33bb",
      "metadata": {
        "id": "d7d7ab75-b2c0-42a9-8b90-7f8ef06a33bb"
      },
      "outputs": [],
      "source": [
        "df_left.merge(df_right, how='inner', on='key') # 교집합"
      ]
    },
    {
      "cell_type": "code",
      "execution_count": null,
      "id": "11f77f06-d471-4b10-bbf6-039b1facc31e",
      "metadata": {
        "id": "11f77f06-d471-4b10-bbf6-039b1facc31e",
        "outputId": "2c268c08-71aa-4b91-f792-87bcad891dd6"
      },
      "outputs": [
        {
          "name": "stderr",
          "output_type": "stream",
          "text": [
            "\n",
            "[notice] A new release of pip is available: 23.3.1 -> 23.3.2\n",
            "[notice] To update, run: python.exe -m pip install --upgrade pip\n"
          ]
        },
        {
          "name": "stdout",
          "output_type": "stream",
          "text": [
            "Requirement already satisfied: openpyxl in c:\\users\\yewon\\desktop\\projectds\\venv\\lib\\site-packages (3.1.2)\n",
            "Requirement already satisfied: et-xmlfile in c:\\users\\yewon\\desktop\\projectds\\venv\\lib\\site-packages (from openpyxl) (1.1.0)\n"
          ]
        }
      ],
      "source": [
        "!pip install openpyxl"
      ]
    },
    {
      "cell_type": "code",
      "execution_count": null,
      "id": "3fbbba1a-5912-4841-9fe4-38d14705a930",
      "metadata": {
        "id": "3fbbba1a-5912-4841-9fe4-38d14705a930",
        "outputId": "7ecf23b5-8b11-4dae-b568-51f2a99694b0"
      },
      "outputs": [
        {
          "data": {
            "text/html": [
              "<div>\n",
              "<style scoped>\n",
              "    .dataframe tbody tr th:only-of-type {\n",
              "        vertical-align: middle;\n",
              "    }\n",
              "\n",
              "    .dataframe tbody tr th {\n",
              "        vertical-align: top;\n",
              "    }\n",
              "\n",
              "    .dataframe thead th {\n",
              "        text-align: right;\n",
              "    }\n",
              "</style>\n",
              "<table border=\"1\" class=\"dataframe\">\n",
              "  <thead>\n",
              "    <tr style=\"text-align: right;\">\n",
              "      <th></th>\n",
              "      <th>학생</th>\n",
              "      <th>국어</th>\n",
              "      <th>영어</th>\n",
              "      <th>수학</th>\n",
              "      <th>평균</th>\n",
              "    </tr>\n",
              "  </thead>\n",
              "  <tbody>\n",
              "    <tr>\n",
              "      <th>0</th>\n",
              "      <td>A</td>\n",
              "      <td>80</td>\n",
              "      <td>90</td>\n",
              "      <td>85</td>\n",
              "      <td>85.000000</td>\n",
              "    </tr>\n",
              "    <tr>\n",
              "      <th>1</th>\n",
              "      <td>B</td>\n",
              "      <td>90</td>\n",
              "      <td>95</td>\n",
              "      <td>95</td>\n",
              "      <td>93.333333</td>\n",
              "    </tr>\n",
              "    <tr>\n",
              "      <th>2</th>\n",
              "      <td>C</td>\n",
              "      <td>95</td>\n",
              "      <td>70</td>\n",
              "      <td>75</td>\n",
              "      <td>80.000000</td>\n",
              "    </tr>\n",
              "    <tr>\n",
              "      <th>3</th>\n",
              "      <td>D</td>\n",
              "      <td>70</td>\n",
              "      <td>85</td>\n",
              "      <td>80</td>\n",
              "      <td>78.333333</td>\n",
              "    </tr>\n",
              "    <tr>\n",
              "      <th>4</th>\n",
              "      <td>E</td>\n",
              "      <td>75</td>\n",
              "      <td>90</td>\n",
              "      <td>85</td>\n",
              "      <td>83.333333</td>\n",
              "    </tr>\n",
              "  </tbody>\n",
              "</table>\n",
              "</div>"
            ],
            "text/plain": [
              "  학생  국어  영어  수학         평균\n",
              "0  A  80  90  85  85.000000\n",
              "1  B  90  95  95  93.333333\n",
              "2  C  95  70  75  80.000000\n",
              "3  D  70  85  80  78.333333\n",
              "4  E  75  90  85  83.333333"
            ]
          },
          "execution_count": 1,
          "metadata": {},
          "output_type": "execute_result"
        }
      ],
      "source": [
        "import pandas as pd\n",
        "\n",
        "df = pd.read_excel('data/학생시험성적.xlsx')\n",
        "df"
      ]
    },
    {
      "cell_type": "code",
      "execution_count": null,
      "id": "32e7022e-c6c6-4be7-9b3e-23e6f7cfc91f",
      "metadata": {
        "id": "32e7022e-c6c6-4be7-9b3e-23e6f7cfc91f"
      },
      "outputs": [],
      "source": [
        "op.__version__"
      ]
    },
    {
      "cell_type": "code",
      "execution_count": null,
      "id": "079de8d1-fedd-433c-b1fc-a87942443b88",
      "metadata": {
        "id": "079de8d1-fedd-433c-b1fc-a87942443b88"
      },
      "outputs": [],
      "source": [
        "pip list"
      ]
    },
    {
      "cell_type": "code",
      "execution_count": null,
      "id": "34b6a172-197c-4742-9413-c707c0d4ac4e",
      "metadata": {
        "id": "34b6a172-197c-4742-9413-c707c0d4ac4e",
        "outputId": "f8ef9ff4-b3b7-4dd5-ab77-e9ac7a26d4ea"
      },
      "outputs": [
        {
          "data": {
            "text/html": [
              "<div>\n",
              "<style scoped>\n",
              "    .dataframe tbody tr th:only-of-type {\n",
              "        vertical-align: middle;\n",
              "    }\n",
              "\n",
              "    .dataframe tbody tr th {\n",
              "        vertical-align: top;\n",
              "    }\n",
              "\n",
              "    .dataframe thead th {\n",
              "        text-align: right;\n",
              "    }\n",
              "</style>\n",
              "<table border=\"1\" class=\"dataframe\">\n",
              "  <thead>\n",
              "    <tr style=\"text-align: right;\">\n",
              "      <th></th>\n",
              "      <th>연도</th>\n",
              "      <th>동해</th>\n",
              "      <th>남해</th>\n",
              "      <th>서해</th>\n",
              "      <th>전체</th>\n",
              "    </tr>\n",
              "  </thead>\n",
              "  <tbody>\n",
              "    <tr>\n",
              "      <th>0</th>\n",
              "      <td>1996</td>\n",
              "      <td>17.4629</td>\n",
              "      <td>17.2288</td>\n",
              "      <td>14.4360</td>\n",
              "      <td>15.9067</td>\n",
              "    </tr>\n",
              "    <tr>\n",
              "      <th>1</th>\n",
              "      <td>1997</td>\n",
              "      <td>17.4116</td>\n",
              "      <td>17.4092</td>\n",
              "      <td>14.8248</td>\n",
              "      <td>16.1526</td>\n",
              "    </tr>\n",
              "    <tr>\n",
              "      <th>2</th>\n",
              "      <td>1998</td>\n",
              "      <td>17.5944</td>\n",
              "      <td>18.0110</td>\n",
              "      <td>15.2512</td>\n",
              "      <td>16.6044</td>\n",
              "    </tr>\n",
              "    <tr>\n",
              "      <th>3</th>\n",
              "      <td>1999</td>\n",
              "      <td>18.1495</td>\n",
              "      <td>18.3175</td>\n",
              "      <td>14.8979</td>\n",
              "      <td>16.6284</td>\n",
              "    </tr>\n",
              "    <tr>\n",
              "      <th>4</th>\n",
              "      <td>2000</td>\n",
              "      <td>17.9288</td>\n",
              "      <td>18.1766</td>\n",
              "      <td>15.0504</td>\n",
              "      <td>16.6178</td>\n",
              "    </tr>\n",
              "  </tbody>\n",
              "</table>\n",
              "</div>"
            ],
            "text/plain": [
              "     연도       동해       남해       서해       전체\n",
              "0  1996  17.4629  17.2288  14.4360  15.9067\n",
              "1  1997  17.4116  17.4092  14.8248  16.1526\n",
              "2  1998  17.5944  18.0110  15.2512  16.6044\n",
              "3  1999  18.1495  18.3175  14.8979  16.6284\n",
              "4  2000  17.9288  18.1766  15.0504  16.6178"
            ]
          },
          "execution_count": 3,
          "metadata": {},
          "output_type": "execute_result"
        }
      ],
      "source": [
        "# 파일 불러올 때 인코딩 확인\n",
        "pd.read_csv('data/sea_rain1_from_notepad.csv', encoding=\"cp949\")"
      ]
    },
    {
      "cell_type": "code",
      "execution_count": null,
      "id": "733d8cc3-eeaf-4c7e-80bf-6fc00d1a12e9",
      "metadata": {
        "id": "733d8cc3-eeaf-4c7e-80bf-6fc00d1a12e9",
        "outputId": "ddeac0e9-e797-41d6-aa11-6ac17813fff0"
      },
      "outputs": [
        {
          "data": {
            "text/html": [
              "<div>\n",
              "<style scoped>\n",
              "    .dataframe tbody tr th:only-of-type {\n",
              "        vertical-align: middle;\n",
              "    }\n",
              "\n",
              "    .dataframe tbody tr th {\n",
              "        vertical-align: top;\n",
              "    }\n",
              "\n",
              "    .dataframe thead th {\n",
              "        text-align: right;\n",
              "    }\n",
              "</style>\n",
              "<table border=\"1\" class=\"dataframe\">\n",
              "  <thead>\n",
              "    <tr style=\"text-align: right;\">\n",
              "      <th></th>\n",
              "      <th>과학</th>\n",
              "      <th>사회</th>\n",
              "      <th>역사</th>\n",
              "      <th>평균</th>\n",
              "    </tr>\n",
              "    <tr>\n",
              "      <th>학생</th>\n",
              "      <th></th>\n",
              "      <th></th>\n",
              "      <th></th>\n",
              "      <th></th>\n",
              "    </tr>\n",
              "  </thead>\n",
              "  <tbody>\n",
              "    <tr>\n",
              "      <th>A</th>\n",
              "      <td>90</td>\n",
              "      <td>95</td>\n",
              "      <td>85</td>\n",
              "      <td>90.000000</td>\n",
              "    </tr>\n",
              "    <tr>\n",
              "      <th>B</th>\n",
              "      <td>85</td>\n",
              "      <td>90</td>\n",
              "      <td>80</td>\n",
              "      <td>85.000000</td>\n",
              "    </tr>\n",
              "    <tr>\n",
              "      <th>C</th>\n",
              "      <td>70</td>\n",
              "      <td>80</td>\n",
              "      <td>75</td>\n",
              "      <td>75.000000</td>\n",
              "    </tr>\n",
              "    <tr>\n",
              "      <th>D</th>\n",
              "      <td>75</td>\n",
              "      <td>90</td>\n",
              "      <td>100</td>\n",
              "      <td>88.333333</td>\n",
              "    </tr>\n",
              "    <tr>\n",
              "      <th>E</th>\n",
              "      <td>90</td>\n",
              "      <td>80</td>\n",
              "      <td>90</td>\n",
              "      <td>86.666667</td>\n",
              "    </tr>\n",
              "  </tbody>\n",
              "</table>\n",
              "</div>"
            ],
            "text/plain": [
              "    과학  사회   역사         평균\n",
              "학생                        \n",
              "A   90  95   85  90.000000\n",
              "B   85  90   80  85.000000\n",
              "C   70  80   75  75.000000\n",
              "D   75  90  100  88.333333\n",
              "E   90  80   90  86.666667"
            ]
          },
          "execution_count": 4,
          "metadata": {},
          "output_type": "execute_result"
        }
      ],
      "source": [
        "df = pd.read_excel(\"data/학생시험성적.xlsx\", sheet_name = '2차시험', index_col = '학생')\n",
        "df"
      ]
    },
    {
      "cell_type": "code",
      "execution_count": null,
      "id": "a1154878-9632-41e6-b62a-800357a4c0c7",
      "metadata": {
        "id": "a1154878-9632-41e6-b62a-800357a4c0c7",
        "outputId": "dbd5c0b1-5495-40d8-ed1c-b3671a9dadaa"
      },
      "outputs": [
        {
          "name": "stdout",
          "output_type": "stream",
          "text": [
            "Collecting xlsxwriter\n",
            "  Downloading XlsxWriter-3.1.9-py3-none-any.whl.metadata (2.6 kB)\n",
            "Downloading XlsxWriter-3.1.9-py3-none-any.whl (154 kB)\n",
            "   ---------------------------------------- 0.0/154.8 kB ? eta -:--:--\n",
            "   ------- ------------------------------- 30.7/154.8 kB 660.6 kB/s eta 0:00:01\n",
            "   ---------------------------------------- 154.8/154.8 kB 1.9 MB/s eta 0:00:00\n",
            "Installing collected packages: xlsxwriter\n",
            "Successfully installed xlsxwriter-3.1.9\n"
          ]
        },
        {
          "name": "stderr",
          "output_type": "stream",
          "text": [
            "\n",
            "[notice] A new release of pip is available: 23.3.1 -> 23.3.2\n",
            "[notice] To update, run: python.exe -m pip install --upgrade pip\n"
          ]
        }
      ],
      "source": [
        "!pip install xlsxwriter"
      ]
    },
    {
      "cell_type": "code",
      "execution_count": null,
      "id": "283bf223-45a4-45b6-92eb-0fb349804d1e",
      "metadata": {
        "id": "283bf223-45a4-45b6-92eb-0fb349804d1e"
      },
      "outputs": [],
      "source": [
        "df1 = pd.read_csv(\"data/sea_rain1_from_notepad.csv\", encoding=\"cp949\")\n",
        "df1.to_excel(\"data/output.xlsx\")"
      ]
    },
    {
      "cell_type": "code",
      "execution_count": null,
      "id": "86ec0dba-fb07-4c36-b3f9-c24180497535",
      "metadata": {
        "id": "86ec0dba-fb07-4c36-b3f9-c24180497535",
        "outputId": "6b8d3ec7-cdbc-450c-c2e8-0155f816ea3a"
      },
      "outputs": [
        {
          "ename": "AttributeError",
          "evalue": "'XlsxWriter' object has no attribute 'save'",
          "output_type": "error",
          "traceback": [
            "\u001b[1;31m---------------------------------------------------------------------------\u001b[0m",
            "\u001b[1;31mAttributeError\u001b[0m                            Traceback (most recent call last)",
            "Cell \u001b[1;32mIn[8], line 3\u001b[0m\n\u001b[0;32m      1\u001b[0m excel_writer \u001b[38;5;241m=\u001b[39m pd\u001b[38;5;241m.\u001b[39mExcelWriter(\u001b[38;5;124m\"\u001b[39m\u001b[38;5;124mdata/학생시험성적.xlsx\u001b[39m\u001b[38;5;124m\"\u001b[39m, engine\u001b[38;5;241m=\u001b[39m\u001b[38;5;124m'\u001b[39m\u001b[38;5;124mxlsxwriter\u001b[39m\u001b[38;5;124m'\u001b[39m)\n\u001b[0;32m      2\u001b[0m df1\u001b[38;5;241m.\u001b[39mto_excel(excel_writer, index\u001b[38;5;241m=\u001b[39m\u001b[38;5;28;01mFalse\u001b[39;00m)\n\u001b[1;32m----> 3\u001b[0m \u001b[43mexcel_writer\u001b[49m\u001b[38;5;241;43m.\u001b[39;49m\u001b[43msave\u001b[49m()\n\u001b[0;32m      5\u001b[0m \u001b[38;5;66;03m# df = pd.read_csv('data/result.xlsx', encoding=\"cp949\")\u001b[39;00m\n\u001b[0;32m      6\u001b[0m \u001b[38;5;66;03m# df.to_excel(df, index=False)\u001b[39;00m\n",
            "\u001b[1;31mAttributeError\u001b[0m: 'XlsxWriter' object has no attribute 'save'"
          ]
        }
      ],
      "source": [
        "# 350p # 엑셀 자동화할 때 적용 - pd.ExcelWriter\n",
        "# excel_writer = pd.ExcelWriter(\"data/학생시험성적.xlsx\", engine='xlsxwriter')\n",
        "# df1.to_excel(excel_writer, index=False)\n",
        "# excel_writer.save()"
      ]
    },
    {
      "cell_type": "markdown",
      "id": "817ea992-e4ec-40df-af9f-8f45d272ad35",
      "metadata": {
        "id": "817ea992-e4ec-40df-af9f-8f45d272ad35"
      },
      "source": [
        "## 엑셀 자동화\n",
        "- 정의 : 엑셀 시트 보고서를 제작해서 매일매일 보고를 해야할 때 엑셀 자동화\n",
        " + 엑셀 Cell 색상 변경 등, VBA 코드도 추가\n",
        " + RPA 과정\n",
        " + openpyxl, xlsxwriter 두개 라이브러리 사용"
      ]
    },
    {
      "cell_type": "code",
      "execution_count": null,
      "id": "f2bdb1db-7959-40df-a925-e57ce43dd9ef",
      "metadata": {
        "id": "f2bdb1db-7959-40df-a925-e57ce43dd9ef"
      },
      "outputs": [],
      "source": []
    }
  ],
  "metadata": {
    "kernelspec": {
      "display_name": "Python 3 (ipykernel)",
      "language": "python",
      "name": "python3"
    },
    "language_info": {
      "codemirror_mode": {
        "name": "ipython",
        "version": 3
      },
      "file_extension": ".py",
      "mimetype": "text/x-python",
      "name": "python",
      "nbconvert_exporter": "python",
      "pygments_lexer": "ipython3",
      "version": "3.11.5"
    },
    "colab": {
      "provenance": [],
      "include_colab_link": true
    }
  },
  "nbformat": 4,
  "nbformat_minor": 5
}