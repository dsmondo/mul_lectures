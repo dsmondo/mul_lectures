{
  "cells": [
    {
      "cell_type": "markdown",
      "metadata": {
        "id": "view-in-github",
        "colab_type": "text"
      },
      "source": [
        "<a href=\"https://colab.research.google.com/github/yewon91/mul_lectures/blob/main/pandas_240109.ipynb\" target=\"_parent\"><img src=\"https://colab.research.google.com/assets/colab-badge.svg\" alt=\"Open In Colab\"/></a>"
      ]
    },
    {
      "cell_type": "code",
      "execution_count": null,
      "id": "7b82f756-54cd-4f49-bffd-06766665a95f",
      "metadata": {
        "id": "7b82f756-54cd-4f49-bffd-06766665a95f",
        "outputId": "7fc34880-5eb6-43f5-fb64-601757bf5ae1"
      },
      "outputs": [
        {
          "data": {
            "text/html": [
              "<div>\n",
              "<style scoped>\n",
              "    .dataframe tbody tr th:only-of-type {\n",
              "        vertical-align: middle;\n",
              "    }\n",
              "\n",
              "    .dataframe tbody tr th {\n",
              "        vertical-align: top;\n",
              "    }\n",
              "\n",
              "    .dataframe thead th {\n",
              "        text-align: right;\n",
              "    }\n",
              "</style>\n",
              "<table border=\"1\" class=\"dataframe\">\n",
              "  <thead>\n",
              "    <tr style=\"text-align: right;\">\n",
              "      <th></th>\n",
              "      <th>Date</th>\n",
              "      <th>Location</th>\n",
              "      <th>Lemon</th>\n",
              "      <th>Orange</th>\n",
              "      <th>Temperature</th>\n",
              "      <th>Leaflets</th>\n",
              "      <th>Price</th>\n",
              "    </tr>\n",
              "  </thead>\n",
              "  <tbody>\n",
              "    <tr>\n",
              "      <th>0</th>\n",
              "      <td>7/1/2016</td>\n",
              "      <td>Park</td>\n",
              "      <td>97</td>\n",
              "      <td>67</td>\n",
              "      <td>70</td>\n",
              "      <td>90.0</td>\n",
              "      <td>0.25</td>\n",
              "    </tr>\n",
              "    <tr>\n",
              "      <th>1</th>\n",
              "      <td>7/2/2016</td>\n",
              "      <td>Park</td>\n",
              "      <td>98</td>\n",
              "      <td>67</td>\n",
              "      <td>72</td>\n",
              "      <td>90.0</td>\n",
              "      <td>0.25</td>\n",
              "    </tr>\n",
              "    <tr>\n",
              "      <th>2</th>\n",
              "      <td>7/3/2016</td>\n",
              "      <td>Park</td>\n",
              "      <td>110</td>\n",
              "      <td>77</td>\n",
              "      <td>71</td>\n",
              "      <td>104.0</td>\n",
              "      <td>0.25</td>\n",
              "    </tr>\n",
              "    <tr>\n",
              "      <th>3</th>\n",
              "      <td>7/4/2016</td>\n",
              "      <td>Beach</td>\n",
              "      <td>134</td>\n",
              "      <td>99</td>\n",
              "      <td>76</td>\n",
              "      <td>98.0</td>\n",
              "      <td>0.25</td>\n",
              "    </tr>\n",
              "    <tr>\n",
              "      <th>4</th>\n",
              "      <td>7/5/2016</td>\n",
              "      <td>Beach</td>\n",
              "      <td>159</td>\n",
              "      <td>118</td>\n",
              "      <td>78</td>\n",
              "      <td>135.0</td>\n",
              "      <td>0.25</td>\n",
              "    </tr>\n",
              "  </tbody>\n",
              "</table>\n",
              "</div>"
            ],
            "text/plain": [
              "       Date Location  Lemon  Orange  Temperature  Leaflets  Price\n",
              "0  7/1/2016     Park     97      67           70      90.0   0.25\n",
              "1  7/2/2016     Park     98      67           72      90.0   0.25\n",
              "2  7/3/2016     Park    110      77           71     104.0   0.25\n",
              "3  7/4/2016    Beach    134      99           76      98.0   0.25\n",
              "4  7/5/2016    Beach    159     118           78     135.0   0.25"
            ]
          },
          "execution_count": 4,
          "metadata": {},
          "output_type": "execute_result"
        }
      ],
      "source": [
        "import pandas as pd\n",
        "\n",
        "df = pd.read_csv(\"data/Lemonade2016.csv\")\n",
        "df.head()"
      ]
    },
    {
      "cell_type": "markdown",
      "id": "340ebe4e-0204-4839-bfb5-bbb2674dce0d",
      "metadata": {
        "id": "340ebe4e-0204-4839-bfb5-bbb2674dce0d"
      },
      "source": [
        "## 데이터 둘러보기\n",
        "- 첫번째 확인: 결측치(=값이 중간에 비어있음)가 존재하는지 확인\n",
        "- 데이터 분석을 할 때, 결측치가 왜 있으면 안될까?\n",
        "  + 수식이 작동 x, 값을 도출할 수가 없음"
      ]
    },
    {
      "cell_type": "code",
      "execution_count": null,
      "id": "0516c70c-6a3c-4a53-a764-ce50caac2faa",
      "metadata": {
        "id": "0516c70c-6a3c-4a53-a764-ce50caac2faa",
        "outputId": "aaa87cc2-f2ae-4364-fdb3-ea7282f0626d"
      },
      "outputs": [
        {
          "name": "stdout",
          "output_type": "stream",
          "text": [
            "<class 'pandas.core.frame.DataFrame'>\n",
            "RangeIndex: 32 entries, 0 to 31\n",
            "Data columns (total 7 columns):\n",
            " #   Column       Non-Null Count  Dtype  \n",
            "---  ------       --------------  -----  \n",
            " 0   Date         31 non-null     object \n",
            " 1   Location     32 non-null     object \n",
            " 2   Lemon        32 non-null     int64  \n",
            " 3   Orange       32 non-null     int64  \n",
            " 4   Temperature  32 non-null     int64  \n",
            " 5   Leaflets     31 non-null     float64\n",
            " 6   Price        32 non-null     float64\n",
            "dtypes: float64(2), int64(3), object(2)\n",
            "memory usage: 1.9+ KB\n"
          ]
        }
      ],
      "source": [
        "df.info()"
      ]
    },
    {
      "cell_type": "code",
      "execution_count": null,
      "id": "0d991e61-3779-43f5-9ff4-8a01db506bf2",
      "metadata": {
        "id": "0d991e61-3779-43f5-9ff4-8a01db506bf2",
        "outputId": "c931f910-2e7d-476a-ac58-65d8ec6788b1"
      },
      "outputs": [
        {
          "data": {
            "text/html": [
              "<div>\n",
              "<style scoped>\n",
              "    .dataframe tbody tr th:only-of-type {\n",
              "        vertical-align: middle;\n",
              "    }\n",
              "\n",
              "    .dataframe tbody tr th {\n",
              "        vertical-align: top;\n",
              "    }\n",
              "\n",
              "    .dataframe thead th {\n",
              "        text-align: right;\n",
              "    }\n",
              "</style>\n",
              "<table border=\"1\" class=\"dataframe\">\n",
              "  <thead>\n",
              "    <tr style=\"text-align: right;\">\n",
              "      <th></th>\n",
              "      <th>Lemon</th>\n",
              "      <th>Orange</th>\n",
              "      <th>Temperature</th>\n",
              "      <th>Leaflets</th>\n",
              "      <th>Price</th>\n",
              "    </tr>\n",
              "  </thead>\n",
              "  <tbody>\n",
              "    <tr>\n",
              "      <th>count</th>\n",
              "      <td>32.000000</td>\n",
              "      <td>32.000000</td>\n",
              "      <td>32.000000</td>\n",
              "      <td>31.000000</td>\n",
              "      <td>32.000000</td>\n",
              "    </tr>\n",
              "    <tr>\n",
              "      <th>mean</th>\n",
              "      <td>116.156250</td>\n",
              "      <td>80.000000</td>\n",
              "      <td>78.968750</td>\n",
              "      <td>108.548387</td>\n",
              "      <td>0.354688</td>\n",
              "    </tr>\n",
              "    <tr>\n",
              "      <th>std</th>\n",
              "      <td>25.823357</td>\n",
              "      <td>21.863211</td>\n",
              "      <td>4.067847</td>\n",
              "      <td>20.117718</td>\n",
              "      <td>0.113137</td>\n",
              "    </tr>\n",
              "    <tr>\n",
              "      <th>min</th>\n",
              "      <td>71.000000</td>\n",
              "      <td>42.000000</td>\n",
              "      <td>70.000000</td>\n",
              "      <td>68.000000</td>\n",
              "      <td>0.250000</td>\n",
              "    </tr>\n",
              "    <tr>\n",
              "      <th>25%</th>\n",
              "      <td>98.000000</td>\n",
              "      <td>66.750000</td>\n",
              "      <td>77.000000</td>\n",
              "      <td>90.000000</td>\n",
              "      <td>0.250000</td>\n",
              "    </tr>\n",
              "    <tr>\n",
              "      <th>50%</th>\n",
              "      <td>113.500000</td>\n",
              "      <td>76.500000</td>\n",
              "      <td>80.500000</td>\n",
              "      <td>108.000000</td>\n",
              "      <td>0.350000</td>\n",
              "    </tr>\n",
              "    <tr>\n",
              "      <th>75%</th>\n",
              "      <td>131.750000</td>\n",
              "      <td>95.000000</td>\n",
              "      <td>82.000000</td>\n",
              "      <td>124.000000</td>\n",
              "      <td>0.500000</td>\n",
              "    </tr>\n",
              "    <tr>\n",
              "      <th>max</th>\n",
              "      <td>176.000000</td>\n",
              "      <td>129.000000</td>\n",
              "      <td>84.000000</td>\n",
              "      <td>158.000000</td>\n",
              "      <td>0.500000</td>\n",
              "    </tr>\n",
              "  </tbody>\n",
              "</table>\n",
              "</div>"
            ],
            "text/plain": [
              "            Lemon      Orange  Temperature    Leaflets      Price\n",
              "count   32.000000   32.000000    32.000000   31.000000  32.000000\n",
              "mean   116.156250   80.000000    78.968750  108.548387   0.354688\n",
              "std     25.823357   21.863211     4.067847   20.117718   0.113137\n",
              "min     71.000000   42.000000    70.000000   68.000000   0.250000\n",
              "25%     98.000000   66.750000    77.000000   90.000000   0.250000\n",
              "50%    113.500000   76.500000    80.500000  108.000000   0.350000\n",
              "75%    131.750000   95.000000    82.000000  124.000000   0.500000\n",
              "max    176.000000  129.000000    84.000000  158.000000   0.500000"
            ]
          },
          "execution_count": 6,
          "metadata": {},
          "output_type": "execute_result"
        }
      ],
      "source": [
        "df.describe() # 기술통계량 제공"
      ]
    },
    {
      "cell_type": "code",
      "execution_count": null,
      "id": "812c2a63-e611-4ba3-9f47-e99d4ae928e6",
      "metadata": {
        "id": "812c2a63-e611-4ba3-9f47-e99d4ae928e6",
        "outputId": "551ed0ba-21a7-4b57-be2e-ee83f836cbd9"
      },
      "outputs": [
        {
          "data": {
            "text/plain": [
              "Location\n",
              "Beach    17\n",
              "Park     15\n",
              "Name: count, dtype: int64"
            ]
          },
          "execution_count": 7,
          "metadata": {},
          "output_type": "execute_result"
        }
      ],
      "source": [
        "# 1인트럭 주스 판매\n",
        "df['Location'].value_counts()"
      ]
    },
    {
      "cell_type": "markdown",
      "id": "576b2b6b-765a-4cca-9893-6d777a0fc768",
      "metadata": {
        "id": "576b2b6b-765a-4cca-9893-6d777a0fc768"
      },
      "source": [
        "## 중복값 존재 유무 확인 및 중복값 제거\n",
        "- .duplicated()\n",
        "- .drop_duplicates()"
      ]
    },
    {
      "cell_type": "code",
      "execution_count": null,
      "id": "4f3a3bbf-f20b-436a-96b5-7a821d5293e3",
      "metadata": {
        "id": "4f3a3bbf-f20b-436a-96b5-7a821d5293e3",
        "outputId": "a3f8ae19-9ef6-4837-e7f1-4586c78ee6b1"
      },
      "outputs": [
        {
          "data": {
            "text/html": [
              "<div>\n",
              "<style scoped>\n",
              "    .dataframe tbody tr th:only-of-type {\n",
              "        vertical-align: middle;\n",
              "    }\n",
              "\n",
              "    .dataframe tbody tr th {\n",
              "        vertical-align: top;\n",
              "    }\n",
              "\n",
              "    .dataframe thead th {\n",
              "        text-align: right;\n",
              "    }\n",
              "</style>\n",
              "<table border=\"1\" class=\"dataframe\">\n",
              "  <thead>\n",
              "    <tr style=\"text-align: right;\">\n",
              "      <th></th>\n",
              "      <th>Date</th>\n",
              "      <th>Location</th>\n",
              "      <th>Lemon</th>\n",
              "      <th>Orange</th>\n",
              "      <th>Temperature</th>\n",
              "      <th>Leaflets</th>\n",
              "      <th>Price</th>\n",
              "    </tr>\n",
              "  </thead>\n",
              "  <tbody>\n",
              "    <tr>\n",
              "      <th>0</th>\n",
              "      <td>7/1/2016</td>\n",
              "      <td>Park</td>\n",
              "      <td>97</td>\n",
              "      <td>67</td>\n",
              "      <td>70</td>\n",
              "      <td>90.0</td>\n",
              "      <td>0.25</td>\n",
              "    </tr>\n",
              "    <tr>\n",
              "      <th>1</th>\n",
              "      <td>7/2/2016</td>\n",
              "      <td>Park</td>\n",
              "      <td>98</td>\n",
              "      <td>67</td>\n",
              "      <td>72</td>\n",
              "      <td>90.0</td>\n",
              "      <td>0.25</td>\n",
              "    </tr>\n",
              "    <tr>\n",
              "      <th>2</th>\n",
              "      <td>7/3/2016</td>\n",
              "      <td>Park</td>\n",
              "      <td>110</td>\n",
              "      <td>77</td>\n",
              "      <td>71</td>\n",
              "      <td>104.0</td>\n",
              "      <td>0.25</td>\n",
              "    </tr>\n",
              "    <tr>\n",
              "      <th>3</th>\n",
              "      <td>7/4/2016</td>\n",
              "      <td>Beach</td>\n",
              "      <td>134</td>\n",
              "      <td>99</td>\n",
              "      <td>76</td>\n",
              "      <td>98.0</td>\n",
              "      <td>0.25</td>\n",
              "    </tr>\n",
              "    <tr>\n",
              "      <th>4</th>\n",
              "      <td>7/5/2016</td>\n",
              "      <td>Beach</td>\n",
              "      <td>159</td>\n",
              "      <td>118</td>\n",
              "      <td>78</td>\n",
              "      <td>135.0</td>\n",
              "      <td>0.25</td>\n",
              "    </tr>\n",
              "    <tr>\n",
              "      <th>5</th>\n",
              "      <td>7/6/2016</td>\n",
              "      <td>Beach</td>\n",
              "      <td>103</td>\n",
              "      <td>69</td>\n",
              "      <td>82</td>\n",
              "      <td>90.0</td>\n",
              "      <td>0.25</td>\n",
              "    </tr>\n",
              "    <tr>\n",
              "      <th>6</th>\n",
              "      <td>7/6/2016</td>\n",
              "      <td>Beach</td>\n",
              "      <td>103</td>\n",
              "      <td>69</td>\n",
              "      <td>82</td>\n",
              "      <td>90.0</td>\n",
              "      <td>0.25</td>\n",
              "    </tr>\n",
              "    <tr>\n",
              "      <th>7</th>\n",
              "      <td>7/7/2016</td>\n",
              "      <td>Beach</td>\n",
              "      <td>143</td>\n",
              "      <td>101</td>\n",
              "      <td>81</td>\n",
              "      <td>135.0</td>\n",
              "      <td>0.25</td>\n",
              "    </tr>\n",
              "    <tr>\n",
              "      <th>8</th>\n",
              "      <td>NaN</td>\n",
              "      <td>Beach</td>\n",
              "      <td>123</td>\n",
              "      <td>86</td>\n",
              "      <td>82</td>\n",
              "      <td>113.0</td>\n",
              "      <td>0.25</td>\n",
              "    </tr>\n",
              "    <tr>\n",
              "      <th>9</th>\n",
              "      <td>7/9/2016</td>\n",
              "      <td>Beach</td>\n",
              "      <td>134</td>\n",
              "      <td>95</td>\n",
              "      <td>80</td>\n",
              "      <td>126.0</td>\n",
              "      <td>0.25</td>\n",
              "    </tr>\n",
              "  </tbody>\n",
              "</table>\n",
              "</div>"
            ],
            "text/plain": [
              "       Date Location  Lemon  Orange  Temperature  Leaflets  Price\n",
              "0  7/1/2016     Park     97      67           70      90.0   0.25\n",
              "1  7/2/2016     Park     98      67           72      90.0   0.25\n",
              "2  7/3/2016     Park    110      77           71     104.0   0.25\n",
              "3  7/4/2016    Beach    134      99           76      98.0   0.25\n",
              "4  7/5/2016    Beach    159     118           78     135.0   0.25\n",
              "5  7/6/2016    Beach    103      69           82      90.0   0.25\n",
              "6  7/6/2016    Beach    103      69           82      90.0   0.25\n",
              "7  7/7/2016    Beach    143     101           81     135.0   0.25\n",
              "8       NaN    Beach    123      86           82     113.0   0.25\n",
              "9  7/9/2016    Beach    134      95           80     126.0   0.25"
            ]
          },
          "execution_count": 8,
          "metadata": {},
          "output_type": "execute_result"
        }
      ],
      "source": [
        "df.head(10)"
      ]
    },
    {
      "cell_type": "markdown",
      "id": "3060adec-ee12-4904-b413-c4cc5ce65fd4",
      "metadata": {
        "id": "3060adec-ee12-4904-b413-c4cc5ce65fd4"
      },
      "source": [
        "## 데이터 다뤄보기\n",
        "- 행과 열 다뤄보기"
      ]
    },
    {
      "cell_type": "code",
      "execution_count": null,
      "id": "d9398265-92c7-49b3-a3b3-ad69b9ce5233",
      "metadata": {
        "id": "d9398265-92c7-49b3-a3b3-ad69b9ce5233",
        "outputId": "439739a2-74de-463e-cd53-7e05e55b4d3e"
      },
      "outputs": [
        {
          "data": {
            "text/html": [
              "<div>\n",
              "<style scoped>\n",
              "    .dataframe tbody tr th:only-of-type {\n",
              "        vertical-align: middle;\n",
              "    }\n",
              "\n",
              "    .dataframe tbody tr th {\n",
              "        vertical-align: top;\n",
              "    }\n",
              "\n",
              "    .dataframe thead th {\n",
              "        text-align: right;\n",
              "    }\n",
              "</style>\n",
              "<table border=\"1\" class=\"dataframe\">\n",
              "  <thead>\n",
              "    <tr style=\"text-align: right;\">\n",
              "      <th></th>\n",
              "      <th>Date</th>\n",
              "      <th>Location</th>\n",
              "      <th>Lemon</th>\n",
              "      <th>Orange</th>\n",
              "      <th>Temperature</th>\n",
              "      <th>Leaflets</th>\n",
              "      <th>Price</th>\n",
              "      <th>Sold</th>\n",
              "    </tr>\n",
              "  </thead>\n",
              "  <tbody>\n",
              "    <tr>\n",
              "      <th>0</th>\n",
              "      <td>7/1/2016</td>\n",
              "      <td>Park</td>\n",
              "      <td>97</td>\n",
              "      <td>67</td>\n",
              "      <td>70</td>\n",
              "      <td>90.0</td>\n",
              "      <td>0.25</td>\n",
              "      <td>0</td>\n",
              "    </tr>\n",
              "  </tbody>\n",
              "</table>\n",
              "</div>"
            ],
            "text/plain": [
              "       Date Location  Lemon  Orange  Temperature  Leaflets  Price  Sold\n",
              "0  7/1/2016     Park     97      67           70      90.0   0.25     0"
            ]
          },
          "execution_count": 9,
          "metadata": {},
          "output_type": "execute_result"
        }
      ],
      "source": [
        "# 판매량 추가\n",
        "df['Sold'] = 0\n",
        "df.head(1)"
      ]
    },
    {
      "cell_type": "code",
      "execution_count": null,
      "id": "42b76bc4-826d-49e3-92e0-265f322116fc",
      "metadata": {
        "id": "42b76bc4-826d-49e3-92e0-265f322116fc",
        "outputId": "85e9e117-f84b-419a-cbdb-bf52b73b8018"
      },
      "outputs": [
        {
          "data": {
            "text/html": [
              "<div>\n",
              "<style scoped>\n",
              "    .dataframe tbody tr th:only-of-type {\n",
              "        vertical-align: middle;\n",
              "    }\n",
              "\n",
              "    .dataframe tbody tr th {\n",
              "        vertical-align: top;\n",
              "    }\n",
              "\n",
              "    .dataframe thead th {\n",
              "        text-align: right;\n",
              "    }\n",
              "</style>\n",
              "<table border=\"1\" class=\"dataframe\">\n",
              "  <thead>\n",
              "    <tr style=\"text-align: right;\">\n",
              "      <th></th>\n",
              "      <th>Date</th>\n",
              "      <th>Location</th>\n",
              "      <th>Lemon</th>\n",
              "      <th>Orange</th>\n",
              "      <th>Temperature</th>\n",
              "      <th>Leaflets</th>\n",
              "      <th>Price</th>\n",
              "      <th>Sold</th>\n",
              "    </tr>\n",
              "  </thead>\n",
              "  <tbody>\n",
              "    <tr>\n",
              "      <th>0</th>\n",
              "      <td>7/1/2016</td>\n",
              "      <td>Park</td>\n",
              "      <td>97</td>\n",
              "      <td>67</td>\n",
              "      <td>70</td>\n",
              "      <td>90.0</td>\n",
              "      <td>0.25</td>\n",
              "      <td>164</td>\n",
              "    </tr>\n",
              "  </tbody>\n",
              "</table>\n",
              "</div>"
            ],
            "text/plain": [
              "       Date Location  Lemon  Orange  Temperature  Leaflets  Price  Sold\n",
              "0  7/1/2016     Park     97      67           70      90.0   0.25   164"
            ]
          },
          "execution_count": 10,
          "metadata": {},
          "output_type": "execute_result"
        }
      ],
      "source": [
        "df['Sold'] = df['Lemon'] + df['Orange']\n",
        "df.head(1)"
      ]
    },
    {
      "cell_type": "code",
      "execution_count": null,
      "id": "698425f3-0875-4fe8-8d53-05145e33fc7a",
      "metadata": {
        "id": "698425f3-0875-4fe8-8d53-05145e33fc7a",
        "outputId": "330065a4-94d5-48d4-d695-8210c9b4bebf"
      },
      "outputs": [
        {
          "data": {
            "text/html": [
              "<div>\n",
              "<style scoped>\n",
              "    .dataframe tbody tr th:only-of-type {\n",
              "        vertical-align: middle;\n",
              "    }\n",
              "\n",
              "    .dataframe tbody tr th {\n",
              "        vertical-align: top;\n",
              "    }\n",
              "\n",
              "    .dataframe thead th {\n",
              "        text-align: right;\n",
              "    }\n",
              "</style>\n",
              "<table border=\"1\" class=\"dataframe\">\n",
              "  <thead>\n",
              "    <tr style=\"text-align: right;\">\n",
              "      <th></th>\n",
              "      <th>Date</th>\n",
              "      <th>Location</th>\n",
              "      <th>Lemon</th>\n",
              "      <th>Orange</th>\n",
              "      <th>Temperature</th>\n",
              "      <th>Leaflets</th>\n",
              "      <th>Price</th>\n",
              "      <th>Sold</th>\n",
              "      <th>Sales</th>\n",
              "    </tr>\n",
              "  </thead>\n",
              "  <tbody>\n",
              "    <tr>\n",
              "      <th>0</th>\n",
              "      <td>7/1/2016</td>\n",
              "      <td>Park</td>\n",
              "      <td>97</td>\n",
              "      <td>67</td>\n",
              "      <td>70</td>\n",
              "      <td>90.0</td>\n",
              "      <td>0.25</td>\n",
              "      <td>164</td>\n",
              "      <td>41.0</td>\n",
              "    </tr>\n",
              "  </tbody>\n",
              "</table>\n",
              "</div>"
            ],
            "text/plain": [
              "       Date Location  Lemon  Orange  Temperature  Leaflets  Price  Sold  Sales\n",
              "0  7/1/2016     Park     97      67           70      90.0   0.25   164   41.0"
            ]
          },
          "execution_count": 11,
          "metadata": {},
          "output_type": "execute_result"
        }
      ],
      "source": [
        "# 매출액 구하기\n",
        "df['Sales'] = df['Price'] * df['Sold']\n",
        "df.head(1)"
      ]
    },
    {
      "cell_type": "code",
      "execution_count": null,
      "id": "bcfaa820-3e3f-42b7-91f6-d48da837af21",
      "metadata": {
        "id": "bcfaa820-3e3f-42b7-91f6-d48da837af21",
        "outputId": "015be69f-6deb-4d66-8b1e-ba4537e95a62"
      },
      "outputs": [
        {
          "name": "stdout",
          "output_type": "stream",
          "text": [
            "<class 'pandas.core.frame.DataFrame'>\n",
            "RangeIndex: 31 entries, 0 to 30\n",
            "Data columns (total 9 columns):\n",
            " #   Column       Non-Null Count  Dtype  \n",
            "---  ------       --------------  -----  \n",
            " 0   Date         30 non-null     object \n",
            " 1   Location     31 non-null     object \n",
            " 2   Lemon        31 non-null     int64  \n",
            " 3   Orange       31 non-null     int64  \n",
            " 4   Temperature  31 non-null     int64  \n",
            " 5   Leaflets     30 non-null     float64\n",
            " 6   Price        31 non-null     float64\n",
            " 7   Sold         31 non-null     int64  \n",
            " 8   Sales        31 non-null     float64\n",
            "dtypes: float64(3), int64(4), object(2)\n",
            "memory usage: 2.3+ KB\n"
          ]
        },
        {
          "data": {
            "text/html": [
              "<div>\n",
              "<style scoped>\n",
              "    .dataframe tbody tr th:only-of-type {\n",
              "        vertical-align: middle;\n",
              "    }\n",
              "\n",
              "    .dataframe tbody tr th {\n",
              "        vertical-align: top;\n",
              "    }\n",
              "\n",
              "    .dataframe thead th {\n",
              "        text-align: right;\n",
              "    }\n",
              "</style>\n",
              "<table border=\"1\" class=\"dataframe\">\n",
              "  <thead>\n",
              "    <tr style=\"text-align: right;\">\n",
              "      <th></th>\n",
              "      <th>Date</th>\n",
              "      <th>Location</th>\n",
              "      <th>Lemon</th>\n",
              "      <th>Orange</th>\n",
              "      <th>Temperature</th>\n",
              "      <th>Leaflets</th>\n",
              "      <th>Price</th>\n",
              "      <th>Sold</th>\n",
              "      <th>Sales</th>\n",
              "    </tr>\n",
              "  </thead>\n",
              "  <tbody>\n",
              "    <tr>\n",
              "      <th>0</th>\n",
              "      <td>7/1/2016</td>\n",
              "      <td>Park</td>\n",
              "      <td>97</td>\n",
              "      <td>67</td>\n",
              "      <td>70</td>\n",
              "      <td>90.0</td>\n",
              "      <td>0.25</td>\n",
              "      <td>164</td>\n",
              "      <td>41.0</td>\n",
              "    </tr>\n",
              "  </tbody>\n",
              "</table>\n",
              "</div>"
            ],
            "text/plain": [
              "       Date Location  Lemon  Orange  Temperature  Leaflets  Price  Sold  Sales\n",
              "0  7/1/2016     Park     97      67           70      90.0   0.25   164   41.0"
            ]
          },
          "execution_count": 13,
          "metadata": {},
          "output_type": "execute_result"
        }
      ],
      "source": [
        "df = df.drop_duplicates(keep = 'first', ignore_index=True)\n",
        "df.info()\n",
        "df.head(1)"
      ]
    },
    {
      "cell_type": "markdown",
      "id": "ad8f0f5c-8c94-4504-8b4f-f715da1b43af",
      "metadata": {
        "id": "ad8f0f5c-8c94-4504-8b4f-f715da1b43af"
      },
      "source": [
        "## 분석 프로젝트\n",
        "- 파생변수 매출액을 사칙연산(=알고리즘)을 활용해 만들어서 분석하는 것\n",
        "- 판매량(O), 단가(X) => 단가 리스트를 구하는 것이 프로젝트"
      ]
    },
    {
      "cell_type": "markdown",
      "id": "d19ae18b-59e4-4c91-b918-305b720b792b",
      "metadata": {
        "id": "d19ae18b-59e4-4c91-b918-305b720b792b"
      },
      "source": [
        "## 컬럼 제거\n",
        "- 불필요한 컬럼 제거\n",
        "  + 컬럼 선택을 하는 방법도 존재\n",
        "  + 컬럼갯수가 100개/ 3개 삭제"
      ]
    },
    {
      "cell_type": "code",
      "execution_count": null,
      "id": "d2383ecd-fc9b-4d22-89cc-26ee05761de6",
      "metadata": {
        "id": "d2383ecd-fc9b-4d22-89cc-26ee05761de6"
      },
      "outputs": [],
      "source": [
        "df2 = df.drop('Sales', axis=1)\n",
        "df2.head(1)"
      ]
    },
    {
      "cell_type": "code",
      "execution_count": null,
      "id": "85358de3-d354-4471-89ba-97d8ac0c5bd9",
      "metadata": {
        "id": "85358de3-d354-4471-89ba-97d8ac0c5bd9"
      },
      "outputs": [],
      "source": [
        "df3 = df.drop(3, axis=0) # 행(인덱스) 삭제\n",
        "df3.head(5)"
      ]
    },
    {
      "cell_type": "code",
      "execution_count": null,
      "id": "4653c7af-e9be-490c-9bd1-dcb67ba1a363",
      "metadata": {
        "id": "4653c7af-e9be-490c-9bd1-dcb67ba1a363"
      },
      "outputs": [],
      "source": [
        "# 행 추출\n",
        "df.loc[df['Location']=='Beach', :]"
      ]
    },
    {
      "cell_type": "code",
      "execution_count": null,
      "id": "ba119afa-b6ed-4b36-bcc7-505ab9f2ddad",
      "metadata": {
        "id": "ba119afa-b6ed-4b36-bcc7-505ab9f2ddad"
      },
      "outputs": [],
      "source": [
        "# 데이터정렬, sort_values()\n",
        "df.sort_values(by='Sales', ascending=False).head(5)"
      ]
    },
    {
      "cell_type": "markdown",
      "id": "87ea1810-7151-49bf-9f7c-c965cb91dac6",
      "metadata": {
        "id": "87ea1810-7151-49bf-9f7c-c965cb91dac6"
      },
      "source": [
        "## GroupBy 연산\n",
        "- Groupby 기준컬럼 : 패턴이 있는 문자열\n",
        "- Groupby 대상컬럼 : 수치 데이터\n",
        "- 필요함수 : 집계함수 (합,평균,표준편차,최대,최소 등)"
      ]
    },
    {
      "cell_type": "code",
      "execution_count": null,
      "id": "a74d979d-81bb-4762-b81a-9301a2d50aff",
      "metadata": {
        "id": "a74d979d-81bb-4762-b81a-9301a2d50aff"
      },
      "outputs": [],
      "source": [
        "# 국민소득수준 비교(행정동) - groupby max 8개\n",
        "# - 행정동 수천개\n",
        "# - 시군구 수백개\n",
        "# - 광역시도단위 => 17개(비교 의미o)\n",
        "# - 권역단위 => 수도권, 충청권, 호남권, 영남권, 관광특구\n",
        "\n",
        "# ==> 실제로는 기준점을 잡는게 어렵다..!\n",
        "\n",
        "         # 기준       대상     집계\n",
        "df.groupby('Location')['Sales'].agg(['sum', 'mean', 'std'])"
      ]
    },
    {
      "cell_type": "code",
      "execution_count": null,
      "id": "369e5689-ccd1-4f8d-a4fd-93776bfd468b",
      "metadata": {
        "id": "369e5689-ccd1-4f8d-a4fd-93776bfd468b"
      },
      "outputs": [],
      "source": [
        "df.groupby('Location')['Sales'].agg(['sum', 'mean', 'std']).reset_index()"
      ]
    },
    {
      "cell_type": "code",
      "execution_count": null,
      "id": "43b71bff-1ec9-40eb-a90e-b05f190a126e",
      "metadata": {
        "id": "43b71bff-1ec9-40eb-a90e-b05f190a126e"
      },
      "outputs": [],
      "source": [
        "df.groupby('Location')['Sales'].agg('sum')"
      ]
    },
    {
      "cell_type": "code",
      "execution_count": null,
      "id": "52f717a1-d70b-455a-bf0f-1af0527aa143",
      "metadata": {
        "id": "52f717a1-d70b-455a-bf0f-1af0527aa143"
      },
      "outputs": [],
      "source": [
        "df.groupby('Location', dropna=True)['Price'].sum()"
      ]
    }
  ],
  "metadata": {
    "kernelspec": {
      "display_name": "Python 3 (ipykernel)",
      "language": "python",
      "name": "python3"
    },
    "language_info": {
      "codemirror_mode": {
        "name": "ipython",
        "version": 3
      },
      "file_extension": ".py",
      "mimetype": "text/x-python",
      "name": "python",
      "nbconvert_exporter": "python",
      "pygments_lexer": "ipython3",
      "version": "3.11.5"
    },
    "colab": {
      "provenance": [],
      "include_colab_link": true
    }
  },
  "nbformat": 4,
  "nbformat_minor": 5
}