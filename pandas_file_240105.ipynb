{
  "cells": [
    {
      "cell_type": "markdown",
      "metadata": {
        "id": "view-in-github",
        "colab_type": "text"
      },
      "source": [
        "<a href=\"https://colab.research.google.com/github/yewon91/mul_lectures/blob/main/pandas_file_240105.ipynb\" target=\"_parent\"><img src=\"https://colab.research.google.com/assets/colab-badge.svg\" alt=\"Open In Colab\"/></a>"
      ]
    },
    {
      "cell_type": "markdown",
      "id": "693bf577-10a5-4495-b589-f66c5356779a",
      "metadata": {
        "id": "693bf577-10a5-4495-b589-f66c5356779a"
      },
      "source": [
        "## 파일 입출력\n",
        "- read_csv() : https://pandas.pydata.org/docs/reference/api/pandas.read_csv.html\n",
        "- 그외파일형식: https://pandas.pydata.org/pandas-docs/stable/user_guide/io.html"
      ]
    },
    {
      "cell_type": "code",
      "execution_count": null,
      "id": "8fe6f6be-317d-4d99-9413-e2779e447f9d",
      "metadata": {
        "id": "8fe6f6be-317d-4d99-9413-e2779e447f9d",
        "outputId": "ea205aca-23e3-42ad-a061-52be5a8ccb7d"
      },
      "outputs": [
        {
          "data": {
            "text/html": [
              "<div>\n",
              "<style scoped>\n",
              "    .dataframe tbody tr th:only-of-type {\n",
              "        vertical-align: middle;\n",
              "    }\n",
              "\n",
              "    .dataframe tbody tr th {\n",
              "        vertical-align: top;\n",
              "    }\n",
              "\n",
              "    .dataframe thead th {\n",
              "        text-align: right;\n",
              "    }\n",
              "</style>\n",
              "<table border=\"1\" class=\"dataframe\">\n",
              "  <thead>\n",
              "    <tr style=\"text-align: right;\">\n",
              "      <th></th>\n",
              "      <th>id</th>\n",
              "      <th>CustomerId</th>\n",
              "      <th>Surname</th>\n",
              "      <th>CreditScore</th>\n",
              "      <th>Geography</th>\n",
              "      <th>Gender</th>\n",
              "      <th>Age</th>\n",
              "      <th>Tenure</th>\n",
              "      <th>Balance</th>\n",
              "      <th>NumOfProducts</th>\n",
              "      <th>HasCrCard</th>\n",
              "      <th>IsActiveMember</th>\n",
              "      <th>EstimatedSalary</th>\n",
              "    </tr>\n",
              "  </thead>\n",
              "  <tbody>\n",
              "    <tr>\n",
              "      <th>0</th>\n",
              "      <td>165034</td>\n",
              "      <td>15773898</td>\n",
              "      <td>Lucchese</td>\n",
              "      <td>586</td>\n",
              "      <td>France</td>\n",
              "      <td>Female</td>\n",
              "      <td>23.0</td>\n",
              "      <td>2</td>\n",
              "      <td>0.0</td>\n",
              "      <td>2</td>\n",
              "      <td>0.0</td>\n",
              "      <td>1.0</td>\n",
              "      <td>160976.75</td>\n",
              "    </tr>\n",
              "  </tbody>\n",
              "</table>\n",
              "</div>"
            ],
            "text/plain": [
              "       id  CustomerId   Surname  CreditScore Geography  Gender   Age  Tenure  \\\n",
              "0  165034    15773898  Lucchese          586    France  Female  23.0       2   \n",
              "\n",
              "   Balance  NumOfProducts  HasCrCard  IsActiveMember  EstimatedSalary  \n",
              "0      0.0              2        0.0             1.0        160976.75  "
            ]
          },
          "execution_count": 1,
          "metadata": {},
          "output_type": "execute_result"
        }
      ],
      "source": [
        "import pandas as pd\n",
        "\n",
        "DATA_PATH = 'playground-series-s4e1/'\n",
        "train = pd.read_csv(DATA_PATH + 'train.csv')\n",
        "test = pd.read_csv(DATA_PATH + 'test.csv')\n",
        "submission = pd.read_csv(DATA_PATH + 'sample_submission.csv')\n",
        "\n",
        "test.head(1)\n",
        "# train.head(1)"
      ]
    },
    {
      "cell_type": "code",
      "execution_count": null,
      "id": "771c060c-6783-4152-b18c-fe3c59ee40fe",
      "metadata": {
        "id": "771c060c-6783-4152-b18c-fe3c59ee40fe"
      },
      "outputs": [],
      "source": [
        "result = train.loc[:, ['id', 'Age']]\n",
        "result.to_csv(DATA_PATH + \"result.csv\", index=False) #index=False : index 번호는 열로 추출 안함"
      ]
    },
    {
      "cell_type": "markdown",
      "id": "77a88c0e-9fae-4089-b55f-4829cebad8b1",
      "metadata": {
        "id": "77a88c0e-9fae-4089-b55f-4829cebad8b1"
      },
      "source": [
        "## 데이터 불러오기"
      ]
    },
    {
      "cell_type": "code",
      "execution_count": null,
      "id": "3195399b-47d4-4aee-96c0-adaff62bf1c2",
      "metadata": {
        "id": "3195399b-47d4-4aee-96c0-adaff62bf1c2",
        "outputId": "281a9081-fdc8-4059-b122-20339b5a7af8"
      },
      "outputs": [
        {
          "data": {
            "text/html": [
              "<div>\n",
              "<style scoped>\n",
              "    .dataframe tbody tr th:only-of-type {\n",
              "        vertical-align: middle;\n",
              "    }\n",
              "\n",
              "    .dataframe tbody tr th {\n",
              "        vertical-align: top;\n",
              "    }\n",
              "\n",
              "    .dataframe thead th {\n",
              "        text-align: right;\n",
              "    }\n",
              "</style>\n",
              "<table border=\"1\" class=\"dataframe\">\n",
              "  <thead>\n",
              "    <tr style=\"text-align: right;\">\n",
              "      <th></th>\n",
              "      <th>PassengerId</th>\n",
              "      <th>Survived</th>\n",
              "      <th>Pclass</th>\n",
              "      <th>Name</th>\n",
              "      <th>Sex</th>\n",
              "      <th>Age</th>\n",
              "      <th>SibSp</th>\n",
              "      <th>Parch</th>\n",
              "      <th>Ticket</th>\n",
              "      <th>Fare</th>\n",
              "      <th>Cabin</th>\n",
              "      <th>Embarked</th>\n",
              "    </tr>\n",
              "  </thead>\n",
              "  <tbody>\n",
              "    <tr>\n",
              "      <th>0</th>\n",
              "      <td>1</td>\n",
              "      <td>0</td>\n",
              "      <td>3</td>\n",
              "      <td>Braund, Mr. Owen Harris</td>\n",
              "      <td>male</td>\n",
              "      <td>22.0</td>\n",
              "      <td>1</td>\n",
              "      <td>0</td>\n",
              "      <td>A/5 21171</td>\n",
              "      <td>7.25</td>\n",
              "      <td>NaN</td>\n",
              "      <td>S</td>\n",
              "    </tr>\n",
              "  </tbody>\n",
              "</table>\n",
              "</div>"
            ],
            "text/plain": [
              "   PassengerId  Survived  Pclass                     Name   Sex   Age  SibSp  \\\n",
              "0            1         0       3  Braund, Mr. Owen Harris  male  22.0      1   \n",
              "\n",
              "   Parch     Ticket  Fare Cabin Embarked  \n",
              "0      0  A/5 21171  7.25   NaN        S  "
            ]
          },
          "execution_count": 5,
          "metadata": {},
          "output_type": "execute_result"
        }
      ],
      "source": [
        "titanic = pd.read_csv(\"https://raw.githubusercontent.com/pandas-dev/pandas/main/doc/data/titanic.csv\")\n",
        "titanic.head(1)"
      ]
    },
    {
      "cell_type": "code",
      "execution_count": null,
      "id": "de3cd1a4-4b48-487a-95f4-2360c9e78d7d",
      "metadata": {
        "id": "de3cd1a4-4b48-487a-95f4-2360c9e78d7d",
        "outputId": "0a62c406-8bbd-4e77-ea61-6a3756b8e886"
      },
      "outputs": [
        {
          "data": {
            "text/plain": [
              "0                                BRAUND, MR. OWEN HARRIS\n",
              "1      CUMINGS, MRS. JOHN BRADLEY (FLORENCE BRIGGS TH...\n",
              "2                                 HEIKKINEN, MISS. LAINA\n",
              "3           FUTRELLE, MRS. JACQUES HEATH (LILY MAY PEEL)\n",
              "4                               ALLEN, MR. WILLIAM HENRY\n",
              "                             ...                        \n",
              "886                                MONTVILA, REV. JUOZAS\n",
              "887                         GRAHAM, MISS. MARGARET EDITH\n",
              "888             JOHNSTON, MISS. CATHERINE HELEN \"CARRIE\"\n",
              "889                                BEHR, MR. KARL HOWELL\n",
              "890                                  DOOLEY, MR. PATRICK\n",
              "Name: Name, Length: 891, dtype: object"
            ]
          },
          "execution_count": 18,
          "metadata": {},
          "output_type": "execute_result"
        }
      ],
      "source": [
        "titanic[\"Name\"].str.upper()"
      ]
    },
    {
      "cell_type": "code",
      "execution_count": null,
      "id": "4863ac47-5acc-45b2-9bd8-9af32e1dfc7a",
      "metadata": {
        "id": "4863ac47-5acc-45b2-9bd8-9af32e1dfc7a",
        "outputId": "82e41128-f1b7-420a-e773-15a53479842e"
      },
      "outputs": [
        {
          "data": {
            "text/plain": [
              "0         Braund\n",
              "1        Cumings\n",
              "2      Heikkinen\n",
              "3       Futrelle\n",
              "4          Allen\n",
              "         ...    \n",
              "886     Montvila\n",
              "887       Graham\n",
              "888     Johnston\n",
              "889         Behr\n",
              "890       Dooley\n",
              "Name: Surname, Length: 891, dtype: object"
            ]
          },
          "execution_count": 11,
          "metadata": {},
          "output_type": "execute_result"
        }
      ],
      "source": [
        "titanic[\"Surname\"] = titanic[\"Name\"].str.split(\",\").str.get(0)\n",
        "titanic[\"Surname\"]"
      ]
    },
    {
      "cell_type": "code",
      "execution_count": null,
      "id": "b31bbd94-6186-491e-891f-43cb5df9a610",
      "metadata": {
        "id": "b31bbd94-6186-491e-891f-43cb5df9a610",
        "outputId": "8510bcfb-13e2-4d5a-f956-4986eb52598d"
      },
      "outputs": [
        {
          "data": {
            "text/plain": [
              "0      False\n",
              "1      False\n",
              "2      False\n",
              "3      False\n",
              "4      False\n",
              "       ...  \n",
              "886    False\n",
              "887    False\n",
              "888    False\n",
              "889    False\n",
              "890    False\n",
              "Name: Name, Length: 891, dtype: bool"
            ]
          },
          "execution_count": 12,
          "metadata": {},
          "output_type": "execute_result"
        }
      ],
      "source": [
        "titanic[\"Name\"].str.contains(\"Countess\")"
      ]
    },
    {
      "cell_type": "code",
      "execution_count": null,
      "id": "f3ed59fd-04ef-4c43-984e-ebf42e9a7658",
      "metadata": {
        "id": "f3ed59fd-04ef-4c43-984e-ebf42e9a7658",
        "outputId": "a8c42140-64b1-42d7-d5ec-843ded068826"
      },
      "outputs": [
        {
          "data": {
            "text/plain": [
              "'Penasco y Castellana, Mrs. Victor de Satode (Maria Josefa Perez de Soto y Vallejo)'"
            ]
          },
          "execution_count": 16,
          "metadata": {},
          "output_type": "execute_result"
        }
      ],
      "source": [
        "titanic.loc[titanic[\"Name\"].str.len().idxmax(), \"Name\"]"
      ]
    },
    {
      "cell_type": "code",
      "execution_count": null,
      "id": "12403838-49bf-4e3b-aefc-541759fdeda5",
      "metadata": {
        "id": "12403838-49bf-4e3b-aefc-541759fdeda5",
        "outputId": "3907dca0-cceb-4b73-9baf-52afbf9c1504"
      },
      "outputs": [
        {
          "data": {
            "text/plain": [
              "0      M\n",
              "1      F\n",
              "2      F\n",
              "3      F\n",
              "4      M\n",
              "      ..\n",
              "886    M\n",
              "887    F\n",
              "888    F\n",
              "889    M\n",
              "890    M\n",
              "Name: Sex_short, Length: 891, dtype: object"
            ]
          },
          "execution_count": 17,
          "metadata": {},
          "output_type": "execute_result"
        }
      ],
      "source": [
        "titanic[\"Sex_short\"] = titanic[\"Sex\"].replace({\"male\":\"M\", \"female\":\"F\"})\n",
        "titanic[\"Sex_short\"]"
      ]
    },
    {
      "cell_type": "code",
      "execution_count": null,
      "id": "e798bf64-7dae-47df-9e3a-275aaae98cd6",
      "metadata": {
        "id": "e798bf64-7dae-47df-9e3a-275aaae98cd6",
        "outputId": "3e5e5072-edf6-459b-cb9d-741f1854c204"
      },
      "outputs": [
        {
          "data": {
            "text/html": [
              "<div>\n",
              "<style scoped>\n",
              "    .dataframe tbody tr th:only-of-type {\n",
              "        vertical-align: middle;\n",
              "    }\n",
              "\n",
              "    .dataframe tbody tr th {\n",
              "        vertical-align: top;\n",
              "    }\n",
              "\n",
              "    .dataframe thead th {\n",
              "        text-align: right;\n",
              "    }\n",
              "</style>\n",
              "<table border=\"1\" class=\"dataframe\">\n",
              "  <thead>\n",
              "    <tr style=\"text-align: right;\">\n",
              "      <th></th>\n",
              "      <th>Age</th>\n",
              "      <th>Fare</th>\n",
              "    </tr>\n",
              "  </thead>\n",
              "  <tbody>\n",
              "    <tr>\n",
              "      <th>min</th>\n",
              "      <td>0.420000</td>\n",
              "      <td>0.000000</td>\n",
              "    </tr>\n",
              "    <tr>\n",
              "      <th>max</th>\n",
              "      <td>80.000000</td>\n",
              "      <td>512.329200</td>\n",
              "    </tr>\n",
              "    <tr>\n",
              "      <th>median</th>\n",
              "      <td>28.000000</td>\n",
              "      <td>14.454200</td>\n",
              "    </tr>\n",
              "    <tr>\n",
              "      <th>skew</th>\n",
              "      <td>0.389108</td>\n",
              "      <td>NaN</td>\n",
              "    </tr>\n",
              "    <tr>\n",
              "      <th>mean</th>\n",
              "      <td>NaN</td>\n",
              "      <td>32.204208</td>\n",
              "    </tr>\n",
              "  </tbody>\n",
              "</table>\n",
              "</div>"
            ],
            "text/plain": [
              "              Age        Fare\n",
              "min      0.420000    0.000000\n",
              "max     80.000000  512.329200\n",
              "median  28.000000   14.454200\n",
              "skew     0.389108         NaN\n",
              "mean          NaN   32.204208"
            ]
          },
          "execution_count": 19,
          "metadata": {},
          "output_type": "execute_result"
        }
      ],
      "source": [
        "# 특정 집계값만 계산\n",
        "titanic.agg(\n",
        "    {\n",
        "        \"Age\": [\"min\", \"max\", \"median\", \"skew\"],\n",
        "        \"Fare\": [\"min\", \"max\", \"median\", \"mean\"]\n",
        "    }\n",
        ")"
      ]
    },
    {
      "cell_type": "code",
      "execution_count": null,
      "id": "97b88a36-0796-4dc3-b534-741858e9dca4",
      "metadata": {
        "id": "97b88a36-0796-4dc3-b534-741858e9dca4",
        "outputId": "ae164b45-fa0e-4b43-e499-a3fd9338df88"
      },
      "outputs": [
        {
          "data": {
            "text/html": [
              "<div>\n",
              "<style scoped>\n",
              "    .dataframe tbody tr th:only-of-type {\n",
              "        vertical-align: middle;\n",
              "    }\n",
              "\n",
              "    .dataframe tbody tr th {\n",
              "        vertical-align: top;\n",
              "    }\n",
              "\n",
              "    .dataframe thead th {\n",
              "        text-align: right;\n",
              "    }\n",
              "</style>\n",
              "<table border=\"1\" class=\"dataframe\">\n",
              "  <thead>\n",
              "    <tr style=\"text-align: right;\">\n",
              "      <th></th>\n",
              "      <th>Age</th>\n",
              "      <th>Fare</th>\n",
              "    </tr>\n",
              "  </thead>\n",
              "  <tbody>\n",
              "    <tr>\n",
              "      <th>count</th>\n",
              "      <td>714.000000</td>\n",
              "      <td>891.000000</td>\n",
              "    </tr>\n",
              "    <tr>\n",
              "      <th>mean</th>\n",
              "      <td>29.699118</td>\n",
              "      <td>32.204208</td>\n",
              "    </tr>\n",
              "    <tr>\n",
              "      <th>std</th>\n",
              "      <td>14.526497</td>\n",
              "      <td>49.693429</td>\n",
              "    </tr>\n",
              "    <tr>\n",
              "      <th>min</th>\n",
              "      <td>0.420000</td>\n",
              "      <td>0.000000</td>\n",
              "    </tr>\n",
              "    <tr>\n",
              "      <th>25%</th>\n",
              "      <td>20.125000</td>\n",
              "      <td>7.910400</td>\n",
              "    </tr>\n",
              "    <tr>\n",
              "      <th>50%</th>\n",
              "      <td>28.000000</td>\n",
              "      <td>14.454200</td>\n",
              "    </tr>\n",
              "    <tr>\n",
              "      <th>75%</th>\n",
              "      <td>38.000000</td>\n",
              "      <td>31.000000</td>\n",
              "    </tr>\n",
              "    <tr>\n",
              "      <th>max</th>\n",
              "      <td>80.000000</td>\n",
              "      <td>512.329200</td>\n",
              "    </tr>\n",
              "  </tbody>\n",
              "</table>\n",
              "</div>"
            ],
            "text/plain": [
              "              Age        Fare\n",
              "count  714.000000  891.000000\n",
              "mean    29.699118   32.204208\n",
              "std     14.526497   49.693429\n",
              "min      0.420000    0.000000\n",
              "25%     20.125000    7.910400\n",
              "50%     28.000000   14.454200\n",
              "75%     38.000000   31.000000\n",
              "max     80.000000  512.329200"
            ]
          },
          "execution_count": 23,
          "metadata": {},
          "output_type": "execute_result"
        }
      ],
      "source": [
        "titanic[[\"Age\", \"Fare\"]].describe()"
      ]
    },
    {
      "cell_type": "code",
      "execution_count": null,
      "id": "10008d92-c60f-40d6-bfcc-ca25547ccfc4",
      "metadata": {
        "id": "10008d92-c60f-40d6-bfcc-ca25547ccfc4",
        "outputId": "07db29e0-9533-4957-b2d8-de78260877b8"
      },
      "outputs": [
        {
          "data": {
            "text/plain": [
              "Sex\n",
              "female    27.915709\n",
              "male      30.726645\n",
              "Name: Age, dtype: float64"
            ]
          },
          "execution_count": 26,
          "metadata": {},
          "output_type": "execute_result"
        }
      ],
      "source": [
        "# 성별 평균 나이 구하는 2가지 방법\n",
        "titanic[[\"Sex\", \"Age\"]].groupby(\"Sex\").mean()\n",
        "\n",
        "titanic.groupby(\"Sex\")[\"Age\"].mean()"
      ]
    },
    {
      "cell_type": "code",
      "execution_count": null,
      "id": "7c6b4658-3967-42a5-a675-ce4b8abda6d7",
      "metadata": {
        "id": "7c6b4658-3967-42a5-a675-ce4b8abda6d7",
        "outputId": "bb4ca4cf-e5aa-435d-85c7-3e50a60d6aeb"
      },
      "outputs": [
        {
          "data": {
            "text/html": [
              "<div>\n",
              "<style scoped>\n",
              "    .dataframe tbody tr th:only-of-type {\n",
              "        vertical-align: middle;\n",
              "    }\n",
              "\n",
              "    .dataframe tbody tr th {\n",
              "        vertical-align: top;\n",
              "    }\n",
              "\n",
              "    .dataframe thead th {\n",
              "        text-align: right;\n",
              "    }\n",
              "</style>\n",
              "<table border=\"1\" class=\"dataframe\">\n",
              "  <thead>\n",
              "    <tr style=\"text-align: right;\">\n",
              "      <th></th>\n",
              "      <th>PassengerId</th>\n",
              "      <th>Survived</th>\n",
              "      <th>Pclass</th>\n",
              "      <th>Age</th>\n",
              "      <th>SibSp</th>\n",
              "      <th>Parch</th>\n",
              "      <th>Fare</th>\n",
              "    </tr>\n",
              "    <tr>\n",
              "      <th>Sex</th>\n",
              "      <th></th>\n",
              "      <th></th>\n",
              "      <th></th>\n",
              "      <th></th>\n",
              "      <th></th>\n",
              "      <th></th>\n",
              "      <th></th>\n",
              "    </tr>\n",
              "  </thead>\n",
              "  <tbody>\n",
              "    <tr>\n",
              "      <th>female</th>\n",
              "      <td>431.028662</td>\n",
              "      <td>0.742038</td>\n",
              "      <td>2.159236</td>\n",
              "      <td>27.915709</td>\n",
              "      <td>0.694268</td>\n",
              "      <td>0.649682</td>\n",
              "      <td>44.479818</td>\n",
              "    </tr>\n",
              "    <tr>\n",
              "      <th>male</th>\n",
              "      <td>454.147314</td>\n",
              "      <td>0.188908</td>\n",
              "      <td>2.389948</td>\n",
              "      <td>30.726645</td>\n",
              "      <td>0.429809</td>\n",
              "      <td>0.235702</td>\n",
              "      <td>25.523893</td>\n",
              "    </tr>\n",
              "  </tbody>\n",
              "</table>\n",
              "</div>"
            ],
            "text/plain": [
              "        PassengerId  Survived    Pclass        Age     SibSp     Parch  \\\n",
              "Sex                                                                      \n",
              "female   431.028662  0.742038  2.159236  27.915709  0.694268  0.649682   \n",
              "male     454.147314  0.188908  2.389948  30.726645  0.429809  0.235702   \n",
              "\n",
              "             Fare  \n",
              "Sex                \n",
              "female  44.479818  \n",
              "male    25.523893  "
            ]
          },
          "execution_count": 25,
          "metadata": {},
          "output_type": "execute_result"
        }
      ],
      "source": [
        "# 수치값 컬럼들의 평균\n",
        "titanic.groupby(\"Sex\").mean(numeric_only=True)"
      ]
    },
    {
      "cell_type": "code",
      "execution_count": null,
      "id": "269f966f-2da2-4bfa-a1cf-2ae1469e7bbb",
      "metadata": {
        "id": "269f966f-2da2-4bfa-a1cf-2ae1469e7bbb",
        "outputId": "94dd86bb-1e0d-43a3-d8b6-eedf03a733d8"
      },
      "outputs": [
        {
          "data": {
            "text/plain": [
              "Sex     Pclass\n",
              "female  1         106.125798\n",
              "        2          21.970121\n",
              "        3          16.118810\n",
              "male    1          67.226127\n",
              "        2          19.741782\n",
              "        3          12.661633\n",
              "Name: Fare, dtype: float64"
            ]
          },
          "execution_count": 28,
          "metadata": {},
          "output_type": "execute_result"
        }
      ],
      "source": [
        "# 성별, cabin class별 요금 평균\n",
        "titanic.groupby([\"Sex\", \"Pclass\"])[\"Fare\"].mean()"
      ]
    },
    {
      "cell_type": "code",
      "execution_count": null,
      "id": "d9ebc8fa-d913-4934-b998-8b6cb0ec13ef",
      "metadata": {
        "id": "d9ebc8fa-d913-4934-b998-8b6cb0ec13ef",
        "outputId": "c10cf630-08e6-439c-ec00-eeded8b4047b"
      },
      "outputs": [
        {
          "data": {
            "text/plain": [
              "Pclass\n",
              "3    491\n",
              "1    216\n",
              "2    184\n",
              "Name: count, dtype: int64"
            ]
          },
          "execution_count": 33,
          "metadata": {},
          "output_type": "execute_result"
        }
      ],
      "source": [
        "# groupby의 shortcut\n",
        "titanic[\"Pclass\"].value_counts"
      ]
    },
    {
      "cell_type": "code",
      "execution_count": null,
      "id": "faa59eb1-0bcb-4858-9e4f-37aa7ab2ae68",
      "metadata": {
        "id": "faa59eb1-0bcb-4858-9e4f-37aa7ab2ae68",
        "outputId": "c0f34042-72ca-4261-ddfe-bcc619df00f5"
      },
      "outputs": [
        {
          "data": {
            "text/plain": [
              "Pclass\n",
              "1    216\n",
              "2    184\n",
              "3    491\n",
              "Name: Pclass, dtype: int64"
            ]
          },
          "execution_count": 31,
          "metadata": {},
          "output_type": "execute_result"
        }
      ],
      "source": [
        "titanic.groupby(\"Pclass\")[\"Pclass\"].count()"
      ]
    }
  ],
  "metadata": {
    "kernelspec": {
      "display_name": "myenv",
      "language": "python",
      "name": "myenv"
    },
    "language_info": {
      "codemirror_mode": {
        "name": "ipython",
        "version": 3
      },
      "file_extension": ".py",
      "mimetype": "text/x-python",
      "name": "python",
      "nbconvert_exporter": "python",
      "pygments_lexer": "ipython3",
      "version": "3.10.13"
    },
    "colab": {
      "provenance": [],
      "include_colab_link": true
    }
  },
  "nbformat": 4,
  "nbformat_minor": 5
}