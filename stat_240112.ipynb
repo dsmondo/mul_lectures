{
  "cells": [
    {
      "cell_type": "markdown",
      "metadata": {
        "id": "view-in-github",
        "colab_type": "text"
      },
      "source": [
        "<a href=\"https://colab.research.google.com/github/yewon91/mul_lectures/blob/main/stat_240112.ipynb\" target=\"_parent\"><img src=\"https://colab.research.google.com/assets/colab-badge.svg\" alt=\"Open In Colab\"/></a>"
      ]
    },
    {
      "cell_type": "code",
      "execution_count": null,
      "id": "4e06806d-19b4-43c0-8efd-331a978a6832",
      "metadata": {
        "id": "4e06806d-19b4-43c0-8efd-331a978a6832",
        "outputId": "d91ce498-21a2-4ce8-a57d-6683512a0d05"
      },
      "outputs": [
        {
          "name": "stdout",
          "output_type": "stream",
          "text": [
            "Collecting statsmodels\n",
            "  Downloading statsmodels-0.14.1-cp311-cp311-win_amd64.whl.metadata (9.8 kB)\n",
            "Requirement already satisfied: numpy<2,>=1.18 in c:\\users\\yewon\\desktop\\projectds\\venv\\lib\\site-packages (from statsmodels) (1.26.2)\n",
            "Requirement already satisfied: scipy!=1.9.2,>=1.4 in c:\\users\\yewon\\desktop\\projectds\\venv\\lib\\site-packages (from statsmodels) (1.11.4)\n",
            "Requirement already satisfied: pandas!=2.1.0,>=1.0 in c:\\users\\yewon\\desktop\\projectds\\venv\\lib\\site-packages (from statsmodels) (2.1.4)\n",
            "Collecting patsy>=0.5.4 (from statsmodels)\n",
            "  Downloading patsy-0.5.6-py2.py3-none-any.whl.metadata (3.5 kB)\n",
            "Requirement already satisfied: packaging>=21.3 in c:\\users\\yewon\\desktop\\projectds\\venv\\lib\\site-packages (from statsmodels) (23.2)\n",
            "Requirement already satisfied: python-dateutil>=2.8.2 in c:\\users\\yewon\\desktop\\projectds\\venv\\lib\\site-packages (from pandas!=2.1.0,>=1.0->statsmodels) (2.8.2)\n",
            "Requirement already satisfied: pytz>=2020.1 in c:\\users\\yewon\\desktop\\projectds\\venv\\lib\\site-packages (from pandas!=2.1.0,>=1.0->statsmodels) (2023.3.post1)\n",
            "Requirement already satisfied: tzdata>=2022.1 in c:\\users\\yewon\\desktop\\projectds\\venv\\lib\\site-packages (from pandas!=2.1.0,>=1.0->statsmodels) (2023.4)\n",
            "Requirement already satisfied: six in c:\\users\\yewon\\desktop\\projectds\\venv\\lib\\site-packages (from patsy>=0.5.4->statsmodels) (1.16.0)\n",
            "Downloading statsmodels-0.14.1-cp311-cp311-win_amd64.whl (9.9 MB)\n",
            "   ---------------------------------------- 0.0/9.9 MB ? eta -:--:--\n",
            "   ---------------------------------------- 0.0/9.9 MB 991.0 kB/s eta 0:00:10\n",
            "    --------------------------------------- 0.2/9.9 MB 2.9 MB/s eta 0:00:04\n",
            "   - -------------------------------------- 0.5/9.9 MB 3.8 MB/s eta 0:00:03\n",
            "   -- ------------------------------------- 0.7/9.9 MB 4.2 MB/s eta 0:00:03\n",
            "   --- ------------------------------------ 1.0/9.9 MB 4.5 MB/s eta 0:00:02\n",
            "   ----- ---------------------------------- 1.3/9.9 MB 4.8 MB/s eta 0:00:02\n",
            "   ------ --------------------------------- 1.6/9.9 MB 5.3 MB/s eta 0:00:02\n",
            "   ------- -------------------------------- 1.9/9.9 MB 5.2 MB/s eta 0:00:02\n",
            "   --------- ------------------------------ 2.3/9.9 MB 5.8 MB/s eta 0:00:02\n",
            "   ---------- ----------------------------- 2.6/9.9 MB 5.8 MB/s eta 0:00:02\n",
            "   ----------- ---------------------------- 2.8/9.9 MB 5.8 MB/s eta 0:00:02\n",
            "   ------------ --------------------------- 3.1/9.9 MB 5.8 MB/s eta 0:00:02\n",
            "   ------------- -------------------------- 3.4/9.9 MB 5.8 MB/s eta 0:00:02\n",
            "   --------------- ------------------------ 3.7/9.9 MB 6.0 MB/s eta 0:00:02\n",
            "   ---------------- ----------------------- 4.0/9.9 MB 6.0 MB/s eta 0:00:01\n",
            "   ------------------ --------------------- 4.4/9.9 MB 6.2 MB/s eta 0:00:01\n",
            "   ------------------- -------------------- 4.7/9.9 MB 6.3 MB/s eta 0:00:01\n",
            "   -------------------- ------------------- 5.1/9.9 MB 6.3 MB/s eta 0:00:01\n",
            "   ---------------------- ----------------- 5.5/9.9 MB 6.4 MB/s eta 0:00:01\n",
            "   ---------------------- ----------------- 5.5/9.9 MB 6.4 MB/s eta 0:00:01\n",
            "   ----------------------- ---------------- 5.9/9.9 MB 6.2 MB/s eta 0:00:01\n",
            "   ------------------------- -------------- 6.3/9.9 MB 6.3 MB/s eta 0:00:01\n",
            "   -------------------------- ------------- 6.6/9.9 MB 6.4 MB/s eta 0:00:01\n",
            "   --------------------------- ------------ 6.9/9.9 MB 6.4 MB/s eta 0:00:01\n",
            "   ----------------------------- ---------- 7.2/9.9 MB 6.4 MB/s eta 0:00:01\n",
            "   ------------------------------ --------- 7.5/9.9 MB 6.4 MB/s eta 0:00:01\n",
            "   ------------------------------- -------- 7.8/9.9 MB 6.4 MB/s eta 0:00:01\n",
            "   --------------------------------- ------ 8.2/9.9 MB 6.5 MB/s eta 0:00:01\n",
            "   ---------------------------------- ----- 8.6/9.9 MB 6.5 MB/s eta 0:00:01\n",
            "   ------------------------------------ --- 8.9/9.9 MB 6.6 MB/s eta 0:00:01\n",
            "   ------------------------------------- -- 9.3/9.9 MB 6.6 MB/s eta 0:00:01\n",
            "   ---------------------------------------  9.7/9.9 MB 6.6 MB/s eta 0:00:01\n",
            "   ---------------------------------------  9.9/9.9 MB 6.6 MB/s eta 0:00:01\n",
            "   ---------------------------------------- 9.9/9.9 MB 6.4 MB/s eta 0:00:00\n",
            "Downloading patsy-0.5.6-py2.py3-none-any.whl (233 kB)\n",
            "   ---------------------------------------- 0.0/233.9 kB ? eta -:--:--\n",
            "   ---------------------------------------- 233.9/233.9 kB 7.0 MB/s eta 0:00:00\n",
            "Installing collected packages: patsy, statsmodels\n",
            "Successfully installed patsy-0.5.6 statsmodels-0.14.1\n"
          ]
        },
        {
          "name": "stderr",
          "output_type": "stream",
          "text": [
            "\n",
            "[notice] A new release of pip is available: 23.3.1 -> 23.3.2\n",
            "[notice] To update, run: python.exe -m pip install --upgrade pip\n"
          ]
        }
      ],
      "source": [
        "!pip install statsmodels"
      ]
    },
    {
      "cell_type": "code",
      "execution_count": null,
      "id": "045eaafa-ade7-4cd7-a433-a1dffd6a7d97",
      "metadata": {
        "id": "045eaafa-ade7-4cd7-a433-a1dffd6a7d97",
        "outputId": "cea94309-9540-48f9-c955-24690c2110fa"
      },
      "outputs": [
        {
          "data": {
            "text/plain": [
              "'0.14.1'"
            ]
          },
          "execution_count": 6,
          "metadata": {},
          "output_type": "execute_result"
        }
      ],
      "source": [
        "import numpy as np\n",
        "import matplotlib.pyplot as plt\n",
        "import statsmodels\n",
        "import statsmodels.formula.api as smf\n",
        "\n",
        "statsmodels.__version__"
      ]
    },
    {
      "cell_type": "code",
      "execution_count": null,
      "id": "00fee20c-7d53-44f1-a61e-a652e472d534",
      "metadata": {
        "id": "00fee20c-7d53-44f1-a61e-a652e472d534",
        "outputId": "4388e85c-9cc1-4d33-b5a6-42494349a06c"
      },
      "outputs": [
        {
          "data": {
            "text/html": [
              "<div>\n",
              "<style scoped>\n",
              "    .dataframe tbody tr th:only-of-type {\n",
              "        vertical-align: middle;\n",
              "    }\n",
              "\n",
              "    .dataframe tbody tr th {\n",
              "        vertical-align: top;\n",
              "    }\n",
              "\n",
              "    .dataframe thead th {\n",
              "        text-align: right;\n",
              "    }\n",
              "</style>\n",
              "<table border=\"1\" class=\"dataframe\">\n",
              "  <thead>\n",
              "    <tr style=\"text-align: right;\">\n",
              "      <th></th>\n",
              "      <th>sepal_length</th>\n",
              "      <th>sepal_width</th>\n",
              "      <th>petal_length</th>\n",
              "      <th>petal_width</th>\n",
              "      <th>species</th>\n",
              "    </tr>\n",
              "  </thead>\n",
              "  <tbody>\n",
              "    <tr>\n",
              "      <th>0</th>\n",
              "      <td>5.1</td>\n",
              "      <td>3.5</td>\n",
              "      <td>1.4</td>\n",
              "      <td>0.2</td>\n",
              "      <td>setosa</td>\n",
              "    </tr>\n",
              "    <tr>\n",
              "      <th>1</th>\n",
              "      <td>4.9</td>\n",
              "      <td>3.0</td>\n",
              "      <td>1.4</td>\n",
              "      <td>0.2</td>\n",
              "      <td>setosa</td>\n",
              "    </tr>\n",
              "    <tr>\n",
              "      <th>2</th>\n",
              "      <td>4.7</td>\n",
              "      <td>3.2</td>\n",
              "      <td>1.3</td>\n",
              "      <td>0.2</td>\n",
              "      <td>setosa</td>\n",
              "    </tr>\n",
              "    <tr>\n",
              "      <th>3</th>\n",
              "      <td>4.6</td>\n",
              "      <td>3.1</td>\n",
              "      <td>1.5</td>\n",
              "      <td>0.2</td>\n",
              "      <td>setosa</td>\n",
              "    </tr>\n",
              "    <tr>\n",
              "      <th>4</th>\n",
              "      <td>5.0</td>\n",
              "      <td>3.6</td>\n",
              "      <td>1.4</td>\n",
              "      <td>0.2</td>\n",
              "      <td>setosa</td>\n",
              "    </tr>\n",
              "  </tbody>\n",
              "</table>\n",
              "</div>"
            ],
            "text/plain": [
              "   sepal_length  sepal_width  petal_length  petal_width species\n",
              "0           5.1          3.5           1.4          0.2  setosa\n",
              "1           4.9          3.0           1.4          0.2  setosa\n",
              "2           4.7          3.2           1.3          0.2  setosa\n",
              "3           4.6          3.1           1.5          0.2  setosa\n",
              "4           5.0          3.6           1.4          0.2  setosa"
            ]
          },
          "execution_count": 7,
          "metadata": {},
          "output_type": "execute_result"
        }
      ],
      "source": [
        "import seaborn as sns\n",
        "\n",
        "iris = sns.load_dataset('iris')\n",
        "iris.head(5)"
      ]
    },
    {
      "cell_type": "code",
      "execution_count": null,
      "id": "ffe19920-48f9-4a70-87b5-825c9b69d936",
      "metadata": {
        "id": "ffe19920-48f9-4a70-87b5-825c9b69d936",
        "outputId": "1b2256d5-c454-4f7a-9900-c858b5cf32f5"
      },
      "outputs": [
        {
          "data": {
            "text/html": [
              "<table class=\"simpletable\">\n",
              "<caption>OLS Regression Results</caption>\n",
              "<tr>\n",
              "  <th>Dep. Variable:</th>      <td>sepal_length</td>   <th>  R-squared:         </th> <td>   0.014</td>\n",
              "</tr>\n",
              "<tr>\n",
              "  <th>Model:</th>                   <td>OLS</td>       <th>  Adj. R-squared:    </th> <td>   0.007</td>\n",
              "</tr>\n",
              "<tr>\n",
              "  <th>Method:</th>             <td>Least Squares</td>  <th>  F-statistic:       </th> <td>   2.074</td>\n",
              "</tr>\n",
              "<tr>\n",
              "  <th>Date:</th>             <td>Fri, 12 Jan 2024</td> <th>  Prob (F-statistic):</th>  <td> 0.152</td> \n",
              "</tr>\n",
              "<tr>\n",
              "  <th>Time:</th>                 <td>11:20:20</td>     <th>  Log-Likelihood:    </th> <td> -183.00</td>\n",
              "</tr>\n",
              "<tr>\n",
              "  <th>No. Observations:</th>      <td>   150</td>      <th>  AIC:               </th> <td>   370.0</td>\n",
              "</tr>\n",
              "<tr>\n",
              "  <th>Df Residuals:</th>          <td>   148</td>      <th>  BIC:               </th> <td>   376.0</td>\n",
              "</tr>\n",
              "<tr>\n",
              "  <th>Df Model:</th>              <td>     1</td>      <th>                     </th>     <td> </td>   \n",
              "</tr>\n",
              "<tr>\n",
              "  <th>Covariance Type:</th>      <td>nonrobust</td>    <th>                     </th>     <td> </td>   \n",
              "</tr>\n",
              "</table>\n",
              "<table class=\"simpletable\">\n",
              "<tr>\n",
              "       <td></td>          <th>coef</th>     <th>std err</th>      <th>t</th>      <th>P>|t|</th>  <th>[0.025</th>    <th>0.975]</th>  \n",
              "</tr>\n",
              "<tr>\n",
              "  <th>Intercept</th>   <td>    6.5262</td> <td>    0.479</td> <td>   13.628</td> <td> 0.000</td> <td>    5.580</td> <td>    7.473</td>\n",
              "</tr>\n",
              "<tr>\n",
              "  <th>sepal_width</th> <td>   -0.2234</td> <td>    0.155</td> <td>   -1.440</td> <td> 0.152</td> <td>   -0.530</td> <td>    0.083</td>\n",
              "</tr>\n",
              "</table>\n",
              "<table class=\"simpletable\">\n",
              "<tr>\n",
              "  <th>Omnibus:</th>       <td> 4.389</td> <th>  Durbin-Watson:     </th> <td>   0.952</td>\n",
              "</tr>\n",
              "<tr>\n",
              "  <th>Prob(Omnibus):</th> <td> 0.111</td> <th>  Jarque-Bera (JB):  </th> <td>   4.237</td>\n",
              "</tr>\n",
              "<tr>\n",
              "  <th>Skew:</th>          <td> 0.360</td> <th>  Prob(JB):          </th> <td>   0.120</td>\n",
              "</tr>\n",
              "<tr>\n",
              "  <th>Kurtosis:</th>      <td> 2.600</td> <th>  Cond. No.          </th> <td>    24.2</td>\n",
              "</tr>\n",
              "</table><br/><br/>Notes:<br/>[1] Standard Errors assume that the covariance matrix of the errors is correctly specified."
            ],
            "text/latex": [
              "\\begin{center}\n",
              "\\begin{tabular}{lclc}\n",
              "\\toprule\n",
              "\\textbf{Dep. Variable:}    &  sepal\\_length   & \\textbf{  R-squared:         } &     0.014   \\\\\n",
              "\\textbf{Model:}            &       OLS        & \\textbf{  Adj. R-squared:    } &     0.007   \\\\\n",
              "\\textbf{Method:}           &  Least Squares   & \\textbf{  F-statistic:       } &     2.074   \\\\\n",
              "\\textbf{Date:}             & Fri, 12 Jan 2024 & \\textbf{  Prob (F-statistic):} &    0.152    \\\\\n",
              "\\textbf{Time:}             &     11:20:20     & \\textbf{  Log-Likelihood:    } &   -183.00   \\\\\n",
              "\\textbf{No. Observations:} &         150      & \\textbf{  AIC:               } &     370.0   \\\\\n",
              "\\textbf{Df Residuals:}     &         148      & \\textbf{  BIC:               } &     376.0   \\\\\n",
              "\\textbf{Df Model:}         &           1      & \\textbf{                     } &             \\\\\n",
              "\\textbf{Covariance Type:}  &    nonrobust     & \\textbf{                     } &             \\\\\n",
              "\\bottomrule\n",
              "\\end{tabular}\n",
              "\\begin{tabular}{lcccccc}\n",
              "                      & \\textbf{coef} & \\textbf{std err} & \\textbf{t} & \\textbf{P$> |$t$|$} & \\textbf{[0.025} & \\textbf{0.975]}  \\\\\n",
              "\\midrule\n",
              "\\textbf{Intercept}    &       6.5262  &        0.479     &    13.628  &         0.000        &        5.580    &        7.473     \\\\\n",
              "\\textbf{sepal\\_width} &      -0.2234  &        0.155     &    -1.440  &         0.152        &       -0.530    &        0.083     \\\\\n",
              "\\bottomrule\n",
              "\\end{tabular}\n",
              "\\begin{tabular}{lclc}\n",
              "\\textbf{Omnibus:}       &  4.389 & \\textbf{  Durbin-Watson:     } &    0.952  \\\\\n",
              "\\textbf{Prob(Omnibus):} &  0.111 & \\textbf{  Jarque-Bera (JB):  } &    4.237  \\\\\n",
              "\\textbf{Skew:}          &  0.360 & \\textbf{  Prob(JB):          } &    0.120  \\\\\n",
              "\\textbf{Kurtosis:}      &  2.600 & \\textbf{  Cond. No.          } &     24.2  \\\\\n",
              "\\bottomrule\n",
              "\\end{tabular}\n",
              "%\\caption{OLS Regression Results}\n",
              "\\end{center}\n",
              "\n",
              "Notes: \\newline\n",
              " [1] Standard Errors assume that the covariance matrix of the errors is correctly specified."
            ],
            "text/plain": [
              "<class 'statsmodels.iolib.summary.Summary'>\n",
              "\"\"\"\n",
              "                            OLS Regression Results                            \n",
              "==============================================================================\n",
              "Dep. Variable:           sepal_length   R-squared:                       0.014\n",
              "Model:                            OLS   Adj. R-squared:                  0.007\n",
              "Method:                 Least Squares   F-statistic:                     2.074\n",
              "Date:                Fri, 12 Jan 2024   Prob (F-statistic):              0.152\n",
              "Time:                        11:20:20   Log-Likelihood:                -183.00\n",
              "No. Observations:                 150   AIC:                             370.0\n",
              "Df Residuals:                     148   BIC:                             376.0\n",
              "Df Model:                           1                                         \n",
              "Covariance Type:            nonrobust                                         \n",
              "===============================================================================\n",
              "                  coef    std err          t      P>|t|      [0.025      0.975]\n",
              "-------------------------------------------------------------------------------\n",
              "Intercept       6.5262      0.479     13.628      0.000       5.580       7.473\n",
              "sepal_width    -0.2234      0.155     -1.440      0.152      -0.530       0.083\n",
              "==============================================================================\n",
              "Omnibus:                        4.389   Durbin-Watson:                   0.952\n",
              "Prob(Omnibus):                  0.111   Jarque-Bera (JB):                4.237\n",
              "Skew:                           0.360   Prob(JB):                        0.120\n",
              "Kurtosis:                       2.600   Cond. No.                         24.2\n",
              "==============================================================================\n",
              "\n",
              "Notes:\n",
              "[1] Standard Errors assume that the covariance matrix of the errors is correctly specified.\n",
              "\"\"\""
            ]
          },
          "execution_count": 9,
          "metadata": {},
          "output_type": "execute_result"
        }
      ],
      "source": [
        "model = smf.ols(formula = \"sepal_length ~ sepal_width\", data=iris).fit()\n",
        "model.summary()"
      ]
    },
    {
      "cell_type": "code",
      "execution_count": null,
      "id": "5eb87acf-b77c-4665-91e5-d3bfd628addd",
      "metadata": {
        "id": "5eb87acf-b77c-4665-91e5-d3bfd628addd",
        "outputId": "c8633ce4-ff1f-465b-d7c4-30813b2f4d11"
      },
      "outputs": [
        {
          "name": "stdout",
          "output_type": "stream",
          "text": [
            "6.526222550894483 -0.22336106112990034\n"
          ]
        }
      ],
      "source": [
        "intercept = model.params.Intercept # 절편(상수항)\n",
        "slope = model.params.sepal_width\n",
        "# 기울기가 0에 수렴하므로 독립 변수가 종속 변수에 대해 유의하지 않은 영향을 가진다\n",
        "# 어떤 입력값을 넣어도 맞출 가능성이 낮음\n",
        "\n",
        "print(intercept, slope)"
      ]
    },
    {
      "cell_type": "code",
      "execution_count": null,
      "id": "42bbe983-a69f-4cfc-8709-b86016045655",
      "metadata": {
        "id": "42bbe983-a69f-4cfc-8709-b86016045655",
        "outputId": "aca1d85f-8f86-4308-fc4d-267a2c387dda"
      },
      "outputs": [
        {
          "data": {
            "image/png": "[encoded data removed]",
            "text/plain": [
              "<Figure size 1000x600 with 2 Axes>"
            ]
          },
          "metadata": {},
          "output_type": "display_data"
        }
      ],
      "source": [
        "fig, ax = plt.subplots(1, 2, figsize=(10, 6), sharey=True)\n",
        "x = np.linspace(0,5)\n",
        "\n",
        "sns.scatterplot(data = iris, x = 'sepal_width', y = 'sepal_length', ax = ax[0])\n",
        "fig.axes[0].set_title(\"The best-fitting regression line\")\n",
        "fig.axes[0].set_xlabel(\"sepal_width (cm)\")\n",
        "fig.axes[0].set_ylabel(\"sepal_length (cm)\")\n",
        "fig.axes[0].plot(x,slope*x+intercept)\n",
        "\n",
        "sns.scatterplot(data = iris, x = 'sepal_width', y = 'sepal_length', ax = ax[1])\n",
        "fig.axes[1].set_title(\"Not the best-fitting regression line!\")\n",
        "fig.axes[1].set_xlabel(\"sepal_width (cm)\")\n",
        "fig.axes[1].set_ylabel(\"sepal_length (cm)\")\n",
        "fig.axes[1].plot(x,-2*x+10)\n",
        "\n",
        "sns.despine()\n",
        "plt.show()"
      ]
    },
    {
      "cell_type": "code",
      "execution_count": null,
      "id": "dbce5940-cbe9-4ff5-b3de-298845ae06dc",
      "metadata": {
        "id": "dbce5940-cbe9-4ff5-b3de-298845ae06dc",
        "outputId": "565ccf37-f8f0-41de-a18a-b6906048e197"
      },
      "outputs": [
        {
          "name": "stdout",
          "output_type": "stream",
          "text": [
            "Collecting pingouin\n",
            "  Downloading pingouin-0.5.3-py3-none-any.whl (198 kB)\n",
            "     ---------------------------------------- 0.0/198.6 kB ? eta -:--:--\n",
            "     -- ------------------------------------- 10.2/198.6 kB ? eta -:--:--\n",
            "     --------------------- ---------------- 112.6/198.6 kB 1.7 MB/s eta 0:00:01\n",
            "     -------------------------------------- 198.6/198.6 kB 2.0 MB/s eta 0:00:00\n",
            "Requirement already satisfied: numpy>=1.19 in c:\\users\\yewon\\desktop\\projectds\\venv\\lib\\site-packages (from pingouin) (1.26.2)\n",
            "Requirement already satisfied: scipy>=1.7 in c:\\users\\yewon\\desktop\\projectds\\venv\\lib\\site-packages (from pingouin) (1.11.4)\n",
            "Requirement already satisfied: pandas>=1.0 in c:\\users\\yewon\\desktop\\projectds\\venv\\lib\\site-packages (from pingouin) (2.1.4)\n",
            "Requirement already satisfied: matplotlib>=3.0.2 in c:\\users\\yewon\\desktop\\projectds\\venv\\lib\\site-packages (from pingouin) (3.8.2)\n",
            "Requirement already satisfied: seaborn>=0.11 in c:\\users\\yewon\\desktop\\projectds\\venv\\lib\\site-packages (from pingouin) (0.13.1)\n",
            "Requirement already satisfied: statsmodels>=0.13 in c:\\users\\yewon\\desktop\\projectds\\venv\\lib\\site-packages (from pingouin) (0.14.1)\n",
            "Collecting scikit-learn (from pingouin)\n",
            "  Downloading scikit_learn-1.3.2-cp311-cp311-win_amd64.whl.metadata (11 kB)\n",
            "Collecting pandas-flavor>=0.2.0 (from pingouin)\n",
            "  Downloading pandas_flavor-0.6.0-py3-none-any.whl.metadata (6.3 kB)\n",
            "Collecting outdated (from pingouin)\n",
            "  Downloading outdated-0.2.2-py2.py3-none-any.whl (7.5 kB)\n",
            "Collecting tabulate (from pingouin)\n",
            "  Downloading tabulate-0.9.0-py3-none-any.whl (35 kB)\n",
            "Requirement already satisfied: contourpy>=1.0.1 in c:\\users\\yewon\\desktop\\projectds\\venv\\lib\\site-packages (from matplotlib>=3.0.2->pingouin) (1.2.0)\n",
            "Requirement already satisfied: cycler>=0.10 in c:\\users\\yewon\\desktop\\projectds\\venv\\lib\\site-packages (from matplotlib>=3.0.2->pingouin) (0.12.1)\n",
            "Requirement already satisfied: fonttools>=4.22.0 in c:\\users\\yewon\\desktop\\projectds\\venv\\lib\\site-packages (from matplotlib>=3.0.2->pingouin) (4.47.0)\n",
            "Requirement already satisfied: kiwisolver>=1.3.1 in c:\\users\\yewon\\desktop\\projectds\\venv\\lib\\site-packages (from matplotlib>=3.0.2->pingouin) (1.4.5)\n",
            "Requirement already satisfied: packaging>=20.0 in c:\\users\\yewon\\desktop\\projectds\\venv\\lib\\site-packages (from matplotlib>=3.0.2->pingouin) (23.2)\n",
            "Requirement already satisfied: pillow>=8 in c:\\users\\yewon\\desktop\\projectds\\venv\\lib\\site-packages (from matplotlib>=3.0.2->pingouin) (10.2.0)\n",
            "Requirement already satisfied: pyparsing>=2.3.1 in c:\\users\\yewon\\desktop\\projectds\\venv\\lib\\site-packages (from matplotlib>=3.0.2->pingouin) (3.1.1)\n",
            "Requirement already satisfied: python-dateutil>=2.7 in c:\\users\\yewon\\desktop\\projectds\\venv\\lib\\site-packages (from matplotlib>=3.0.2->pingouin) (2.8.2)\n",
            "Requirement already satisfied: pytz>=2020.1 in c:\\users\\yewon\\desktop\\projectds\\venv\\lib\\site-packages (from pandas>=1.0->pingouin) (2023.3.post1)\n",
            "Requirement already satisfied: tzdata>=2022.1 in c:\\users\\yewon\\desktop\\projectds\\venv\\lib\\site-packages (from pandas>=1.0->pingouin) (2023.4)\n",
            "Collecting xarray (from pandas-flavor>=0.2.0->pingouin)\n",
            "  Downloading xarray-2023.12.0-py3-none-any.whl.metadata (11 kB)\n",
            "Requirement already satisfied: patsy>=0.5.4 in c:\\users\\yewon\\desktop\\projectds\\venv\\lib\\site-packages (from statsmodels>=0.13->pingouin) (0.5.6)\n",
            "Requirement already satisfied: setuptools>=44 in c:\\users\\yewon\\desktop\\projectds\\venv\\lib\\site-packages (from outdated->pingouin) (69.0.2)\n",
            "Collecting littleutils (from outdated->pingouin)\n",
            "  Downloading littleutils-0.2.2.tar.gz (6.6 kB)\n",
            "  Preparing metadata (setup.py): started\n",
            "  Preparing metadata (setup.py): finished with status 'done'\n",
            "Requirement already satisfied: requests in c:\\users\\yewon\\desktop\\projectds\\venv\\lib\\site-packages (from outdated->pingouin) (2.31.0)\n",
            "Collecting joblib>=1.1.1 (from scikit-learn->pingouin)\n",
            "  Downloading joblib-1.3.2-py3-none-any.whl.metadata (5.4 kB)\n",
            "Collecting threadpoolctl>=2.0.0 (from scikit-learn->pingouin)\n",
            "  Downloading threadpoolctl-3.2.0-py3-none-any.whl.metadata (10.0 kB)\n",
            "Requirement already satisfied: six in c:\\users\\yewon\\desktop\\projectds\\venv\\lib\\site-packages (from patsy>=0.5.4->statsmodels>=0.13->pingouin) (1.16.0)\n",
            "Requirement already satisfied: charset-normalizer<4,>=2 in c:\\users\\yewon\\desktop\\projectds\\venv\\lib\\site-packages (from requests->outdated->pingouin) (3.3.2)\n",
            "Requirement already satisfied: idna<4,>=2.5 in c:\\users\\yewon\\desktop\\projectds\\venv\\lib\\site-packages (from requests->outdated->pingouin) (3.6)\n",
            "Requirement already satisfied: urllib3<3,>=1.21.1 in c:\\users\\yewon\\desktop\\projectds\\venv\\lib\\site-packages (from requests->outdated->pingouin) (2.1.0)\n",
            "Requirement already satisfied: certifi>=2017.4.17 in c:\\users\\yewon\\desktop\\projectds\\venv\\lib\\site-packages (from requests->outdated->pingouin) (2023.11.17)\n",
            "Downloading pandas_flavor-0.6.0-py3-none-any.whl (7.2 kB)\n",
            "Downloading scikit_learn-1.3.2-cp311-cp311-win_amd64.whl (9.2 MB)\n",
            "   ---------------------------------------- 0.0/9.2 MB ? eta -:--:--\n",
            "    --------------------------------------- 0.2/9.2 MB 6.7 MB/s eta 0:00:02\n",
            "   -- ------------------------------------- 0.5/9.2 MB 6.0 MB/s eta 0:00:02\n",
            "   --- ------------------------------------ 0.7/9.2 MB 5.8 MB/s eta 0:00:02\n",
            "   ---- ----------------------------------- 1.0/9.2 MB 5.7 MB/s eta 0:00:02\n",
            "   ----- ---------------------------------- 1.4/9.2 MB 6.1 MB/s eta 0:00:02\n",
            "   ------ --------------------------------- 1.6/9.2 MB 6.0 MB/s eta 0:00:02\n",
            "   -------- ------------------------------- 1.9/9.2 MB 6.1 MB/s eta 0:00:02\n",
            "   --------- ------------------------------ 2.2/9.2 MB 6.1 MB/s eta 0:00:02\n",
            "   ----------- ---------------------------- 2.6/9.2 MB 6.3 MB/s eta 0:00:02\n",
            "   ------------ --------------------------- 2.9/9.2 MB 6.4 MB/s eta 0:00:01\n",
            "   ------------- -------------------------- 3.2/9.2 MB 6.6 MB/s eta 0:00:01\n",
            "   --------------- ------------------------ 3.6/9.2 MB 6.7 MB/s eta 0:00:01\n",
            "   ----------------- ---------------------- 4.1/9.2 MB 6.8 MB/s eta 0:00:01\n",
            "   ------------------- -------------------- 4.4/9.2 MB 7.0 MB/s eta 0:00:01\n",
            "   -------------------- ------------------- 4.7/9.2 MB 7.0 MB/s eta 0:00:01\n",
            "   ---------------------- ----------------- 5.2/9.2 MB 7.2 MB/s eta 0:00:01\n",
            "   ----------------------- ---------------- 5.4/9.2 MB 7.1 MB/s eta 0:00:01\n",
            "   ------------------------- -------------- 6.0/9.2 MB 7.3 MB/s eta 0:00:01\n",
            "   -------------------------- ------------- 6.2/9.2 MB 7.2 MB/s eta 0:00:01\n",
            "   ---------------------------- ----------- 6.6/9.2 MB 7.3 MB/s eta 0:00:01\n",
            "   ------------------------------ --------- 7.0/9.2 MB 7.4 MB/s eta 0:00:01\n",
            "   -------------------------------- ------- 7.4/9.2 MB 7.4 MB/s eta 0:00:01\n",
            "   --------------------------------- ------ 7.8/9.2 MB 7.5 MB/s eta 0:00:01\n",
            "   ----------------------------------- ---- 8.2/9.2 MB 7.5 MB/s eta 0:00:01\n",
            "   ------------------------------------- -- 8.6/9.2 MB 7.5 MB/s eta 0:00:01\n",
            "   -------------------------------------- - 8.8/9.2 MB 7.5 MB/s eta 0:00:01\n",
            "   ---------------------------------------  9.2/9.2 MB 7.5 MB/s eta 0:00:01\n",
            "   ---------------------------------------- 9.2/9.2 MB 7.4 MB/s eta 0:00:00\n",
            "Downloading joblib-1.3.2-py3-none-any.whl (302 kB)\n",
            "   ---------------------------------------- 0.0/302.2 kB ? eta -:--:--\n",
            "   ---------------------------------------- 302.2/302.2 kB 9.4 MB/s eta 0:00:00\n",
            "Downloading threadpoolctl-3.2.0-py3-none-any.whl (15 kB)\n",
            "Downloading xarray-2023.12.0-py3-none-any.whl (1.1 MB)\n",
            "   ---------------------------------------- 0.0/1.1 MB ? eta -:--:--\n",
            "   ------------- -------------------------- 0.4/1.1 MB 11.2 MB/s eta 0:00:01\n",
            "   ------------------------ --------------- 0.6/1.1 MB 8.1 MB/s eta 0:00:01\n",
            "   ----------------------------------- ---- 1.0/1.1 MB 7.5 MB/s eta 0:00:01\n",
            "   ---------------------------------------- 1.1/1.1 MB 7.5 MB/s eta 0:00:00\n",
            "Building wheels for collected packages: littleutils\n",
            "  Building wheel for littleutils (setup.py): started\n",
            "  Building wheel for littleutils (setup.py): finished with status 'done'\n",
            "  Created wheel for littleutils: filename=littleutils-0.2.2-py3-none-any.whl size=7034 sha256=5f744dc108a8275e4685d71f74d6706d149440e1fb9973fe66a093a9a9ae503c\n",
            "  Stored in directory: c:\\users\\yewon\\appdata\\local\\pip\\cache\\wheels\\17\\8d\\65\\9a39917567093c895549811c172be5d2dfb63c7e4b143e05a4\n",
            "Successfully built littleutils\n",
            "Installing collected packages: littleutils, threadpoolctl, tabulate, joblib, scikit-learn, outdated, xarray, pandas-flavor, pingouin\n",
            "Successfully installed joblib-1.3.2 littleutils-0.2.2 outdated-0.2.2 pandas-flavor-0.6.0 pingouin-0.5.3 scikit-learn-1.3.2 tabulate-0.9.0 threadpoolctl-3.2.0 xarray-2023.12.0\n"
          ]
        },
        {
          "name": "stderr",
          "output_type": "stream",
          "text": [
            "\n",
            "[notice] A new release of pip is available: 23.3.1 -> 23.3.2\n",
            "[notice] To update, run: python.exe -m pip install --upgrade pip\n"
          ]
        }
      ],
      "source": [
        "!pip install pingouin"
      ]
    },
    {
      "cell_type": "code",
      "execution_count": null,
      "id": "d94af16f-3e76-44d0-b54c-2d84766dad63",
      "metadata": {
        "id": "d94af16f-3e76-44d0-b54c-2d84766dad63",
        "outputId": "1bce1b84-374b-4cf1-aaf5-95e19ac92396"
      },
      "outputs": [
        {
          "data": {
            "text/html": [
              "<div>\n",
              "<style scoped>\n",
              "    .dataframe tbody tr th:only-of-type {\n",
              "        vertical-align: middle;\n",
              "    }\n",
              "\n",
              "    .dataframe tbody tr th {\n",
              "        vertical-align: top;\n",
              "    }\n",
              "\n",
              "    .dataframe thead th {\n",
              "        text-align: right;\n",
              "    }\n",
              "</style>\n",
              "<table border=\"1\" class=\"dataframe\">\n",
              "  <thead>\n",
              "    <tr style=\"text-align: right;\">\n",
              "      <th></th>\n",
              "      <th>names</th>\n",
              "      <th>coef</th>\n",
              "      <th>se</th>\n",
              "      <th>T</th>\n",
              "      <th>pval</th>\n",
              "      <th>r2</th>\n",
              "      <th>adj_r2</th>\n",
              "      <th>CI[2.5%]</th>\n",
              "      <th>CI[97.5%]</th>\n",
              "    </tr>\n",
              "  </thead>\n",
              "  <tbody>\n",
              "    <tr>\n",
              "      <th>0</th>\n",
              "      <td>Intercept</td>\n",
              "      <td>6.53</td>\n",
              "      <td>0.48</td>\n",
              "      <td>13.63</td>\n",
              "      <td>0.00</td>\n",
              "      <td>0.01</td>\n",
              "      <td>0.01</td>\n",
              "      <td>5.58</td>\n",
              "      <td>7.47</td>\n",
              "    </tr>\n",
              "    <tr>\n",
              "      <th>1</th>\n",
              "      <td>sepal_width</td>\n",
              "      <td>-0.22</td>\n",
              "      <td>0.16</td>\n",
              "      <td>-1.44</td>\n",
              "      <td>0.15</td>\n",
              "      <td>0.01</td>\n",
              "      <td>0.01</td>\n",
              "      <td>-0.53</td>\n",
              "      <td>0.08</td>\n",
              "    </tr>\n",
              "  </tbody>\n",
              "</table>\n",
              "</div>"
            ],
            "text/plain": [
              "         names  coef    se      T  pval    r2  adj_r2  CI[2.5%]  CI[97.5%]\n",
              "0    Intercept  6.53  0.48  13.63  0.00  0.01    0.01      5.58       7.47\n",
              "1  sepal_width -0.22  0.16  -1.44  0.15  0.01    0.01     -0.53       0.08"
            ]
          },
          "execution_count": 17,
          "metadata": {},
          "output_type": "execute_result"
        }
      ],
      "source": [
        "import pingouin as pg\n",
        "\n",
        "mod1 = pg.linear_regression(iris['sepal_width'], iris['sepal_length'])\n",
        "mod1.round(2)\n",
        "\n",
        "# 결정계수 0.01 => sepal_width는 적합한 독립변수가 아니다"
      ]
    },
    {
      "cell_type": "code",
      "execution_count": null,
      "id": "28e8f13e-87db-4824-8d04-9ace1e791256",
      "metadata": {
        "id": "28e8f13e-87db-4824-8d04-9ace1e791256",
        "outputId": "c2692f17-5069-47ae-9270-9fa66d5f6b62"
      },
      "outputs": [
        {
          "data": {
            "text/html": [
              "<div>\n",
              "<style scoped>\n",
              "    .dataframe tbody tr th:only-of-type {\n",
              "        vertical-align: middle;\n",
              "    }\n",
              "\n",
              "    .dataframe tbody tr th {\n",
              "        vertical-align: top;\n",
              "    }\n",
              "\n",
              "    .dataframe thead th {\n",
              "        text-align: right;\n",
              "    }\n",
              "</style>\n",
              "<table border=\"1\" class=\"dataframe\">\n",
              "  <thead>\n",
              "    <tr style=\"text-align: right;\">\n",
              "      <th></th>\n",
              "      <th>names</th>\n",
              "      <th>coef</th>\n",
              "      <th>se</th>\n",
              "      <th>T</th>\n",
              "      <th>pval</th>\n",
              "      <th>r2</th>\n",
              "      <th>adj_r2</th>\n",
              "      <th>CI[2.5%]</th>\n",
              "      <th>CI[97.5%]</th>\n",
              "    </tr>\n",
              "  </thead>\n",
              "  <tbody>\n",
              "    <tr>\n",
              "      <th>0</th>\n",
              "      <td>Intercept</td>\n",
              "      <td>2.25</td>\n",
              "      <td>0.25</td>\n",
              "      <td>9.07</td>\n",
              "      <td>0.0</td>\n",
              "      <td>0.84</td>\n",
              "      <td>0.84</td>\n",
              "      <td>1.76</td>\n",
              "      <td>2.74</td>\n",
              "    </tr>\n",
              "    <tr>\n",
              "      <th>1</th>\n",
              "      <td>sepal_width</td>\n",
              "      <td>0.60</td>\n",
              "      <td>0.07</td>\n",
              "      <td>8.59</td>\n",
              "      <td>0.0</td>\n",
              "      <td>0.84</td>\n",
              "      <td>0.84</td>\n",
              "      <td>0.46</td>\n",
              "      <td>0.73</td>\n",
              "    </tr>\n",
              "    <tr>\n",
              "      <th>2</th>\n",
              "      <td>petal_length</td>\n",
              "      <td>0.47</td>\n",
              "      <td>0.02</td>\n",
              "      <td>27.57</td>\n",
              "      <td>0.0</td>\n",
              "      <td>0.84</td>\n",
              "      <td>0.84</td>\n",
              "      <td>0.44</td>\n",
              "      <td>0.51</td>\n",
              "    </tr>\n",
              "  </tbody>\n",
              "</table>\n",
              "</div>"
            ],
            "text/plain": [
              "          names  coef    se      T  pval    r2  adj_r2  CI[2.5%]  CI[97.5%]\n",
              "0     Intercept  2.25  0.25   9.07   0.0  0.84    0.84      1.76       2.74\n",
              "1   sepal_width  0.60  0.07   8.59   0.0  0.84    0.84      0.46       0.73\n",
              "2  petal_length  0.47  0.02  27.57   0.0  0.84    0.84      0.44       0.51"
            ]
          },
          "execution_count": 18,
          "metadata": {},
          "output_type": "execute_result"
        }
      ],
      "source": [
        "predictors = ['sepal_width', 'petal_length']\n",
        "outcome = 'sepal_length'\n",
        "\n",
        "# 독립변수의 최적의 조합을 찾는 것이 회귀 4!=24개\n",
        "# 결정계수 확인해서 가장 결정계수가 높은 회귀식을 선택\n",
        "mod2 = pg.linear_regression(iris[predictors], iris[outcome])\n",
        "mod2.round(2)"
      ]
    },
    {
      "cell_type": "markdown",
      "id": "7e586e1b-eeb1-4d66-8e02-fc1903d37a34",
      "metadata": {
        "id": "7e586e1b-eeb1-4d66-8e02-fc1903d37a34"
      },
      "source": [
        "## 결정계수\n",
        "- 회귀선에 의해 얼마나 변동이 되는지 확인이 가능\n",
        "- SSR/SST\n",
        "- x가 1만큼 변할때 y가 변하는 양의 면적"
      ]
    },
    {
      "cell_type": "markdown",
      "id": "b6ab92ae-05a8-4b60-b795-3e1f4f231acf",
      "metadata": {
        "id": "b6ab92ae-05a8-4b60-b795-3e1f4f231acf"
      },
      "source": [
        "## 단계적 변수선택\n",
        "- 최소 독립변수가 10개이상 존재할 때 사용"
      ]
    },
    {
      "cell_type": "code",
      "execution_count": null,
      "id": "acc34d54-0e56-485d-817f-0cf764385a7f",
      "metadata": {
        "id": "acc34d54-0e56-485d-817f-0cf764385a7f",
        "outputId": "4bd64924-0307-4d0d-ec2c-34bc92216888"
      },
      "outputs": [
        {
          "name": "stderr",
          "output_type": "stream",
          "text": [
            "C:\\Users\\yewon\\Desktop\\ProjectDS\\venv\\Lib\\site-packages\\pingouin\\correlation.py:1111: FutureWarning: DataFrame.applymap has been deprecated. Use DataFrame.map instead.\n",
            "  mat_upper = mat_upper.applymap(replace_pval)\n"
          ]
        },
        {
          "data": {
            "text/html": [
              "<div>\n",
              "<style scoped>\n",
              "    .dataframe tbody tr th:only-of-type {\n",
              "        vertical-align: middle;\n",
              "    }\n",
              "\n",
              "    .dataframe tbody tr th {\n",
              "        vertical-align: top;\n",
              "    }\n",
              "\n",
              "    .dataframe thead th {\n",
              "        text-align: right;\n",
              "    }\n",
              "</style>\n",
              "<table border=\"1\" class=\"dataframe\">\n",
              "  <thead>\n",
              "    <tr style=\"text-align: right;\">\n",
              "      <th></th>\n",
              "      <th>sepal_length</th>\n",
              "      <th>sepal_width</th>\n",
              "      <th>petal_length</th>\n",
              "    </tr>\n",
              "  </thead>\n",
              "  <tbody>\n",
              "    <tr>\n",
              "      <th>sepal_length</th>\n",
              "      <td>-</td>\n",
              "      <td></td>\n",
              "      <td>***</td>\n",
              "    </tr>\n",
              "    <tr>\n",
              "      <th>sepal_width</th>\n",
              "      <td>-0.118</td>\n",
              "      <td>-</td>\n",
              "      <td>***</td>\n",
              "    </tr>\n",
              "    <tr>\n",
              "      <th>petal_length</th>\n",
              "      <td>0.872</td>\n",
              "      <td>-0.428</td>\n",
              "      <td>-</td>\n",
              "    </tr>\n",
              "  </tbody>\n",
              "</table>\n",
              "</div>"
            ],
            "text/plain": [
              "             sepal_length sepal_width petal_length\n",
              "sepal_length            -                      ***\n",
              "sepal_width        -0.118           -          ***\n",
              "petal_length        0.872      -0.428            -"
            ]
          },
          "execution_count": 19,
          "metadata": {},
          "output_type": "execute_result"
        }
      ],
      "source": [
        "# 둘다 p값이 같을때, 상관계수 확인\n",
        "iris.loc[:, ['sepal_length', 'sepal_width', 'petal_length']].rcorr()"
      ]
    },
    {
      "cell_type": "code",
      "execution_count": null,
      "id": "93cc18d7-3cf4-4cd6-9e15-fb3df09cfed9",
      "metadata": {
        "id": "93cc18d7-3cf4-4cd6-9e15-fb3df09cfed9",
        "outputId": "0efd10c0-1e89-4fed-f9fd-0fe00ea51273"
      },
      "outputs": [
        {
          "data": {
            "text/html": [
              "<div>\n",
              "<style scoped>\n",
              "    .dataframe tbody tr th:only-of-type {\n",
              "        vertical-align: middle;\n",
              "    }\n",
              "\n",
              "    .dataframe tbody tr th {\n",
              "        vertical-align: top;\n",
              "    }\n",
              "\n",
              "    .dataframe thead th {\n",
              "        text-align: right;\n",
              "    }\n",
              "</style>\n",
              "<table border=\"1\" class=\"dataframe\">\n",
              "  <thead>\n",
              "    <tr style=\"text-align: right;\">\n",
              "      <th></th>\n",
              "      <th>names</th>\n",
              "      <th>coef</th>\n",
              "      <th>se</th>\n",
              "      <th>T</th>\n",
              "      <th>pval</th>\n",
              "      <th>r2</th>\n",
              "      <th>adj_r2</th>\n",
              "      <th>CI[2.5%]</th>\n",
              "      <th>CI[97.5%]</th>\n",
              "    </tr>\n",
              "  </thead>\n",
              "  <tbody>\n",
              "    <tr>\n",
              "      <th>0</th>\n",
              "      <td>Intercept</td>\n",
              "      <td>4.31</td>\n",
              "      <td>0.08</td>\n",
              "      <td>54.94</td>\n",
              "      <td>0.0</td>\n",
              "      <td>0.76</td>\n",
              "      <td>0.76</td>\n",
              "      <td>4.15</td>\n",
              "      <td>4.46</td>\n",
              "    </tr>\n",
              "    <tr>\n",
              "      <th>1</th>\n",
              "      <td>petal_length</td>\n",
              "      <td>0.41</td>\n",
              "      <td>0.02</td>\n",
              "      <td>21.65</td>\n",
              "      <td>0.0</td>\n",
              "      <td>0.76</td>\n",
              "      <td>0.76</td>\n",
              "      <td>0.37</td>\n",
              "      <td>0.45</td>\n",
              "    </tr>\n",
              "  </tbody>\n",
              "</table>\n",
              "</div>"
            ],
            "text/plain": [
              "          names  coef    se      T  pval    r2  adj_r2  CI[2.5%]  CI[97.5%]\n",
              "0     Intercept  4.31  0.08  54.94   0.0  0.76    0.76      4.15       4.46\n",
              "1  petal_length  0.41  0.02  21.65   0.0  0.76    0.76      0.37       0.45"
            ]
          },
          "execution_count": 20,
          "metadata": {},
          "output_type": "execute_result"
        }
      ],
      "source": [
        "mod3 = pg.linear_regression(iris['petal_length'], iris['sepal_length'])\n",
        "mod3.round(2)"
      ]
    },
    {
      "cell_type": "code",
      "execution_count": null,
      "id": "1820ce67-11eb-447d-b641-398bdbf6831e",
      "metadata": {
        "id": "1820ce67-11eb-447d-b641-398bdbf6831e",
        "outputId": "769a6759-14fc-47ba-af3b-9fb2ae1e3fba"
      },
      "outputs": [
        {
          "data": {
            "text/html": [
              "<div>\n",
              "<style scoped>\n",
              "    .dataframe tbody tr th:only-of-type {\n",
              "        vertical-align: middle;\n",
              "    }\n",
              "\n",
              "    .dataframe tbody tr th {\n",
              "        vertical-align: top;\n",
              "    }\n",
              "\n",
              "    .dataframe thead th {\n",
              "        text-align: right;\n",
              "    }\n",
              "</style>\n",
              "<table border=\"1\" class=\"dataframe\">\n",
              "  <thead>\n",
              "    <tr style=\"text-align: right;\">\n",
              "      <th></th>\n",
              "      <th>names</th>\n",
              "      <th>coef</th>\n",
              "      <th>se</th>\n",
              "      <th>T</th>\n",
              "      <th>pval</th>\n",
              "      <th>r2</th>\n",
              "      <th>adj_r2</th>\n",
              "      <th>CI[2.5%]</th>\n",
              "      <th>CI[97.5%]</th>\n",
              "    </tr>\n",
              "  </thead>\n",
              "  <tbody>\n",
              "    <tr>\n",
              "      <th>0</th>\n",
              "      <td>Intercept</td>\n",
              "      <td>6.53</td>\n",
              "      <td>0.48</td>\n",
              "      <td>13.63</td>\n",
              "      <td>0.00</td>\n",
              "      <td>0.01</td>\n",
              "      <td>0.01</td>\n",
              "      <td>5.58</td>\n",
              "      <td>7.47</td>\n",
              "    </tr>\n",
              "    <tr>\n",
              "      <th>1</th>\n",
              "      <td>sepal_width</td>\n",
              "      <td>-0.22</td>\n",
              "      <td>0.16</td>\n",
              "      <td>-1.44</td>\n",
              "      <td>0.15</td>\n",
              "      <td>0.01</td>\n",
              "      <td>0.01</td>\n",
              "      <td>-0.53</td>\n",
              "      <td>0.08</td>\n",
              "    </tr>\n",
              "  </tbody>\n",
              "</table>\n",
              "</div>"
            ],
            "text/plain": [
              "         names  coef    se      T  pval    r2  adj_r2  CI[2.5%]  CI[97.5%]\n",
              "0    Intercept  6.53  0.48  13.63  0.00  0.01    0.01      5.58       7.47\n",
              "1  sepal_width -0.22  0.16  -1.44  0.15  0.01    0.01     -0.53       0.08"
            ]
          },
          "execution_count": 21,
          "metadata": {},
          "output_type": "execute_result"
        }
      ],
      "source": [
        "mod3 = pg.linear_regression(iris['sepal_width'], iris['sepal_length'])\n",
        "mod3.round(2)"
      ]
    }
  ],
  "metadata": {
    "kernelspec": {
      "display_name": "Python 3 (ipykernel)",
      "language": "python",
      "name": "python3"
    },
    "language_info": {
      "codemirror_mode": {
        "name": "ipython",
        "version": 3
      },
      "file_extension": ".py",
      "mimetype": "text/x-python",
      "name": "python",
      "nbconvert_exporter": "python",
      "pygments_lexer": "ipython3",
      "version": "3.11.5"
    },
    "colab": {
      "provenance": [],
      "include_colab_link": true
    }
  },
  "nbformat": 4,
  "nbformat_minor": 5
}