{
  "nbformat": 4,
  "nbformat_minor": 0,
  "metadata": {
    "colab": {
      "provenance": [],
      "toc_visible": true,
      "authorship_tag": "ABX9TyM8h6RJbenA6TdiOAtV6O+d",
      "include_colab_link": true
    },
    "kernelspec": {
      "name": "python3",
      "display_name": "Python 3"
    },
    "language_info": {
      "name": "python"
    }
  },
  "cells": [
    {
      "cell_type": "markdown",
      "metadata": {
        "id": "view-in-github",
        "colab_type": "text"
      },
      "source": [
        "<a href=\"https://colab.research.google.com/github/yewon91/mul_lectures/blob/main/%EA%B8%B0%EC%B4%88%EB%AC%B8%EB%B2%95231227.ipynb\" target=\"_parent\"><img src=\"https://colab.research.google.com/assets/colab-badge.svg\" alt=\"Open In Colab\"/></a>"
      ]
    },
    {
      "cell_type": "markdown",
      "source": [
        "# Chapter 3. 파이썬을 계산기처럼"
      ],
      "metadata": {
        "id": "J32DCXhtum_G"
      }
    },
    {
      "cell_type": "markdown",
      "source": [
        "## 사칙연산"
      ],
      "metadata": {
        "id": "IzRRXUo7utJl"
      }
    },
    {
      "cell_type": "code",
      "execution_count": 1,
      "metadata": {
        "colab": {
          "base_uri": "https://localhost:8080/"
        },
        "id": "gk4cYSA5nvCM",
        "outputId": "9462253b-d57c-4188-9237-795781f72070"
      },
      "outputs": [
        {
          "output_type": "execute_result",
          "data": {
            "text/plain": [
              "2"
            ]
          },
          "metadata": {},
          "execution_count": 1
        }
      ],
      "source": [
        "1+1"
      ]
    },
    {
      "cell_type": "code",
      "source": [
        "# 나눗셈\n",
        "# Python 3.x 버전은 실수로 처리\n",
        "# Python 2.x 버전은 정수로 처리\n",
        "10/2    # 정수/정수 ==> 반환값 실수형으로 반환\n"
      ],
      "metadata": {
        "colab": {
          "base_uri": "https://localhost:8080/"
        },
        "id": "vtffTg4QrYNV",
        "outputId": "50e6ad89-09fe-45c6-bf87-d02336976d0d"
      },
      "execution_count": 2,
      "outputs": [
        {
          "output_type": "execute_result",
          "data": {
            "text/plain": [
              "5.0"
            ]
          },
          "metadata": {},
          "execution_count": 2
        }
      ]
    },
    {
      "cell_type": "markdown",
      "source": [
        "- 실수 연산"
      ],
      "metadata": {
        "id": "7rd1BEIbsPz6"
      }
    },
    {
      "cell_type": "code",
      "source": [
        "# print() - 웹개발 IDE 환경에서 필수\n",
        "print(1.2 + 5.2) # 덧셈\n",
        "print(2.1 - 1.3) # 뺄셈"
      ],
      "metadata": {
        "colab": {
          "base_uri": "https://localhost:8080/"
        },
        "id": "yx7nhPUCsR5V",
        "outputId": "459f92ad-8e55-4c54-e55c-9817b684f16b"
      },
      "execution_count": 3,
      "outputs": [
        {
          "output_type": "stream",
          "name": "stdout",
          "text": [
            "6.4\n",
            "0.8\n"
          ]
        }
      ]
    },
    {
      "cell_type": "markdown",
      "source": [
        "### 연산 규칙\n",
        "- (1) 괄호안 계산\n",
        "- (2) 지수 계산\n",
        "- (3) 곱셈과 나눗셈 계산\n",
        "- (4) 덧셈과 뺄셈 계산\n",
        "- (5) 같은 순위 연산이면, 왼쪽에서 오른쪽으로\n",
        "- (6) 중복된 괄호가 있을 경우, 안쪽에서부터 처리\n"
      ],
      "metadata": {
        "id": "yn1ZBaSNte78"
      }
    },
    {
      "cell_type": "code",
      "source": [
        "3 / 2 * 4 - 5 / 2"
      ],
      "metadata": {
        "colab": {
          "base_uri": "https://localhost:8080/"
        },
        "id": "IWq8RNKLt5IS",
        "outputId": "2c3c2605-d525-4b0f-ae06-0c9bb0b421ea"
      },
      "execution_count": 4,
      "outputs": [
        {
          "output_type": "execute_result",
          "data": {
            "text/plain": [
              "3.5"
            ]
          },
          "metadata": {},
          "execution_count": 4
        }
      ]
    },
    {
      "cell_type": "markdown",
      "source": [
        "## type()\n",
        "- 함수 : 특정 기능을 수행하도록 만든 매직박스\n",
        " + 특정함수를 조건만 만들어주면 동작\n",
        ""
      ],
      "metadata": {
        "id": "9JVI8poIzgn9"
      }
    },
    {
      "cell_type": "markdown",
      "source": [
        "함수의 종류\n",
        "- 내장(built-in) 함수 : 파이썬 설치와 함께 제공하는 기본적인 함수\n",
        " + print(), type()\n",
        " + 종류가 몇개인가요? (몰라요..)\n",
        " + Documentation : 함수를 설명해주는 문서 보는 법 익힐 것 (영어)\n",
        "\n",
        " - 라이브러리에서 제공하는 함수\n",
        " + R: 패키지, Python: 라이브러리\n",
        " + 목적이 분명\n",
        " - 웹사이트 개발 : 웹사이트와 관련된 라이브러리를 별도 설치 필요\n",
        " - 통계분석 : 통계분석과 관련된 라이브러리를 별도 설치 필요\n",
        " - 시각화 : 시각화와 관련된 라이브러리 설치\n",
        " - 게임개발 : 관련된 라이브러리 설치\n",
        " - 수치연산 주요라이브러리 : numpy*, scipy\n",
        ""
      ],
      "metadata": {
        "id": "DutubSBbzwU8"
      }
    },
    {
      "cell_type": "code",
      "source": [
        "# 파이썬에서 정수/실수 표현\n",
        "print(type(3))"
      ],
      "metadata": {
        "colab": {
          "base_uri": "https://localhost:8080/"
        },
        "id": "A2IfVsRiu-y_",
        "outputId": "18c97b71-3369-425e-aa45-9b63ab2fbc1f"
      },
      "execution_count": 5,
      "outputs": [
        {
          "output_type": "stream",
          "name": "stdout",
          "text": [
            "<class 'int'>\n"
          ]
        }
      ]
    },
    {
      "cell_type": "markdown",
      "source": [
        "- 파이썬: 객체지향 언어"
      ],
      "metadata": {
        "id": "P50Cu_b62Cmi"
      }
    },
    {
      "cell_type": "markdown",
      "source": [
        "## 거듭제곱과 나머지\n",
        "- 숫자 A를 n번 곱하는 거듭제곱(Power)\n",
        "+ A는 밑, n은 지수라고 표현"
      ],
      "metadata": {
        "id": "05ipoulO2Iaw"
      }
    },
    {
      "cell_type": "code",
      "source": [
        "2 ** 5 # 거듭제곱"
      ],
      "metadata": {
        "colab": {
          "base_uri": "https://localhost:8080/"
        },
        "id": "1lYsfS7i2flz",
        "outputId": "1c9aa02b-01ef-48ed-957a-e6c6f8864f5b"
      },
      "execution_count": 6,
      "outputs": [
        {
          "output_type": "execute_result",
          "data": {
            "text/plain": [
              "32"
            ]
          },
          "metadata": {},
          "execution_count": 6
        }
      ]
    },
    {
      "cell_type": "code",
      "source": [
        "# 나머지와 몫\n",
        "print(13 // 5)\n",
        "print(13 % 5)"
      ],
      "metadata": {
        "colab": {
          "base_uri": "https://localhost:8080/"
        },
        "id": "Pehmissd3JZU",
        "outputId": "92dd6fb1-ee67-4350-b3d4-4da0cce1af7f"
      },
      "execution_count": 7,
      "outputs": [
        {
          "output_type": "stream",
          "name": "stdout",
          "text": [
            "2\n",
            "3\n"
          ]
        }
      ]
    },
    {
      "cell_type": "markdown",
      "source": [
        "## 과학적 표기법 (Scientific Notation)\n",
        "- 아주 큰 수, 작은 수를 다뤄야하는 케이스\n",
        "+ 빛은 초당 30만 km\n",
        "+ 단위를 m/s 표현하면, 300,000,000m/s\n",
        "+ 3x10^8"
      ],
      "metadata": {
        "id": "e0s7HqVi3pYG"
      }
    },
    {
      "cell_type": "code",
      "source": [
        "3*10**8"
      ],
      "metadata": {
        "colab": {
          "base_uri": "https://localhost:8080/"
        },
        "id": "BqTfm4zF4OsS",
        "outputId": "38da8c54-ce83-438c-91fa-95be68479aef"
      },
      "execution_count": 8,
      "outputs": [
        {
          "output_type": "execute_result",
          "data": {
            "text/plain": [
              "300000000"
            ]
          },
          "metadata": {},
          "execution_count": 8
        }
      ]
    },
    {
      "cell_type": "code",
      "source": [
        "3e8"
      ],
      "metadata": {
        "colab": {
          "base_uri": "https://localhost:8080/"
        },
        "id": "Ta67JhlW4SgQ",
        "outputId": "04cea300-f054-4be8-99bd-35c4cc5c60e1"
      },
      "execution_count": 9,
      "outputs": [
        {
          "output_type": "execute_result",
          "data": {
            "text/plain": [
              "300000000.0"
            ]
          },
          "metadata": {},
          "execution_count": 9
        }
      ]
    },
    {
      "cell_type": "code",
      "source": [
        "3e-4"
      ],
      "metadata": {
        "colab": {
          "base_uri": "https://localhost:8080/"
        },
        "id": "tgWVTTqu4lNH",
        "outputId": "a72f8f25-af45-4f8a-eec8-72ee8592e093"
      },
      "execution_count": 10,
      "outputs": [
        {
          "output_type": "execute_result",
          "data": {
            "text/plain": [
              "0.0003"
            ]
          },
          "metadata": {},
          "execution_count": 10
        }
      ]
    },
    {
      "cell_type": "markdown",
      "source": [
        "## 진수표현과 변환\n",
        "- 일상생활에서는 10진법 사용\n",
        "- 60진법: 60초가 1분이고, 60분이 1시간\n",
        "- 12진법: 오전 12시간, 오후 12시간, 1년 12달\n",
        "- 컴퓨터 프로그래밍: 숫자 0과 1로 이루어진 2진법 수행\n",
        "- 8진법: 0~7까지의 숫자\n",
        "- 16진법: 0~9, a,b,c,d,e,f\n",
        "\n",
        "- 실제 분석에선 거의 쓸일 없다고 함"
      ],
      "metadata": {
        "id": "YPCPId8k5XMp"
      }
    },
    {
      "cell_type": "code",
      "source": [
        "print(17) # 10진법 decimal\n",
        "print(0b10001) # 2진법 binary\n",
        "print(0o21) # 8진법 octal\n",
        "print(0x11) # 16진법 hexadecimal"
      ],
      "metadata": {
        "colab": {
          "base_uri": "https://localhost:8080/"
        },
        "id": "Q65W5fDO6MLA",
        "outputId": "f97f1d28-143c-4363-caad-5cc554dc8134"
      },
      "execution_count": 11,
      "outputs": [
        {
          "output_type": "stream",
          "name": "stdout",
          "text": [
            "17\n",
            "17\n",
            "17\n",
            "17\n"
          ]
        }
      ]
    },
    {
      "cell_type": "markdown",
      "source": [
        "## 논리 연산 및 비교 연산 (매우 중요)\n",
        "- 참/거짓\n",
        "- 논리 연산을 잘 활용하는 것이 프로그래밍의 핵심\n",
        "- 실제 프로그래밍은 논리연산 구조로 되어있음!"
      ],
      "metadata": {
        "id": "Vc3rZBov7Riq"
      }
    },
    {
      "cell_type": "code",
      "source": [
        "print(True)\n",
        "print(False)\n",
        "print(type(True))"
      ],
      "metadata": {
        "colab": {
          "base_uri": "https://localhost:8080/"
        },
        "id": "1PgLcpVu79zU",
        "outputId": "8ee6845c-3965-4019-e2c6-6f2368b396aa"
      },
      "execution_count": 12,
      "outputs": [
        {
          "output_type": "stream",
          "name": "stdout",
          "text": [
            "True\n",
            "False\n",
            "<class 'bool'>\n"
          ]
        }
      ]
    },
    {
      "cell_type": "markdown",
      "source": [
        "### 논리 연산자\n",
        "- and : A and B : A,B 모두 참일 때 참\n",
        "- or : A or B : A,B 중 하나라도 참이면 참, 둘다 거짓일 때 거짓\n",
        "- not : not A : A가 참일 때 거짓, A가 거짓이면 참\n"
      ],
      "metadata": {
        "id": "4lM36Vtp8XD0"
      }
    },
    {
      "cell_type": "code",
      "source": [
        "print(not True)\n",
        "print(not False)"
      ],
      "metadata": {
        "colab": {
          "base_uri": "https://localhost:8080/"
        },
        "id": "M4qgCkkKBXcm",
        "outputId": "2d863050-ace2-4db4-ed0c-17b248a28859"
      },
      "execution_count": 13,
      "outputs": [
        {
          "output_type": "stream",
          "name": "stdout",
          "text": [
            "False\n",
            "True\n"
          ]
        }
      ]
    },
    {
      "cell_type": "code",
      "source": [
        "# True 또는 False 결과가 나오도록 \"의도적\"으로 조건식을 만들어야 함\n",
        "1 == 2"
      ],
      "metadata": {
        "colab": {
          "base_uri": "https://localhost:8080/"
        },
        "id": "F4YwJJUtCqIx",
        "outputId": "490f9ead-1828-416d-ba45-a294918588f8"
      },
      "execution_count": 14,
      "outputs": [
        {
          "output_type": "execute_result",
          "data": {
            "text/plain": [
              "False"
            ]
          },
          "metadata": {},
          "execution_count": 14
        }
      ]
    },
    {
      "cell_type": "markdown",
      "source": [
        "### 비교연산자 + 논리연산자\n"
      ],
      "metadata": {
        "id": "woTIJMlSEGWP"
      }
    },
    {
      "cell_type": "code",
      "source": [
        "1 > 0 and -2 < 0 # 비교연산자(1순위) 논리연산자(2순위)"
      ],
      "metadata": {
        "colab": {
          "base_uri": "https://localhost:8080/"
        },
        "id": "j7bRjly1EJVj",
        "outputId": "b086174a-afb4-4592-f67a-1634ef9d1cad"
      },
      "execution_count": 15,
      "outputs": [
        {
          "output_type": "execute_result",
          "data": {
            "text/plain": [
              "True"
            ]
          },
          "metadata": {},
          "execution_count": 15
        }
      ]
    },
    {
      "cell_type": "markdown",
      "source": [
        "# Chapter 4. 변수와 자료형\n"
      ],
      "metadata": {
        "id": "SsEDRE4219xT"
      }
    },
    {
      "cell_type": "code",
      "source": [
        "#변수명 = data\n",
        "num_a = 1000"
      ],
      "metadata": {
        "id": "GiSnfRPp779-"
      },
      "execution_count": 2,
      "outputs": []
    },
    {
      "cell_type": "markdown",
      "source": [],
      "metadata": {
        "id": "Ex0p4MziktVY"
      }
    },
    {
      "cell_type": "code",
      "source": [
        "print(num_a)"
      ],
      "metadata": {
        "colab": {
          "base_uri": "https://localhost:8080/",
          "height": 184
        },
        "id": "9jgi3kEugVgO",
        "outputId": "b1cc1888-ff2d-4633-d706-c37c832dd64c"
      },
      "execution_count": 1,
      "outputs": [
        {
          "output_type": "error",
          "ename": "NameError",
          "evalue": "ignored",
          "traceback": [
            "\u001b[0;31m---------------------------------------------------------------------------\u001b[0m",
            "\u001b[0;31mNameError\u001b[0m                                 Traceback (most recent call last)",
            "\u001b[0;32m<ipython-input-1-1760a9d3c8c0>\u001b[0m in \u001b[0;36m<cell line: 1>\u001b[0;34m()\u001b[0m\n\u001b[0;32m----> 1\u001b[0;31m \u001b[0mprint\u001b[0m\u001b[0;34m(\u001b[0m\u001b[0mnum_a\u001b[0m\u001b[0;34m)\u001b[0m\u001b[0;34m\u001b[0m\u001b[0;34m\u001b[0m\u001b[0m\n\u001b[0m",
            "\u001b[0;31mNameError\u001b[0m: name 'num_a' is not defined"
          ]
        }
      ]
    },
    {
      "cell_type": "code",
      "source": [
        "print = 100"
      ],
      "metadata": {
        "id": "6nzQOvdyiBHI"
      },
      "execution_count": 18,
      "outputs": []
    },
    {
      "cell_type": "code",
      "source": [
        "print(num_a) # 내장함수명을 변수명으로 만들면 안됨!"
      ],
      "metadata": {
        "colab": {
          "base_uri": "https://localhost:8080/"
        },
        "id": "BmbqhatUiCEm",
        "outputId": "8a2f0a90-ab10-4b25-ee6b-98481c9ca10a"
      },
      "execution_count": 3,
      "outputs": [
        {
          "output_type": "stream",
          "name": "stdout",
          "text": [
            "1000\n"
          ]
        }
      ]
    },
    {
      "cell_type": "code",
      "source": [
        "num = 1\n",
        "Num = 100"
      ],
      "metadata": {
        "id": "HAG0HD7ZjPUq"
      },
      "execution_count": null,
      "outputs": []
    },
    {
      "cell_type": "code",
      "source": [
        "print(num)\n",
        "print(Num)"
      ],
      "metadata": {
        "colab": {
          "base_uri": "https://localhost:8080/",
          "height": 203
        },
        "id": "eYMSPy5UjTrx",
        "outputId": "a14e1a53-eb01-4fbe-a8b7-2c750a02fbc5"
      },
      "execution_count": 1,
      "outputs": [
        {
          "output_type": "error",
          "ename": "NameError",
          "evalue": "ignored",
          "traceback": [
            "\u001b[0;31m---------------------------------------------------------------------------\u001b[0m",
            "\u001b[0;31mNameError\u001b[0m                                 Traceback (most recent call last)",
            "\u001b[0;32m<ipython-input-1-7a15def06e02>\u001b[0m in \u001b[0;36m<cell line: 1>\u001b[0;34m()\u001b[0m\n\u001b[0;32m----> 1\u001b[0;31m \u001b[0mprint\u001b[0m\u001b[0;34m(\u001b[0m\u001b[0mnum\u001b[0m\u001b[0;34m)\u001b[0m\u001b[0;34m\u001b[0m\u001b[0;34m\u001b[0m\u001b[0m\n\u001b[0m\u001b[1;32m      2\u001b[0m \u001b[0mprint\u001b[0m\u001b[0;34m(\u001b[0m\u001b[0mNum\u001b[0m\u001b[0;34m)\u001b[0m\u001b[0;34m\u001b[0m\u001b[0;34m\u001b[0m\u001b[0m\n",
            "\u001b[0;31mNameError\u001b[0m: name 'num' is not defined"
          ]
        }
      ]
    },
    {
      "cell_type": "code",
      "source": [
        "num1 = int(input('숫자를 입력하세요')) # 문자열로 반환 -> 타입 변환해야 함\n",
        "num2 = int(input('숫자를 입력하세요'))\n",
        "\n",
        "print(type(num1))\n",
        "\n",
        "print(num1+num2)"
      ],
      "metadata": {
        "colab": {
          "base_uri": "https://localhost:8080/"
        },
        "id": "e9GqX9AouccM",
        "outputId": "2b4c96d8-de2c-4aec-e118-d3f19ffb21b4"
      },
      "execution_count": 8,
      "outputs": [
        {
          "output_type": "stream",
          "name": "stdout",
          "text": [
            "숫자를 입력하세요100\n",
            "숫자를 입력하세요200\n",
            "<class 'int'>\n",
            "300\n"
          ]
        }
      ]
    },
    {
      "cell_type": "markdown",
      "source": [
        "## 문자열\n",
        "- \"\"(큰따옴표) 또는 ''(작은따옴표) 지정"
      ],
      "metadata": {
        "id": "pF3DSIOozbM4"
      }
    },
    {
      "cell_type": "code",
      "source": [
        "string3 = 'This is a \"double\" quotation test' # 이중따옴표\n",
        "print(string3)"
      ],
      "metadata": {
        "colab": {
          "base_uri": "https://localhost:8080/"
        },
        "id": "xFUHtPdUzhon",
        "outputId": "a49dc799-b54f-4eb5-ad7b-0eaec2e9c4a9"
      },
      "execution_count": 10,
      "outputs": [
        {
          "output_type": "stream",
          "name": "stdout",
          "text": [
            "This is a \"double\" quotation test\n"
          ]
        }
      ]
    },
    {
      "cell_type": "code",
      "source": [
        "long_string1 = '''\n",
        "문장이 긴 텍스트\n",
        "문장이 긴 텍스트1\n",
        "문장이 긴 텍스트2\n",
        "문장이 긴 텍스트3\n",
        "'''\n",
        "# 큰따옴표도 가능\n",
        "\n",
        "print(long_string1)"
      ],
      "metadata": {
        "colab": {
          "base_uri": "https://localhost:8080/"
        },
        "id": "g8YbYdBpzzld",
        "outputId": "bb941f07-3f4a-4fff-cad6-8b3c0723b606"
      },
      "execution_count": 12,
      "outputs": [
        {
          "output_type": "stream",
          "name": "stdout",
          "text": [
            " ## 큰따옴표도 가능\n",
            "문장이 긴 텍스트\n",
            "문장이 긴 텍스트1\n",
            "문장이 긴 텍스트2\n",
            "문장이 긴 텍스트3\n",
            "\n"
          ]
        }
      ]
    },
    {
      "cell_type": "code",
      "source": [
        "a = 'Enjoy '\n",
        "b = 'Python!'\n",
        "print(a+b)\n",
        "print(a*3)"
      ],
      "metadata": {
        "colab": {
          "base_uri": "https://localhost:8080/"
        },
        "id": "WjDlfYYb0TQE",
        "outputId": "267108d6-70a2-4ead-9e9a-6f8468fdfd3d"
      },
      "execution_count": 14,
      "outputs": [
        {
          "output_type": "stream",
          "name": "stdout",
          "text": [
            "Enjoy Python!\n",
            "Enjoy Enjoy Enjoy \n"
          ]
        }
      ]
    },
    {
      "cell_type": "markdown",
      "source": [
        "## 리스트 (List)\n",
        "- 가장 중요한 자료형\n",
        "- 다른 프로그래밍 언어에서는 배열(Array)\n",
        "- 예시\n",
        " + 1반의 과목별 수학점수\n",
        "- 다중의 데이터를 묶는다\n"
      ],
      "metadata": {
        "id": "hvZkxFHx0hBq"
      }
    },
    {
      "cell_type": "code",
      "source": [
        "student = [90, 95, 85, 80]\n",
        "print(student)\n",
        "print(type(student))"
      ],
      "metadata": {
        "colab": {
          "base_uri": "https://localhost:8080/"
        },
        "id": "ecjSGLMd1cXG",
        "outputId": "667a7984-daca-443a-ad54-7c7e3bbf70ee"
      },
      "execution_count": 18,
      "outputs": [
        {
          "output_type": "stream",
          "name": "stdout",
          "text": [
            "[90, 95, 85, 80]\n",
            "<class 'list'>\n"
          ]
        }
      ]
    },
    {
      "cell_type": "markdown",
      "source": [
        "### 인덱싱(Indexing)\n",
        "# - 리스트에서 특정 데이터를 추출"
      ],
      "metadata": {
        "id": "fqzGIL711u22"
      }
    },
    {
      "cell_type": "code",
      "source": [
        "print(student)\n",
        "print(student[0]) # 인덱싱은 숫자 0부터 시작"
      ],
      "metadata": {
        "colab": {
          "base_uri": "https://localhost:8080/"
        },
        "id": "dbA-pXsr2Ubc",
        "outputId": "1e786498-d809-4600-f6bc-e0afabb23832"
      },
      "execution_count": 21,
      "outputs": [
        {
          "output_type": "stream",
          "name": "stdout",
          "text": [
            "[90, 95, 85, 80]\n",
            "90\n"
          ]
        }
      ]
    },
    {
      "cell_type": "code",
      "source": [
        "greeting = 'Hello, Python'\n",
        "\n",
        "# Hello만 추출\n",
        "print(greeting[0:5])"
      ],
      "metadata": {
        "colab": {
          "base_uri": "https://localhost:8080/"
        },
        "id": "TNZ8NIa62b-j",
        "outputId": "463d6800-fa8c-4a4f-8716-cf8dbca6737b"
      },
      "execution_count": 38,
      "outputs": [
        {
          "output_type": "stream",
          "name": "stdout",
          "text": [
            "Hello\n"
          ]
        }
      ]
    },
    {
      "cell_type": "markdown",
      "source": [
        "### 리스트 수정, 삭제"
      ],
      "metadata": {
        "id": "mq36Ni-92zqs"
      }
    },
    {
      "cell_type": "code",
      "source": [
        "student[0] = 100 # 새로운 데이터 할당, 0번째 인덱스\n",
        "student"
      ],
      "metadata": {
        "colab": {
          "base_uri": "https://localhost:8080/"
        },
        "id": "RzbwCLVu21MV",
        "outputId": "c5b5a626-d11c-4998-d4c1-59a07d5cd6f2"
      },
      "execution_count": 24,
      "outputs": [
        {
          "output_type": "execute_result",
          "data": {
            "text/plain": [
              "[100, 95, 85, 80]"
            ]
          },
          "metadata": {},
          "execution_count": 24
        }
      ]
    },
    {
      "cell_type": "markdown",
      "source": [],
      "metadata": {
        "id": "cDPZAS123Dbl"
      }
    },
    {
      "cell_type": "code",
      "source": [
        "# 문자열, 덧셈 연산자 + 곱셈 연산자\n",
        "# 리스트에 적용\n",
        "\n",
        "myFriends = ['James', 'Robert', 'Lisa', 'Mary']\n",
        "newFriend = ['Kim']\n",
        "\n",
        "myFriends2 = myFriends + newFriend\n",
        "print(myFriends2)"
      ],
      "metadata": {
        "colab": {
          "base_uri": "https://localhost:8080/"
        },
        "id": "6qg2Sts43Iir",
        "outputId": "68bdca91-6773-4824-9c4a-f1e5c12665d6"
      },
      "execution_count": 26,
      "outputs": [
        {
          "output_type": "stream",
          "name": "stdout",
          "text": [
            "['James', 'Robert', 'Lisa', 'Mary', 'Kim']\n"
          ]
        }
      ]
    },
    {
      "cell_type": "code",
      "source": [
        "myNumbers = [1]\n",
        "myNumbers * 3"
      ],
      "metadata": {
        "colab": {
          "base_uri": "https://localhost:8080/"
        },
        "id": "kyLd8XO_31H8",
        "outputId": "f5dd1dfd-76e5-45a8-94e8-a489e91a08cb"
      },
      "execution_count": 28,
      "outputs": [
        {
          "output_type": "execute_result",
          "data": {
            "text/plain": [
              "[1, 1, 1]"
            ]
          },
          "metadata": {},
          "execution_count": 28
        }
      ]
    },
    {
      "cell_type": "code",
      "source": [
        "# Lisa, L 추출\n",
        "myFriends[2][0]"
      ],
      "metadata": {
        "colab": {
          "base_uri": "https://localhost:8080/",
          "height": 35
        },
        "id": "yzyGi-D74S_r",
        "outputId": "d0673674-78f1-41ec-cf23-ffcc44a28b22"
      },
      "execution_count": 30,
      "outputs": [
        {
          "output_type": "execute_result",
          "data": {
            "text/plain": [
              "'L'"
            ],
            "application/vnd.google.colaboratory.intrinsic+json": {
              "type": "string"
            }
          },
          "metadata": {},
          "execution_count": 30
        }
      ]
    },
    {
      "cell_type": "code",
      "source": [
        "mixed = [0, 2, 3.14, 'python', True, myFriends2]\n",
        "mixed\n",
        "\n",
        "# Kim의 K 추출\n",
        "mixed[-1][-1][0]"
      ],
      "metadata": {
        "colab": {
          "base_uri": "https://localhost:8080/",
          "height": 35
        },
        "id": "IRCdjxud4HHB",
        "outputId": "ccd833d1-d2de-40d3-a63c-a26a6ef4a2c0"
      },
      "execution_count": 34,
      "outputs": [
        {
          "output_type": "execute_result",
          "data": {
            "text/plain": [
              "'K'"
            ],
            "application/vnd.google.colaboratory.intrinsic+json": {
              "type": "string"
            }
          },
          "metadata": {},
          "execution_count": 34
        }
      ]
    },
    {
      "cell_type": "markdown",
      "source": [
        "## 슬라이싱\n",
        "- 문자열, 리스트 그외 파이썬 거의 대부분 자료형 원리 동일 적용"
      ],
      "metadata": {
        "id": "um9hwJPa5Z2D"
      }
    },
    {
      "cell_type": "code",
      "source": [
        "list_data = [0, 1, 2, 3, 4, 5, 6, 7 ,8, 9]\n",
        "print(list_data)\n",
        "print(list_data[0:3]) # 시작인덱스:끝인덱스-1\n",
        "\n",
        "# 5까지 추출\n",
        "print(list_data[0:6])\n",
        "print(list_data[:6])\n",
        "print(list_data[4:]) # list_data[4:10]\n",
        "print(list_data[:]) # 모든 데이터 조회\n",
        "print(list_data[::2]) # Step\n",
        "print(list_data[::3])"
      ],
      "metadata": {
        "colab": {
          "base_uri": "https://localhost:8080/"
        },
        "id": "apb8Y-Yt5f7v",
        "outputId": "b0967c9b-6de0-4b8d-f234-2f1f88f8e875"
      },
      "execution_count": 43,
      "outputs": [
        {
          "output_type": "stream",
          "name": "stdout",
          "text": [
            "[0, 1, 2, 3, 4, 5, 6, 7, 8, 9]\n",
            "[0, 1, 2]\n",
            "[0, 1, 2, 3, 4, 5]\n",
            "[0, 1, 2, 3, 4, 5]\n",
            "[4, 5, 6, 7, 8, 9]\n",
            "[0, 1, 2, 3, 4, 5, 6, 7, 8, 9]\n",
            "[0, 2, 4, 6, 8]\n",
            "[0, 3, 6, 9]\n"
          ]
        }
      ]
    },
    {
      "cell_type": "markdown",
      "source": [
        "## 튜플(Tuple)\n",
        "- 기초 문법이 중요함 (면접 때 질문 받을 수 있음)\n",
        "- 튜플은 리스트와 유사하다"
      ],
      "metadata": {
        "id": "mUh0MORa-ADs"
      }
    },
    {
      "cell_type": "code",
      "source": [
        "tuple1 = (1, 2, 3, 4)\n",
        "print(tuple1)\n",
        "print(type(tuple1))"
      ],
      "metadata": {
        "colab": {
          "base_uri": "https://localhost:8080/"
        },
        "id": "FhxIzusY7xFI",
        "outputId": "29a2a458-3b82-4ef0-a80d-5827258d60c9"
      },
      "execution_count": 45,
      "outputs": [
        {
          "output_type": "stream",
          "name": "stdout",
          "text": [
            "(1, 2, 3, 4)\n",
            "<class 'tuple'>\n"
          ]
        }
      ]
    },
    {
      "cell_type": "markdown",
      "source": [
        "### 유사한 것\n",
        " - 인덱싱과 슬라이싱이 리스트, 문자열과 동일"
      ],
      "metadata": {
        "id": "AQL58Ku9-kqV"
      }
    },
    {
      "cell_type": "code",
      "source": [
        "tuple_data = (0, 1, 2, 3, 4, 5, 6, 7 ,8, 9)\n",
        "print(tuple_data[0:3])"
      ],
      "metadata": {
        "colab": {
          "base_uri": "https://localhost:8080/"
        },
        "id": "gh_19_Gd999i",
        "outputId": "5ea1cf65-28ad-45bc-df24-f18e01b2788b"
      },
      "execution_count": 48,
      "outputs": [
        {
          "output_type": "stream",
          "name": "stdout",
          "text": [
            "(0, 1, 2)\n"
          ]
        }
      ]
    },
    {
      "cell_type": "markdown",
      "source": [
        "### 차이점\n",
        " - 리스트와 달리 튜플은 수정,삭제가 안됨"
      ],
      "metadata": {
        "id": "rIIZ9UL8-s7u"
      }
    },
    {
      "cell_type": "code",
      "source": [
        "l_data = [0, 1, 2, 3] # 숫자 3-> 30\n",
        "t_data = (0, 1, 2, 3) # 숫자 3-> 30\n",
        "\n",
        "# l_data[3] = 30\n",
        "# t_data[3] = 30\n",
        "\n",
        "# del l_data[3]\n",
        "# l_data\n",
        "\n",
        "del t_data[3]\n",
        "t_data"
      ],
      "metadata": {
        "colab": {
          "base_uri": "https://localhost:8080/"
        },
        "id": "CE7flC6z-sY3",
        "outputId": "019b0902-3e33-4105-fdf1-a0966165ebbd"
      },
      "execution_count": 52,
      "outputs": [
        {
          "output_type": "execute_result",
          "data": {
            "text/plain": [
              "[0, 1, 2]"
            ]
          },
          "metadata": {},
          "execution_count": 52
        }
      ]
    }
  ]
}