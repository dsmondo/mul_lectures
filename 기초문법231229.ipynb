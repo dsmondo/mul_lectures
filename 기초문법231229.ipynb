{
  "nbformat": 4,
  "nbformat_minor": 0,
  "metadata": {
    "colab": {
      "provenance": [],
      "authorship_tag": "ABX9TyOI2wogIWN44/BHTCo1Txo7",
      "include_colab_link": true
    },
    "kernelspec": {
      "name": "python3",
      "display_name": "Python 3"
    },
    "language_info": {
      "name": "python"
    }
  },
  "cells": [
    {
      "cell_type": "markdown",
      "metadata": {
        "id": "view-in-github",
        "colab_type": "text"
      },
      "source": [
        "<a href=\"https://colab.research.google.com/github/yewon91/mul_lectures/blob/main/%EA%B8%B0%EC%B4%88%EB%AC%B8%EB%B2%95231229.ipynb\" target=\"_parent\"><img src=\"https://colab.research.google.com/assets/colab-badge.svg\" alt=\"Open In Colab\"/></a>"
      ]
    },
    {
      "cell_type": "markdown",
      "source": [
        "# 딕셔너리Dictionary\n",
        "- 구성: key-value, keyword(=key), 결과값(=value)\n",
        " + 문자열, 리스트, tuple : 데이터 조회 시, 인덱싱 or 슬라이싱\n",
        " + 딕셔너리에서는 key값을 통해 값을 조회\n",
        ""
      ],
      "metadata": {
        "id": "F4Wxpl7k7tSf"
      }
    },
    {
      "cell_type": "code",
      "execution_count": 2,
      "metadata": {
        "colab": {
          "base_uri": "https://localhost:8080/"
        },
        "id": "uNumM1Zv6swF",
        "outputId": "f07aef9b-c48e-48db-ec51-34d9727fbabf"
      },
      "outputs": [
        {
          "output_type": "execute_result",
          "data": {
            "text/plain": [
              "{'대한민국': '서울', '프랑스': '파리', '미국': '워싱턴', '영국': '런던'}"
            ]
          },
          "metadata": {},
          "execution_count": 2
        }
      ],
      "source": [
        "country_capital = {\n",
        "    \"대한민국\" : \"서울\",\n",
        "    \"프랑스\" : \"파리\",\n",
        "    \"미국\" : \"워싱턴\",\n",
        "    \"영국\" : \"런던\"\n",
        "}\n",
        "\n",
        "country_capital"
      ]
    },
    {
      "cell_type": "code",
      "source": [
        "# key값은 중복으로 만들 수 없음\n",
        "country_capital['대한민국']"
      ],
      "metadata": {
        "colab": {
          "base_uri": "https://localhost:8080/",
          "height": 35
        },
        "id": "MryqvBhd957A",
        "outputId": "6561780b-dd7e-439f-cb10-02cd113e9d83"
      },
      "execution_count": 4,
      "outputs": [
        {
          "output_type": "execute_result",
          "data": {
            "text/plain": [
              "'서울'"
            ],
            "application/vnd.google.colaboratory.intrinsic+json": {
              "type": "string"
            }
          },
          "metadata": {},
          "execution_count": 4
        }
      ]
    },
    {
      "cell_type": "code",
      "source": [
        "# 숫자 1은, 리스트, 문자열, tuple 인덱스 번호와는 다른 숫자\n",
        "# 현재 여기서 숫자 1은 key값이다!\n",
        "data = {1:'버스', 3:'비행기'}\n",
        "data[1]"
      ],
      "metadata": {
        "colab": {
          "base_uri": "https://localhost:8080/",
          "height": 35
        },
        "id": "Au3PRJrB-i-7",
        "outputId": "947a8d07-2726-485c-bd7e-1a47780d6391"
      },
      "execution_count": 6,
      "outputs": [
        {
          "output_type": "execute_result",
          "data": {
            "text/plain": [
              "'버스'"
            ],
            "application/vnd.google.colaboratory.intrinsic+json": {
              "type": "string"
            }
          },
          "metadata": {},
          "execution_count": 6
        }
      ]
    },
    {
      "cell_type": "code",
      "source": [
        "data2 = {'list1':[1, 2, 3], 'list2':[4, 5, 6]}\n",
        "data2"
      ],
      "metadata": {
        "colab": {
          "base_uri": "https://localhost:8080/"
        },
        "id": "AsAh3ltI_BFY",
        "outputId": "095b2348-647d-44dd-d235-694655afeec5"
      },
      "execution_count": 8,
      "outputs": [
        {
          "output_type": "execute_result",
          "data": {
            "text/plain": [
              "{'list1': [1, 2, 3], 'list2': [4, 5, 6]}"
            ]
          },
          "metadata": {},
          "execution_count": 8
        }
      ]
    },
    {
      "cell_type": "code",
      "source": [
        "data3 = {'list1':[1, 2, 3], 'list2':[4, 5, 6], 1:'테스트', 2 : 100}\n",
        "data3"
      ],
      "metadata": {
        "colab": {
          "base_uri": "https://localhost:8080/"
        },
        "id": "2hG-G9JS_mpX",
        "outputId": "d1cb5000-8869-4700-ffcd-1b22dd549b5f"
      },
      "execution_count": 10,
      "outputs": [
        {
          "output_type": "execute_result",
          "data": {
            "text/plain": [
              "{'list1': [1, 2, 3], 'list2': [4, 5, 6], 1: '테스트', 2: 100}"
            ]
          },
          "metadata": {},
          "execution_count": 10
        }
      ]
    },
    {
      "cell_type": "markdown",
      "source": [
        "## 딕셔너리 사용처\n",
        "- 데이터 분석 : 엑셀 테이블 기반\n",
        " + 1억개, 데이터 가공 (최소 1-2시간 가공작업)\n",
        " + 임시 테이블\n",
        "\n",
        " - HTML, CSS, 인터넷 자료형 중, JSON 데이터 포맷\n",
        " - JSON 데이터 포맷 ==> 딕셔너리와 동일\n",
        "  + API 데이터 크롤링, 기본 자료형(JSON) ==> 딕셔너리 변환, 변환 후 데이터 가공  "
      ],
      "metadata": {
        "id": "a-u0C1VbAA1A"
      }
    },
    {
      "cell_type": "markdown",
      "source": [
        "## 딕셔너리 다루기\n",
        "- 딕셔너리 value 값 수정하는 방법"
      ],
      "metadata": {
        "id": "KWcVtY7nGMii"
      }
    },
    {
      "cell_type": "code",
      "source": [
        "country_capital['대한민국'] = '부산'\n",
        "country_capital"
      ],
      "metadata": {
        "colab": {
          "base_uri": "https://localhost:8080/"
        },
        "id": "2CTq9EPfAs6V",
        "outputId": "02e08c88-e57a-4cf4-d9f9-491fe292019e"
      },
      "execution_count": 12,
      "outputs": [
        {
          "output_type": "execute_result",
          "data": {
            "text/plain": [
              "{'대한민국': '부산', '프랑스': '파리', '미국': '워싱턴', '영국': '런던'}"
            ]
          },
          "metadata": {},
          "execution_count": 12
        }
      ]
    },
    {
      "cell_type": "code",
      "source": [
        "# 딕셔너리 요소 삭제\n",
        "del country_capital['영국']\n",
        "country_capital"
      ],
      "metadata": {
        "colab": {
          "base_uri": "https://localhost:8080/",
          "height": 221
        },
        "id": "zHs2PhwtGNp5",
        "outputId": "817679c4-dabf-452f-b5db-871495ff11c5"
      },
      "execution_count": 14,
      "outputs": [
        {
          "output_type": "error",
          "ename": "KeyError",
          "evalue": "ignored",
          "traceback": [
            "\u001b[0;31m---------------------------------------------------------------------------\u001b[0m",
            "\u001b[0;31mKeyError\u001b[0m                                  Traceback (most recent call last)",
            "\u001b[0;32m<ipython-input-14-24187131778f>\u001b[0m in \u001b[0;36m<cell line: 2>\u001b[0;34m()\u001b[0m\n\u001b[1;32m      1\u001b[0m \u001b[0;31m# del\u001b[0m\u001b[0;34m\u001b[0m\u001b[0;34m\u001b[0m\u001b[0m\n\u001b[0;32m----> 2\u001b[0;31m \u001b[0;32mdel\u001b[0m \u001b[0mcountry_capital\u001b[0m\u001b[0;34m[\u001b[0m\u001b[0;34m'영국'\u001b[0m\u001b[0;34m]\u001b[0m\u001b[0;34m\u001b[0m\u001b[0;34m\u001b[0m\u001b[0m\n\u001b[0m\u001b[1;32m      3\u001b[0m \u001b[0mcountry_capital\u001b[0m\u001b[0;34m\u001b[0m\u001b[0;34m\u001b[0m\u001b[0m\n",
            "\u001b[0;31mKeyError\u001b[0m: '영국'"
          ]
        }
      ]
    },
    {
      "cell_type": "code",
      "source": [
        "country_capital['프랑스'] = None\n",
        "country_capital"
      ],
      "metadata": {
        "colab": {
          "base_uri": "https://localhost:8080/"
        },
        "id": "avFe8u2FGtFq",
        "outputId": "ddb0661c-811f-4e76-d59e-038e17d5844d"
      },
      "execution_count": 16,
      "outputs": [
        {
          "output_type": "execute_result",
          "data": {
            "text/plain": [
              "{'대한민국': '부산', '프랑스': None, '미국': '워싱턴'}"
            ]
          },
          "metadata": {},
          "execution_count": 16
        }
      ]
    },
    {
      "cell_type": "code",
      "source": [
        "country_capital['일본'] = '도쿄' # 딕셔너리 추가\n",
        "country_capital"
      ],
      "metadata": {
        "colab": {
          "base_uri": "https://localhost:8080/"
        },
        "id": "ZiXIMRWPG6M6",
        "outputId": "81204737-27ff-4618-bfe6-ea12c3eeaa74"
      },
      "execution_count": 17,
      "outputs": [
        {
          "output_type": "execute_result",
          "data": {
            "text/plain": [
              "{'대한민국': '부산', '프랑스': None, '미국': '워싱턴', '일본': '도쿄'}"
            ]
          },
          "metadata": {},
          "execution_count": 17
        }
      ]
    },
    {
      "cell_type": "markdown",
      "source": [
        "## 딕셔너리 메서드"
      ],
      "metadata": {
        "id": "SzHvUo9lHNqp"
      }
    },
    {
      "cell_type": "code",
      "source": [
        "print(type(country_capital)) # 딕셔너리 객체\n",
        "# 딕셔너리가 보유한 클래스 메서드를 사용할 수 있음\n",
        "\n",
        "# 딕셔너리에서 키 전체를 리스트 형태로 반환(dict_keys type)\n",
        "result = list(country_capital.keys())\n",
        "result.append('독일')"
      ],
      "metadata": {
        "colab": {
          "base_uri": "https://localhost:8080/"
        },
        "id": "hq6HfkplHP6n",
        "outputId": "35c28302-4aa8-48cb-8539-235592bccff5"
      },
      "execution_count": 35,
      "outputs": [
        {
          "output_type": "stream",
          "name": "stdout",
          "text": [
            "<class 'dict'>\n"
          ]
        }
      ]
    },
    {
      "cell_type": "code",
      "source": [
        "# 데이터 형변환\n",
        "list(country_capital.keys())"
      ],
      "metadata": {
        "colab": {
          "base_uri": "https://localhost:8080/"
        },
        "id": "qP0iKjvNI4s8",
        "outputId": "e0798cd0-c74a-4c10-8291-86298009ffd6"
      },
      "execution_count": 27,
      "outputs": [
        {
          "output_type": "execute_result",
          "data": {
            "text/plain": [
              "['대한민국', '프랑스', '미국', '일본']"
            ]
          },
          "metadata": {},
          "execution_count": 27
        }
      ]
    },
    {
      "cell_type": "code",
      "source": [
        "country_capital.values()"
      ],
      "metadata": {
        "colab": {
          "base_uri": "https://localhost:8080/"
        },
        "id": "BUj9PshTJLkN",
        "outputId": "d914674b-3130-4357-843a-ea06b663bb04"
      },
      "execution_count": 28,
      "outputs": [
        {
          "output_type": "execute_result",
          "data": {
            "text/plain": [
              "dict_values(['부산', None, '워싱턴', '도쿄'])"
            ]
          },
          "metadata": {},
          "execution_count": 28
        }
      ]
    },
    {
      "cell_type": "code",
      "source": [
        "country_capital.items()"
      ],
      "metadata": {
        "colab": {
          "base_uri": "https://localhost:8080/"
        },
        "id": "5fGq3M8kI73-",
        "outputId": "2eee4384-4301-40e3-d6e5-180a7f313bba"
      },
      "execution_count": 29,
      "outputs": [
        {
          "output_type": "execute_result",
          "data": {
            "text/plain": [
              "dict_items([('대한민국', '부산'), ('프랑스', None), ('미국', '워싱턴'), ('일본', '도쿄')])"
            ]
          },
          "metadata": {},
          "execution_count": 29
        }
      ]
    },
    {
      "cell_type": "code",
      "source": [
        "new_df = {\n",
        "    '중국':'베이징', '필리핀':'마닐라', '호주':'캔버라'\n",
        "}\n",
        "\n",
        "country_capital.update(new_df)\n",
        "country_capital"
      ],
      "metadata": {
        "colab": {
          "base_uri": "https://localhost:8080/"
        },
        "id": "BxBKi6kUJQuo",
        "outputId": "20ed1260-86b8-4e3a-9e29-2a750166f156"
      },
      "execution_count": 32,
      "outputs": [
        {
          "output_type": "execute_result",
          "data": {
            "text/plain": [
              "{'대한민국': '부산',\n",
              " '프랑스': None,\n",
              " '미국': '워싱턴',\n",
              " '일본': '도쿄',\n",
              " '중국': '베이징',\n",
              " '필리핀': '마닐라',\n",
              " '호주': '캔버라'}"
            ]
          },
          "metadata": {},
          "execution_count": 32
        }
      ]
    },
    {
      "cell_type": "code",
      "source": [
        "country_capital.clear() # 빈 Dictionary 생성\n",
        "country_capital"
      ],
      "metadata": {
        "colab": {
          "base_uri": "https://localhost:8080/"
        },
        "id": "Coog3QTyJUdd",
        "outputId": "ba8b9f07-cca2-4b3d-aba0-0dbea11805f3"
      },
      "execution_count": 33,
      "outputs": [
        {
          "output_type": "execute_result",
          "data": {
            "text/plain": [
              "{}"
            ]
          },
          "metadata": {},
          "execution_count": 33
        }
      ]
    },
    {
      "cell_type": "markdown",
      "source": [
        "# If 조건문\n",
        "- 프로그래밍에서 조건문\n",
        " + 만약 조건이 True라면 ~를 해라\n",
        " + 참/거짓을 만드는 것이 포인트\n",
        ""
      ],
      "metadata": {
        "id": "hM6Lp5x-MivE"
      }
    },
    {
      "cell_type": "code",
      "source": [
        "x = int(input(\"점수를 입력하시오\"))\n",
        "if x >= 90: ### <- 조건문을 직접 설계하는게 포인트!\n",
        "  print(\"합격\")\n",
        "\n",
        "elif x >= 80:\n",
        "  print(\"부분합격\")\n",
        "\n",
        "else:\n",
        "  print(\"불합격\")"
      ],
      "metadata": {
        "colab": {
          "base_uri": "https://localhost:8080/"
        },
        "id": "f2nJXeU4M0yj",
        "outputId": "959e6b88-2fa4-4567-af88-233e8cc561fe"
      },
      "execution_count": 38,
      "outputs": [
        {
          "output_type": "stream",
          "name": "stdout",
          "text": [
            "점수를 입력하시오40\n",
            "불합격\n"
          ]
        }
      ]
    },
    {
      "cell_type": "markdown",
      "source": [
        "- 조건문을 문장으로 먼저 만드는 훈련을 하는 것이 중요함\n",
        " + 첫번째 조건 : 점수가 90점 이상이어야 함\n",
        " + 두번째 조건 : 점수가 80점 이상이어야 함"
      ],
      "metadata": {
        "id": "zFy_dAsvNpU6"
      }
    },
    {
      "cell_type": "code",
      "source": [
        "x = int(input(\"점수를 입력하시오\"))\n",
        "if x >= 90:\n",
        "  print(\"A\")\n",
        "\n",
        "elif x >= 80:\n",
        "  print(\"B\")\n",
        "\n",
        "elif x >= 70:\n",
        "  print(\"C\")\n",
        "\n",
        "elif x >= 60:\n",
        "  print(\"D\")\n",
        "\n",
        "else:\n",
        "  print(\"F\")"
      ],
      "metadata": {
        "colab": {
          "base_uri": "https://localhost:8080/"
        },
        "id": "pYS7OWZeO3cE",
        "outputId": "10875790-6060-42d8-d7d7-aa731a71ff15"
      },
      "execution_count": 39,
      "outputs": [
        {
          "output_type": "stream",
          "name": "stdout",
          "text": [
            "점수를 입력하시오40\n",
            "F\n"
          ]
        }
      ]
    },
    {
      "cell_type": "markdown",
      "source": [
        "# 반복문\n",
        "- 반복문을 왜 쓸까?\n",
        "  ==> 반복적인 작업을 줄이기 위해서!"
      ],
      "metadata": {
        "id": "VJiR_S8WX_fA"
      }
    },
    {
      "cell_type": "code",
      "source": [
        "for i in range(3): # i - forloop에서 사용되는 지역변수\n",
        "  print(\"Hello Python\")"
      ],
      "metadata": {
        "colab": {
          "base_uri": "https://localhost:8080/"
        },
        "id": "fAArwpOBZ8Hp",
        "outputId": "c774d6c6-a50d-4cb1-f87e-7abf99818d8f"
      },
      "execution_count": 40,
      "outputs": [
        {
          "output_type": "stream",
          "name": "stdout",
          "text": [
            "Hello Python\n",
            "Hello Python\n",
            "Hello Python\n"
          ]
        }
      ]
    },
    {
      "cell_type": "markdown",
      "source": [
        "## for-loop 특징\n",
        "- 반복 범위가 주어짐"
      ],
      "metadata": {
        "id": "OBbJLjwPaoDI"
      }
    },
    {
      "cell_type": "code",
      "source": [
        "for i in range(3):\n",
        "  print(f'{i}번째 Hello Python')"
      ],
      "metadata": {
        "colab": {
          "base_uri": "https://localhost:8080/"
        },
        "id": "EYQJHqW0arrh",
        "outputId": "10bc9124-2f72-40d7-91b5-9393824c41f1"
      },
      "execution_count": 41,
      "outputs": [
        {
          "output_type": "stream",
          "name": "stdout",
          "text": [
            "0번째 Hello Python\n",
            "1번째 Hello Python\n",
            "2번째 Hello Python\n"
          ]
        }
      ]
    },
    {
      "cell_type": "markdown",
      "source": [
        "- 반복 범위 지정 시, 시퀀스 자료형도 사용 가능\n",
        " + 오늘/내일 블로그 주제: 시퀀스 자료형에 대해서 정리\n",
        " + 대표적인 것: 리스트, 문자열"
      ],
      "metadata": {
        "id": "vCBeMvTebfUd"
      }
    },
    {
      "cell_type": "code",
      "source": [
        "nums = [1,2,3,4,5]\n",
        "for num in nums:\n",
        "  print(num)"
      ],
      "metadata": {
        "colab": {
          "base_uri": "https://localhost:8080/"
        },
        "id": "6pfEsZQjb3Xw",
        "outputId": "31a0d3b0-8c41-4c0a-cd0e-3e13dda98203"
      },
      "execution_count": 43,
      "outputs": [
        {
          "output_type": "stream",
          "name": "stdout",
          "text": [
            "1\n",
            "2\n",
            "3\n",
            "4\n",
            "5\n"
          ]
        }
      ]
    },
    {
      "cell_type": "code",
      "source": [
        "strings = \"hello\"\n",
        "for text in strings:\n",
        "  print(text)"
      ],
      "metadata": {
        "colab": {
          "base_uri": "https://localhost:8080/"
        },
        "id": "4nTH6I0LceD4",
        "outputId": "74e66b38-78e6-45cd-a911-6ff98b169df0"
      },
      "execution_count": 45,
      "outputs": [
        {
          "output_type": "stream",
          "name": "stdout",
          "text": [
            "h\n",
            "e\n",
            "l\n",
            "l\n",
            "o\n"
          ]
        }
      ]
    },
    {
      "cell_type": "code",
      "source": [
        "tuples = (1,2,3,4)\n",
        "for num in tuples:\n",
        "  print(num)"
      ],
      "metadata": {
        "colab": {
          "base_uri": "https://localhost:8080/"
        },
        "id": "8pCokpwpckyY",
        "outputId": "623de1b0-db11-429d-c346-09e4e875430c"
      },
      "execution_count": 47,
      "outputs": [
        {
          "output_type": "stream",
          "name": "stdout",
          "text": [
            "1\n",
            "2\n",
            "3\n",
            "4\n"
          ]
        }
      ]
    },
    {
      "cell_type": "code",
      "source": [
        "x = '호주'\n",
        "# country_capital[x] = '서울'\n",
        "country_capital\n",
        "\n",
        "print(f'{x}의 수도는 {country_capital[x]}이다')"
      ],
      "metadata": {
        "colab": {
          "base_uri": "https://localhost:8080/"
        },
        "id": "xaZnEeasylPA",
        "outputId": "ed2cc4b6-5af4-4543-9131-ee2b144df91b"
      },
      "execution_count": 56,
      "outputs": [
        {
          "output_type": "stream",
          "name": "stdout",
          "text": [
            "호주의 수도는 캔버라이다\n"
          ]
        }
      ]
    },
    {
      "cell_type": "code",
      "source": [
        "country_capital = {\n",
        "    '중국':'베이징', '필리핀':'마닐라', '호주':'캔버라'\n",
        "}\n",
        "\n",
        "for country in country_capital: # key값으로 value값 출력\n",
        "  # print(country_capital[country])\n",
        "  print(f'{country}의 수도는 {country_capital[country]}이다.')"
      ],
      "metadata": {
        "colab": {
          "base_uri": "https://localhost:8080/"
        },
        "id": "z79-VxItcpqx",
        "outputId": "ae68e05c-6517-48d7-e19b-fa2178a9e3cb"
      },
      "execution_count": 52,
      "outputs": [
        {
          "output_type": "stream",
          "name": "stdout",
          "text": [
            "중국의 수도는 베이징이다.\n",
            "필리핀의 수도는 마닐라이다.\n",
            "호주의 수도는 캔버라이다.\n"
          ]
        }
      ]
    },
    {
      "cell_type": "code",
      "source": [
        "# 중첩 for문 # 단계별로 작성하는게 좋\n",
        "\n",
        "x_list = ['x1', 'x2']\n",
        "y_list = ['y1', 'y2']\n",
        "\n",
        "for x in x_list:\n",
        "  print(x)\n",
        "  for y in y_list:\n",
        "    print(x, y)"
      ],
      "metadata": {
        "colab": {
          "base_uri": "https://localhost:8080/"
        },
        "id": "anIyxrCS0Ao_",
        "outputId": "e3f868e6-94f0-493d-90fa-7c37a9be86c8"
      },
      "execution_count": 58,
      "outputs": [
        {
          "output_type": "stream",
          "name": "stdout",
          "text": [
            "x1\n",
            "x1 y1\n",
            "x1 y2\n",
            "x2\n",
            "x2 y1\n",
            "x2 y2\n"
          ]
        }
      ]
    },
    {
      "cell_type": "code",
      "source": [
        "for x in range(2,10,2):\n",
        "  for y in range(1,10):\n",
        "    print(f'{x} * {y} = {x * y}')"
      ],
      "metadata": {
        "colab": {
          "base_uri": "https://localhost:8080/"
        },
        "id": "Y33VdewP0v5V",
        "outputId": "aba2f4a9-82e4-4635-847a-e4ae66fb214a"
      },
      "execution_count": 66,
      "outputs": [
        {
          "output_type": "stream",
          "name": "stdout",
          "text": [
            "2 * 1 = 2\n",
            "2 * 2 = 4\n",
            "2 * 3 = 6\n",
            "2 * 4 = 8\n",
            "2 * 5 = 10\n",
            "2 * 6 = 12\n",
            "2 * 7 = 14\n",
            "2 * 8 = 16\n",
            "2 * 9 = 18\n",
            "4 * 1 = 4\n",
            "4 * 2 = 8\n",
            "4 * 3 = 12\n",
            "4 * 4 = 16\n",
            "4 * 5 = 20\n",
            "4 * 6 = 24\n",
            "4 * 7 = 28\n",
            "4 * 8 = 32\n",
            "4 * 9 = 36\n",
            "6 * 1 = 6\n",
            "6 * 2 = 12\n",
            "6 * 3 = 18\n",
            "6 * 4 = 24\n",
            "6 * 5 = 30\n",
            "6 * 6 = 36\n",
            "6 * 7 = 42\n",
            "6 * 8 = 48\n",
            "6 * 9 = 54\n",
            "8 * 1 = 8\n",
            "8 * 2 = 16\n",
            "8 * 3 = 24\n",
            "8 * 4 = 32\n",
            "8 * 5 = 40\n",
            "8 * 6 = 48\n",
            "8 * 7 = 56\n",
            "8 * 8 = 64\n",
            "8 * 9 = 72\n"
          ]
        }
      ]
    },
    {
      "cell_type": "code",
      "source": [
        "names = ['A', 'B', 'C']\n",
        "ages = [10, 20, 30]\n",
        "\n",
        "for name, age in zip(names, ages): # 동일한 개수로 이루어진 자료형을 묶음\n",
        "  print(name, age)\n",
        "\n",
        "for pair in zip(names, ages): # tuple로 반환\n",
        "  print(pair)\n",
        "\n",
        "for idx, name in enumerate(names): # 인자 값 추출시 인덱스 추출\n",
        "  print(idx, name)\n",
        "\n",
        "for name in enumerate(names): # tuple로 반환\n",
        "  print(name)"
      ],
      "metadata": {
        "colab": {
          "base_uri": "https://localhost:8080/"
        },
        "id": "eKbusgF449Qt",
        "outputId": "a6f49a16-99ce-42e2-e27d-cbd4ebb8951f"
      },
      "execution_count": 69,
      "outputs": [
        {
          "output_type": "stream",
          "name": "stdout",
          "text": [
            "A 10\n",
            "B 20\n",
            "C 30\n",
            "0 A\n",
            "1 B\n",
            "2 C\n",
            "(0, 'A')\n",
            "(1, 'B')\n",
            "(2, 'C')\n",
            "('A', 10)\n",
            "('B', 20)\n",
            "('C', 30)\n"
          ]
        }
      ]
    },
    {
      "cell_type": "markdown",
      "source": [
        "## While 특징\n",
        "- for-loop 특징 : 항상 반복문의 범위를 지정한다\n",
        " + 몇번 반복문을 수행할지 숫자로 컨트롤 가능\n",
        "- While 특징\n",
        " + 조건문이 False가 될 때까지 반복문을 수행\n",
        " + 조건문이 True면 반복문 무한 수행\n",
        ""
      ],
      "metadata": {
        "id": "CFcGLpdB8xpb"
      }
    },
    {
      "cell_type": "code",
      "source": [
        "# 초기값 지정\n",
        "i = 1\n",
        "n = 3\n",
        "\n",
        "while i <= n: # 특정 조건에서 False가 되도록 코드를 작성하는 것이 포인트\n",
        "  print(f'현재 {i} 번')\n",
        "  i = i + 1"
      ],
      "metadata": {
        "colab": {
          "base_uri": "https://localhost:8080/"
        },
        "id": "vE30Et9C9Cz4",
        "outputId": "f16ded08-1577-4af2-fe25-179981dba573"
      },
      "execution_count": 67,
      "outputs": [
        {
          "output_type": "stream",
          "name": "stdout",
          "text": [
            "현재 1 번\n",
            "현재 2 번\n",
            "현재 3 번\n"
          ]
        }
      ]
    },
    {
      "cell_type": "markdown",
      "source": [
        "## for-loop, while 비교\n",
        "- Only 데이터 분석 (for-loop만 집중 공부)\n",
        " + 행과 열은 거의 고정\n",
        " + 범위가 주어져 있음\n",
        "\n",
        "- 개발자 (둘다 익힐 것)\n",
        " + 카메라 켜진상태에서 필터를 추가한다\n",
        " + 카메라 is ON (==True)\n",
        "   + ~~기능 을 수행하라\n",
        " + 카메라 OFF (== False)\n",
        "   + 기능 수행하는 코드 미 작성"
      ],
      "metadata": {
        "id": "IMcfpzpIBLVd"
      }
    },
    {
      "cell_type": "markdown",
      "source": [
        "## break문\n",
        "- 중간에 반복문 강제종료\n",
        " + 특정시점에 반복문 강제"
      ],
      "metadata": {
        "id": "WR4y1SmdCR0Z"
      }
    },
    {
      "cell_type": "code",
      "source": [
        "for i in range(10):\n",
        "  print(f'현재 {i} 번')\n",
        "  if i > 5:\n",
        "    print(\"if조건문 만족\")\n",
        "    break"
      ],
      "metadata": {
        "colab": {
          "base_uri": "https://localhost:8080/"
        },
        "id": "na4c-BDoCBfv",
        "outputId": "2618808b-07e9-4711-cbfb-663448b1925e"
      },
      "execution_count": 72,
      "outputs": [
        {
          "output_type": "stream",
          "name": "stdout",
          "text": [
            "현재 0 번\n",
            "현재 1 번\n",
            "현재 2 번\n",
            "현재 3 번\n",
            "현재 4 번\n",
            "현재 5 번\n",
            "현재 6 번\n",
            "if조건문 만족\n"
          ]
        }
      ]
    },
    {
      "cell_type": "markdown",
      "source": [
        "## 문자열과 for-loop"
      ],
      "metadata": {
        "id": "qHGZt-dRD90n"
      }
    },
    {
      "cell_type": "code",
      "source": [
        "texts = 'Python'\n",
        "for chr in texts:\n",
        "  print(chr)\n",
        "  if chr == 't':\n",
        "    print(\"text는 t입니다\")\n",
        "    break\n"
      ],
      "metadata": {
        "colab": {
          "base_uri": "https://localhost:8080/"
        },
        "id": "nEheP4hsD3HU",
        "outputId": "90cb6e66-cf98-4a4d-bc2b-904c8c829943"
      },
      "execution_count": 73,
      "outputs": [
        {
          "output_type": "stream",
          "name": "stdout",
          "text": [
            "P\n",
            "y\n",
            "t\n",
            "text는 t입니다\n"
          ]
        }
      ]
    },
    {
      "cell_type": "markdown",
      "source": [
        "## List Comprehension\n",
        "- for loop 및 for loop if 조건문 한줄로 처리\n",
        "- 시각화 라이브러리\n",
        "  + matplotlib, plotly 옵션 설정할 때 자주 사용됨"
      ],
      "metadata": {
        "id": "mT3GheGAEuUR"
      }
    },
    {
      "cell_type": "code",
      "source": [
        "# Pythonic Code\n",
        "numbers = [1,2,3,4,5]\n",
        "squares = []\n",
        "\n",
        "for i in numbers:\n",
        "  if i >= 3:\n",
        "    squares.append(i**2)"
      ],
      "metadata": {
        "id": "MPELzBqbE3Dw"
      },
      "execution_count": 77,
      "outputs": []
    },
    {
      "cell_type": "code",
      "source": [
        "squares = [i**2 for i in numbers if i>= 3] # 코드, for문, 조건문\n",
        "\n",
        "# or, equivalently\n",
        "# squares = list(map(lambda x: x**2, numbers))\n",
        "\n",
        "squares"
      ],
      "metadata": {
        "colab": {
          "base_uri": "https://localhost:8080/"
        },
        "id": "XhUwv8XVGMiP",
        "outputId": "25c0cdbe-3086-44d3-a655-de36f13386f7"
      },
      "execution_count": 86,
      "outputs": [
        {
          "output_type": "execute_result",
          "data": {
            "text/plain": [
              "[9, 16, 25]"
            ]
          },
          "metadata": {},
          "execution_count": 86
        }
      ]
    },
    {
      "cell_type": "code",
      "source": [
        "[(x, y) for x in [1,2,3] for y in [3,1,4] if x != y]"
      ],
      "metadata": {
        "colab": {
          "base_uri": "https://localhost:8080/"
        },
        "id": "ZzcswJrHJVSS",
        "outputId": "c53d7783-3911-4342-ad6d-4124c4b5cfb0"
      },
      "execution_count": 84,
      "outputs": [
        {
          "output_type": "execute_result",
          "data": {
            "text/plain": [
              "[(1, 3), (1, 4), (2, 3), (2, 1), (2, 4), (3, 1), (3, 4)]"
            ]
          },
          "metadata": {},
          "execution_count": 84
        }
      ]
    },
    {
      "cell_type": "code",
      "source": [
        "matrix = [\n",
        "    [1, 2, 3, 4],\n",
        "    [5, 6, 7, 8],\n",
        "    [9, 10, 11, 12],\n",
        "]\n",
        "\n",
        "[[row[i] for row in matrix] for i in range(4)]\n",
        "\n",
        "# transposed = []\n",
        "# for i in range(4):\n",
        "#     transposed.append([row[i] for row in matrix])\n",
        "\n",
        "# transposed\n",
        "# [[1, 5, 9], [2, 6, 10], [3, 7, 11], [4, 8, 12]]"
      ],
      "metadata": {
        "colab": {
          "base_uri": "https://localhost:8080/"
        },
        "id": "4-92s4ByJVsW",
        "outputId": "5a335f9c-f32f-4cf8-bdac-ca25738eef09"
      },
      "execution_count": 88,
      "outputs": [
        {
          "output_type": "execute_result",
          "data": {
            "text/plain": [
              "[[1, 5, 9], [2, 6, 10], [3, 7, 11], [4, 8, 12]]"
            ]
          },
          "metadata": {},
          "execution_count": 88
        }
      ]
    },
    {
      "cell_type": "markdown",
      "source": [
        "# 파이썬 문서화 (Docstring)\n",
        "- 코딩(프로그래밍)을 한다.\n",
        "- 누군가에게 관련 지식을 전달하는 것과 동일\n",
        "  + 혼자 코딩, 혼자만 알 수 있는 언어로 코딩을 했다 ==> 협업 불가능\n",
        "  + 취업, 퇴사, 이직 ==> 업무 인수인계를 해야 함\n",
        "  + 코딩한 것에 문서화를 하지 못하면, 업무 인수인계 자체가 불가능\n",
        "\n",
        "- 프로젝트 진행\n",
        "  + 3주/4주 ==> 마지막주에는\n",
        "    - 2-3명, PPT 보고서 작성\n",
        "    - 남은 인원, Docstring을 사용해서, 문서화\n",
        "  + help() 명령어 사용해서 불러오기할 수 있음 (예. read_csv() 문서처럼 출력이 가능)"
      ],
      "metadata": {
        "id": "W3ntmIUiNFn2"
      }
    },
    {
      "cell_type": "code",
      "source": [
        "help(print)"
      ],
      "metadata": {
        "colab": {
          "base_uri": "https://localhost:8080/"
        },
        "id": "jZ1A8LiKQz6q",
        "outputId": "ce484c66-d19f-436c-b0c4-2391f686d076"
      },
      "execution_count": 90,
      "outputs": [
        {
          "output_type": "stream",
          "name": "stdout",
          "text": [
            "Help on built-in function print in module builtins:\n",
            "\n",
            "print(...)\n",
            "    print(value, ..., sep=' ', end='\\n', file=sys.stdout, flush=False)\n",
            "    \n",
            "    Prints the values to a stream, or to sys.stdout by default.\n",
            "    Optional keyword arguments:\n",
            "    file:  a file-like object (stream); defaults to the current sys.stdout.\n",
            "    sep:   string inserted between values, default a space.\n",
            "    end:   string appended after the last value, default a newline.\n",
            "    flush: whether to forcibly flush the stream.\n",
            "\n"
          ]
        }
      ]
    },
    {
      "cell_type": "code",
      "source": [
        "import math\n",
        "help(math)"
      ],
      "metadata": {
        "colab": {
          "base_uri": "https://localhost:8080/"
        },
        "id": "Iopd3YeeQ3co",
        "outputId": "36dea2bb-9aa9-44f0-c59d-e569a2f34932"
      },
      "execution_count": 92,
      "outputs": [
        {
          "output_type": "stream",
          "name": "stdout",
          "text": [
            "Help on built-in module math:\n",
            "\n",
            "NAME\n",
            "    math\n",
            "\n",
            "DESCRIPTION\n",
            "    This module provides access to the mathematical functions\n",
            "    defined by the C standard.\n",
            "\n",
            "FUNCTIONS\n",
            "    acos(x, /)\n",
            "        Return the arc cosine (measured in radians) of x.\n",
            "        \n",
            "        The result is between 0 and pi.\n",
            "    \n",
            "    acosh(x, /)\n",
            "        Return the inverse hyperbolic cosine of x.\n",
            "    \n",
            "    asin(x, /)\n",
            "        Return the arc sine (measured in radians) of x.\n",
            "        \n",
            "        The result is between -pi/2 and pi/2.\n",
            "    \n",
            "    asinh(x, /)\n",
            "        Return the inverse hyperbolic sine of x.\n",
            "    \n",
            "    atan(x, /)\n",
            "        Return the arc tangent (measured in radians) of x.\n",
            "        \n",
            "        The result is between -pi/2 and pi/2.\n",
            "    \n",
            "    atan2(y, x, /)\n",
            "        Return the arc tangent (measured in radians) of y/x.\n",
            "        \n",
            "        Unlike atan(y/x), the signs of both x and y are considered.\n",
            "    \n",
            "    atanh(x, /)\n",
            "        Return the inverse hyperbolic tangent of x.\n",
            "    \n",
            "    ceil(x, /)\n",
            "        Return the ceiling of x as an Integral.\n",
            "        \n",
            "        This is the smallest integer >= x.\n",
            "    \n",
            "    comb(n, k, /)\n",
            "        Number of ways to choose k items from n items without repetition and without order.\n",
            "        \n",
            "        Evaluates to n! / (k! * (n - k)!) when k <= n and evaluates\n",
            "        to zero when k > n.\n",
            "        \n",
            "        Also called the binomial coefficient because it is equivalent\n",
            "        to the coefficient of k-th term in polynomial expansion of the\n",
            "        expression (1 + x)**n.\n",
            "        \n",
            "        Raises TypeError if either of the arguments are not integers.\n",
            "        Raises ValueError if either of the arguments are negative.\n",
            "    \n",
            "    copysign(x, y, /)\n",
            "        Return a float with the magnitude (absolute value) of x but the sign of y.\n",
            "        \n",
            "        On platforms that support signed zeros, copysign(1.0, -0.0)\n",
            "        returns -1.0.\n",
            "    \n",
            "    cos(x, /)\n",
            "        Return the cosine of x (measured in radians).\n",
            "    \n",
            "    cosh(x, /)\n",
            "        Return the hyperbolic cosine of x.\n",
            "    \n",
            "    degrees(x, /)\n",
            "        Convert angle x from radians to degrees.\n",
            "    \n",
            "    dist(p, q, /)\n",
            "        Return the Euclidean distance between two points p and q.\n",
            "        \n",
            "        The points should be specified as sequences (or iterables) of\n",
            "        coordinates.  Both inputs must have the same dimension.\n",
            "        \n",
            "        Roughly equivalent to:\n",
            "            sqrt(sum((px - qx) ** 2.0 for px, qx in zip(p, q)))\n",
            "    \n",
            "    erf(x, /)\n",
            "        Error function at x.\n",
            "    \n",
            "    erfc(x, /)\n",
            "        Complementary error function at x.\n",
            "    \n",
            "    exp(x, /)\n",
            "        Return e raised to the power of x.\n",
            "    \n",
            "    expm1(x, /)\n",
            "        Return exp(x)-1.\n",
            "        \n",
            "        This function avoids the loss of precision involved in the direct evaluation of exp(x)-1 for small x.\n",
            "    \n",
            "    fabs(x, /)\n",
            "        Return the absolute value of the float x.\n",
            "    \n",
            "    factorial(x, /)\n",
            "        Find x!.\n",
            "        \n",
            "        Raise a ValueError if x is negative or non-integral.\n",
            "    \n",
            "    floor(x, /)\n",
            "        Return the floor of x as an Integral.\n",
            "        \n",
            "        This is the largest integer <= x.\n",
            "    \n",
            "    fmod(x, y, /)\n",
            "        Return fmod(x, y), according to platform C.\n",
            "        \n",
            "        x % y may differ.\n",
            "    \n",
            "    frexp(x, /)\n",
            "        Return the mantissa and exponent of x, as pair (m, e).\n",
            "        \n",
            "        m is a float and e is an int, such that x = m * 2.**e.\n",
            "        If x is 0, m and e are both 0.  Else 0.5 <= abs(m) < 1.0.\n",
            "    \n",
            "    fsum(seq, /)\n",
            "        Return an accurate floating point sum of values in the iterable seq.\n",
            "        \n",
            "        Assumes IEEE-754 floating point arithmetic.\n",
            "    \n",
            "    gamma(x, /)\n",
            "        Gamma function at x.\n",
            "    \n",
            "    gcd(*integers)\n",
            "        Greatest Common Divisor.\n",
            "    \n",
            "    hypot(...)\n",
            "        hypot(*coordinates) -> value\n",
            "        \n",
            "        Multidimensional Euclidean distance from the origin to a point.\n",
            "        \n",
            "        Roughly equivalent to:\n",
            "            sqrt(sum(x**2 for x in coordinates))\n",
            "        \n",
            "        For a two dimensional point (x, y), gives the hypotenuse\n",
            "        using the Pythagorean theorem:  sqrt(x*x + y*y).\n",
            "        \n",
            "        For example, the hypotenuse of a 3/4/5 right triangle is:\n",
            "        \n",
            "            >>> hypot(3.0, 4.0)\n",
            "            5.0\n",
            "    \n",
            "    isclose(a, b, *, rel_tol=1e-09, abs_tol=0.0)\n",
            "        Determine whether two floating point numbers are close in value.\n",
            "        \n",
            "          rel_tol\n",
            "            maximum difference for being considered \"close\", relative to the\n",
            "            magnitude of the input values\n",
            "          abs_tol\n",
            "            maximum difference for being considered \"close\", regardless of the\n",
            "            magnitude of the input values\n",
            "        \n",
            "        Return True if a is close in value to b, and False otherwise.\n",
            "        \n",
            "        For the values to be considered close, the difference between them\n",
            "        must be smaller than at least one of the tolerances.\n",
            "        \n",
            "        -inf, inf and NaN behave similarly to the IEEE 754 Standard.  That\n",
            "        is, NaN is not close to anything, even itself.  inf and -inf are\n",
            "        only close to themselves.\n",
            "    \n",
            "    isfinite(x, /)\n",
            "        Return True if x is neither an infinity nor a NaN, and False otherwise.\n",
            "    \n",
            "    isinf(x, /)\n",
            "        Return True if x is a positive or negative infinity, and False otherwise.\n",
            "    \n",
            "    isnan(x, /)\n",
            "        Return True if x is a NaN (not a number), and False otherwise.\n",
            "    \n",
            "    isqrt(n, /)\n",
            "        Return the integer part of the square root of the input.\n",
            "    \n",
            "    lcm(*integers)\n",
            "        Least Common Multiple.\n",
            "    \n",
            "    ldexp(x, i, /)\n",
            "        Return x * (2**i).\n",
            "        \n",
            "        This is essentially the inverse of frexp().\n",
            "    \n",
            "    lgamma(x, /)\n",
            "        Natural logarithm of absolute value of Gamma function at x.\n",
            "    \n",
            "    log(...)\n",
            "        log(x, [base=math.e])\n",
            "        Return the logarithm of x to the given base.\n",
            "        \n",
            "        If the base not specified, returns the natural logarithm (base e) of x.\n",
            "    \n",
            "    log10(x, /)\n",
            "        Return the base 10 logarithm of x.\n",
            "    \n",
            "    log1p(x, /)\n",
            "        Return the natural logarithm of 1+x (base e).\n",
            "        \n",
            "        The result is computed in a way which is accurate for x near zero.\n",
            "    \n",
            "    log2(x, /)\n",
            "        Return the base 2 logarithm of x.\n",
            "    \n",
            "    modf(x, /)\n",
            "        Return the fractional and integer parts of x.\n",
            "        \n",
            "        Both results carry the sign of x and are floats.\n",
            "    \n",
            "    nextafter(x, y, /)\n",
            "        Return the next floating-point value after x towards y.\n",
            "    \n",
            "    perm(n, k=None, /)\n",
            "        Number of ways to choose k items from n items without repetition and with order.\n",
            "        \n",
            "        Evaluates to n! / (n - k)! when k <= n and evaluates\n",
            "        to zero when k > n.\n",
            "        \n",
            "        If k is not specified or is None, then k defaults to n\n",
            "        and the function returns n!.\n",
            "        \n",
            "        Raises TypeError if either of the arguments are not integers.\n",
            "        Raises ValueError if either of the arguments are negative.\n",
            "    \n",
            "    pow(x, y, /)\n",
            "        Return x**y (x to the power of y).\n",
            "    \n",
            "    prod(iterable, /, *, start=1)\n",
            "        Calculate the product of all the elements in the input iterable.\n",
            "        \n",
            "        The default start value for the product is 1.\n",
            "        \n",
            "        When the iterable is empty, return the start value.  This function is\n",
            "        intended specifically for use with numeric values and may reject\n",
            "        non-numeric types.\n",
            "    \n",
            "    radians(x, /)\n",
            "        Convert angle x from degrees to radians.\n",
            "    \n",
            "    remainder(x, y, /)\n",
            "        Difference between x and the closest integer multiple of y.\n",
            "        \n",
            "        Return x - n*y where n*y is the closest integer multiple of y.\n",
            "        In the case where x is exactly halfway between two multiples of\n",
            "        y, the nearest even value of n is used. The result is always exact.\n",
            "    \n",
            "    sin(x, /)\n",
            "        Return the sine of x (measured in radians).\n",
            "    \n",
            "    sinh(x, /)\n",
            "        Return the hyperbolic sine of x.\n",
            "    \n",
            "    sqrt(x, /)\n",
            "        Return the square root of x.\n",
            "    \n",
            "    tan(x, /)\n",
            "        Return the tangent of x (measured in radians).\n",
            "    \n",
            "    tanh(x, /)\n",
            "        Return the hyperbolic tangent of x.\n",
            "    \n",
            "    trunc(x, /)\n",
            "        Truncates the Real x to the nearest Integral toward 0.\n",
            "        \n",
            "        Uses the __trunc__ magic method.\n",
            "    \n",
            "    ulp(x, /)\n",
            "        Return the value of the least significant bit of the float x.\n",
            "\n",
            "DATA\n",
            "    e = 2.718281828459045\n",
            "    inf = inf\n",
            "    nan = nan\n",
            "    pi = 3.141592653589793\n",
            "    tau = 6.283185307179586\n",
            "\n",
            "FILE\n",
            "    (built-in)\n",
            "\n",
            "\n"
          ]
        }
      ]
    },
    {
      "cell_type": "code",
      "source": [
        "def myPower(n):\n",
        "  '''숫자 n을 입력하면 n의 거듭제곱으로 반환'''\n",
        "  result = n ** 2\n",
        "  return result"
      ],
      "metadata": {
        "id": "slvkxW58RPki"
      },
      "execution_count": 102,
      "outputs": []
    },
    {
      "cell_type": "code",
      "source": [
        "print(myPower(3))"
      ],
      "metadata": {
        "colab": {
          "base_uri": "https://localhost:8080/"
        },
        "id": "6GGLUrEfRiND",
        "outputId": "b88339f8-462f-4733-de1a-aa39a1ea4093"
      },
      "execution_count": 96,
      "outputs": [
        {
          "output_type": "stream",
          "name": "stdout",
          "text": [
            "9\n"
          ]
        }
      ]
    },
    {
      "cell_type": "code",
      "source": [
        "print(myPower.__doc__)"
      ],
      "metadata": {
        "colab": {
          "base_uri": "https://localhost:8080/"
        },
        "id": "cYWUnI36Rtmp",
        "outputId": "93d65e72-490d-44ec-b54e-870f5b63488f"
      },
      "execution_count": 103,
      "outputs": [
        {
          "output_type": "stream",
          "name": "stdout",
          "text": [
            "숫자 n을 입력하면 n의 거듭제곱으로 반환\n",
            "  fffaaa\n",
            "  \n"
          ]
        }
      ]
    },
    {
      "cell_type": "code",
      "source": [
        "print(print.__doc__)"
      ],
      "metadata": {
        "colab": {
          "base_uri": "https://localhost:8080/"
        },
        "id": "aULLV2StR2R1",
        "outputId": "0745ef9f-937e-4ad5-ef68-f7714e23443e"
      },
      "execution_count": 100,
      "outputs": [
        {
          "output_type": "stream",
          "name": "stdout",
          "text": [
            "print(value, ..., sep=' ', end='\\n', file=sys.stdout, flush=False)\n",
            "\n",
            "Prints the values to a stream, or to sys.stdout by default.\n",
            "Optional keyword arguments:\n",
            "file:  a file-like object (stream); defaults to the current sys.stdout.\n",
            "sep:   string inserted between values, default a space.\n",
            "end:   string appended after the last value, default a newline.\n",
            "flush: whether to forcibly flush the stream.\n"
          ]
        }
      ]
    },
    {
      "cell_type": "code",
      "source": [
        "def read_csv(sep, header):\n",
        "  '''\n",
        "  Returns the sum of ~~~ .\n",
        "\n",
        "    Parameters:\n",
        "      sep (str) : Character or regex pattern to treat as the delimiter.\n",
        "      header (int) : Row number(s) containing column labels and marking the start of the data (zero-indexed).\n",
        "\n",
        "    Returns:\n",
        "      c (int) : Sum of ~~\n",
        "  '''\n",
        "\n",
        "  c = sep + header\n",
        "  return c"
      ],
      "metadata": {
        "id": "4CrPn3SzSJMu"
      },
      "execution_count": 104,
      "outputs": []
    },
    {
      "cell_type": "code",
      "source": [
        "print(read_csv.__doc__)"
      ],
      "metadata": {
        "colab": {
          "base_uri": "https://localhost:8080/"
        },
        "id": "EwsNddthTNt8",
        "outputId": "acadb03d-def7-46d7-8547-1502eda0a2dd"
      },
      "execution_count": 105,
      "outputs": [
        {
          "output_type": "stream",
          "name": "stdout",
          "text": [
            "\n",
            "  Returns the sum of ~~~ .\n",
            "\n",
            "    Parameters:\n",
            "      sep (str) : Character or regex pattern to treat as the delimiter.\n",
            "      header (int) : Row number(s) containing column labels and marking the start of the data (zero-indexed).\n",
            "\n",
            "    Returns:\n",
            "      c (int) : Sum of ~~\n",
            "  \n"
          ]
        }
      ]
    },
    {
      "cell_type": "markdown",
      "source": [
        "# 클래스 상속\n",
        "- 부모 > 자식\n",
        "- 대분류 > 중분류 > 소분류\n",
        "\n",
        "- 동물\n",
        "  + 동물의 공통적인 특징 : 살아 움직인다\n",
        "  - 포유류\n",
        "    + 4발이 있다, 새끼를 낳는다\n",
        "  - 파충류\n",
        "    + 알을 낳는다\n",
        "     "
      ],
      "metadata": {
        "id": "1_zBDt3dYTzu"
      }
    },
    {
      "cell_type": "code",
      "source": [
        "class Animal:\n",
        "  # Attribute 정의(=클래스 변수)\n",
        "  name = \"\"\n",
        "\n",
        "  # 공통함수\n",
        "  def eat(self):\n",
        "    print(\"나는 먹을 수 있음\")\n",
        "\n",
        "class Dog(Animal): # 클래스 상속\n",
        "  pass\n",
        "\n",
        "  def dance(self):\n",
        "    print(f'{self.name} 강아지가 춤을 춘다')"
      ],
      "metadata": {
        "id": "od9gs4-jZTWE"
      },
      "execution_count": 106,
      "outputs": []
    },
    {
      "cell_type": "code",
      "source": [
        "# 객체 생성\n",
        "puppy = Dog()\n",
        "puppy.name = \"poo\"\n",
        "puppy.eat()"
      ],
      "metadata": {
        "colab": {
          "base_uri": "https://localhost:8080/"
        },
        "id": "fx3f5RzSaY33",
        "outputId": "69d777ca-def7-43a4-8410-0d02804a5d97"
      },
      "execution_count": 108,
      "outputs": [
        {
          "output_type": "stream",
          "name": "stdout",
          "text": [
            "나는 먹을 수 있음\n"
          ]
        }
      ]
    },
    {
      "cell_type": "code",
      "source": [
        "puppy2 = Animal()\n",
        "puppy2.name = \"시고르자브종\"\n",
        "puppy2.eat()"
      ],
      "metadata": {
        "colab": {
          "base_uri": "https://localhost:8080/"
        },
        "id": "NRA7ZTCfbo21",
        "outputId": "39119c74-2ea2-44b8-e778-886787b7abd6"
      },
      "execution_count": 110,
      "outputs": [
        {
          "output_type": "stream",
          "name": "stdout",
          "text": [
            "나는 먹을 수 있음\n"
          ]
        }
      ]
    },
    {
      "cell_type": "code",
      "source": [
        "puppy2.dance()"
      ],
      "metadata": {
        "colab": {
          "base_uri": "https://localhost:8080/",
          "height": 184
        },
        "id": "Cte_Yaxvb4ko",
        "outputId": "4113709e-5b5f-4176-8afe-728fb7198546"
      },
      "execution_count": 111,
      "outputs": [
        {
          "output_type": "error",
          "ename": "AttributeError",
          "evalue": "ignored",
          "traceback": [
            "\u001b[0;31m---------------------------------------------------------------------------\u001b[0m",
            "\u001b[0;31mAttributeError\u001b[0m                            Traceback (most recent call last)",
            "\u001b[0;32m<ipython-input-111-97b325da6290>\u001b[0m in \u001b[0;36m<cell line: 1>\u001b[0;34m()\u001b[0m\n\u001b[0;32m----> 1\u001b[0;31m \u001b[0mpuppy2\u001b[0m\u001b[0;34m.\u001b[0m\u001b[0mdance\u001b[0m\u001b[0;34m(\u001b[0m\u001b[0;34m)\u001b[0m\u001b[0;34m\u001b[0m\u001b[0;34m\u001b[0m\u001b[0m\n\u001b[0m",
            "\u001b[0;31mAttributeError\u001b[0m: 'Animal' object has no attribute 'dance'"
          ]
        }
      ]
    },
    {
      "cell_type": "markdown",
      "source": [
        "## 클래스 Docstring"
      ],
      "metadata": {
        "id": "GoaekK53ci5o"
      }
    },
    {
      "cell_type": "code",
      "source": [
        "class Person:\n",
        "  \"\"\"\n",
        "  자기 소개하는 Person 클래스\n",
        "\n",
        "  Attributes\n",
        "  -----------\n",
        "  name : str\n",
        "    사람의 이름을 의미\n",
        "  age : int\n",
        "    사람의 나이를 의미\n",
        "  grade : int\n",
        "    사람의 현재 학년을 의미\n",
        "\n",
        "  Methods\n",
        "  -----------\n",
        "  info(comment=\"\"):\n",
        "    사람의 개인정보를 출력\n",
        "  \"\"\"\n",
        "\n",
        "  def __init__(self, name, age, grade):\n",
        "    self.name = name\n",
        "    self.age = age\n",
        "    self.grade = grade\n",
        "\n",
        "  def info(self, comment = \"\"):\n",
        "    print(f'내 이름은 {self.name}. 나이는 {self.age}. 현재 학년은 {self.grade}. + {comment}')"
      ],
      "metadata": {
        "id": "SsR6PYeAcl2n"
      },
      "execution_count": 112,
      "outputs": []
    },
    {
      "cell_type": "code",
      "source": [
        "print(Person.__doc__)"
      ],
      "metadata": {
        "colab": {
          "base_uri": "https://localhost:8080/"
        },
        "id": "whUtg8p9eQvi",
        "outputId": "b2321440-1d7d-4316-a78e-b2be808f3cc9"
      },
      "execution_count": 114,
      "outputs": [
        {
          "output_type": "stream",
          "name": "stdout",
          "text": [
            "\n",
            "  자기 소개하는 Person 클래스\n",
            "\n",
            "  '''\n",
            "  Attributes\n",
            "  -----------\n",
            "  name : str\n",
            "    사람의 이름을 의미\n",
            "  age : int\n",
            "    사람의 나이를 의미\n",
            "  grade : int\n",
            "    사람의 현재 학년을 의미\n",
            "\n",
            "  Methods\n",
            "  -----------\n",
            "  info(comment=\"\"):\n",
            "    사람의 개인정보를 출\n",
            "  \n"
          ]
        }
      ]
    },
    {
      "cell_type": "code",
      "source": [
        "help(Person)"
      ],
      "metadata": {
        "colab": {
          "base_uri": "https://localhost:8080/"
        },
        "id": "fXjOu_SleaSX",
        "outputId": "2eaeab27-6867-42a1-be9b-b37cf2570b6b"
      },
      "execution_count": 115,
      "outputs": [
        {
          "output_type": "stream",
          "name": "stdout",
          "text": [
            "Help on class Person in module __main__:\n",
            "\n",
            "class Person(builtins.object)\n",
            " |  Person(name, age, grade)\n",
            " |  \n",
            " |  자기 소개하는 Person 클래스\n",
            " |  \n",
            " |  '''\n",
            " |  Attributes\n",
            " |  -----------\n",
            " |  name : str\n",
            " |    사람의 이름을 의미\n",
            " |  age : int\n",
            " |    사람의 나이를 의미\n",
            " |  grade : int\n",
            " |    사람의 현재 학년을 의미\n",
            " |  \n",
            " |  Methods\n",
            " |  -----------\n",
            " |  info(comment=\"\"):\n",
            " |    사람의 개인정보를 출\n",
            " |  \n",
            " |  Methods defined here:\n",
            " |  \n",
            " |  __init__(self, name, age, grade)\n",
            " |      Initialize self.  See help(type(self)) for accurate signature.\n",
            " |  \n",
            " |  info(self, comment='')\n",
            " |  \n",
            " |  ----------------------------------------------------------------------\n",
            " |  Data descriptors defined here:\n",
            " |  \n",
            " |  __dict__\n",
            " |      dictionary for instance variables (if defined)\n",
            " |  \n",
            " |  __weakref__\n",
            " |      list of weak references to the object (if defined)\n",
            "\n"
          ]
        }
      ]
    }
  ]
}