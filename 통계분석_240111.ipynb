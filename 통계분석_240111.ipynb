{
  "cells": [
    {
      "cell_type": "markdown",
      "metadata": {
        "id": "view-in-github",
        "colab_type": "text"
      },
      "source": [
        "<a href=\"https://colab.research.google.com/github/yewon91/mul_lectures/blob/main/%ED%86%B5%EA%B3%84%EB%B6%84%EC%84%9D_240111.ipynb\" target=\"_parent\"><img src=\"https://colab.research.google.com/assets/colab-badge.svg\" alt=\"Open In Colab\"/></a>"
      ]
    },
    {
      "cell_type": "markdown",
      "id": "62f7f43f-16e3-48d2-8e97-048b354fe81d",
      "metadata": {
        "id": "62f7f43f-16e3-48d2-8e97-048b354fe81d"
      },
      "source": [
        "## 문제 상황\n",
        "- 편의점 감자튀김 (무게 130g으로 알려져 있음)\n",
        "- 학생이 무게 하나 잼. 122.02g 밖에 되지 않음\n",
        "- 2주간 매일 감자튀김을 사서 무게 측정\n",
        "  + 14개의 표본의 평균 계산했는데, 128.451g ==> 학생이 편의점주에게 항의\n",
        "  + 편의점주 왈 : 그저 우연이다!"
      ]
    },
    {
      "cell_type": "markdown",
      "id": "04a4f4ee-ac06-4b72-8861-551af9340103",
      "metadata": {
        "id": "04a4f4ee-ac06-4b72-8861-551af9340103"
      },
      "source": [
        "### 질문\n",
        "- 어떤 통계 검정 방법을 사용?\n",
        "  + t-test, One sample T-test\n",
        "  + 표본 14개 => 정규성 검정 진행 후, 정규성 검정 통과할 때, One Sample T-Test\n",
        "- 귀무가설과 대립가설 설정?\n",
        "  + 귀무가설 : 모평균(130g)과 표본평균(128.451)과 같다\n",
        "  + 대립가설 : 모평균(130g)과 표본평균(128.451)과 같지 않다 (양측검정)\n",
        "  + 대립가설 : 모평균(130g) > 표본평균(128.451) 보다 크다 (단측검정)"
      ]
    },
    {
      "cell_type": "code",
      "execution_count": null,
      "id": "03093d56-2638-484c-907b-83814df10dc0",
      "metadata": {
        "id": "03093d56-2638-484c-907b-83814df10dc0",
        "outputId": "85f52ba9-7ad5-4efa-c1da-dfed9fa7ccf7"
      },
      "outputs": [
        {
          "name": "stdout",
          "output_type": "stream",
          "text": [
            "Collecting scipy\n",
            "  Downloading scipy-1.11.4-cp311-cp311-win_amd64.whl.metadata (60 kB)\n",
            "     ---------------------------------------- 0.0/60.4 kB ? eta -:--:--\n",
            "     ------------ ------------------------- 20.5/60.4 kB 330.3 kB/s eta 0:00:01\n",
            "     -------------------------------------- 60.4/60.4 kB 643.1 kB/s eta 0:00:00\n",
            "Requirement already satisfied: numpy<1.28.0,>=1.21.6 in c:\\users\\yewon\\desktop\\projectds\\venv\\lib\\site-packages (from scipy) (1.26.2)\n",
            "Downloading scipy-1.11.4-cp311-cp311-win_amd64.whl (44.1 MB)\n",
            "   ---------------------------------------- 0.0/44.1 MB ? eta -:--:--\n",
            "   ---------------------------------------- 0.2/44.1 MB 5.3 MB/s eta 0:00:09\n",
            "   ---------------------------------------- 0.4/44.1 MB 6.4 MB/s eta 0:00:07\n",
            "    --------------------------------------- 0.8/44.1 MB 6.6 MB/s eta 0:00:07\n",
            "   - -------------------------------------- 1.2/44.1 MB 7.1 MB/s eta 0:00:07\n",
            "   - -------------------------------------- 1.5/44.1 MB 6.7 MB/s eta 0:00:07\n",
            "   - -------------------------------------- 2.0/44.1 MB 7.3 MB/s eta 0:00:06\n",
            "   -- ------------------------------------- 2.3/44.1 MB 7.5 MB/s eta 0:00:06\n",
            "   -- ------------------------------------- 2.8/44.1 MB 7.6 MB/s eta 0:00:06\n",
            "   -- ------------------------------------- 3.1/44.1 MB 7.7 MB/s eta 0:00:06\n",
            "   --- ------------------------------------ 3.6/44.1 MB 7.9 MB/s eta 0:00:06\n",
            "   --- ------------------------------------ 4.0/44.1 MB 8.2 MB/s eta 0:00:05\n",
            "   ---- ----------------------------------- 4.4/44.1 MB 8.4 MB/s eta 0:00:05\n",
            "   ---- ----------------------------------- 4.9/44.1 MB 8.5 MB/s eta 0:00:05\n",
            "   ---- ----------------------------------- 5.3/44.1 MB 8.5 MB/s eta 0:00:05\n",
            "   ----- ---------------------------------- 5.8/44.1 MB 8.6 MB/s eta 0:00:05\n",
            "   ----- ---------------------------------- 6.1/44.1 MB 8.5 MB/s eta 0:00:05\n",
            "   ----- ---------------------------------- 6.2/44.1 MB 8.5 MB/s eta 0:00:05\n",
            "   ------ --------------------------------- 6.9/44.1 MB 8.5 MB/s eta 0:00:05\n",
            "   ------ --------------------------------- 7.3/44.1 MB 8.7 MB/s eta 0:00:05\n",
            "   ------- -------------------------------- 7.8/44.1 MB 8.5 MB/s eta 0:00:05\n",
            "   ------- -------------------------------- 8.3/44.1 MB 8.7 MB/s eta 0:00:05\n",
            "   ------- -------------------------------- 8.8/44.1 MB 8.8 MB/s eta 0:00:05\n",
            "   -------- ------------------------------- 9.1/44.1 MB 8.8 MB/s eta 0:00:04\n",
            "   -------- ------------------------------- 9.8/44.1 MB 9.0 MB/s eta 0:00:04\n",
            "   --------- ------------------------------ 10.2/44.1 MB 8.9 MB/s eta 0:00:04\n",
            "   --------- ------------------------------ 10.5/44.1 MB 9.2 MB/s eta 0:00:04\n",
            "   ---------- ----------------------------- 11.1/44.1 MB 9.5 MB/s eta 0:00:04\n",
            "   ---------- ----------------------------- 11.4/44.1 MB 9.4 MB/s eta 0:00:04\n",
            "   ---------- ----------------------------- 12.0/44.1 MB 9.5 MB/s eta 0:00:04\n",
            "   ----------- ---------------------------- 12.3/44.1 MB 9.6 MB/s eta 0:00:04\n",
            "   ----------- ---------------------------- 12.8/44.1 MB 9.5 MB/s eta 0:00:04\n",
            "   ----------- ---------------------------- 13.2/44.1 MB 9.5 MB/s eta 0:00:04\n",
            "   ------------ --------------------------- 13.5/44.1 MB 9.4 MB/s eta 0:00:04\n",
            "   ------------ --------------------------- 13.7/44.1 MB 9.2 MB/s eta 0:00:04\n",
            "   ------------ --------------------------- 14.1/44.1 MB 9.2 MB/s eta 0:00:04\n",
            "   ------------- -------------------------- 14.6/44.1 MB 9.2 MB/s eta 0:00:04\n",
            "   ------------- -------------------------- 15.0/44.1 MB 9.2 MB/s eta 0:00:04\n",
            "   ------------- -------------------------- 15.4/44.1 MB 9.1 MB/s eta 0:00:04\n",
            "   -------------- ------------------------- 15.9/44.1 MB 9.1 MB/s eta 0:00:04\n",
            "   -------------- ------------------------- 16.2/44.1 MB 9.4 MB/s eta 0:00:03\n",
            "   --------------- ------------------------ 16.8/44.1 MB 9.4 MB/s eta 0:00:03\n",
            "   --------------- ------------------------ 16.8/44.1 MB 9.2 MB/s eta 0:00:03\n",
            "   --------------- ------------------------ 16.8/44.1 MB 9.2 MB/s eta 0:00:03\n",
            "   --------------- ------------------------ 16.8/44.1 MB 9.2 MB/s eta 0:00:03\n",
            "   --------------- ------------------------ 16.8/44.1 MB 9.2 MB/s eta 0:00:03\n",
            "   --------------- ------------------------ 16.9/44.1 MB 7.8 MB/s eta 0:00:04\n",
            "   --------------- ------------------------ 17.1/44.1 MB 7.7 MB/s eta 0:00:04\n",
            "   --------------- ------------------------ 17.5/44.1 MB 7.6 MB/s eta 0:00:04\n",
            "   ---------------- ----------------------- 17.9/44.1 MB 7.7 MB/s eta 0:00:04\n",
            "   ---------------- ----------------------- 18.3/44.1 MB 7.6 MB/s eta 0:00:04\n",
            "   ---------------- ----------------------- 18.7/44.1 MB 7.6 MB/s eta 0:00:04\n",
            "   ----------------- ---------------------- 18.9/44.1 MB 7.4 MB/s eta 0:00:04\n",
            "   ----------------- ---------------------- 19.4/44.1 MB 7.4 MB/s eta 0:00:04\n",
            "   ----------------- ---------------------- 19.7/44.1 MB 7.4 MB/s eta 0:00:04\n",
            "   ------------------ --------------------- 20.2/44.1 MB 7.4 MB/s eta 0:00:04\n",
            "   ------------------ --------------------- 20.4/44.1 MB 7.3 MB/s eta 0:00:04\n",
            "   ------------------ --------------------- 20.9/44.1 MB 7.4 MB/s eta 0:00:04\n",
            "   ------------------- -------------------- 21.2/44.1 MB 7.3 MB/s eta 0:00:04\n",
            "   ------------------- -------------------- 21.7/44.1 MB 7.3 MB/s eta 0:00:04\n",
            "   -------------------- ------------------- 22.1/44.1 MB 7.2 MB/s eta 0:00:04\n",
            "   -------------------- ------------------- 22.5/44.1 MB 7.2 MB/s eta 0:00:04\n",
            "   -------------------- ------------------- 22.8/44.1 MB 7.0 MB/s eta 0:00:04\n",
            "   --------------------- ------------------ 23.2/44.1 MB 7.0 MB/s eta 0:00:03\n",
            "   --------------------- ------------------ 23.5/44.1 MB 7.1 MB/s eta 0:00:03\n",
            "   --------------------- ------------------ 23.7/44.1 MB 7.2 MB/s eta 0:00:03\n",
            "   --------------------- ------------------ 24.1/44.1 MB 7.1 MB/s eta 0:00:03\n",
            "   ---------------------- ----------------- 24.5/44.1 MB 7.2 MB/s eta 0:00:03\n",
            "   ---------------------- ----------------- 24.8/44.1 MB 7.0 MB/s eta 0:00:03\n",
            "   ---------------------- ----------------- 25.2/44.1 MB 7.0 MB/s eta 0:00:03\n",
            "   ----------------------- ---------------- 25.4/44.1 MB 7.0 MB/s eta 0:00:03\n",
            "   ----------------------- ---------------- 25.8/44.1 MB 7.0 MB/s eta 0:00:03\n",
            "   ----------------------- ---------------- 26.3/44.1 MB 7.0 MB/s eta 0:00:03\n",
            "   ------------------------ --------------- 26.7/44.1 MB 6.9 MB/s eta 0:00:03\n",
            "   ------------------------ --------------- 27.0/44.1 MB 6.9 MB/s eta 0:00:03\n",
            "   ------------------------ --------------- 27.4/44.1 MB 8.1 MB/s eta 0:00:03\n",
            "   ------------------------- -------------- 27.7/44.1 MB 8.0 MB/s eta 0:00:03\n",
            "   ------------------------- -------------- 28.1/44.1 MB 8.0 MB/s eta 0:00:03\n",
            "   ------------------------- -------------- 28.5/44.1 MB 8.1 MB/s eta 0:00:02\n",
            "   -------------------------- ------------- 28.9/44.1 MB 8.2 MB/s eta 0:00:02\n",
            "   -------------------------- ------------- 29.5/44.1 MB 8.2 MB/s eta 0:00:02\n",
            "   -------------------------- ------------- 29.5/44.1 MB 8.2 MB/s eta 0:00:02\n",
            "   --------------------------- ------------ 30.0/44.1 MB 8.2 MB/s eta 0:00:02\n",
            "   --------------------------- ------------ 30.2/44.1 MB 7.8 MB/s eta 0:00:02\n",
            "   --------------------------- ------------ 30.5/44.1 MB 7.8 MB/s eta 0:00:02\n",
            "   --------------------------- ------------ 30.9/44.1 MB 7.9 MB/s eta 0:00:02\n",
            "   ---------------------------- ----------- 31.2/44.1 MB 7.8 MB/s eta 0:00:02\n",
            "   ---------------------------- ----------- 31.4/44.1 MB 7.8 MB/s eta 0:00:02\n",
            "   ---------------------------- ----------- 31.8/44.1 MB 7.7 MB/s eta 0:00:02\n",
            "   ----------------------------- ---------- 32.2/44.1 MB 7.7 MB/s eta 0:00:02\n",
            "   ----------------------------- ---------- 32.4/44.1 MB 7.6 MB/s eta 0:00:02\n",
            "   ----------------------------- ---------- 32.8/44.1 MB 7.5 MB/s eta 0:00:02\n",
            "   ----------------------------- ---------- 33.0/44.1 MB 7.4 MB/s eta 0:00:02\n",
            "   ------------------------------ --------- 33.4/44.1 MB 7.4 MB/s eta 0:00:02\n",
            "   ------------------------------ --------- 33.6/44.1 MB 7.4 MB/s eta 0:00:02\n",
            "   ------------------------------ --------- 34.0/44.1 MB 7.4 MB/s eta 0:00:02\n",
            "   ------------------------------- -------- 34.2/44.1 MB 7.4 MB/s eta 0:00:02\n",
            "   ------------------------------- -------- 34.5/44.1 MB 7.3 MB/s eta 0:00:02\n",
            "   ------------------------------- -------- 34.8/44.1 MB 7.3 MB/s eta 0:00:02\n",
            "   ------------------------------- -------- 35.1/44.1 MB 7.2 MB/s eta 0:00:02\n",
            "   -------------------------------- ------- 35.4/44.1 MB 7.2 MB/s eta 0:00:02\n",
            "   -------------------------------- ------- 35.7/44.1 MB 7.4 MB/s eta 0:00:02\n",
            "   -------------------------------- ------- 36.0/44.1 MB 7.2 MB/s eta 0:00:02\n",
            "   -------------------------------- ------- 36.2/44.1 MB 7.1 MB/s eta 0:00:02\n",
            "   --------------------------------- ------ 36.5/44.1 MB 7.0 MB/s eta 0:00:02\n",
            "   --------------------------------- ------ 36.8/44.1 MB 7.0 MB/s eta 0:00:02\n",
            "   --------------------------------- ------ 37.2/44.1 MB 7.0 MB/s eta 0:00:01\n",
            "   --------------------------------- ------ 37.4/44.1 MB 6.8 MB/s eta 0:00:01\n",
            "   ---------------------------------- ----- 37.8/44.1 MB 6.9 MB/s eta 0:00:01\n",
            "   ---------------------------------- ----- 38.0/44.1 MB 6.9 MB/s eta 0:00:01\n",
            "   ---------------------------------- ----- 38.3/44.1 MB 6.7 MB/s eta 0:00:01\n",
            "   ----------------------------------- ---- 38.6/44.1 MB 6.7 MB/s eta 0:00:01\n",
            "   ----------------------------------- ---- 38.8/44.1 MB 6.7 MB/s eta 0:00:01\n",
            "   ----------------------------------- ---- 39.1/44.1 MB 6.6 MB/s eta 0:00:01\n",
            "   ----------------------------------- ---- 39.4/44.1 MB 6.5 MB/s eta 0:00:01\n",
            "   ----------------------------------- ---- 39.7/44.1 MB 6.4 MB/s eta 0:00:01\n",
            "   ------------------------------------ --- 39.9/44.1 MB 6.4 MB/s eta 0:00:01\n",
            "   ------------------------------------ --- 40.2/44.1 MB 6.4 MB/s eta 0:00:01\n",
            "   ------------------------------------ --- 40.6/44.1 MB 6.4 MB/s eta 0:00:01\n",
            "   ------------------------------------ --- 40.8/44.1 MB 6.4 MB/s eta 0:00:01\n",
            "   ------------------------------------- -- 41.1/44.1 MB 6.4 MB/s eta 0:00:01\n",
            "   ------------------------------------- -- 41.4/44.1 MB 6.4 MB/s eta 0:00:01\n",
            "   ------------------------------------- -- 41.8/44.1 MB 6.4 MB/s eta 0:00:01\n",
            "   -------------------------------------- - 42.0/44.1 MB 6.4 MB/s eta 0:00:01\n",
            "   -------------------------------------- - 42.3/44.1 MB 6.3 MB/s eta 0:00:01\n",
            "   -------------------------------------- - 42.5/44.1 MB 6.3 MB/s eta 0:00:01\n",
            "   -------------------------------------- - 42.8/44.1 MB 6.3 MB/s eta 0:00:01\n",
            "   ---------------------------------------  43.2/44.1 MB 6.3 MB/s eta 0:00:01\n",
            "   ---------------------------------------  43.4/44.1 MB 6.2 MB/s eta 0:00:01\n",
            "   ---------------------------------------  43.8/44.1 MB 6.3 MB/s eta 0:00:01\n",
            "   ---------------------------------------  44.0/44.1 MB 6.3 MB/s eta 0:00:01\n",
            "   ---------------------------------------  44.1/44.1 MB 6.3 MB/s eta 0:00:01\n",
            "   ---------------------------------------  44.1/44.1 MB 6.3 MB/s eta 0:00:01\n",
            "   ---------------------------------------  44.1/44.1 MB 6.3 MB/s eta 0:00:01\n",
            "   ---------------------------------------  44.1/44.1 MB 6.3 MB/s eta 0:00:01\n",
            "   ---------------------------------------- 44.1/44.1 MB 5.6 MB/s eta 0:00:00\n",
            "Installing collected packages: scipy\n",
            "Successfully installed scipy-1.11.4\n"
          ]
        },
        {
          "name": "stderr",
          "output_type": "stream",
          "text": [
            "\n",
            "[notice] A new release of pip is available: 23.3.1 -> 23.3.2\n",
            "[notice] To update, run: python.exe -m pip install --upgrade pip\n"
          ]
        }
      ],
      "source": [
        "!pip install scipy"
      ]
    },
    {
      "cell_type": "code",
      "execution_count": null,
      "id": "bf637334-54ca-446f-a3b3-8c3d1830befa",
      "metadata": {
        "id": "bf637334-54ca-446f-a3b3-8c3d1830befa"
      },
      "outputs": [],
      "source": [
        "import pandas as pd\n",
        "import numpy as np\n",
        "from scipy import stats"
      ]
    },
    {
      "cell_type": "code",
      "execution_count": null,
      "id": "8c004f17-fa86-445f-b1c4-ae9ea2636bde",
      "metadata": {
        "id": "8c004f17-fa86-445f-b1c4-ae9ea2636bde"
      },
      "outputs": [],
      "source": [
        "%precision 3\n",
        "np.random.seed(1111)"
      ]
    },
    {
      "cell_type": "code",
      "execution_count": null,
      "id": "f2d90e61-c0ec-4900-bf24-8be6aaf39ea5",
      "metadata": {
        "id": "f2d90e61-c0ec-4900-bf24-8be6aaf39ea5",
        "outputId": "d71a02c7-0d93-43f5-cfa1-5241522a909c"
      },
      "outputs": [
        {
          "data": {
            "text/plain": [
              "'1.11.4'"
            ]
          },
          "execution_count": 4,
          "metadata": {},
          "output_type": "execute_result"
        }
      ],
      "source": [
        "import scipy\n",
        "scipy.__version__"
      ]
    },
    {
      "cell_type": "code",
      "execution_count": null,
      "id": "e609485d-8f82-494b-ae13-edc8d0221677",
      "metadata": {
        "id": "e609485d-8f82-494b-ae13-edc8d0221677",
        "outputId": "377c1977-1e6b-45af-c242-7a26ef3ce7f6"
      },
      "outputs": [
        {
          "data": {
            "text/plain": [
              "array([122.02, 131.73, 130.6 , 131.82, 132.05, 126.12, 124.43, 132.89,\n",
              "       122.79, 129.95, 126.14, 134.45, 127.64, 125.68])"
            ]
          },
          "execution_count": 5,
          "metadata": {},
          "output_type": "execute_result"
        }
      ],
      "source": [
        "df = pd.read_csv(\"data/ch11_potato.csv\")\n",
        "sample = np.array(df['무게'])\n",
        "sample"
      ]
    },
    {
      "cell_type": "code",
      "execution_count": null,
      "id": "6bb02b24-5485-4072-8a50-77ee31a4f340",
      "metadata": {
        "id": "6bb02b24-5485-4072-8a50-77ee31a4f340",
        "outputId": "c06dea98-387a-4b2d-e72a-d75bc8d30c87"
      },
      "outputs": [
        {
          "data": {
            "text/plain": [
              "128.451"
            ]
          },
          "execution_count": 6,
          "metadata": {},
          "output_type": "execute_result"
        }
      ],
      "source": [
        "# 표본평균\n",
        "s_mean = np.mean(sample)\n",
        "s_mean"
      ]
    },
    {
      "cell_type": "markdown",
      "id": "253e563d-8a53-4dbc-8f2c-8de652ed0302",
      "metadata": {
        "id": "253e563d-8a53-4dbc-8f2c-8de652ed0302"
      },
      "source": [
        "### A학생의 관심\n",
        "- (14개의)표본평균이 모평균 130g보다 적은지 여부\n",
        "- 여기서는 표본평균이 정규분포를 따르고 있고 ==> 정규성 검정을 할 필요가 없다\n",
        "  + 비모수 검정을 쓸 필요가 없다!!\n",
        "  + 모수 검정을 하면 된다!!\n",
        "- 모분산이 9임을 알고 있다고 전제한다"
      ]
    },
    {
      "cell_type": "code",
      "execution_count": null,
      "id": "547d0f3a-2344-4709-85f4-ce1ba55508f7",
      "metadata": {
        "id": "547d0f3a-2344-4709-85f4-ce1ba55508f7",
        "outputId": "e832ec5e-9b1d-4b5d-b68a-6f66dcc28c95"
      },
      "outputs": [
        {
          "data": {
            "text/plain": [
              "128.681"
            ]
          },
          "execution_count": 7,
          "metadata": {},
          "output_type": "execute_result"
        }
      ],
      "source": [
        "# 정규분포 객체 생성\n",
        "rv = stats.norm(130, #모평균\n",
        "                np.sqrt(9/14)) # 9 모분산, 14 표본의 개수\n",
        "rv.isf(0.95) # 신뢰구간 95%"
      ]
    },
    {
      "cell_type": "code",
      "execution_count": null,
      "id": "74d53321-a105-4340-b1b8-b689fbb383a1",
      "metadata": {
        "id": "74d53321-a105-4340-b1b8-b689fbb383a1",
        "outputId": "7df49ae1-9c72-4bca-adce-ae6b87e93233"
      },
      "outputs": [
        {
          "data": {
            "text/plain": [
              "129.099"
            ]
          },
          "execution_count": 8,
          "metadata": {},
          "output_type": "execute_result"
        }
      ],
      "source": [
        "rv = stats.norm(130, #모평균\n",
        "                np.sqrt(9/30)) # 9 모분산, 30 표본의 개수\n",
        "rv.isf(0.95) # 신뢰구간 95%"
      ]
    },
    {
      "cell_type": "markdown",
      "id": "1ac1d2da-3871-4cb8-baa7-ca0ee96b938e",
      "metadata": {
        "id": "1ac1d2da-3871-4cb8-baa7-ca0ee96b938e"
      },
      "source": [
        "# 검정통계량 (=t-통계량)\n",
        " - 샘플개수가 변해도 임계값은 동일"
      ]
    },
    {
      "cell_type": "code",
      "execution_count": null,
      "id": "2f4a6d2c-4d26-4406-aee1-7577572e87e7",
      "metadata": {
        "id": "2f4a6d2c-4d26-4406-aee1-7577572e87e7",
        "outputId": "fcee7bf3-b79a-438b-bd96-8c28b684bc00"
      },
      "outputs": [
        {
          "data": {
            "text/plain": [
              "-1.932"
            ]
          },
          "execution_count": 9,
          "metadata": {},
          "output_type": "execute_result"
        }
      ],
      "source": [
        "# 130 모평균\n",
        "z = (s_mean - 130) / np.sqrt(9/14)\n",
        "z"
      ]
    },
    {
      "cell_type": "code",
      "execution_count": null,
      "id": "c2ab2352-3319-4e77-9a64-2917e4a82cda",
      "metadata": {
        "id": "c2ab2352-3319-4e77-9a64-2917e4a82cda",
        "outputId": "8c642c77-b0e1-437d-f658-d3bab5f3b34d"
      },
      "outputs": [
        {
          "data": {
            "text/plain": [
              "-1.645"
            ]
          },
          "execution_count": 10,
          "metadata": {},
          "output_type": "execute_result"
        }
      ],
      "source": [
        "# 검정통계량에 관한 임계값 구하기\n",
        "rv = stats.norm()\n",
        "rv.isf(0.95)"
      ]
    },
    {
      "cell_type": "code",
      "execution_count": null,
      "id": "86a29bba-acad-409f-8c4c-8245237ecf08",
      "metadata": {
        "id": "86a29bba-acad-409f-8c4c-8245237ecf08",
        "outputId": "efb7acea-1810-468f-9fbc-464888b064f8"
      },
      "outputs": [
        {
          "data": {
            "text/plain": [
              "-1.645"
            ]
          },
          "execution_count": 11,
          "metadata": {},
          "output_type": "execute_result"
        }
      ],
      "source": [
        "# 130 모평균\n",
        "z = (s_mean - 130) / np.sqrt(9/30)\n",
        "rv = stats.norm()\n",
        "rv.isf(0.95)"
      ]
    },
    {
      "cell_type": "code",
      "execution_count": null,
      "id": "c634528e-5147-4601-a575-1245ac4ddf6b",
      "metadata": {
        "id": "c634528e-5147-4601-a575-1245ac4ddf6b",
        "outputId": "baa9e4ca-92bf-423b-f174-ed8e7786056f"
      },
      "outputs": [
        {
          "data": {
            "text/plain": [
              "0.002"
            ]
          },
          "execution_count": 12,
          "metadata": {},
          "output_type": "execute_result"
        }
      ],
      "source": [
        "rv.cdf(z) # p값, 유의수준 0.05보다 작음\n",
        "\n",
        "# 귀무가설 채택 or 귀무가설 기각\n",
        "# 대립가설 채택(X)"
      ]
    },
    {
      "cell_type": "code",
      "execution_count": null,
      "id": "95a1e9f5-fc30-44a6-aacd-44c6d0378af8",
      "metadata": {
        "id": "95a1e9f5-fc30-44a6-aacd-44c6d0378af8",
        "outputId": "38aef135-01cc-4659-faf1-45308461a3da"
      },
      "outputs": [
        {
          "data": {
            "text/plain": [
              "(-1.960, 1.960)"
            ]
          },
          "execution_count": 13,
          "metadata": {},
          "output_type": "execute_result"
        }
      ],
      "source": [
        "# 양측검정\n",
        "z = (s_mean - 130) / np.sqrt(9/14)\n",
        "rv = stats.norm()\n",
        "rv.interval(0.95) # 신뢰구간 95%"
      ]
    },
    {
      "cell_type": "code",
      "execution_count": null,
      "id": "806fd415-802d-42ab-bfa5-335c2a0c5223",
      "metadata": {
        "id": "806fd415-802d-42ab-bfa5-335c2a0c5223",
        "outputId": "88f5611e-2caa-4129-a3df-52e9e9bd3dc0"
      },
      "outputs": [
        {
          "data": {
            "text/plain": [
              "0.053"
            ]
          },
          "execution_count": 14,
          "metadata": {},
          "output_type": "execute_result"
        }
      ],
      "source": [
        "rv.cdf(z) * 2 # p-value"
      ]
    },
    {
      "cell_type": "markdown",
      "id": "8abe3e0f-d784-42c2-93b0-d234835d8d4a",
      "metadata": {
        "id": "8abe3e0f-d784-42c2-93b0-d234835d8d4a"
      },
      "source": [
        "## 양측검정, 단측검정\n",
        "- 양측검정 A와 B가 다르다(같지 않다)\n",
        "  + 해석 : 일반적인 평균값 가지고 비교 가능\n",
        "- 단측검정 A>B, B>A"
      ]
    },
    {
      "cell_type": "markdown",
      "id": "1c928a50-e564-49e3-b2dc-3fdade98a8bf",
      "metadata": {
        "id": "1c928a50-e564-49e3-b2dc-3fdade98a8bf"
      },
      "source": [
        "## 가설검정의 두 가지 오류\n",
        "- 제 1종 오류 : 귀무가설이 옳을 때 귀무가설을 기각하는 오류\n",
        "- 제 2종 오류 : 대립가설이 옳을 때 귀무가설을 채택하는 오류"
      ]
    },
    {
      "cell_type": "markdown",
      "id": "aa306e41-7097-4856-9e63-ec49fe8a8f19",
      "metadata": {
        "id": "aa306e41-7097-4856-9e63-ec49fe8a8f19"
      },
      "source": [
        "### 제 1종 오류\n",
        "- 실제 평균이 130g인데도 불구하고 평균은 130g보다 작다고 결론을 내리는 상황\n",
        "    + False Positive (오탐)"
      ]
    },
    {
      "cell_type": "code",
      "execution_count": null,
      "id": "8359848c-8766-4065-892a-04d8347c0ab4",
      "metadata": {
        "id": "8359848c-8766-4065-892a-04d8347c0ab4",
        "outputId": "3cc27d84-4dab-4657-a00e-b6ae2258ea39"
      },
      "outputs": [
        {
          "data": {
            "text/plain": [
              "0.053"
            ]
          },
          "execution_count": 15,
          "metadata": {},
          "output_type": "execute_result"
        }
      ],
      "source": [
        "rv = stats.norm(130, 3)\n",
        "n_samples = 10000\n",
        "c = stats.norm().isf(0.95)\n",
        "cnt = 0\n",
        "for _ in range(n_samples):\n",
        "    sample_ = np.round(rv.rvs(14), 2)\n",
        "    s_mean_ = np.mean(sample_)\n",
        "    z = (s_mean_ - 130) / np.sqrt(9/14)\n",
        "    if z < c:\n",
        "        cnt += 1\n",
        "cnt / n_samples"
      ]
    },
    {
      "cell_type": "markdown",
      "id": "5ea32e14-9d0d-4c71-86de-10731e7e2ab7",
      "metadata": {
        "id": "5ea32e14-9d0d-4c71-86de-10731e7e2ab7"
      },
      "source": [
        "- 1종오류를 범할 비율 0.053 / 약 5%의 비율로 130g보다 작다고 잘못탐지\n",
        "- 1종오류를 범할 확률: 위험률\n",
        "- 좀더 엄격하게 적용 => 유의수준 1%에서 가설검정 수행"
      ]
    },
    {
      "cell_type": "markdown",
      "id": "6e75d6e6-024f-457b-b885-0a10cff5cc95",
      "metadata": {
        "id": "6e75d6e6-024f-457b-b885-0a10cff5cc95"
      },
      "source": [
        "### 제 2종 오류\n",
        "- 실제 표본평균이 130g보다 작음에도 불구하고 그런 결론을 얻을 수 없는 상황\n",
        "  + False negative (미탐)"
      ]
    },
    {
      "cell_type": "code",
      "execution_count": null,
      "id": "6a51ab5e-eba2-4fd1-9fdb-b424adee15f8",
      "metadata": {
        "id": "6a51ab5e-eba2-4fd1-9fdb-b424adee15f8",
        "outputId": "ea50f322-0819-40e7-b289-68c06a80cd75"
      },
      "outputs": [
        {
          "data": {
            "text/plain": [
              "0.197"
            ]
          },
          "execution_count": 16,
          "metadata": {},
          "output_type": "execute_result"
        }
      ],
      "source": [
        "rv = stats.norm(128, 3)\n",
        "c = stats.norm().isf(0.95)\n",
        "n_samples = 10000\n",
        "cnt = 0\n",
        "for _ in range(n_samples):\n",
        "    sample_ = np.round(rv.rvs(14), 2)\n",
        "    s_mean_ = np.mean(sample_)\n",
        "    z = (s_mean_ - 130) / np.sqrt(9/14)\n",
        "    if z >= c:\n",
        "        cnt += 1\n",
        "\n",
        "cnt / n_samples"
      ]
    },
    {
      "cell_type": "markdown",
      "id": "032ad22d-22dd-4ca0-81ca-8a67645cee9a",
      "metadata": {
        "id": "032ad22d-22dd-4ca0-81ca-8a67645cee9a"
      },
      "source": [
        "- 0.197 의미는 검정력power(1-0.197) / 제대로 탐지못할 확률 20%\n",
        "- 제2종 오류는 언제나 모집단의 정보에 의존한다 (모평균이 낮아지면 미탐 발생확률 낮아짐)\n",
        "  + point: 분석가는 모집단의 구체적인 정보를 알 방법이 없다\n",
        "  + 1종오류, 2종오류는 Trade-off 관계\n",
        "  + 1종오류만 신경쓰면 됨\n",
        "- 현업에서는 모분산(모평균)을 알 수 없음 ==> One Sample T-test는 잘 안씀"
      ]
    },
    {
      "cell_type": "code",
      "execution_count": null,
      "id": "c5c69289-9253-4734-8e89-398223df0a82",
      "metadata": {
        "id": "c5c69289-9253-4734-8e89-398223df0a82",
        "outputId": "28ffb589-38ca-4201-f49f-1664d167e510"
      },
      "outputs": [
        {
          "data": {
            "text/plain": [
              "0.017"
            ]
          },
          "execution_count": 17,
          "metadata": {},
          "output_type": "execute_result"
        }
      ],
      "source": [
        "rv = stats.norm(127, 3)\n",
        "c = stats.norm().isf(0.95)\n",
        "n_samples = 10000\n",
        "cnt = 0\n",
        "for _ in range(n_samples):\n",
        "    sample_ = np.round(rv.rvs(14), 2)\n",
        "    s_mean_ = np.mean(sample_)\n",
        "    z = (s_mean_ - 130) / np.sqrt(9/14)\n",
        "    if z >= c:\n",
        "        cnt += 1\n",
        "\n",
        "cnt / n_samples"
      ]
    },
    {
      "cell_type": "markdown",
      "id": "00a85f2e-b250-427c-9b06-02101c6f4447",
      "metadata": {
        "id": "00a85f2e-b250-427c-9b06-02101c6f4447"
      },
      "source": [
        "### 모분산을 안다\n",
        "- 현실적으로 모집단을 아는 것은 불가능\n",
        "  + 건강보험, 통계 / 전국민 데이터가 있는 자료 (국가)\n",
        "  + 모분산을 안다 => 모집단을 안다 => 모평균도 구할 수 있음 => 모평균에 대한 검정을 우리가 굳이 할 필요가 있나?"
      ]
    },
    {
      "cell_type": "code",
      "execution_count": null,
      "id": "7db5416b-df15-4610-9143-042cfad6cc41",
      "metadata": {
        "id": "7db5416b-df15-4610-9143-042cfad6cc41"
      },
      "outputs": [],
      "source": [
        "def pmean_test(sample, mean0, alpha=0.05):\n",
        "    '''\n",
        "    sample: 샘플 데이터\n",
        "    mean0: 모평균\n",
        "    alpha: 95% 수준의 신뢰구간\n",
        "    '''\n",
        "    s_mean = np.mean(sample)\n",
        "    u_var = np.var(sample, ddof=1)\n",
        "    n = len(sample)\n",
        "    rv = stats.t(df=n-1)\n",
        "    interval = rv.interval(1-alpha)\n",
        "\n",
        "    t = (s_mean - mean0) / np.sqrt(u_var/n)\n",
        "    print(f't통계량 값은 {t:.3f}')\n",
        "    if interval[0] <= t <= interval[1]:\n",
        "        print('귀무가설을 채택')\n",
        "    else:\n",
        "        print('귀무가설을 기각')\n",
        "\n",
        "    if t < 0:\n",
        "        p = rv.cdf(t) * 2\n",
        "    else:\n",
        "        p = (1 - rv.cdf(t)) * 2\n",
        "    print(f'p값은 {p:.3f}')"
      ]
    },
    {
      "cell_type": "code",
      "execution_count": null,
      "id": "26e7d219-1d3a-48e1-9e49-b265022f8598",
      "metadata": {
        "id": "26e7d219-1d3a-48e1-9e49-b265022f8598",
        "outputId": "c7fd82c0-9fc8-43e0-da0d-199d12d986a7"
      },
      "outputs": [
        {
          "name": "stdout",
          "output_type": "stream",
          "text": [
            "t통계량 값은 -1.455\n",
            "귀무가설을 채택\n",
            "p값은 0.169\n"
          ]
        }
      ],
      "source": [
        "pmean_test(sample, 130)"
      ]
    },
    {
      "cell_type": "code",
      "execution_count": null,
      "id": "2891020f-71e0-452b-a9f5-b779a8dbd282",
      "metadata": {
        "id": "2891020f-71e0-452b-a9f5-b779a8dbd282",
        "outputId": "6348f20c-4196-49ca-90a9-0781318e75ad"
      },
      "outputs": [
        {
          "data": {
            "text/plain": [
              "(-1.455, 0.169)"
            ]
          },
          "execution_count": 20,
          "metadata": {},
          "output_type": "execute_result"
        }
      ],
      "source": [
        "t, p = stats.ttest_1samp(sample, 130)\n",
        "t, p"
      ]
    },
    {
      "cell_type": "markdown",
      "id": "549f32f6-2990-4427-932f-6661c6da036c",
      "metadata": {
        "id": "549f32f6-2990-4427-932f-6661c6da036c"
      },
      "source": [
        "### z 통계량 / t 통계량\n",
        "- 모집단,모평균,모분산을 다 안다.\n",
        "  + z-검정 : z-통계량\n",
        "\n",
        "- 표본을 추출한다. 표본평균, 표본 분산을 안다\n",
        "  + t-검정 : t-통계량"
      ]
    },
    {
      "cell_type": "markdown",
      "id": "02b0edb4-3485-443e-adb9-07f37fe3c984",
      "metadata": {
        "id": "02b0edb4-3485-443e-adb9-07f37fe3c984"
      },
      "source": [
        "## 비전공자 / 이공계\n",
        "- 비전 : 해당수식을 일반인들에게 어떻게 쉽게 풀어 설명해줄 것인가 (보고서 작성시)\n",
        "- 이공계: 수식정리해서 블로그 정리"
      ]
    },
    {
      "cell_type": "markdown",
      "id": "618db65d-dfae-4247-85eb-4261d091b34e",
      "metadata": {
        "id": "618db65d-dfae-4247-85eb-4261d091b34e"
      },
      "source": [
        "# 2표본 문제에 관한 가설검정\n",
        "- 대응표본 : 정규분포 가정O\n",
        "  + 정규성 검정 통과 : 대응표본 t-검정\n",
        "  + 정규성 검정 통과 실패 : 비모수 검정, 윌콕슨의 부호순위검정\n",
        "\n",
        "- 독립표본 : 정규분포 가정O\n",
        "  + 정규성 검정 통과 : 독립비교 t-검정\n",
        "  + 정규성 검정 통과 실패 : 맨-위트니의 U 검정"
      ]
    },
    {
      "cell_type": "markdown",
      "id": "5d83af00-5016-40e3-a9fe-80232e54be52",
      "metadata": {
        "id": "5d83af00-5016-40e3-a9fe-80232e54be52"
      },
      "source": [
        "### 대응표본 t-검정\n",
        "- A학생은 친구 20명에게 1주일간 근력운동을 하게 함(intervention, 개입)\n",
        "- 운동전후 집중력 측정하는 테스트\n",
        "- 가설검정\n",
        "  + 귀무가설 : 운동 전후 집중력 평균에 차이가 없을 것이다\n",
        "  + 대립가설 : 운동 전후 집중력 평균에 차이가 있을 것이다"
      ]
    },
    {
      "cell_type": "code",
      "execution_count": null,
      "id": "da095d67-581a-4117-884f-823f9abd250b",
      "metadata": {
        "id": "da095d67-581a-4117-884f-823f9abd250b",
        "outputId": "43b8b05b-a47a-4d53-9568-a7914719a705"
      },
      "outputs": [
        {
          "data": {
            "text/html": [
              "<div>\n",
              "<style scoped>\n",
              "    .dataframe tbody tr th:only-of-type {\n",
              "        vertical-align: middle;\n",
              "    }\n",
              "\n",
              "    .dataframe tbody tr th {\n",
              "        vertical-align: top;\n",
              "    }\n",
              "\n",
              "    .dataframe thead th {\n",
              "        text-align: right;\n",
              "    }\n",
              "</style>\n",
              "<table border=\"1\" class=\"dataframe\">\n",
              "  <thead>\n",
              "    <tr style=\"text-align: right;\">\n",
              "      <th></th>\n",
              "      <th>전</th>\n",
              "      <th>후</th>\n",
              "    </tr>\n",
              "  </thead>\n",
              "  <tbody>\n",
              "    <tr>\n",
              "      <th>0</th>\n",
              "      <td>59</td>\n",
              "      <td>41</td>\n",
              "    </tr>\n",
              "  </tbody>\n",
              "</table>\n",
              "</div>"
            ],
            "text/plain": [
              "    전   후\n",
              "0  59  41"
            ]
          },
          "execution_count": 21,
          "metadata": {},
          "output_type": "execute_result"
        }
      ],
      "source": [
        "# import pandas as pd\n",
        "\n",
        "training_rel = pd.read_csv('data/ch11_training_rel.csv')\n",
        "training_rel.head(1)"
      ]
    },
    {
      "cell_type": "code",
      "execution_count": null,
      "id": "9fd2a1d4-7f29-4be2-a63e-97ea45f5cd6d",
      "metadata": {
        "id": "9fd2a1d4-7f29-4be2-a63e-97ea45f5cd6d"
      },
      "outputs": [],
      "source": [
        "training_rel['차'] = training_rel['후'] - training_rel['전']"
      ]
    },
    {
      "cell_type": "code",
      "execution_count": null,
      "id": "8d30b27e-ab79-4796-9b9e-d176617358ce",
      "metadata": {
        "id": "8d30b27e-ab79-4796-9b9e-d176617358ce",
        "outputId": "0235f733-3f43-4cdd-df59-768eef63c7fb"
      },
      "outputs": [
        {
          "data": {
            "text/plain": [
              "(2.204, 0.040)"
            ]
          },
          "execution_count": 23,
          "metadata": {},
          "output_type": "execute_result"
        }
      ],
      "source": [
        "from scipy import stats\n",
        "t, p = stats.ttest_1samp(training_rel['차'], 0)\n",
        "t, p"
      ]
    },
    {
      "cell_type": "code",
      "execution_count": null,
      "id": "f286154d-32b3-4e2a-aa41-d7f9d3ac3f6a",
      "metadata": {
        "id": "f286154d-32b3-4e2a-aa41-d7f9d3ac3f6a",
        "outputId": "3f52c1b1-3d71-4edb-9649-662cd82665a2"
      },
      "outputs": [
        {
          "data": {
            "text/plain": [
              "(2.204, 0.040)"
            ]
          },
          "execution_count": 24,
          "metadata": {},
          "output_type": "execute_result"
        }
      ],
      "source": [
        "t, p = stats.ttest_rel(training_rel['후'], training_rel['전'])\n",
        "t, p"
      ]
    },
    {
      "cell_type": "markdown",
      "id": "018bfe1c-b9cc-40b8-bbb0-e7ad748cf6da",
      "metadata": {
        "id": "018bfe1c-b9cc-40b8-bbb0-e7ad748cf6da"
      },
      "source": [
        "## 보고서 작성\n",
        "- t-통계량 / p-value값"
      ]
    },
    {
      "cell_type": "code",
      "execution_count": null,
      "id": "ab7cbab5-3e10-4a1a-a046-c9d66239084d",
      "metadata": {
        "id": "ab7cbab5-3e10-4a1a-a046-c9d66239084d",
        "outputId": "9d969e62-b453-4781-d99c-8d55738d2c0c"
      },
      "outputs": [
        {
          "ename": "SyntaxError",
          "evalue": "invalid syntax (757740915.py, line 1)",
          "output_type": "error",
          "traceback": [
            "\u001b[1;36m  Cell \u001b[1;32mIn[25], line 1\u001b[1;36m\u001b[0m\n\u001b[1;33m    전,후 시각화코드 / 전,후 평균\u001b[0m\n\u001b[1;37m        ^\u001b[0m\n\u001b[1;31mSyntaxError\u001b[0m\u001b[1;31m:\u001b[0m invalid syntax\n"
          ]
        }
      ],
      "source": [
        "전,후 시각화코드 / 전,후 평균"
      ]
    },
    {
      "cell_type": "markdown",
      "id": "6a39c39d-4937-43e5-a550-6cab5f00769c",
      "metadata": {
        "id": "6a39c39d-4937-43e5-a550-6cab5f00769c"
      },
      "source": [
        "## 독립비교 t-검정\n",
        "- A,B그룹 집중력 평균 차이 테스트\n",
        "- 어떤 검정을 수행해야?\n",
        "- 가설설정\n",
        "  + 귀무가설: A그룹의 평균과 B그룹의 평균 차이는 없다.\n",
        "  + 대립가설: A그룹의 평균과 B그룹의 평균 차이는 있다.\n",
        "\n",
        "- 독립비교 t-검정 두가지 가정\n",
        "  1) 각 그룹 데이터의 정규성 검정\n",
        "  2) 두그룹의 분산이 같다 (=등분산성 검정), levene 검정 시행"
      ]
    },
    {
      "cell_type": "code",
      "execution_count": null,
      "id": "340572d8-7291-4a75-a6e9-58d533ca64dc",
      "metadata": {
        "id": "340572d8-7291-4a75-a6e9-58d533ca64dc"
      },
      "outputs": [],
      "source": [
        "training_ind = pd.read_csv('data/ch11_training_ind.csv')\n",
        "training_ind.shape"
      ]
    },
    {
      "cell_type": "markdown",
      "id": "974dd2a8-fe80-4724-96a5-e51d517cb8f5",
      "metadata": {
        "id": "974dd2a8-fe80-4724-96a5-e51d517cb8f5"
      },
      "source": [
        "- 결론은 두그룹의 평균 차이는 없다, 귀무가설 채택"
      ]
    },
    {
      "cell_type": "code",
      "execution_count": null,
      "id": "4cc48ff6-13ba-443c-8989-5e881c103c01",
      "metadata": {
        "id": "4cc48ff6-13ba-443c-8989-5e881c103c01"
      },
      "outputs": [],
      "source": [
        "t, p = stats.ttest_ind(training_ind['A'], training_ind['B'], equal_var = True)\n",
        "t, p"
      ]
    },
    {
      "cell_type": "code",
      "execution_count": null,
      "id": "3b93fb7a-9331-43d1-9a1f-1115c837bd2c",
      "metadata": {
        "id": "3b93fb7a-9331-43d1-9a1f-1115c837bd2c"
      },
      "outputs": [],
      "source": [
        "# Levene 검정 이후 살펴봤더니 등분산성이 다르더라\n",
        "t, p = stats.ttest_ind(training_ind['A'], training_ind['B'], equal_var = False)\n",
        "t, p"
      ]
    },
    {
      "cell_type": "markdown",
      "id": "2730b85c-cd4f-422d-a35b-23e652ddf0dd",
      "metadata": {
        "id": "2730b85c-cd4f-422d-a35b-23e652ddf0dd"
      },
      "source": [
        "## 비모수 검정\n",
        "- 모수검정에서 각 가정을 만족시키지 못할때 사용"
      ]
    },
    {
      "cell_type": "markdown",
      "id": "28c43e52-eeaf-4ca1-8dc2-f23703d69b93",
      "metadata": {
        "id": "28c43e52-eeaf-4ca1-8dc2-f23703d69b93"
      },
      "source": [
        "### 윌콕슨의 부호순위검정\n",
        "- 대응표본에서 정규분포 만족하지 못할때\n",
        "- 평균차이(X), 중앙값 차이에 대한 검정(O) - 50%에 해당하는 값"
      ]
    },
    {
      "cell_type": "code",
      "execution_count": null,
      "id": "00fdd0fe-1d5c-43f7-9e2c-40fcd85be050",
      "metadata": {
        "id": "00fdd0fe-1d5c-43f7-9e2c-40fcd85be050"
      },
      "outputs": [],
      "source": [
        "training_rel = pd.read_csv('data/ch11_training_rel.csv')\n",
        "toy_df = training_rel[:6].copy()\n",
        "toy_df['차'] = toy_df['후'] - toy_df['전']\n",
        "toy_df"
      ]
    },
    {
      "cell_type": "code",
      "execution_count": null,
      "id": "05949a3a-34fa-46a0-b41d-6b73dec20aed",
      "metadata": {
        "id": "05949a3a-34fa-46a0-b41d-6b73dec20aed"
      },
      "outputs": [],
      "source": [
        "# 순위 적용\n",
        "diff = toy_df['후'] - toy_df['전']\n",
        "rank = stats.rankdata(abs(diff)).astype(int)\n",
        "toy_df['순위'] = rank\n",
        "toy_df"
      ]
    },
    {
      "cell_type": "code",
      "execution_count": null,
      "id": "d49f17ba-ae00-4f3a-bd7a-1b30050f06c8",
      "metadata": {
        "id": "d49f17ba-ae00-4f3a-bd7a-1b30050f06c8"
      },
      "outputs": [],
      "source": [
        "import numpy as np\n",
        "\n",
        "r_minus = np.sum((diff < 0) * rank)\n",
        "r_plus = np.sum((diff > 0) * rank)\n",
        "\n",
        "r_minus, r_plus # 검정통계\n",
        "\n",
        "(diff < 0) * rank"
      ]
    },
    {
      "cell_type": "code",
      "execution_count": null,
      "id": "b3a1aef5-de5d-4664-bc2d-446dd993201c",
      "metadata": {
        "id": "b3a1aef5-de5d-4664-bc2d-446dd993201c"
      },
      "outputs": [],
      "source": [
        "toy_df['후'] = toy_df['전'] + np.arange(1, 7)\n",
        "diff = toy_df['후'] - toy_df['전']\n",
        "rank = stats.rankdata(abs(diff)).astype(int)\n",
        "toy_df['차'] = diff\n",
        "toy_df['순위'] = rank\n",
        "toy_df\n",
        "\n",
        "r_minus = np.sum((diff < 0) * rank)\n",
        "r_plus = np.sum((diff > 0) * rank)\n",
        "\n",
        "r_minus, r_plus # 검정통계"
      ]
    }
  ],
  "metadata": {
    "kernelspec": {
      "display_name": "Python 3 (ipykernel)",
      "language": "python",
      "name": "python3"
    },
    "language_info": {
      "codemirror_mode": {
        "name": "ipython",
        "version": 3
      },
      "file_extension": ".py",
      "mimetype": "text/x-python",
      "name": "python",
      "nbconvert_exporter": "python",
      "pygments_lexer": "ipython3",
      "version": "3.11.5"
    },
    "colab": {
      "provenance": [],
      "include_colab_link": true
    }
  },
  "nbformat": 4,
  "nbformat_minor": 5
}